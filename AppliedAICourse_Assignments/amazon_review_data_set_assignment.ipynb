{
  "cells": [
    {
      "cell_type": "markdown",
      "metadata": {
        "id": "EVTcP2qKM6va"
      },
      "source": [
        "# objective :\n",
        "1) to load the data with 1000 positive reviews and negative reviews each\n",
        "2) to convert the data into vectors\n",
        "3) to plot tsne for each of bag of words , if-idf , word2vec , avg word2vec , if-idf weighted word2vec"
      ]
    },
    {
      "cell_type": "code",
      "execution_count": null,
      "metadata": {
        "id": "GYTGgrPtM6ve"
      },
      "outputs": [],
      "source": [
        "%matplotlib inline\n",
        "import warnings\n",
        "warnings.filterwarnings(\"ignore\")\n",
        "\n",
        "import sqlite3\n",
        "import pandas as pd\n",
        "import numpy as np\n",
        "import nltk\n",
        "import string\n",
        "import matplotlib.pyplot as plt\n",
        "import seaborn as sns\n",
        "from sklearn.feature_extraction.text import TfidfTransformer\n",
        "from sklearn.feature_extraction.text import TfidfVectorizer\n",
        "\n",
        "from sklearn.feature_extraction.text import CountVectorizer\n",
        "from sklearn.metrics import confusion_matrix\n",
        "from sklearn import metrics\n",
        "from sklearn.metrics import roc_curve, auc\n",
        "from nltk.stem.porter import PorterStemmer\n",
        "\n",
        "import re\n",
        "# Tutorial about Python regular expressions: https://pymotw.com/2/re/\n",
        "import string\n",
        "from nltk.corpus import stopwords\n",
        "from nltk.stem import PorterStemmer\n",
        "from nltk.stem.wordnet import WordNetLemmatizer\n",
        "\n",
        "from gensim.models import Word2Vec\n",
        "from gensim.models import KeyedVectors\n",
        "import pickle\n",
        "\n",
        "from tqdm import tqdm\n",
        "import os"
      ]
    },
    {
      "cell_type": "markdown",
      "metadata": {
        "id": "SuGVLwYeM6vg"
      },
      "source": [
        "filtering only positive and negative reviews i.e. not taking into consideration those reviews with Score=3"
      ]
    },
    {
      "cell_type": "code",
      "execution_count": null,
      "metadata": {
        "id": "vbBqcFwgM6vh"
      },
      "outputs": [],
      "source": [
        "con = sqlite3.connect(r'c:\\users\\sravani\\downloads\\database.sqlite') \n",
        "filtered_data = pd.read_sql_query(\"\"\" SELECT * FROM Reviews WHERE Score !=3 \"\"\", con) \n"
      ]
    },
    {
      "cell_type": "markdown",
      "metadata": {
        "id": "KvbGr-mAM6vh"
      },
      "source": [
        "Give reviews with Score>3 a positive rating, and reviews with a score<3 a negative rating"
      ]
    },
    {
      "cell_type": "code",
      "execution_count": null,
      "metadata": {
        "id": "5gOlQLDdM6vi"
      },
      "outputs": [],
      "source": [
        "def partition(x):\n",
        "    if x < 3:\n",
        "        return 0\n",
        "    return 1"
      ]
    },
    {
      "cell_type": "markdown",
      "metadata": {
        "id": "pjbi51z-M6vi"
      },
      "source": [
        "changing reviews with score less than 3 to be positive and vice-versa"
      ]
    },
    {
      "cell_type": "code",
      "execution_count": null,
      "metadata": {
        "id": "vvvcIRxCM6vj",
        "outputId": "f074a69a-5c1a-41f6-9310-35802e78fa9e"
      },
      "outputs": [
        {
          "name": "stdout",
          "output_type": "stream",
          "text": [
            "Number of data points in our data (525814, 10)\n"
          ]
        },
        {
          "data": {
            "text/html": [
              "<div>\n",
              "<style scoped>\n",
              "    .dataframe tbody tr th:only-of-type {\n",
              "        vertical-align: middle;\n",
              "    }\n",
              "\n",
              "    .dataframe tbody tr th {\n",
              "        vertical-align: top;\n",
              "    }\n",
              "\n",
              "    .dataframe thead th {\n",
              "        text-align: right;\n",
              "    }\n",
              "</style>\n",
              "<table border=\"1\" class=\"dataframe\">\n",
              "  <thead>\n",
              "    <tr style=\"text-align: right;\">\n",
              "      <th></th>\n",
              "      <th>Id</th>\n",
              "      <th>ProductId</th>\n",
              "      <th>UserId</th>\n",
              "      <th>ProfileName</th>\n",
              "      <th>HelpfulnessNumerator</th>\n",
              "      <th>HelpfulnessDenominator</th>\n",
              "      <th>Score</th>\n",
              "      <th>Time</th>\n",
              "      <th>Summary</th>\n",
              "      <th>Text</th>\n",
              "    </tr>\n",
              "  </thead>\n",
              "  <tbody>\n",
              "    <tr>\n",
              "      <th>0</th>\n",
              "      <td>1</td>\n",
              "      <td>B001E4KFG0</td>\n",
              "      <td>A3SGXH7AUHU8GW</td>\n",
              "      <td>delmartian</td>\n",
              "      <td>1</td>\n",
              "      <td>1</td>\n",
              "      <td>1</td>\n",
              "      <td>1303862400</td>\n",
              "      <td>Good Quality Dog Food</td>\n",
              "      <td>I have bought several of the Vitality canned d...</td>\n",
              "    </tr>\n",
              "    <tr>\n",
              "      <th>1</th>\n",
              "      <td>2</td>\n",
              "      <td>B00813GRG4</td>\n",
              "      <td>A1D87F6ZCVE5NK</td>\n",
              "      <td>dll pa</td>\n",
              "      <td>0</td>\n",
              "      <td>0</td>\n",
              "      <td>0</td>\n",
              "      <td>1346976000</td>\n",
              "      <td>Not as Advertised</td>\n",
              "      <td>Product arrived labeled as Jumbo Salted Peanut...</td>\n",
              "    </tr>\n",
              "    <tr>\n",
              "      <th>2</th>\n",
              "      <td>3</td>\n",
              "      <td>B000LQOCH0</td>\n",
              "      <td>ABXLMWJIXXAIN</td>\n",
              "      <td>Natalia Corres \"Natalia Corres\"</td>\n",
              "      <td>1</td>\n",
              "      <td>1</td>\n",
              "      <td>1</td>\n",
              "      <td>1219017600</td>\n",
              "      <td>\"Delight\" says it all</td>\n",
              "      <td>This is a confection that has been around a fe...</td>\n",
              "    </tr>\n",
              "    <tr>\n",
              "      <th>3</th>\n",
              "      <td>4</td>\n",
              "      <td>B000UA0QIQ</td>\n",
              "      <td>A395BORC6FGVXV</td>\n",
              "      <td>Karl</td>\n",
              "      <td>3</td>\n",
              "      <td>3</td>\n",
              "      <td>0</td>\n",
              "      <td>1307923200</td>\n",
              "      <td>Cough Medicine</td>\n",
              "      <td>If you are looking for the secret ingredient i...</td>\n",
              "    </tr>\n",
              "    <tr>\n",
              "      <th>4</th>\n",
              "      <td>5</td>\n",
              "      <td>B006K2ZZ7K</td>\n",
              "      <td>A1UQRSCLF8GW1T</td>\n",
              "      <td>Michael D. Bigham \"M. Wassir\"</td>\n",
              "      <td>0</td>\n",
              "      <td>0</td>\n",
              "      <td>1</td>\n",
              "      <td>1350777600</td>\n",
              "      <td>Great taffy</td>\n",
              "      <td>Great taffy at a great price.  There was a wid...</td>\n",
              "    </tr>\n",
              "  </tbody>\n",
              "</table>\n",
              "</div>"
            ],
            "text/plain": [
              "   Id   ProductId          UserId                      ProfileName  \\\n",
              "0   1  B001E4KFG0  A3SGXH7AUHU8GW                       delmartian   \n",
              "1   2  B00813GRG4  A1D87F6ZCVE5NK                           dll pa   \n",
              "2   3  B000LQOCH0   ABXLMWJIXXAIN  Natalia Corres \"Natalia Corres\"   \n",
              "3   4  B000UA0QIQ  A395BORC6FGVXV                             Karl   \n",
              "4   5  B006K2ZZ7K  A1UQRSCLF8GW1T    Michael D. Bigham \"M. Wassir\"   \n",
              "\n",
              "   HelpfulnessNumerator  HelpfulnessDenominator  Score        Time  \\\n",
              "0                     1                       1      1  1303862400   \n",
              "1                     0                       0      0  1346976000   \n",
              "2                     1                       1      1  1219017600   \n",
              "3                     3                       3      0  1307923200   \n",
              "4                     0                       0      1  1350777600   \n",
              "\n",
              "                 Summary                                               Text  \n",
              "0  Good Quality Dog Food  I have bought several of the Vitality canned d...  \n",
              "1      Not as Advertised  Product arrived labeled as Jumbo Salted Peanut...  \n",
              "2  \"Delight\" says it all  This is a confection that has been around a fe...  \n",
              "3         Cough Medicine  If you are looking for the secret ingredient i...  \n",
              "4            Great taffy  Great taffy at a great price.  There was a wid...  "
            ]
          },
          "execution_count": 4,
          "metadata": {},
          "output_type": "execute_result"
        }
      ],
      "source": [
        "actualScore = filtered_data['Score']\n",
        "positiveNegative = actualScore.map(partition) \n",
        "filtered_data['Score'] = positiveNegative\n",
        "print(\"Number of data points in our data\", filtered_data.shape)\n",
        "filtered_data.head(5)\n"
      ]
    },
    {
      "cell_type": "code",
      "execution_count": null,
      "metadata": {
        "id": "6Gsc2MNCM6vk",
        "outputId": "ba5e050e-c9ed-4ba6-ce4f-5d8aac694157"
      },
      "outputs": [
        {
          "data": {
            "text/html": [
              "<div>\n",
              "<style scoped>\n",
              "    .dataframe tbody tr th:only-of-type {\n",
              "        vertical-align: middle;\n",
              "    }\n",
              "\n",
              "    .dataframe tbody tr th {\n",
              "        vertical-align: top;\n",
              "    }\n",
              "\n",
              "    .dataframe thead th {\n",
              "        text-align: right;\n",
              "    }\n",
              "</style>\n",
              "<table border=\"1\" class=\"dataframe\">\n",
              "  <thead>\n",
              "    <tr style=\"text-align: right;\">\n",
              "      <th></th>\n",
              "      <th>Id</th>\n",
              "      <th>ProductId</th>\n",
              "      <th>UserId</th>\n",
              "      <th>ProfileName</th>\n",
              "      <th>HelpfulnessNumerator</th>\n",
              "      <th>HelpfulnessDenominator</th>\n",
              "      <th>Score</th>\n",
              "      <th>Time</th>\n",
              "      <th>Summary</th>\n",
              "      <th>Text</th>\n",
              "    </tr>\n",
              "  </thead>\n",
              "  <tbody>\n",
              "    <tr>\n",
              "      <th>0</th>\n",
              "      <td>78445</td>\n",
              "      <td>B000HDL1RQ</td>\n",
              "      <td>AR5J8UI46CURR</td>\n",
              "      <td>Geetha Krishnan</td>\n",
              "      <td>2</td>\n",
              "      <td>2</td>\n",
              "      <td>5</td>\n",
              "      <td>1199577600</td>\n",
              "      <td>LOACKER QUADRATINI VANILLA WAFERS</td>\n",
              "      <td>DELICIOUS WAFERS. I FIND THAT EUROPEAN WAFERS ...</td>\n",
              "    </tr>\n",
              "    <tr>\n",
              "      <th>1</th>\n",
              "      <td>138317</td>\n",
              "      <td>B000HDOPYC</td>\n",
              "      <td>AR5J8UI46CURR</td>\n",
              "      <td>Geetha Krishnan</td>\n",
              "      <td>2</td>\n",
              "      <td>2</td>\n",
              "      <td>5</td>\n",
              "      <td>1199577600</td>\n",
              "      <td>LOACKER QUADRATINI VANILLA WAFERS</td>\n",
              "      <td>DELICIOUS WAFERS. I FIND THAT EUROPEAN WAFERS ...</td>\n",
              "    </tr>\n",
              "    <tr>\n",
              "      <th>2</th>\n",
              "      <td>138277</td>\n",
              "      <td>B000HDOPYM</td>\n",
              "      <td>AR5J8UI46CURR</td>\n",
              "      <td>Geetha Krishnan</td>\n",
              "      <td>2</td>\n",
              "      <td>2</td>\n",
              "      <td>5</td>\n",
              "      <td>1199577600</td>\n",
              "      <td>LOACKER QUADRATINI VANILLA WAFERS</td>\n",
              "      <td>DELICIOUS WAFERS. I FIND THAT EUROPEAN WAFERS ...</td>\n",
              "    </tr>\n",
              "    <tr>\n",
              "      <th>3</th>\n",
              "      <td>73791</td>\n",
              "      <td>B000HDOPZG</td>\n",
              "      <td>AR5J8UI46CURR</td>\n",
              "      <td>Geetha Krishnan</td>\n",
              "      <td>2</td>\n",
              "      <td>2</td>\n",
              "      <td>5</td>\n",
              "      <td>1199577600</td>\n",
              "      <td>LOACKER QUADRATINI VANILLA WAFERS</td>\n",
              "      <td>DELICIOUS WAFERS. I FIND THAT EUROPEAN WAFERS ...</td>\n",
              "    </tr>\n",
              "    <tr>\n",
              "      <th>4</th>\n",
              "      <td>155049</td>\n",
              "      <td>B000PAQ75C</td>\n",
              "      <td>AR5J8UI46CURR</td>\n",
              "      <td>Geetha Krishnan</td>\n",
              "      <td>2</td>\n",
              "      <td>2</td>\n",
              "      <td>5</td>\n",
              "      <td>1199577600</td>\n",
              "      <td>LOACKER QUADRATINI VANILLA WAFERS</td>\n",
              "      <td>DELICIOUS WAFERS. I FIND THAT EUROPEAN WAFERS ...</td>\n",
              "    </tr>\n",
              "  </tbody>\n",
              "</table>\n",
              "</div>"
            ],
            "text/plain": [
              "       Id   ProductId         UserId      ProfileName  HelpfulnessNumerator  \\\n",
              "0   78445  B000HDL1RQ  AR5J8UI46CURR  Geetha Krishnan                     2   \n",
              "1  138317  B000HDOPYC  AR5J8UI46CURR  Geetha Krishnan                     2   \n",
              "2  138277  B000HDOPYM  AR5J8UI46CURR  Geetha Krishnan                     2   \n",
              "3   73791  B000HDOPZG  AR5J8UI46CURR  Geetha Krishnan                     2   \n",
              "4  155049  B000PAQ75C  AR5J8UI46CURR  Geetha Krishnan                     2   \n",
              "\n",
              "   HelpfulnessDenominator  Score        Time  \\\n",
              "0                       2      5  1199577600   \n",
              "1                       2      5  1199577600   \n",
              "2                       2      5  1199577600   \n",
              "3                       2      5  1199577600   \n",
              "4                       2      5  1199577600   \n",
              "\n",
              "                             Summary  \\\n",
              "0  LOACKER QUADRATINI VANILLA WAFERS   \n",
              "1  LOACKER QUADRATINI VANILLA WAFERS   \n",
              "2  LOACKER QUADRATINI VANILLA WAFERS   \n",
              "3  LOACKER QUADRATINI VANILLA WAFERS   \n",
              "4  LOACKER QUADRATINI VANILLA WAFERS   \n",
              "\n",
              "                                                Text  \n",
              "0  DELICIOUS WAFERS. I FIND THAT EUROPEAN WAFERS ...  \n",
              "1  DELICIOUS WAFERS. I FIND THAT EUROPEAN WAFERS ...  \n",
              "2  DELICIOUS WAFERS. I FIND THAT EUROPEAN WAFERS ...  \n",
              "3  DELICIOUS WAFERS. I FIND THAT EUROPEAN WAFERS ...  \n",
              "4  DELICIOUS WAFERS. I FIND THAT EUROPEAN WAFERS ...  "
            ]
          },
          "execution_count": 5,
          "metadata": {},
          "output_type": "execute_result"
        }
      ],
      "source": [
        "display= pd.read_sql_query(\"\"\"\n",
        "SELECT *\n",
        "FROM Reviews\n",
        "WHERE Score != 3 AND UserId=\"AR5J8UI46CURR\"\n",
        "ORDER BY ProductID\n",
        "\"\"\", con)\n",
        "display"
      ]
    },
    {
      "cell_type": "markdown",
      "metadata": {
        "id": "YdnxzdBJM6vk"
      },
      "source": [
        "sorting data according productID in ascending order"
      ]
    },
    {
      "cell_type": "code",
      "execution_count": null,
      "metadata": {
        "id": "heebTfLGM6vl",
        "outputId": "c147eca6-f7fd-4620-a6f0-e029202c5b27"
      },
      "outputs": [
        {
          "data": {
            "text/plain": [
              "(525814, 10)"
            ]
          },
          "execution_count": 6,
          "metadata": {},
          "output_type": "execute_result"
        }
      ],
      "source": [
        "sorted_data=filtered_data.sort_values('ProductId', axis=0, ascending=True, inplace=False, kind='quicksort', na_position='last')\n",
        "sorted_data.shape"
      ]
    },
    {
      "cell_type": "markdown",
      "metadata": {
        "id": "s_MsYMrdM6vl"
      },
      "source": [
        " deduplication of entries"
      ]
    },
    {
      "cell_type": "code",
      "execution_count": null,
      "metadata": {
        "id": "2CmMe5-PM6vm",
        "outputId": "927b1d1a-27e5-4a85-ac93-f3cc6df6eaa6"
      },
      "outputs": [
        {
          "data": {
            "text/plain": [
              "(364173, 10)"
            ]
          },
          "execution_count": 7,
          "metadata": {},
          "output_type": "execute_result"
        }
      ],
      "source": [
        "final=sorted_data.drop_duplicates(subset={\"UserId\",\"ProfileName\",\"Time\",\"Text\"}, keep = 'first', inplace = False)\n",
        "final.shape\n"
      ]
    },
    {
      "cell_type": "markdown",
      "metadata": {
        "id": "5G8ZS8TOM6vm"
      },
      "source": [
        "checking to see how much percentage of data still remains"
      ]
    },
    {
      "cell_type": "code",
      "execution_count": null,
      "metadata": {
        "id": "Fs5eUpkOM6vm",
        "outputId": "629cc103-ad6b-43fd-eaa3-ece6041eb8a0"
      },
      "outputs": [
        {
          "data": {
            "text/plain": [
              "69.25890143662969"
            ]
          },
          "execution_count": 8,
          "metadata": {},
          "output_type": "execute_result"
        }
      ],
      "source": [
        "(final['Id'].size*1.0)/(filtered_data['Id'].size*1.0)*100"
      ]
    },
    {
      "cell_type": "markdown",
      "metadata": {
        "id": "9C5bIXW2M6vm"
      },
      "source": [
        "removing the rows whose helpfulness numerator is greater than helpfulness denominator"
      ]
    },
    {
      "cell_type": "code",
      "execution_count": null,
      "metadata": {
        "id": "vffn4HfDM6vn"
      },
      "outputs": [],
      "source": [
        "final=final[final.HelpfulnessNumerator<=final.HelpfulnessDenominator ]\n"
      ]
    },
    {
      "cell_type": "code",
      "execution_count": null,
      "metadata": {
        "id": "ONcQOL6UM6vn",
        "outputId": "a0cf9d9e-b9b8-4c9e-9f42-99ed4f2b6538"
      },
      "outputs": [
        {
          "data": {
            "text/plain": [
              "(364171, 10)"
            ]
          },
          "execution_count": 10,
          "metadata": {},
          "output_type": "execute_result"
        }
      ],
      "source": [
        "final.shape"
      ]
    },
    {
      "cell_type": "code",
      "execution_count": null,
      "metadata": {
        "id": "oiWLBmb9M6vn",
        "outputId": "a5974572-b7b3-40e3-a963-3133ce9850fc"
      },
      "outputs": [
        {
          "data": {
            "text/plain": [
              "1    307061\n",
              "0     57110\n",
              "Name: Score, dtype: int64"
            ]
          },
          "execution_count": 11,
          "metadata": {},
          "output_type": "execute_result"
        }
      ],
      "source": [
        "final['Score'].value_counts()"
      ]
    },
    {
      "cell_type": "markdown",
      "metadata": {
        "id": "tCbWd4ClM6vo"
      },
      "source": [
        "find sentences containing html tags"
      ]
    },
    {
      "cell_type": "code",
      "execution_count": null,
      "metadata": {
        "id": "Oy57SQWuM6vo",
        "outputId": "982ac2d7-008e-4784-873d-25c17f5158bb"
      },
      "outputs": [
        {
          "name": "stdout",
          "output_type": "stream",
          "text": [
            "6\n",
            "I set aside at least an hour each day to read to my son (3 y/o). At this point, I consider myself a connoisseur of children's books and this is one of the best. Santa Clause put this under the tree. Since then, we've read it perpetually and he loves it.<br /><br />First, this book taught him the months of the year.<br /><br />Second, it's a pleasure to read. Well suited to 1.5 y/o old to 4+.<br /><br />Very few children's books are worth owning. Most should be borrowed from the library. This book, however, deserves a permanent spot on your shelf. Sendak's best.\n"
          ]
        }
      ],
      "source": [
        "import re\n",
        "i= 0;\n",
        "for sent in final['Text'].values:\n",
        "    if (len(re.findall('<.*?>', sent))):\n",
        "        print(i)\n",
        "        print(sent)\n",
        "        break;\n",
        "    i += 1;"
      ]
    },
    {
      "cell_type": "code",
      "execution_count": null,
      "metadata": {
        "id": "eI3DzcktM6vo",
        "outputId": "5b165048-9296-4e03-c004-800fae0a2090"
      },
      "outputs": [
        {
          "name": "stdout",
          "output_type": "stream",
          "text": [
            "[nltk_data] Downloading package stopwords to\n",
            "[nltk_data]     C:\\Users\\Sravani\\AppData\\Roaming\\nltk_data...\n",
            "[nltk_data]   Package stopwords is already up-to-date!\n",
            "{\"haven't\", 'y', \"wouldn't\", 'before', 'aren', 'hasn', 'mustn', 'o', \"mightn't\", 'why', 'you', 'isn', 'wasn', 'ourselves', 'it', 'or', \"don't\", 'those', 'whom', 'more', 'with', 'so', 'into', \"doesn't\", 'which', 'if', \"you'll\", 'they', 'these', 'until', 've', 'weren', \"weren't\", 'all', 'from', 'won', 'only', 'of', \"she's\", 'he', 'being', 'll', \"won't\", 'how', 'that', 'her', 'after', \"isn't\", 'herself', 'wouldn', 'haven', 'not', 'this', 'down', 'ours', 'in', 'no', 'yours', 'by', 'as', 'below', 'ma', 'doing', 'we', 'there', \"hasn't\", 'its', 'hers', 'an', 'can', 'was', 'but', 'further', 'ain', 'himself', 'than', 'she', 'having', 'each', 'd', 'itself', 'him', 'out', 'because', 'during', 'through', 'here', 'the', 'just', 'against', 'my', \"needn't\", 'above', 'nor', 'most', 're', 'mightn', 'themselves', 'shan', 'who', 'to', 'shouldn', 'any', 'does', 'is', 'then', \"hadn't\", 'too', \"mustn't\", 'while', 'their', 'me', 'am', 'i', 'do', 'own', 'couldn', 'over', 'should', 'off', \"wasn't\", 'under', 'at', 'are', 'doesn', 'them', \"didn't\", 'where', 's', 'same', 'now', 'his', 'didn', 'both', 'be', 'did', \"shan't\", 'needn', 'were', 'has', \"couldn't\", 'our', 'about', 'your', 'have', 'very', 'few', \"should've\", 'had', \"you'd\", 'again', 'such', \"aren't\", 'been', 'a', 'for', 'when', \"that'll\", 'hadn', 'other', 'yourself', 'will', 'some', 'between', \"you're\", 'up', 'once', 'm', \"it's\", 'myself', \"shouldn't\", \"you've\", 'yourselves', 't', 'on', 'and', 'don', 'theirs', 'what'}\n",
            "********************\n",
            "tasti\n"
          ]
        }
      ],
      "source": [
        "import nltk\n",
        "nltk.download('stopwords')\n",
        "stop = set(stopwords.words('english'))\n",
        "sno = nltk.stem.SnowballStemmer('english')\n",
        "def cleanhtml(sentence):\n",
        "    cleanr = recompile('<.*?>')\n",
        "    cleantext = re.sub(cleanr,'',sentence)\n",
        "    return cleantext\n",
        "def cleanpunc(sentence):\n",
        "    cleaned = re.sub(r'[?|!|\\'|#]',r'',sentence)\n",
        "    cleaned = re.sub(r'[.|,|)|(|\\|/)]',r'',cleaned)\n",
        "    return cleaned\n",
        "print(stop)\n",
        "print('********************')\n",
        "print(sno.stem('tasty'))"
      ]
    },
    {
      "cell_type": "markdown",
      "metadata": {
        "id": "hjlfVkPwM6vo"
      },
      "source": [
        "pre processing phase"
      ]
    },
    {
      "cell_type": "code",
      "execution_count": null,
      "metadata": {
        "id": "rXBoQZ4WM6vp"
      },
      "outputs": [],
      "source": [
        "if not os.path.isfile('final.sqlite'):\n",
        "    final_string=[]\n",
        "    all_positive_words=[]\n",
        "    all_negative_words=[]\n",
        "    for i,sent in enumerate(tqdm(final['text'].values)):\n",
        "        filtered_sentence=[]\n",
        "        sent=cleanhtml(sent)\n",
        "        for w in sent.split():\n",
        "            for cleaned_words in cleanpunc(w).split():\n",
        "                if((cleaned_words.isalpha()) & (len(cleaned_words)>2)):\n",
        "                    if(cleaned_words.lower()not in stop):\n",
        "                        s=(sno.stem(cleaned_words.lower())).encode('utf8')\n",
        "                        filtered_sentence.append(s)\n",
        "                        if (final['score'].values)[i] == 1:\n",
        "                            all_positive_words.append(s)\n",
        "                        if (final['score'].values)[i] == 0:\n",
        "                            all_negative_words.append(s)\n",
        "        str1 = b\" \".join(filtered_sentence)\n",
        "        final_string.append(str1)\n",
        "    final['CleanedText']= final_string\n",
        "    final['CleanedText']= final_string.str.decode(\"utf-8\")\n",
        "    conn = sqlite3.connect('final.sqlite')\n",
        "    c=conn.cursor\n",
        "    conn.text_factory = str\n",
        "    final.to_sql('Reviews',conn, schema = None, if_exists= 'replace',\\\n",
        "                index= True, index_label= None, chunksize = None, dtype=None)\n",
        "    conn.close()\n",
        "    with open('positive_words.pkl','wb') as f:\n",
        "        pickle.dump(all_positive_words, f)\n",
        "    with open('negative_words.pkl','wb') as f:\n",
        "        pickle.dump(all_negative_words, f)\n"
      ]
    },
    {
      "cell_type": "code",
      "execution_count": null,
      "metadata": {
        "id": "7LpPYH9_M6vp"
      },
      "outputs": [],
      "source": [
        "if os.path.isfile('final.sqlite'):\n",
        "    conn = sqlite3.connect('final.sqlite')\n",
        "    final = pd.read_sql_query(\"\"\"SELECT * FROM Reviews WHERE Score != 3\"\"\",conn)\n",
        "    conn.close()\n",
        "else :\n",
        "    print(\"please the above cell\")    "
      ]
    },
    {
      "cell_type": "code",
      "execution_count": null,
      "metadata": {
        "id": "ePbG6aEJM6vp",
        "outputId": "45c07346-9e31-472e-b7ad-5e5fc60ddec5"
      },
      "outputs": [
        {
          "name": "stdout",
          "output_type": "stream",
          "text": [
            "(364171, 12)\n"
          ]
        }
      ],
      "source": [
        "print(final.shape)"
      ]
    },
    {
      "cell_type": "code",
      "execution_count": null,
      "metadata": {
        "id": "urdBEMm8M6vp",
        "outputId": "a31ce164-b88b-4bea-89ba-69a5bffdc7b4"
      },
      "outputs": [
        {
          "data": {
            "text/html": [
              "<div>\n",
              "<style scoped>\n",
              "    .dataframe tbody tr th:only-of-type {\n",
              "        vertical-align: middle;\n",
              "    }\n",
              "\n",
              "    .dataframe tbody tr th {\n",
              "        vertical-align: top;\n",
              "    }\n",
              "\n",
              "    .dataframe thead th {\n",
              "        text-align: right;\n",
              "    }\n",
              "</style>\n",
              "<table border=\"1\" class=\"dataframe\">\n",
              "  <thead>\n",
              "    <tr style=\"text-align: right;\">\n",
              "      <th></th>\n",
              "      <th>index</th>\n",
              "      <th>Id</th>\n",
              "      <th>ProductId</th>\n",
              "      <th>UserId</th>\n",
              "      <th>ProfileName</th>\n",
              "      <th>HelpfulnessNumerator</th>\n",
              "      <th>HelpfulnessDenominator</th>\n",
              "      <th>Score</th>\n",
              "      <th>Time</th>\n",
              "      <th>Summary</th>\n",
              "      <th>Text</th>\n",
              "      <th>CleanedText</th>\n",
              "    </tr>\n",
              "  </thead>\n",
              "  <tbody>\n",
              "    <tr>\n",
              "      <th>0</th>\n",
              "      <td>138706</td>\n",
              "      <td>150524</td>\n",
              "      <td>0006641040</td>\n",
              "      <td>ACITT7DI6IDDL</td>\n",
              "      <td>shari zychinski</td>\n",
              "      <td>0</td>\n",
              "      <td>0</td>\n",
              "      <td>positive</td>\n",
              "      <td>939340800</td>\n",
              "      <td>EVERY book is educational</td>\n",
              "      <td>this witty little book makes my son laugh at l...</td>\n",
              "      <td>witti littl book make son laugh loud recit car...</td>\n",
              "    </tr>\n",
              "    <tr>\n",
              "      <th>1</th>\n",
              "      <td>138688</td>\n",
              "      <td>150506</td>\n",
              "      <td>0006641040</td>\n",
              "      <td>A2IW4PEEKO2R0U</td>\n",
              "      <td>Tracy</td>\n",
              "      <td>1</td>\n",
              "      <td>1</td>\n",
              "      <td>positive</td>\n",
              "      <td>1194739200</td>\n",
              "      <td>Love the book, miss the hard cover version</td>\n",
              "      <td>I grew up reading these Sendak books, and watc...</td>\n",
              "      <td>grew read sendak book watch realli rosi movi i...</td>\n",
              "    </tr>\n",
              "    <tr>\n",
              "      <th>2</th>\n",
              "      <td>138689</td>\n",
              "      <td>150507</td>\n",
              "      <td>0006641040</td>\n",
              "      <td>A1S4A3IQ2MU7V4</td>\n",
              "      <td>sally sue \"sally sue\"</td>\n",
              "      <td>1</td>\n",
              "      <td>1</td>\n",
              "      <td>positive</td>\n",
              "      <td>1191456000</td>\n",
              "      <td>chicken soup with rice months</td>\n",
              "      <td>This is a fun way for children to learn their ...</td>\n",
              "      <td>fun way children learn month year learn poem t...</td>\n",
              "    </tr>\n",
              "    <tr>\n",
              "      <th>3</th>\n",
              "      <td>138690</td>\n",
              "      <td>150508</td>\n",
              "      <td>0006641040</td>\n",
              "      <td>AZGXZ2UUK6X</td>\n",
              "      <td>Catherine Hallberg \"(Kate)\"</td>\n",
              "      <td>1</td>\n",
              "      <td>1</td>\n",
              "      <td>positive</td>\n",
              "      <td>1076025600</td>\n",
              "      <td>a good swingy rhythm for reading aloud</td>\n",
              "      <td>This is a great little book to read aloud- it ...</td>\n",
              "      <td>great littl book read nice rhythm well good re...</td>\n",
              "    </tr>\n",
              "    <tr>\n",
              "      <th>4</th>\n",
              "      <td>138691</td>\n",
              "      <td>150509</td>\n",
              "      <td>0006641040</td>\n",
              "      <td>A3CMRKGE0P909G</td>\n",
              "      <td>Teresa</td>\n",
              "      <td>3</td>\n",
              "      <td>4</td>\n",
              "      <td>positive</td>\n",
              "      <td>1018396800</td>\n",
              "      <td>A great way to learn the months</td>\n",
              "      <td>This is a book of poetry about the months of t...</td>\n",
              "      <td>book poetri month year goe month cute littl po...</td>\n",
              "    </tr>\n",
              "  </tbody>\n",
              "</table>\n",
              "</div>"
            ],
            "text/plain": [
              "    index      Id   ProductId          UserId                  ProfileName  \\\n",
              "0  138706  150524  0006641040   ACITT7DI6IDDL              shari zychinski   \n",
              "1  138688  150506  0006641040  A2IW4PEEKO2R0U                        Tracy   \n",
              "2  138689  150507  0006641040  A1S4A3IQ2MU7V4        sally sue \"sally sue\"   \n",
              "3  138690  150508  0006641040     AZGXZ2UUK6X  Catherine Hallberg \"(Kate)\"   \n",
              "4  138691  150509  0006641040  A3CMRKGE0P909G                       Teresa   \n",
              "\n",
              "   HelpfulnessNumerator  HelpfulnessDenominator     Score        Time  \\\n",
              "0                     0                       0  positive   939340800   \n",
              "1                     1                       1  positive  1194739200   \n",
              "2                     1                       1  positive  1191456000   \n",
              "3                     1                       1  positive  1076025600   \n",
              "4                     3                       4  positive  1018396800   \n",
              "\n",
              "                                      Summary  \\\n",
              "0                   EVERY book is educational   \n",
              "1  Love the book, miss the hard cover version   \n",
              "2               chicken soup with rice months   \n",
              "3      a good swingy rhythm for reading aloud   \n",
              "4             A great way to learn the months   \n",
              "\n",
              "                                                Text  \\\n",
              "0  this witty little book makes my son laugh at l...   \n",
              "1  I grew up reading these Sendak books, and watc...   \n",
              "2  This is a fun way for children to learn their ...   \n",
              "3  This is a great little book to read aloud- it ...   \n",
              "4  This is a book of poetry about the months of t...   \n",
              "\n",
              "                                         CleanedText  \n",
              "0  witti littl book make son laugh loud recit car...  \n",
              "1  grew read sendak book watch realli rosi movi i...  \n",
              "2  fun way children learn month year learn poem t...  \n",
              "3  great littl book read nice rhythm well good re...  \n",
              "4  book poetri month year goe month cute littl po...  "
            ]
          },
          "execution_count": 111,
          "metadata": {},
          "output_type": "execute_result"
        }
      ],
      "source": [
        "final.head(5)"
      ]
    },
    {
      "cell_type": "code",
      "execution_count": null,
      "metadata": {
        "id": "_etOyKW8M6vq",
        "outputId": "3ced32cf-f83b-4535-d518-7ed772dcf1f6"
      },
      "outputs": [
        {
          "data": {
            "text/plain": [
              "positive    307061\n",
              "negative     57110\n",
              "Name: Score, dtype: int64"
            ]
          },
          "execution_count": 18,
          "metadata": {},
          "output_type": "execute_result"
        }
      ],
      "source": [
        "final['Score'].value_counts()"
      ]
    },
    {
      "cell_type": "code",
      "execution_count": null,
      "metadata": {
        "id": "oq0_JGs1M6vq"
      },
      "outputs": [],
      "source": [
        "data_pos = final[final[\"Score\"]=='positive'].sample(n=1000)\n",
        "data_neg = final[final[\"Score\"]== 'negative'].sample(n=1000)\n",
        "final_2000 = pd.concat([data_pos,data_neg])"
      ]
    },
    {
      "cell_type": "code",
      "execution_count": null,
      "metadata": {
        "id": "pqyH9YtVM6vq"
      },
      "outputs": [],
      "source": [
        "Score_2000=final_2000['Score']"
      ]
    },
    {
      "cell_type": "code",
      "execution_count": null,
      "metadata": {
        "id": "e-BfAX7lM6vq",
        "outputId": "b404fc8c-4aba-40bd-92c3-2b587f6c7c7c"
      },
      "outputs": [
        {
          "data": {
            "text/plain": [
              "(2000,)"
            ]
          },
          "execution_count": 21,
          "metadata": {},
          "output_type": "execute_result"
        }
      ],
      "source": [
        "Score_2000.shape"
      ]
    },
    {
      "cell_type": "markdown",
      "metadata": {
        "id": "Uw4kbWlQM6vq"
      },
      "source": [
        "bag of words"
      ]
    },
    {
      "cell_type": "code",
      "execution_count": null,
      "metadata": {
        "id": "vn2xZUcGM6vq",
        "outputId": "b262c818-0ddd-48cd-b1f5-8fd9fdbce0f7"
      },
      "outputs": [
        {
          "name": "stdout",
          "output_type": "stream",
          "text": [
            "the type of count vectorizer <class 'scipy.sparse.csr.csr_matrix'>\n",
            "the shape of out text BOW vectorizer (2000, 6627)\n",
            "the number of unique words 6627\n"
          ]
        }
      ],
      "source": [
        "count_vect = CountVectorizer()\n",
        "final_counts = count_vect.fit_transform(final_2000['CleanedText'].values)\n",
        "print(\"the type of count vectorizer\", type(final_counts))\n",
        "print(\"the shape of out text BOW vectorizer\", final_counts.get_shape())\n",
        "print(\"the number of unique words\", final_counts.get_shape()[1])"
      ]
    },
    {
      "cell_type": "code",
      "execution_count": null,
      "metadata": {
        "id": "e-BTOQFOM6vr",
        "outputId": "4e2bc3c4-9d5a-4a29-a185-af343f80121c"
      },
      "outputs": [
        {
          "data": {
            "text/plain": [
              "(2000, 6627)"
            ]
          },
          "execution_count": 23,
          "metadata": {},
          "output_type": "execute_result"
        }
      ],
      "source": [
        "final_counts.get_shape()"
      ]
    },
    {
      "cell_type": "code",
      "execution_count": null,
      "metadata": {
        "id": "6QdQjHdZM6vr",
        "outputId": "bed193dc-51cf-4629-aca2-291a5ff8d5b9"
      },
      "outputs": [
        {
          "name": "stdout",
          "output_type": "stream",
          "text": [
            "the tupe of count vectorizer <class 'scipy.sparse.csr.csr_matrix'>\n",
            "the shape of out text BOW vectorizer (2000, 6627)\n",
            "the number of unique words of unigrams 6627\n"
          ]
        }
      ],
      "source": [
        "count_vect = CountVectorizer(ngram_range=(1,0))\n",
        "final_unigram_counts = count_vect.fit_transform(final_2000['CleanedText'].values)\n",
        "print('the tupe of count vectorizer', type(final_unigram_counts))\n",
        "print('the shape of out text BOW vectorizer',final_unigram_counts.get_shape())\n",
        "print('the number of unique words of unigrams',final_unigram_counts.get_shape()[1])"
      ]
    },
    {
      "cell_type": "code",
      "execution_count": null,
      "metadata": {
        "id": "7Sy7DCyFM6vr",
        "outputId": "a2f397e7-b3fd-4d52-ea83-c151f6fc14f9"
      },
      "outputs": [
        {
          "data": {
            "text/plain": [
              "(2000, 6627)"
            ]
          },
          "execution_count": 25,
          "metadata": {},
          "output_type": "execute_result"
        }
      ],
      "source": [
        "from sklearn.preprocessing import StandardScaler \n",
        "std_data = StandardScaler(with_mean = False).fit_transform(final_unigram_counts)\n",
        "std_data.shape"
      ]
    },
    {
      "cell_type": "code",
      "execution_count": null,
      "metadata": {
        "id": "GnVrCGBwM6vr",
        "outputId": "6cf7cd9a-abd3-4381-fe34-754b8daac6aa"
      },
      "outputs": [
        {
          "data": {
            "text/plain": [
              "scipy.sparse.csr.csr_matrix"
            ]
          },
          "execution_count": 26,
          "metadata": {},
          "output_type": "execute_result"
        }
      ],
      "source": [
        "type(std_data)"
      ]
    },
    {
      "cell_type": "code",
      "execution_count": null,
      "metadata": {
        "id": "A8r3ymIAM6vr"
      },
      "outputs": [],
      "source": [
        "std_data = std_data.todense()\n"
      ]
    },
    {
      "cell_type": "code",
      "execution_count": null,
      "metadata": {
        "id": "oibsabUgM6vs",
        "outputId": "b3e18545-8709-40c1-fff1-5a7d6cdcb473"
      },
      "outputs": [
        {
          "data": {
            "text/plain": [
              "numpy.matrixlib.defmatrix.matrix"
            ]
          },
          "execution_count": 28,
          "metadata": {},
          "output_type": "execute_result"
        }
      ],
      "source": [
        "type(std_data)"
      ]
    },
    {
      "cell_type": "code",
      "execution_count": null,
      "metadata": {
        "id": "Qog4sdycM6vs",
        "outputId": "063c1a7f-c975-4e32-faa3-446e55621146"
      },
      "outputs": [
        {
          "data": {
            "text/plain": [
              "negative    1000\n",
              "positive    1000\n",
              "Name: Score, dtype: int64"
            ]
          },
          "execution_count": 29,
          "metadata": {},
          "output_type": "execute_result"
        }
      ],
      "source": [
        "final_2000['Score'].value_counts()"
      ]
    },
    {
      "cell_type": "markdown",
      "metadata": {
        "id": "GLV2W0C4M6vs"
      },
      "source": [
        "tsne for BOW"
      ]
    },
    {
      "cell_type": "code",
      "execution_count": null,
      "metadata": {
        "id": "L_RuqtodM6vs",
        "outputId": "4cbdf8b2-6505-4138-e7d0-9adb97d33f2a"
      },
      "outputs": [
        {
          "data": {
            "image/png": "[encoded data removed]",
            "text/plain": [
              "<matplotlib.figure.Figure at 0x1dacf203b70>"
            ]
          },
          "metadata": {},
          "output_type": "display_data"
        }
      ],
      "source": [
        "from sklearn.manifold import TSNE\n",
        "model = TSNE(n_components = 2 , random_state = 0,perplexity= 25, n_iter= 2000)\n",
        "tsne_data = model.fit_transform(std_data)\n",
        "tsne_data = np.vstack((tsne_data.T, Score_2000)).T\n",
        "tsne_df = pd.DataFrame(data = tsne_data, columns = (\"dim1\", \"dim2\", \"Score\"))\n",
        "sns.FacetGrid(tsne_df , hue = \"Score\", size = 7).map(plt.scatter,'dim1','dim2').add_legend()\n",
        "plt.show()"
      ]
    },
    {
      "cell_type": "markdown",
      "metadata": {
        "id": "XqJYWxccM6vs"
      },
      "source": [
        "inference : the positive and negative reviews are not well seperated"
      ]
    },
    {
      "cell_type": "markdown",
      "metadata": {
        "id": "EY1R-bZfM6vs"
      },
      "source": [
        " tf-idf"
      ]
    },
    {
      "cell_type": "code",
      "execution_count": null,
      "metadata": {
        "id": "oiCuFOgxM6vs",
        "outputId": "82da02fd-20a3-40f3-89e7-bcd0ddfcf14c"
      },
      "outputs": [
        {
          "name": "stdout",
          "output_type": "stream",
          "text": [
            "the type of count vectorizer <class 'scipy.sparse.csr.csr_matrix'>\n",
            "the type of out text TFIDF vectorizer (2000, 6627)\n",
            "the type of unique words of unigrams 6627\n"
          ]
        }
      ],
      "source": [
        "tf_idf_vect = TfidfVectorizer(ngram_range=(1,0))\n",
        "final_tf_idf = tf_idf_vect.fit_transform(final_2000['CleanedText'].values)\n",
        "print('the type of count vectorizer',type(final_tf_idf))\n",
        "print('the type of out text TFIDF vectorizer',final_tf_idf.get_shape())\n",
        "print('the type of unique words of unigrams',final_tf_idf.get_shape()[1])"
      ]
    },
    {
      "cell_type": "code",
      "execution_count": null,
      "metadata": {
        "id": "qB4-q3uUM6vt",
        "outputId": "cd39ea76-2be3-444e-e13e-b09ec335f23d"
      },
      "outputs": [
        {
          "name": "stdout",
          "output_type": "stream",
          "text": [
            "some sample features(unique words in the corpus) ['abamectin', 'abandon', 'abbott', 'abdomin', 'abil', 'abl', 'abnorm', 'abomin', 'abrupt', 'absent', 'absolut', 'absolutey', 'absorb', 'absurd', 'abund', 'acai', 'acceler', 'accentu', 'accept', 'access', 'accid', 'accident', 'accompani', 'accord', 'account', 'acct', 'accumil', 'accumul', 'accur', 'accustom', 'acer', 'acet', 'acetaminophen', 'ach', 'achiev', 'achill', 'acid', 'acidosi', 'ack', 'acke', 'acknowledg', 'acn', 'acquir', 'acrid', 'across', 'act', 'action', 'activ', 'actual', 'ad']\n"
          ]
        }
      ],
      "source": [
        "features = tf_idf_vect.get_feature_names()\n",
        "print(\"some sample features(unique words in the corpus)\",features[0:50])"
      ]
    },
    {
      "cell_type": "code",
      "execution_count": null,
      "metadata": {
        "id": "k1L40waSM6vt",
        "outputId": "3fa71947-76ad-4264-b7f4-f5d092f1d345"
      },
      "outputs": [
        {
          "data": {
            "text/plain": [
              "(2000, 12)"
            ]
          },
          "execution_count": 32,
          "metadata": {},
          "output_type": "execute_result"
        }
      ],
      "source": [
        "final_2000.shape"
      ]
    },
    {
      "cell_type": "code",
      "execution_count": null,
      "metadata": {
        "id": "-QTBDb6TM6vt"
      },
      "outputs": [],
      "source": [
        "def top_tfidf_feats(row, features, top_n = 25):\n",
        "    '''get top n tfidf values in row and return them with their corresponding feature names'''\n",
        "    topn_ids = np.argsort(row)[::-1][:top_n]\n",
        "    top_feats = [(features[i], row[i])for i in topn_ids]\n",
        "    df= pd.DataFrame(top_feats)\n",
        "    df.columns = ['feature','tfidf']\n",
        "    return df\n",
        "top_tfidf = top_tfidf_feats(final_tf_idf[1,:].toarray()[0],features,10)"
      ]
    },
    {
      "cell_type": "code",
      "execution_count": null,
      "metadata": {
        "id": "nIwhFmMUM6vt",
        "outputId": "f8f4e308-5494-4bc3-fd5e-53f3a7d1e8b6"
      },
      "outputs": [
        {
          "data": {
            "text/html": [
              "<div>\n",
              "<style scoped>\n",
              "    .dataframe tbody tr th:only-of-type {\n",
              "        vertical-align: middle;\n",
              "    }\n",
              "\n",
              "    .dataframe tbody tr th {\n",
              "        vertical-align: top;\n",
              "    }\n",
              "\n",
              "    .dataframe thead th {\n",
              "        text-align: right;\n",
              "    }\n",
              "</style>\n",
              "<table border=\"1\" class=\"dataframe\">\n",
              "  <thead>\n",
              "    <tr style=\"text-align: right;\">\n",
              "      <th></th>\n",
              "      <th>feature</th>\n",
              "      <th>tfidf</th>\n",
              "    </tr>\n",
              "  </thead>\n",
              "  <tbody>\n",
              "    <tr>\n",
              "      <th>0</th>\n",
              "      <td>begon</td>\n",
              "      <td>0.491463</td>\n",
              "    </tr>\n",
              "    <tr>\n",
              "      <th>1</th>\n",
              "      <td>heal</td>\n",
              "      <td>0.466266</td>\n",
              "    </tr>\n",
              "    <tr>\n",
              "      <th>2</th>\n",
              "      <td>everyday</td>\n",
              "      <td>0.405311</td>\n",
              "    </tr>\n",
              "    <tr>\n",
              "      <th>3</th>\n",
              "      <td>salt</td>\n",
              "      <td>0.273236</td>\n",
              "    </tr>\n",
              "    <tr>\n",
              "      <th>4</th>\n",
              "      <td>per</td>\n",
              "      <td>0.264591</td>\n",
              "    </tr>\n",
              "    <tr>\n",
              "      <th>5</th>\n",
              "      <td>nice</td>\n",
              "      <td>0.237018</td>\n",
              "    </tr>\n",
              "    <tr>\n",
              "      <th>6</th>\n",
              "      <td>know</td>\n",
              "      <td>0.223150</td>\n",
              "    </tr>\n",
              "    <tr>\n",
              "      <th>7</th>\n",
              "      <td>look</td>\n",
              "      <td>0.204042</td>\n",
              "    </tr>\n",
              "    <tr>\n",
              "      <th>8</th>\n",
              "      <td>dont</td>\n",
              "      <td>0.182396</td>\n",
              "    </tr>\n",
              "    <tr>\n",
              "      <th>9</th>\n",
              "      <td>love</td>\n",
              "      <td>0.160813</td>\n",
              "    </tr>\n",
              "  </tbody>\n",
              "</table>\n",
              "</div>"
            ],
            "text/plain": [
              "    feature     tfidf\n",
              "0     begon  0.491463\n",
              "1      heal  0.466266\n",
              "2  everyday  0.405311\n",
              "3      salt  0.273236\n",
              "4       per  0.264591\n",
              "5      nice  0.237018\n",
              "6      know  0.223150\n",
              "7      look  0.204042\n",
              "8      dont  0.182396\n",
              "9      love  0.160813"
            ]
          },
          "execution_count": 34,
          "metadata": {},
          "output_type": "execute_result"
        }
      ],
      "source": [
        "top_tfidf"
      ]
    },
    {
      "cell_type": "code",
      "execution_count": null,
      "metadata": {
        "id": "NGeenurwM6vt"
      },
      "outputs": [],
      "source": [
        "std = StandardScaler(with_mean = False)\n",
        "std_data = std.fit_transform(final_tf_idf)\n",
        "std_data = std_data.todense()"
      ]
    },
    {
      "cell_type": "code",
      "execution_count": null,
      "metadata": {
        "id": "ytcdIylKM6vt",
        "outputId": "c89f74c9-66f7-4d41-c215-cb14852f9e37"
      },
      "outputs": [
        {
          "data": {
            "text/plain": [
              "(2000, 6627)"
            ]
          },
          "execution_count": 36,
          "metadata": {},
          "output_type": "execute_result"
        }
      ],
      "source": [
        "std_data.shape\n"
      ]
    },
    {
      "cell_type": "code",
      "execution_count": null,
      "metadata": {
        "id": "AaSpEM1DM6vt",
        "outputId": "107338c5-3169-4513-a6c9-66aeb9d59c2c"
      },
      "outputs": [
        {
          "data": {
            "text/plain": [
              "numpy.matrixlib.defmatrix.matrix"
            ]
          },
          "execution_count": 37,
          "metadata": {},
          "output_type": "execute_result"
        }
      ],
      "source": [
        "type(std_data)"
      ]
    },
    {
      "cell_type": "markdown",
      "metadata": {
        "id": "lxhVpJCOM6vu"
      },
      "source": [
        "tsne for tfidf"
      ]
    },
    {
      "cell_type": "code",
      "execution_count": null,
      "metadata": {
        "id": "fNJvkzlwM6vu",
        "outputId": "51dbf3d4-0d56-4f76-9b08-8751d5a8f9ed"
      },
      "outputs": [
        {
          "data": {
            "image/png": "[encoded data removed]",
            "text/plain": [
              "<matplotlib.figure.Figure at 0x2357ef42f60>"
            ]
          },
          "metadata": {},
          "output_type": "display_data"
        }
      ],
      "source": [
        "from sklearn.manifold import TSNE\n",
        "model = TSNE(n_components = 2,random_state = 0,perplexity = 25, n_iter = 2000)\n",
        "tsne_data = model.fit_transform(std_data)\n",
        "tsne_data = np.vstack((tsne_data.T, Score_2000)).T\n",
        "tsne_df = pd.DataFrame(data = tsne_data, columns = (\"dim1\",\"dim2\",\"Score\"))\n",
        "sns.FacetGrid(tsne_df , hue =\"Score\", size = 7).map(plt.scatter, 'dim1','dim2').add_legend()\n",
        "plt.show()"
      ]
    },
    {
      "cell_type": "markdown",
      "metadata": {
        "id": "9mb5S3nHM6vu"
      },
      "source": [
        "inference : we cannot differentiate between positive and negative reviews"
      ]
    },
    {
      "cell_type": "markdown",
      "metadata": {
        "id": "7yZHVDPnM6vu"
      },
      "source": [
        "word 2 vec"
      ]
    },
    {
      "cell_type": "code",
      "execution_count": null,
      "metadata": {
        "id": "3oElFjiqM6vu"
      },
      "outputs": [],
      "source": [
        "i = 0\n",
        "list_of_sent = []\n",
        "for sent in final_2000['CleanedText'].values:\n",
        "    list_of_sent.append(sent.split())"
      ]
    },
    {
      "cell_type": "code",
      "execution_count": null,
      "metadata": {
        "id": "BrotZ4kaM6vu",
        "outputId": "2b9f13dd-1f06-4365-96f4-512cad0364be"
      },
      "outputs": [
        {
          "data": {
            "text/plain": [
              "2000"
            ]
          },
          "execution_count": 67,
          "metadata": {},
          "output_type": "execute_result"
        }
      ],
      "source": [
        "len(list_of_sent)"
      ]
    },
    {
      "cell_type": "code",
      "execution_count": null,
      "metadata": {
        "id": "vsjBe-haM6vu",
        "outputId": "670803d5-af91-4b5e-90e1-d9e4f9f7d065"
      },
      "outputs": [
        {
          "name": "stdout",
          "output_type": "stream",
          "text": [
            "wow amaz food human write behalf belov snowsho mocha mocha love femal doesnt care eat would rather cuddl eat lol nibbl bite wet fanci feast food tri grill classic varieti pack fanci feast hour later come back eat bite time til none plate put plate well today first day eat gosh almost ate lap food greedili lol think mocha favorit flavor fanci feast flavor far like food smell like real fish can tuna smell actual fish meat even skin healthiest part fish even see tini tini brine shrimp wow realli real stuff check nutrit analysi crude protein least highest fanci feast varieti also like artifici anyth includ flavor unlik fanci feast varieti negat bit broth like kind like grill fanci feast tad less problem item product thailand better product china would never buy cat food matter top notch stuff less min later mocha return finish rest meal\n",
            "*********\n",
            "['wow', 'amaz', 'food', 'human', 'write', 'behalf', 'belov', 'snowsho', 'mocha', 'mocha', 'love', 'femal', 'doesnt', 'care', 'eat', 'would', 'rather', 'cuddl', 'eat', 'lol', 'nibbl', 'bite', 'wet', 'fanci', 'feast', 'food', 'tri', 'grill', 'classic', 'varieti', 'pack', 'fanci', 'feast', 'hour', 'later', 'come', 'back', 'eat', 'bite', 'time', 'til', 'none', 'plate', 'put', 'plate', 'well', 'today', 'first', 'day', 'eat', 'gosh', 'almost', 'ate', 'lap', 'food', 'greedili', 'lol', 'think', 'mocha', 'favorit', 'flavor', 'fanci', 'feast', 'flavor', 'far', 'like', 'food', 'smell', 'like', 'real', 'fish', 'can', 'tuna', 'smell', 'actual', 'fish', 'meat', 'even', 'skin', 'healthiest', 'part', 'fish', 'even', 'see', 'tini', 'tini', 'brine', 'shrimp', 'wow', 'realli', 'real', 'stuff', 'check', 'nutrit', 'analysi', 'crude', 'protein', 'least', 'highest', 'fanci', 'feast', 'varieti', 'also', 'like', 'artifici', 'anyth', 'includ', 'flavor', 'unlik', 'fanci', 'feast', 'varieti', 'negat', 'bit', 'broth', 'like', 'kind', 'like', 'grill', 'fanci', 'feast', 'tad', 'less', 'problem', 'item', 'product', 'thailand', 'better', 'product', 'china', 'would', 'never', 'buy', 'cat', 'food', 'matter', 'top', 'notch', 'stuff', 'less', 'min', 'later', 'mocha', 'return', 'finish', 'rest', 'meal']\n"
          ]
        }
      ],
      "source": [
        "print(final_2000['CleanedText'].values[0])\n",
        "print('*********')\n",
        "print(list_of_sent[0])"
      ]
    },
    {
      "cell_type": "code",
      "execution_count": null,
      "metadata": {
        "id": "G18FLQGvM6vv"
      },
      "outputs": [],
      "source": [
        "w2v_model= Word2Vec(list_of_sent, min_count= 5, size = 50,workers = 4)"
      ]
    },
    {
      "cell_type": "code",
      "execution_count": null,
      "metadata": {
        "id": "F9rHgok-M6vv",
        "outputId": "0164231c-b2de-4ce4-ca81-f311019ccb12"
      },
      "outputs": [
        {
          "name": "stdout",
          "output_type": "stream",
          "text": [
            "number of words that occured minimum 5 times 2091\n",
            "sample words ['wow', 'amaz', 'food', 'human', 'write', 'mocha', 'love', 'doesnt', 'care', 'eat', 'would', 'rather', 'lol', 'nibbl', 'bite', 'wet', 'fanci', 'feast', 'tri', 'grill', 'classic', 'varieti', 'pack', 'hour', 'later', 'come', 'back', 'time', 'none', 'plate', 'put', 'well', 'today', 'first', 'day', 'almost', 'ate', 'think', 'favorit', 'flavor', 'far', 'like', 'smell', 'real', 'fish', 'can', 'tuna', 'actual', 'meat', 'even']\n"
          ]
        }
      ],
      "source": [
        "w2v_words =list(w2v_model.wv.vocab)\n",
        "print(\"number of words that occured minimum 5 times\",len(w2v_words))\n",
        "print(\"sample words\", w2v_words[0:50])"
      ]
    },
    {
      "cell_type": "code",
      "execution_count": null,
      "metadata": {
        "id": "ni_mtXNRM6vv",
        "outputId": "4867e5f1-842a-4961-cdeb-99ff4e892afd"
      },
      "outputs": [
        {
          "data": {
            "text/plain": [
              "[('contain', 0.9998254179954529),\n",
              " ('top', 0.9998224377632141),\n",
              " ('almost', 0.9998189210891724),\n",
              " ('wasnt', 0.9998180866241455),\n",
              " ('fat', 0.9998177289962769),\n",
              " ('mouth', 0.9998161792755127),\n",
              " ('stick', 0.999815046787262),\n",
              " ('made', 0.999814510345459),\n",
              " ('chees', 0.9998141527175903),\n",
              " ('actual', 0.9998095035552979)]"
            ]
          },
          "execution_count": 43,
          "metadata": {},
          "output_type": "execute_result"
        }
      ],
      "source": [
        "w2v_model.wv.most_similar('tasti')"
      ]
    },
    {
      "cell_type": "code",
      "execution_count": null,
      "metadata": {
        "id": "njrJvt1hM6vv",
        "outputId": "b6776296-f491-49f5-ffa4-78fc0ec713ca"
      },
      "outputs": [
        {
          "data": {
            "text/plain": [
              "[('sweet', 0.9995846748352051),\n",
              " ('flavor', 0.999544620513916),\n",
              " ('bitter', 0.999536395072937),\n",
              " ('better', 0.9995303153991699),\n",
              " ('hot', 0.9995094537734985),\n",
              " ('smell', 0.9995088577270508),\n",
              " ('drink', 0.999498188495636),\n",
              " ('tast', 0.9994841814041138),\n",
              " ('textur', 0.999461829662323),\n",
              " ('smooth', 0.9994549751281738)]"
            ]
          },
          "execution_count": 44,
          "metadata": {},
          "output_type": "execute_result"
        }
      ],
      "source": [
        "w2v_model.wv.most_similar('like')"
      ]
    },
    {
      "cell_type": "markdown",
      "metadata": {
        "id": "z8gT81AXM6vv"
      },
      "source": [
        "tsne for w2v"
      ]
    },
    {
      "cell_type": "code",
      "execution_count": null,
      "metadata": {
        "id": "xOQbOKLmM6vv",
        "outputId": "1a5615eb-5ba0-4c4f-aab6-3e1c29f80d84"
      },
      "outputs": [
        {
          "data": {
            "image/png": "[encoded data removed]",
            "text/plain": [
              "<matplotlib.figure.Figure at 0x2350b624780>"
            ]
          },
          "metadata": {},
          "output_type": "display_data"
        }
      ],
      "source": [
        "from sklearn.manifold import TSNE\n",
        "model = TSNE(n_components = 2,random_state = 0,perplexity = 25, n_iter = 2000)\n",
        "tsne_data = model.fit_transform(std_data)\n",
        "tsne_data = np.vstack((tsne_data.T, Score_2000)).T\n",
        "tsne_df = pd.DataFrame(data = tsne_data, columns = (\"dim1\",\"dim2\",\"Score\"))\n",
        "sns.FacetGrid(tsne_df , hue =\"Score\", size = 7).map(plt.scatter, 'dim1','dim2').add_legend()\n",
        "plt.show()"
      ]
    },
    {
      "cell_type": "markdown",
      "metadata": {
        "id": "2WM1y0TAM6vv"
      },
      "source": [
        "inference:\n",
        "we cannot draw a line between positive and negative reviews with this plot"
      ]
    },
    {
      "cell_type": "markdown",
      "metadata": {
        "id": "h7-NUiqVM6vw"
      },
      "source": [
        "#avg w2v"
      ]
    },
    {
      "cell_type": "code",
      "execution_count": null,
      "metadata": {
        "id": "KePjmPS8M6vw",
        "outputId": "33c77ad1-29ac-4442-934a-b0dea8c15ff3"
      },
      "outputs": [
        {
          "name": "stderr",
          "output_type": "stream",
          "text": [
            "100%|████████████████████████████████████████████████████████████████████████████| 2000/2000 [00:00<00:00, 6618.46it/s]\n"
          ]
        },
        {
          "name": "stdout",
          "output_type": "stream",
          "text": [
            "2000\n",
            "50\n"
          ]
        }
      ],
      "source": [
        "sent_vectors = [];\n",
        "for sent in tqdm (list_of_sent): \n",
        "    sent_vec = np.zeros(50) \n",
        "    cnt_words =0; \n",
        "    for word in sent:\n",
        "        try :\n",
        "            vec = w2v_model.wv[word]\n",
        "            sent_vec += vec\n",
        "            cnt_words += 1\n",
        "        except :\n",
        "              pass\n",
        "    sent_vec /= cnt_words\n",
        "    sent_vectors.append(sent_vec)\n",
        "print(len(sent_vectors))\n",
        "print(len(sent_vectors[0]))\n"
      ]
    },
    {
      "cell_type": "code",
      "execution_count": null,
      "metadata": {
        "id": "AQWxQEiwM6vw"
      },
      "outputs": [],
      "source": [
        "model = TfidfVectorizer()\n",
        "tf_idf_matrix = model.fit_transform(final_2000['CleanedText'].values)\n",
        "dictionary = dict(zip(model.get_feature_names(),list(model.idf_)))"
      ]
    },
    {
      "cell_type": "markdown",
      "metadata": {
        "id": "3FMRFAMcM6vw"
      },
      "source": [
        "tsne for avg w2v"
      ]
    },
    {
      "cell_type": "code",
      "execution_count": null,
      "metadata": {
        "id": "dp1bShMeM6vw",
        "outputId": "e112f1f1-fab1-4c7b-cd11-b4002f7c58c3"
      },
      "outputs": [
        {
          "data": {
            "text/plain": [
              "<function matplotlib.pyplot.show>"
            ]
          },
          "execution_count": 113,
          "metadata": {},
          "output_type": "execute_result"
        },
        {
          "data": {
            "image/png": "[encoded data removed]",
            "text/plain": [
              "<matplotlib.figure.Figure at 0x2350e5836a0>"
            ]
          },
          "metadata": {},
          "output_type": "display_data"
        }
      ],
      "source": [
        "from sklearn.manifold import TSNE\n",
        "model = TSNE(n_components=2, random_state=0, perplexity = 25, n_iter = 2000)\n",
        "tsne_data = model.fit_transform(sent_vectors)\n",
        "tsne_data = np.vstack((tsne_data.T, Score_2000)).T\n",
        "tsne_df = pd.DataFrame(data=tsne_data, columns=(\"dim1\", \"dim2\", \"Score\"))\n",
        "sns.FacetGrid(tsne_df, hue=\"Score\", size=7).map(plt.scatter, 'dim1', 'dim2').add_legend()\n",
        "plt.show"
      ]
    },
    {
      "cell_type": "markdown",
      "metadata": {
        "id": "PJ2kXox5M6vw"
      },
      "source": [
        "inference : the positive and negative reviews cannot be differentiated by using avg word2vec tsne plot"
      ]
    },
    {
      "cell_type": "markdown",
      "metadata": {
        "id": "LBVrTJ-XM6vw"
      },
      "source": [
        " TF-IDF weighted Word2Vec"
      ]
    },
    {
      "cell_type": "code",
      "execution_count": null,
      "metadata": {
        "id": "jWNAjoRHM6vx",
        "outputId": "cb33e4e2-f5f4-4dbf-9796-ce055ec05448"
      },
      "outputs": [
        {
          "name": "stderr",
          "output_type": "stream",
          "text": [
            "100%|████████████████████████████████████████████████████████████████████████████| 2000/2000 [00:01<00:00, 1525.16it/s]\n"
          ]
        }
      ],
      "source": [
        "tfidf_feat = tf_idf_vect.get_feature_names()\n",
        "tfidf_sent_vectors = [];\n",
        "row = 0;\n",
        "for sent in tqdm(list_of_sent):\n",
        "    sent_vec = np.zeros(50)\n",
        "    weight_sum = 0;\n",
        "    for word in sent:\n",
        "        if word in w2v_words:\n",
        "            vec = w2v_model.wv[word]\n",
        "            tf_idf = dictionary[word]*(sent.count(word)/len(sent))\n",
        "            sent_vec += (vec*tf_idf)\n",
        "            weight_sum += tf_idf\n",
        "    if weight_sum != 0:\n",
        "        sent_vec /= weight_sum\n",
        "    tfidf_sent_vectors.append(sent_vec)\n",
        "    row += 1\n"
      ]
    },
    {
      "cell_type": "markdown",
      "metadata": {
        "id": "nB8SMiVlM6vx"
      },
      "source": [
        "tsne for tfidf weighted w2v"
      ]
    },
    {
      "cell_type": "code",
      "execution_count": null,
      "metadata": {
        "scrolled": false,
        "id": "KrDXZmbSM6vx",
        "outputId": "41e28452-45e2-47e8-efe6-22aa1e856021"
      },
      "outputs": [
        {
          "data": {
            "image/png": "[encoded data removed]",
            "text/plain": [
              "<matplotlib.figure.Figure at 0x1dae9914240>"
            ]
          },
          "metadata": {},
          "output_type": "display_data"
        }
      ],
      "source": [
        "from sklearn.manifold import TSNE\n",
        "model = TSNE(n_components=2, random_state=0, perplexity = 25, n_iter = 2000)\n",
        "tsne_data = model.fit_transform(tfidf_sent_vectors)\n",
        "tsne_data = np.vstack((tsne_data.T, Score_2000)).T\n",
        "tsne_df = pd.DataFrame(data=tsne_data, columns=(\"dim1\", \"dim2\", \"Score\"))\n",
        "sns.FacetGrid(tsne_df, hue=\"Score\", size=7).map(plt.scatter, 'dim1', 'dim2').add_legend()\n",
        "plt.show()"
      ]
    },
    {
      "cell_type": "markdown",
      "metadata": {
        "id": "4psblHoCM6vx"
      },
      "source": [
        "inference:\n",
        "the positive and negative feedbacks are not well seperated"
      ]
    },
    {
      "cell_type": "markdown",
      "metadata": {
        "id": "xouMQxZ9M6vx"
      },
      "source": [
        "conclusion :\n"
      ]
    },
    {
      "cell_type": "markdown",
      "metadata": {
        "id": "o9iSsO4AM6vx"
      },
      "source": [
        "1) the tsne plots for bag of words , tf-idf , average word2vec , and tf-idf weighted wor2vec are all clumsy\n",
        "2) one cannot differentiate betweeen positive and negative feedback looking into these tsne plots\n",
        "3) we have to evolve with other techniques to differentiate "
      ]
    }
  ],
  "metadata": {
    "kernelspec": {
      "display_name": "Python 3",
      "language": "python",
      "name": "python3"
    },
    "language_info": {
      "codemirror_mode": {
        "name": "ipython",
        "version": 3
      },
      "file_extension": ".py",
      "mimetype": "text/x-python",
      "name": "python",
      "nbconvert_exporter": "python",
      "pygments_lexer": "ipython3",
      "version": "3.6.4"
    },
    "colab": {
      "name": "amazon review data set assignment.ipynb",
      "provenance": []
    }
  },
  "nbformat": 4,
  "nbformat_minor": 0
}