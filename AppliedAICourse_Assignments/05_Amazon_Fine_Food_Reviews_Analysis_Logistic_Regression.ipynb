{
  "cells": [
    {
      "cell_type": "markdown",
      "metadata": {
        "id": "view-in-github",
        "colab_type": "text"
      },
      "source": [
        "<a href=\"https://colab.research.google.com/github/Sravani9544/projects/blob/main/AppliedAICourse_Assignments/05_Amazon_Fine_Food_Reviews_Analysis_Logistic_Regression.ipynb\" target=\"_parent\"><img src=\"https://colab.research.google.com/assets/colab-badge.svg\" alt=\"Open In Colab\"/></a>"
      ]
    },
    {
      "cell_type": "markdown",
      "metadata": {
        "id": "AM7jsfwALPlp"
      },
      "source": [
        "# Amazon Fine Food Reviews Analysis\n",
        "\n",
        "\n",
        "Data Source: https://www.kaggle.com/snap/amazon-fine-food-reviews <br>\n",
        "\n",
        "EDA: https://nycdatascience.com/blog/student-works/amazon-fine-foods-visualization/\n",
        "\n",
        "\n",
        "The Amazon Fine Food Reviews dataset consists of reviews of fine foods from Amazon.<br>\n",
        "\n",
        "Number of reviews: 568,454<br>\n",
        "Number of users: 256,059<br>\n",
        "Number of products: 74,258<br>\n",
        "Timespan: Oct 1999 - Oct 2012<br>\n",
        "Number of Attributes/Columns in data: 10 \n",
        "\n",
        "Attribute Information:\n",
        "\n",
        "1. Id\n",
        "2. ProductId - unique identifier for the product\n",
        "3. UserId - unqiue identifier for the user\n",
        "4. ProfileName\n",
        "5. HelpfulnessNumerator - number of users who found the review helpful\n",
        "6. HelpfulnessDenominator - number of users who indicated whether they found the review helpful or not\n",
        "7. Score - rating between 1 and 5\n",
        "8. Time - timestamp for the review\n",
        "9. Summary - brief summary of the review\n",
        "10. Text - text of the review\n",
        "\n",
        "\n",
        "#### Objective:\n",
        "Given a review, determine whether the review is positive (rating of 4 or 5) or negative (rating of 1 or 2).\n",
        "\n",
        "<br>\n",
        "[Q] How to determine if a review is positive or negative?<br>\n",
        "<br> \n",
        "[Ans] We could use Score/Rating. A rating of 4 or 5 can be cosnidered as a positive review. A rating of 1 or 2 can be considered as negative one. A review of rating 3 is considered nuetral and such reviews are ignored from our analysis. This is an approximate and proxy way of determining the polarity (positivity/negativity) of a review.\n",
        "\n",
        "\n"
      ]
    },
    {
      "cell_type": "markdown",
      "metadata": {
        "id": "CaQ7XJ4OLPls"
      },
      "source": [
        "# [1]. Reading Data"
      ]
    },
    {
      "cell_type": "markdown",
      "metadata": {
        "id": "5VnEBjKRLPlu"
      },
      "source": [
        "## [1.1] Loading the data\n",
        "\n",
        "The dataset is available in two forms\n",
        "1. .csv file\n",
        "2. SQLite Database\n",
        "\n",
        "In order to load the data, We have used the SQLITE dataset as it is easier to query the data and visualise the data efficiently.\n",
        "<br> \n",
        "\n",
        "Here as we only want to get the global sentiment of the recommendations (positive or negative), we will purposefully ignore all Scores equal to 3. If the score is above 3, then the recommendation wil be set to \"positive\". Otherwise, it will be set to \"negative\"."
      ]
    },
    {
      "cell_type": "code",
      "execution_count": null,
      "metadata": {
        "id": "x6YclOzXLPlv",
        "scrolled": true
      },
      "outputs": [],
      "source": [
        "%matplotlib inline\n",
        "import warnings\n",
        "warnings.filterwarnings(\"ignore\")\n",
        "\n",
        "\n",
        "import sqlite3\n",
        "import pandas as pd\n",
        "import numpy as np\n",
        "import nltk\n",
        "import string\n",
        "import matplotlib.pyplot as plt\n",
        "import seaborn as sns\n",
        "from sklearn.feature_extraction.text import TfidfTransformer\n",
        "from sklearn.feature_extraction.text import TfidfVectorizer\n",
        "\n",
        "from sklearn.feature_extraction.text import CountVectorizer\n",
        "from sklearn.metrics import confusion_matrix\n",
        "from sklearn import metrics\n",
        "from sklearn.metrics import roc_curve, auc\n",
        "from nltk.stem.porter import PorterStemmer\n",
        "\n",
        "import re\n",
        "# Tutorial about Python regular expressions: https://pymotw.com/2/re/\n",
        "import string\n",
        "from nltk.corpus import stopwords\n",
        "from nltk.stem import PorterStemmer\n",
        "from nltk.stem.wordnet import WordNetLemmatizer\n",
        "\n",
        "from gensim.models import Word2Vec\n",
        "from gensim.models import KeyedVectors\n",
        "import pickle\n",
        "\n",
        "from tqdm import tqdm\n",
        "import os"
      ]
    },
    {
      "cell_type": "code",
      "execution_count": null,
      "metadata": {
        "id": "NZ4OSpSiLPl0",
        "outputId": "241c4c64-6186-4351-e38f-fcd06c6896dd"
      },
      "outputs": [
        {
          "name": "stdout",
          "output_type": "stream",
          "text": [
            "Number of data points in our data (525814, 10)\n"
          ]
        },
        {
          "data": {
            "text/html": [
              "<div>\n",
              "<style scoped>\n",
              "    .dataframe tbody tr th:only-of-type {\n",
              "        vertical-align: middle;\n",
              "    }\n",
              "\n",
              "    .dataframe tbody tr th {\n",
              "        vertical-align: top;\n",
              "    }\n",
              "\n",
              "    .dataframe thead th {\n",
              "        text-align: right;\n",
              "    }\n",
              "</style>\n",
              "<table border=\"1\" class=\"dataframe\">\n",
              "  <thead>\n",
              "    <tr style=\"text-align: right;\">\n",
              "      <th></th>\n",
              "      <th>Id</th>\n",
              "      <th>ProductId</th>\n",
              "      <th>UserId</th>\n",
              "      <th>ProfileName</th>\n",
              "      <th>HelpfulnessNumerator</th>\n",
              "      <th>HelpfulnessDenominator</th>\n",
              "      <th>Score</th>\n",
              "      <th>Time</th>\n",
              "      <th>Summary</th>\n",
              "      <th>Text</th>\n",
              "    </tr>\n",
              "  </thead>\n",
              "  <tbody>\n",
              "    <tr>\n",
              "      <th>0</th>\n",
              "      <td>1</td>\n",
              "      <td>B001E4KFG0</td>\n",
              "      <td>A3SGXH7AUHU8GW</td>\n",
              "      <td>delmartian</td>\n",
              "      <td>1</td>\n",
              "      <td>1</td>\n",
              "      <td>1</td>\n",
              "      <td>1303862400</td>\n",
              "      <td>Good Quality Dog Food</td>\n",
              "      <td>I have bought several of the Vitality canned d...</td>\n",
              "    </tr>\n",
              "    <tr>\n",
              "      <th>1</th>\n",
              "      <td>2</td>\n",
              "      <td>B00813GRG4</td>\n",
              "      <td>A1D87F6ZCVE5NK</td>\n",
              "      <td>dll pa</td>\n",
              "      <td>0</td>\n",
              "      <td>0</td>\n",
              "      <td>0</td>\n",
              "      <td>1346976000</td>\n",
              "      <td>Not as Advertised</td>\n",
              "      <td>Product arrived labeled as Jumbo Salted Peanut...</td>\n",
              "    </tr>\n",
              "    <tr>\n",
              "      <th>2</th>\n",
              "      <td>3</td>\n",
              "      <td>B000LQOCH0</td>\n",
              "      <td>ABXLMWJIXXAIN</td>\n",
              "      <td>Natalia Corres \"Natalia Corres\"</td>\n",
              "      <td>1</td>\n",
              "      <td>1</td>\n",
              "      <td>1</td>\n",
              "      <td>1219017600</td>\n",
              "      <td>\"Delight\" says it all</td>\n",
              "      <td>This is a confection that has been around a fe...</td>\n",
              "    </tr>\n",
              "  </tbody>\n",
              "</table>\n",
              "</div>"
            ],
            "text/plain": [
              "   Id   ProductId          UserId                      ProfileName  \\\n",
              "0   1  B001E4KFG0  A3SGXH7AUHU8GW                       delmartian   \n",
              "1   2  B00813GRG4  A1D87F6ZCVE5NK                           dll pa   \n",
              "2   3  B000LQOCH0   ABXLMWJIXXAIN  Natalia Corres \"Natalia Corres\"   \n",
              "\n",
              "   HelpfulnessNumerator  HelpfulnessDenominator  Score        Time  \\\n",
              "0                     1                       1      1  1303862400   \n",
              "1                     0                       0      0  1346976000   \n",
              "2                     1                       1      1  1219017600   \n",
              "\n",
              "                 Summary                                               Text  \n",
              "0  Good Quality Dog Food  I have bought several of the Vitality canned d...  \n",
              "1      Not as Advertised  Product arrived labeled as Jumbo Salted Peanut...  \n",
              "2  \"Delight\" says it all  This is a confection that has been around a fe...  "
            ]
          },
          "execution_count": 2,
          "metadata": {},
          "output_type": "execute_result"
        }
      ],
      "source": [
        "# using SQLite Table to read data.\n",
        "con = sqlite3.connect(r'D:\\python\\database.sqlite') \n",
        "\n",
        "# filtering only positive and negative reviews i.e. \n",
        "# not taking into consideration those reviews with Score=3\n",
        "# SELECT * FROM Reviews WHERE Score != 3 LIMIT 500000, will give top 500000 data points\n",
        "# you can change the number to any other number based on your computing power\n",
        "\n",
        "# filtered_data = pd.read_sql_query(\"\"\" SELECT * FROM Reviews WHERE Score != 3 LIMIT 500000\"\"\", con) \n",
        "# for tsne assignment you can take 5k data points\n",
        "\n",
        "filtered_data = pd.read_sql_query(\"\"\" SELECT * FROM Reviews WHERE Score != 3 \"\"\", con) \n",
        "\n",
        "# Give reviews with Score>3 a positive rating(1), and reviews with a score<3 a negative rating(0).\n",
        "def partition(x):\n",
        "    if x < 3:\n",
        "        return 0\n",
        "    return 1\n",
        "\n",
        "#changing reviews with score less than 3 to be positive and vice-versa\n",
        "actualScore = filtered_data['Score']\n",
        "positiveNegative = actualScore.map(partition) \n",
        "filtered_data['Score'] = positiveNegative\n",
        "print(\"Number of data points in our data\", filtered_data.shape)\n",
        "filtered_data.head(3)"
      ]
    },
    {
      "cell_type": "code",
      "execution_count": null,
      "metadata": {
        "id": "r44Y4VDjLPl7"
      },
      "outputs": [],
      "source": [
        "display = pd.read_sql_query(\"\"\"\n",
        "SELECT UserId, ProductId, ProfileName, Time, Score, Text\n",
        "FROM Reviews\n",
        "GROUP BY Time\n",
        "\"\"\", con)"
      ]
    },
    {
      "cell_type": "code",
      "execution_count": null,
      "metadata": {
        "id": "tTwINQv1LPl_",
        "outputId": "0385b9ca-0a35-4c2b-b656-8e8494414e6f",
        "scrolled": true
      },
      "outputs": [
        {
          "name": "stdout",
          "output_type": "stream",
          "text": [
            "(3168, 6)\n"
          ]
        },
        {
          "data": {
            "text/html": [
              "<div>\n",
              "<style scoped>\n",
              "    .dataframe tbody tr th:only-of-type {\n",
              "        vertical-align: middle;\n",
              "    }\n",
              "\n",
              "    .dataframe tbody tr th {\n",
              "        vertical-align: top;\n",
              "    }\n",
              "\n",
              "    .dataframe thead th {\n",
              "        text-align: right;\n",
              "    }\n",
              "</style>\n",
              "<table border=\"1\" class=\"dataframe\">\n",
              "  <thead>\n",
              "    <tr style=\"text-align: right;\">\n",
              "      <th></th>\n",
              "      <th>UserId</th>\n",
              "      <th>ProductId</th>\n",
              "      <th>ProfileName</th>\n",
              "      <th>Time</th>\n",
              "      <th>Score</th>\n",
              "      <th>Text</th>\n",
              "    </tr>\n",
              "  </thead>\n",
              "  <tbody>\n",
              "    <tr>\n",
              "      <th>0</th>\n",
              "      <td>ACITT7DI6IDDL</td>\n",
              "      <td>0006641040</td>\n",
              "      <td>shari zychinski</td>\n",
              "      <td>939340800</td>\n",
              "      <td>5</td>\n",
              "      <td>this witty little book makes my son laugh at l...</td>\n",
              "    </tr>\n",
              "    <tr>\n",
              "      <th>1</th>\n",
              "      <td>AJ46FKXOVC7NR</td>\n",
              "      <td>0006641040</td>\n",
              "      <td>Nicholas A Mesiano</td>\n",
              "      <td>940809600</td>\n",
              "      <td>5</td>\n",
              "      <td>I can remember seeing the show when it aired o...</td>\n",
              "    </tr>\n",
              "    <tr>\n",
              "      <th>2</th>\n",
              "      <td>AIUWLEQ1ADEG5</td>\n",
              "      <td>B00004CXX9</td>\n",
              "      <td>Elizabeth Medina</td>\n",
              "      <td>944092800</td>\n",
              "      <td>5</td>\n",
              "      <td>Beetlejuice is a well written movie ..... ever...</td>\n",
              "    </tr>\n",
              "    <tr>\n",
              "      <th>3</th>\n",
              "      <td>A344SMIA5JECGM</td>\n",
              "      <td>B00004RYGX</td>\n",
              "      <td>Vincent P. Ross</td>\n",
              "      <td>944438400</td>\n",
              "      <td>5</td>\n",
              "      <td>A twist of rumplestiskin captured on film, sta...</td>\n",
              "    </tr>\n",
              "    <tr>\n",
              "      <th>4</th>\n",
              "      <td>AJH6LUC1UT1ON</td>\n",
              "      <td>B00004CXX9</td>\n",
              "      <td>The Phantom of the Opera</td>\n",
              "      <td>946857600</td>\n",
              "      <td>5</td>\n",
              "      <td>Beetlejuice is an excellent and funny movie. K...</td>\n",
              "    </tr>\n",
              "  </tbody>\n",
              "</table>\n",
              "</div>"
            ],
            "text/plain": [
              "           UserId   ProductId               ProfileName       Time  Score  \\\n",
              "0   ACITT7DI6IDDL  0006641040           shari zychinski  939340800      5   \n",
              "1   AJ46FKXOVC7NR  0006641040        Nicholas A Mesiano  940809600      5   \n",
              "2   AIUWLEQ1ADEG5  B00004CXX9          Elizabeth Medina  944092800      5   \n",
              "3  A344SMIA5JECGM  B00004RYGX           Vincent P. Ross  944438400      5   \n",
              "4   AJH6LUC1UT1ON  B00004CXX9  The Phantom of the Opera  946857600      5   \n",
              "\n",
              "                                                Text  \n",
              "0  this witty little book makes my son laugh at l...  \n",
              "1  I can remember seeing the show when it aired o...  \n",
              "2  Beetlejuice is a well written movie ..... ever...  \n",
              "3  A twist of rumplestiskin captured on film, sta...  \n",
              "4  Beetlejuice is an excellent and funny movie. K...  "
            ]
          },
          "execution_count": 4,
          "metadata": {},
          "output_type": "execute_result"
        }
      ],
      "source": [
        "print(display.shape)\n",
        "display.head()"
      ]
    },
    {
      "cell_type": "code",
      "execution_count": null,
      "metadata": {
        "id": "EOslHQgnLPmF",
        "outputId": "cb28598d-470a-42bb-e742-4763f953c8cb"
      },
      "outputs": [
        {
          "data": {
            "text/html": [
              "<div>\n",
              "<style scoped>\n",
              "    .dataframe tbody tr th:only-of-type {\n",
              "        vertical-align: middle;\n",
              "    }\n",
              "\n",
              "    .dataframe tbody tr th {\n",
              "        vertical-align: top;\n",
              "    }\n",
              "\n",
              "    .dataframe thead th {\n",
              "        text-align: right;\n",
              "    }\n",
              "</style>\n",
              "<table border=\"1\" class=\"dataframe\">\n",
              "  <thead>\n",
              "    <tr style=\"text-align: right;\">\n",
              "      <th></th>\n",
              "      <th>UserId</th>\n",
              "      <th>ProductId</th>\n",
              "      <th>ProfileName</th>\n",
              "      <th>Time</th>\n",
              "      <th>Score</th>\n",
              "      <th>Text</th>\n",
              "    </tr>\n",
              "  </thead>\n",
              "  <tbody>\n",
              "  </tbody>\n",
              "</table>\n",
              "</div>"
            ],
            "text/plain": [
              "Empty DataFrame\n",
              "Columns: [UserId, ProductId, ProfileName, Time, Score, Text]\n",
              "Index: []"
            ]
          },
          "execution_count": 5,
          "metadata": {},
          "output_type": "execute_result"
        }
      ],
      "source": [
        "display[display['UserId']=='AZY10LLTJ71NX']"
      ]
    },
    {
      "cell_type": "markdown",
      "metadata": {
        "id": "PuNkhjz0LPmQ"
      },
      "source": [
        "#  [2] Exploratory Data Analysis"
      ]
    },
    {
      "cell_type": "markdown",
      "metadata": {
        "id": "oCJaTWrTLPmS"
      },
      "source": [
        "## [2.1] Data Cleaning: Deduplication\n",
        "\n",
        "It is observed (as shown in the table below) that the reviews data had many duplicate entries. Hence it was necessary to remove duplicates in order to get unbiased results for the analysis of the data.  Following is an example:"
      ]
    },
    {
      "cell_type": "code",
      "execution_count": null,
      "metadata": {
        "id": "3lvzRwWVLPmT",
        "outputId": "96ba6f90-6c40-4972-ecd2-d2d208e48877",
        "scrolled": false
      },
      "outputs": [
        {
          "data": {
            "text/html": [
              "<div>\n",
              "<style scoped>\n",
              "    .dataframe tbody tr th:only-of-type {\n",
              "        vertical-align: middle;\n",
              "    }\n",
              "\n",
              "    .dataframe tbody tr th {\n",
              "        vertical-align: top;\n",
              "    }\n",
              "\n",
              "    .dataframe thead th {\n",
              "        text-align: right;\n",
              "    }\n",
              "</style>\n",
              "<table border=\"1\" class=\"dataframe\">\n",
              "  <thead>\n",
              "    <tr style=\"text-align: right;\">\n",
              "      <th></th>\n",
              "      <th>Id</th>\n",
              "      <th>ProductId</th>\n",
              "      <th>UserId</th>\n",
              "      <th>ProfileName</th>\n",
              "      <th>HelpfulnessNumerator</th>\n",
              "      <th>HelpfulnessDenominator</th>\n",
              "      <th>Score</th>\n",
              "      <th>Time</th>\n",
              "      <th>Summary</th>\n",
              "      <th>Text</th>\n",
              "    </tr>\n",
              "  </thead>\n",
              "  <tbody>\n",
              "    <tr>\n",
              "      <th>0</th>\n",
              "      <td>73791</td>\n",
              "      <td>B000HDOPZG</td>\n",
              "      <td>AR5J8UI46CURR</td>\n",
              "      <td>Geetha Krishnan</td>\n",
              "      <td>2</td>\n",
              "      <td>2</td>\n",
              "      <td>5</td>\n",
              "      <td>1199577600</td>\n",
              "      <td>LOACKER QUADRATINI VANILLA WAFERS</td>\n",
              "      <td>DELICIOUS WAFERS. I FIND THAT EUROPEAN WAFERS ...</td>\n",
              "    </tr>\n",
              "    <tr>\n",
              "      <th>1</th>\n",
              "      <td>78445</td>\n",
              "      <td>B000HDL1RQ</td>\n",
              "      <td>AR5J8UI46CURR</td>\n",
              "      <td>Geetha Krishnan</td>\n",
              "      <td>2</td>\n",
              "      <td>2</td>\n",
              "      <td>5</td>\n",
              "      <td>1199577600</td>\n",
              "      <td>LOACKER QUADRATINI VANILLA WAFERS</td>\n",
              "      <td>DELICIOUS WAFERS. I FIND THAT EUROPEAN WAFERS ...</td>\n",
              "    </tr>\n",
              "    <tr>\n",
              "      <th>2</th>\n",
              "      <td>138277</td>\n",
              "      <td>B000HDOPYM</td>\n",
              "      <td>AR5J8UI46CURR</td>\n",
              "      <td>Geetha Krishnan</td>\n",
              "      <td>2</td>\n",
              "      <td>2</td>\n",
              "      <td>5</td>\n",
              "      <td>1199577600</td>\n",
              "      <td>LOACKER QUADRATINI VANILLA WAFERS</td>\n",
              "      <td>DELICIOUS WAFERS. I FIND THAT EUROPEAN WAFERS ...</td>\n",
              "    </tr>\n",
              "    <tr>\n",
              "      <th>3</th>\n",
              "      <td>138317</td>\n",
              "      <td>B000HDOPYC</td>\n",
              "      <td>AR5J8UI46CURR</td>\n",
              "      <td>Geetha Krishnan</td>\n",
              "      <td>2</td>\n",
              "      <td>2</td>\n",
              "      <td>5</td>\n",
              "      <td>1199577600</td>\n",
              "      <td>LOACKER QUADRATINI VANILLA WAFERS</td>\n",
              "      <td>DELICIOUS WAFERS. I FIND THAT EUROPEAN WAFERS ...</td>\n",
              "    </tr>\n",
              "    <tr>\n",
              "      <th>4</th>\n",
              "      <td>155049</td>\n",
              "      <td>B000PAQ75C</td>\n",
              "      <td>AR5J8UI46CURR</td>\n",
              "      <td>Geetha Krishnan</td>\n",
              "      <td>2</td>\n",
              "      <td>2</td>\n",
              "      <td>5</td>\n",
              "      <td>1199577600</td>\n",
              "      <td>LOACKER QUADRATINI VANILLA WAFERS</td>\n",
              "      <td>DELICIOUS WAFERS. I FIND THAT EUROPEAN WAFERS ...</td>\n",
              "    </tr>\n",
              "  </tbody>\n",
              "</table>\n",
              "</div>"
            ],
            "text/plain": [
              "       Id   ProductId         UserId      ProfileName  HelpfulnessNumerator  \\\n",
              "0   73791  B000HDOPZG  AR5J8UI46CURR  Geetha Krishnan                     2   \n",
              "1   78445  B000HDL1RQ  AR5J8UI46CURR  Geetha Krishnan                     2   \n",
              "2  138277  B000HDOPYM  AR5J8UI46CURR  Geetha Krishnan                     2   \n",
              "3  138317  B000HDOPYC  AR5J8UI46CURR  Geetha Krishnan                     2   \n",
              "4  155049  B000PAQ75C  AR5J8UI46CURR  Geetha Krishnan                     2   \n",
              "\n",
              "   HelpfulnessDenominator  Score        Time  \\\n",
              "0                       2      5  1199577600   \n",
              "1                       2      5  1199577600   \n",
              "2                       2      5  1199577600   \n",
              "3                       2      5  1199577600   \n",
              "4                       2      5  1199577600   \n",
              "\n",
              "                             Summary  \\\n",
              "0  LOACKER QUADRATINI VANILLA WAFERS   \n",
              "1  LOACKER QUADRATINI VANILLA WAFERS   \n",
              "2  LOACKER QUADRATINI VANILLA WAFERS   \n",
              "3  LOACKER QUADRATINI VANILLA WAFERS   \n",
              "4  LOACKER QUADRATINI VANILLA WAFERS   \n",
              "\n",
              "                                                Text  \n",
              "0  DELICIOUS WAFERS. I FIND THAT EUROPEAN WAFERS ...  \n",
              "1  DELICIOUS WAFERS. I FIND THAT EUROPEAN WAFERS ...  \n",
              "2  DELICIOUS WAFERS. I FIND THAT EUROPEAN WAFERS ...  \n",
              "3  DELICIOUS WAFERS. I FIND THAT EUROPEAN WAFERS ...  \n",
              "4  DELICIOUS WAFERS. I FIND THAT EUROPEAN WAFERS ...  "
            ]
          },
          "execution_count": 6,
          "metadata": {},
          "output_type": "execute_result"
        }
      ],
      "source": [
        "display= pd.read_sql_query(\"\"\"\n",
        "SELECT *\n",
        "FROM Reviews\n",
        "WHERE Score != 3 AND UserId=\"AR5J8UI46CURR\"\n",
        "ORDER BY Time\n",
        "\"\"\", con)\n",
        "display.head()"
      ]
    },
    {
      "cell_type": "markdown",
      "metadata": {
        "id": "uT7p9_deLPmb"
      },
      "source": [
        "As it can be seen above that same user has multiple reviews with same values for HelpfulnessNumerator, HelpfulnessDenominator, Score, Time, Summary and Text and on doing analysis it was found that <br>\n",
        "<br> \n",
        "ProductId=B000HDOPZG was Loacker Quadratini Vanilla Wafer Cookies, 8.82-Ounce Packages (Pack of 8)<br>\n",
        "<br> \n",
        "ProductId=B000HDL1RQ was Loacker Quadratini Lemon Wafer Cookies, 8.82-Ounce Packages (Pack of 8) and so on<br>\n",
        "\n",
        "It was inferred after analysis that reviews with same parameters other than ProductId belonged to the same product just having different flavour or quantity. Hence in order to reduce redundancy it was decided to eliminate the rows having same parameters.<br>\n",
        "\n",
        "The method used for the same was that we first sort the data according to ProductId and then just keep the first similar product review and delelte the others. for eg. in the above just the review for ProductId=B000HDL1RQ remains. This method ensures that there is only one representative for each product and deduplication without sorting would lead to possibility of different representatives still existing for the same product."
      ]
    },
    {
      "cell_type": "code",
      "execution_count": null,
      "metadata": {
        "id": "mdsKFc50LPme"
      },
      "outputs": [],
      "source": [
        "#Sorting data according to ProductId in ascending order\n",
        "sorted_data=filtered_data.sort_values('Time', axis=0, ascending=True, inplace=False, kind='quicksort', na_position='last')"
      ]
    },
    {
      "cell_type": "code",
      "execution_count": null,
      "metadata": {
        "id": "2itLgX-NLPmk",
        "outputId": "ac765625-dfdc-4e4e-f886-bd3b7ca3635a"
      },
      "outputs": [
        {
          "data": {
            "text/plain": [
              "(524691, 10)"
            ]
          },
          "execution_count": 8,
          "metadata": {},
          "output_type": "execute_result"
        }
      ],
      "source": [
        "#Deduplication of entries\n",
        "final=sorted_data.drop_duplicates(subset={\"UserId\",\"ProfileName\",\"ProductId\",\"Time\",\"Text\"}, keep='first', inplace=False)\n",
        "final.shape"
      ]
    },
    {
      "cell_type": "code",
      "execution_count": null,
      "metadata": {
        "id": "IBU4iZk4LPmt",
        "outputId": "ceeba223-fe3f-407a-b4e5-0d46c08f69dd"
      },
      "outputs": [
        {
          "data": {
            "text/plain": [
              "99.78642637890965"
            ]
          },
          "execution_count": 9,
          "metadata": {},
          "output_type": "execute_result"
        }
      ],
      "source": [
        "#Checking to see how much % of data still remains\n",
        "(final['Id'].size*1.0)/(filtered_data['Id'].size*1.0)*100"
      ]
    },
    {
      "cell_type": "markdown",
      "metadata": {
        "id": "gFBOfSe4LPmy"
      },
      "source": [
        "<b>Observation:-</b> It was also seen that in two rows given below the value of HelpfulnessNumerator is greater than HelpfulnessDenominator which is not practically possible hence these two rows too are removed from calcualtions"
      ]
    },
    {
      "cell_type": "code",
      "execution_count": null,
      "metadata": {
        "id": "50flE40lLPmz",
        "outputId": "b6c7e38e-25c1-4a48-be1f-70fdf31aba13"
      },
      "outputs": [
        {
          "data": {
            "text/html": [
              "<div>\n",
              "<style scoped>\n",
              "    .dataframe tbody tr th:only-of-type {\n",
              "        vertical-align: middle;\n",
              "    }\n",
              "\n",
              "    .dataframe tbody tr th {\n",
              "        vertical-align: top;\n",
              "    }\n",
              "\n",
              "    .dataframe thead th {\n",
              "        text-align: right;\n",
              "    }\n",
              "</style>\n",
              "<table border=\"1\" class=\"dataframe\">\n",
              "  <thead>\n",
              "    <tr style=\"text-align: right;\">\n",
              "      <th></th>\n",
              "      <th>Id</th>\n",
              "      <th>ProductId</th>\n",
              "      <th>UserId</th>\n",
              "      <th>ProfileName</th>\n",
              "      <th>HelpfulnessNumerator</th>\n",
              "      <th>HelpfulnessDenominator</th>\n",
              "      <th>Score</th>\n",
              "      <th>Time</th>\n",
              "      <th>Summary</th>\n",
              "      <th>Text</th>\n",
              "    </tr>\n",
              "  </thead>\n",
              "  <tbody>\n",
              "    <tr>\n",
              "      <th>0</th>\n",
              "      <td>44737</td>\n",
              "      <td>B001EQ55RW</td>\n",
              "      <td>A2V0I904FH7ABY</td>\n",
              "      <td>Ram</td>\n",
              "      <td>3</td>\n",
              "      <td>2</td>\n",
              "      <td>4</td>\n",
              "      <td>1212883200</td>\n",
              "      <td>Pure cocoa taste with crunchy almonds inside</td>\n",
              "      <td>It was almost a 'love at first bite' - the per...</td>\n",
              "    </tr>\n",
              "    <tr>\n",
              "      <th>1</th>\n",
              "      <td>64422</td>\n",
              "      <td>B000MIDROQ</td>\n",
              "      <td>A161DK06JJMCYF</td>\n",
              "      <td>J. E. Stephens \"Jeanne\"</td>\n",
              "      <td>3</td>\n",
              "      <td>1</td>\n",
              "      <td>5</td>\n",
              "      <td>1224892800</td>\n",
              "      <td>Bought This for My Son at College</td>\n",
              "      <td>My son loves spaghetti so I didn't hesitate or...</td>\n",
              "    </tr>\n",
              "  </tbody>\n",
              "</table>\n",
              "</div>"
            ],
            "text/plain": [
              "      Id   ProductId          UserId              ProfileName  \\\n",
              "0  44737  B001EQ55RW  A2V0I904FH7ABY                      Ram   \n",
              "1  64422  B000MIDROQ  A161DK06JJMCYF  J. E. Stephens \"Jeanne\"   \n",
              "\n",
              "   HelpfulnessNumerator  HelpfulnessDenominator  Score        Time  \\\n",
              "0                     3                       2      4  1212883200   \n",
              "1                     3                       1      5  1224892800   \n",
              "\n",
              "                                        Summary  \\\n",
              "0  Pure cocoa taste with crunchy almonds inside   \n",
              "1             Bought This for My Son at College   \n",
              "\n",
              "                                                Text  \n",
              "0  It was almost a 'love at first bite' - the per...  \n",
              "1  My son loves spaghetti so I didn't hesitate or...  "
            ]
          },
          "execution_count": 10,
          "metadata": {},
          "output_type": "execute_result"
        }
      ],
      "source": [
        "display= pd.read_sql_query(\"\"\"\n",
        "SELECT *\n",
        "FROM Reviews\n",
        "WHERE Score != 3 AND Id=44737 OR Id=64422\n",
        "ORDER BY Time\n",
        "\"\"\", con)\n",
        "\n",
        "display.head()"
      ]
    },
    {
      "cell_type": "code",
      "execution_count": null,
      "metadata": {
        "id": "0YTPJMLTLPm7"
      },
      "outputs": [],
      "source": [
        "final=final[final.HelpfulnessNumerator<=final.HelpfulnessDenominator]"
      ]
    },
    {
      "cell_type": "code",
      "execution_count": null,
      "metadata": {
        "id": "LVJ_l-x2LPnC",
        "outputId": "d4a19c7a-16fe-4b5b-c3d1-aa1ef0f948a0"
      },
      "outputs": [
        {
          "name": "stdout",
          "output_type": "stream",
          "text": [
            "(524689, 10)\n"
          ]
        },
        {
          "data": {
            "text/plain": [
              "1    442966\n",
              "0     81723\n",
              "Name: Score, dtype: int64"
            ]
          },
          "execution_count": 12,
          "metadata": {},
          "output_type": "execute_result"
        }
      ],
      "source": [
        "#Before starting the next phase of preprocessing lets see the number of entries left\n",
        "print(final.shape)\n",
        "\n",
        "#How many positive and negative reviews are present in our dataset?\n",
        "final['Score'].value_counts()"
      ]
    },
    {
      "cell_type": "markdown",
      "metadata": {
        "id": "GrTYWzYrLPnH"
      },
      "source": [
        "#  [3] Preprocessing"
      ]
    },
    {
      "cell_type": "markdown",
      "metadata": {
        "id": "zbvLitZeLPnI"
      },
      "source": [
        "## [3.1].  Preprocessing Review Text\n",
        "\n",
        "Now that we have finished deduplication our data requires some preprocessing before we go on further with analysis and making the prediction model.\n",
        "\n",
        "Hence in the Preprocessing phase we do the following in the order below:-\n",
        "\n",
        "1. Begin by removing the html tags\n",
        "2. Remove any punctuations or limited set of special characters like , or . or # etc.\n",
        "3. Check if the word is made up of english letters and is not alpha-numeric\n",
        "4. Check to see if the length of the word is greater than 2 (as it was researched that there is no adjective in 2-letters)\n",
        "5. Convert the word to lowercase\n",
        "6. Remove Stopwords\n",
        "7. Finally Snowball Stemming the word (it was obsereved to be better than Porter Stemming)<br>\n",
        "\n",
        "After which we collect the words used to describe positive and negative reviews"
      ]
    },
    {
      "cell_type": "code",
      "execution_count": null,
      "metadata": {
        "id": "yYDc0ZXALPnK",
        "outputId": "5403fab9-796a-493d-f9d3-2a410d004f64"
      },
      "outputs": [
        {
          "name": "stdout",
          "output_type": "stream",
          "text": [
            "this witty little book makes my son laugh at loud. i recite it in the car as we're driving along and he always can sing the refrain. he's learned about whales, India, drooping roses:  i love all the new words this book  introduces and the silliness of it all.  this is a classic book i am  willing to bet my son will STILL be able to recite from memory when he is  in college\n",
            "==================================================\n",
            "Having remembered Red Velvet cake from the south as a child, I found this cake mix to be excellent and it has received rave reviews from adults and kids alike.  Rich like chocolate, but lighter - this is a solid favorite of all who try it for the first time. The color is enticing to some, scary to others, but once tasted - with a cream cheese frosting - all are fans.  Easy to make, perfect every time!\n",
            "==================================================\n",
            "I paid over $13.00 for \"expedited\" delivery and the product still took FIVE days to arrive. Would not buy from them again.\n",
            "==================================================\n",
            "This loose tea is hard to find in stores, I had to order it online and discovered it's a better tea than I usually get with an added bonus of being less expensive so I'm very pleased. I use it only for iced tea, so can't say how it is when hot. It's a stronger tea so I use less. I hope you continue to carry it because I plan on buying more in the future.\n",
            "==================================================\n"
          ]
        }
      ],
      "source": [
        "# printing some random reviews\n",
        "sent_0 = final['Text'].values[0]\n",
        "print(sent_0)\n",
        "print(\"=\"*50)\n",
        "\n",
        "sent_1000 = final['Text'].values[1000]\n",
        "print(sent_1000)\n",
        "print(\"=\"*50)\n",
        "\n",
        "sent_1500 = final['Text'].values[1500]\n",
        "print(sent_1500)\n",
        "print(\"=\"*50)\n",
        "\n",
        "sent_4900 = final['Text'].values[4900]\n",
        "print(sent_4900)\n",
        "print(\"=\"*50)"
      ]
    },
    {
      "cell_type": "code",
      "execution_count": null,
      "metadata": {
        "id": "AxYh-wPiLPnS",
        "outputId": "31bddcb2-6c52-4b16-f9fb-c03d5b3bb7c8"
      },
      "outputs": [
        {
          "name": "stdout",
          "output_type": "stream",
          "text": [
            "this witty little book makes my son laugh at loud. i recite it in the car as we're driving along and he always can sing the refrain. he's learned about whales, India, drooping roses:  i love all the new words this book  introduces and the silliness of it all.  this is a classic book i am  willing to bet my son will STILL be able to recite from memory when he is  in college\n"
          ]
        }
      ],
      "source": [
        "# remove urls from text python: https://stackoverflow.com/a/40823105/4084039\n",
        "sent_0 = re.sub(r\"http\\S+\", \"\", sent_0)\n",
        "sent_1000 = re.sub(r\"http\\S+\", \"\", sent_1000)\n",
        "sent_150 = re.sub(r\"http\\S+\", \"\", sent_1500)\n",
        "sent_4900 = re.sub(r\"http\\S+\", \"\", sent_4900)\n",
        "\n",
        "print(sent_0)"
      ]
    },
    {
      "cell_type": "code",
      "execution_count": null,
      "metadata": {
        "id": "JMSSWjZqLPne",
        "outputId": "eb1bae4e-6f37-45ee-84a3-ef3bebf4e30a",
        "scrolled": true
      },
      "outputs": [
        {
          "name": "stdout",
          "output_type": "stream",
          "text": [
            "this witty little book makes my son laugh at loud. i recite it in the car as we're driving along and he always can sing the refrain. he's learned about whales, India, drooping roses:  i love all the new words this book  introduces and the silliness of it all.  this is a classic book i am  willing to bet my son will STILL be able to recite from memory when he is  in college\n",
            "==================================================\n",
            "Having remembered Red Velvet cake from the south as a child, I found this cake mix to be excellent and it has received rave reviews from adults and kids alike.  Rich like chocolate, but lighter - this is a solid favorite of all who try it for the first time. The color is enticing to some, scary to others, but once tasted - with a cream cheese frosting - all are fans.  Easy to make, perfect every time!\n",
            "==================================================\n",
            "I paid over $13.00 for \"expedited\" delivery and the product still took FIVE days to arrive. Would not buy from them again.\n",
            "==================================================\n",
            "This loose tea is hard to find in stores, I had to order it online and discovered it's a better tea than I usually get with an added bonus of being less expensive so I'm very pleased. I use it only for iced tea, so can't say how it is when hot. It's a stronger tea so I use less. I hope you continue to carry it because I plan on buying more in the future.\n"
          ]
        }
      ],
      "source": [
        "# https://stackoverflow.com/questions/16206380/python-beautifulsoup-how-to-remove-all-tags-from-an-element\n",
        "from bs4 import BeautifulSoup\n",
        "\n",
        "soup = BeautifulSoup(sent_0, \"html.parser\")\n",
        "text = soup.get_text()\n",
        "print(text)\n",
        "print(\"=\"*50)\n",
        "\n",
        "soup = BeautifulSoup(sent_1000, \"html.parser\")\n",
        "text = soup.get_text()\n",
        "print(text)\n",
        "print(\"=\"*50)\n",
        "\n",
        "soup = BeautifulSoup(sent_1500, \"html.parser\")\n",
        "text = soup.get_text()\n",
        "print(text)\n",
        "print(\"=\"*50)\n",
        "\n",
        "soup = BeautifulSoup(sent_4900, \"html.parser\")\n",
        "text = soup.get_text()\n",
        "print(text)"
      ]
    },
    {
      "cell_type": "code",
      "execution_count": null,
      "metadata": {
        "id": "BEtpMkhULPnt"
      },
      "outputs": [],
      "source": [
        "# https://stackoverflow.com/a/47091490/4084039\n",
        "import re\n",
        "\n",
        "def decontracted(phrase):\n",
        "    # specific\n",
        "    phrase = re.sub(r\"won't\", \"will not\", phrase)\n",
        "    phrase = re.sub(r\"can\\'t\", \"can not\", phrase)\n",
        "\n",
        "    # general\n",
        "    phrase = re.sub(r\"n\\'t\", \" not\", phrase)\n",
        "    phrase = re.sub(r\"\\'re\", \" are\", phrase)\n",
        "    phrase = re.sub(r\"\\'s\", \" is\", phrase)\n",
        "    phrase = re.sub(r\"\\'d\", \" would\", phrase)\n",
        "    phrase = re.sub(r\"\\'ll\", \" will\", phrase)\n",
        "    phrase = re.sub(r\"\\'t\", \" not\", phrase)\n",
        "    phrase = re.sub(r\"\\'ve\", \" have\", phrase)\n",
        "    phrase = re.sub(r\"\\'m\", \" am\", phrase)\n",
        "    return phrase"
      ]
    },
    {
      "cell_type": "code",
      "execution_count": null,
      "metadata": {
        "id": "GavAnzNjLPnx",
        "outputId": "517fca9a-b1b6-4c6c-ab33-4c5ac4a5bd62"
      },
      "outputs": [
        {
          "name": "stdout",
          "output_type": "stream",
          "text": [
            "I paid over $13.00 for \"expedited\" delivery and the product still took FIVE days to arrive. Would not buy from them again.\n",
            "==================================================\n"
          ]
        }
      ],
      "source": [
        "sent_1500 = decontracted(sent_1500)\n",
        "print(sent_1500)\n",
        "print(\"=\"*50)"
      ]
    },
    {
      "cell_type": "code",
      "execution_count": null,
      "metadata": {
        "id": "Kl8nOoL-LPn3",
        "outputId": "16742d57-2529-4fc0-9d28-e9332dbbca97"
      },
      "outputs": [
        {
          "name": "stdout",
          "output_type": "stream",
          "text": [
            "this witty little book makes my son laugh at loud. i recite it in the car as we're driving along and he always can sing the refrain. he's learned about whales, India, drooping roses:  i love all the new words this book  introduces and the silliness of it all.  this is a classic book i am  willing to bet my son will STILL be able to recite from memory when he is  in college\n"
          ]
        }
      ],
      "source": [
        "#remove words with numbers python: https://stackoverflow.com/a/18082370/4084039\n",
        "sent_0 = re.sub(\"\\S*\\d\\S*\", \"\", sent_0).strip()\n",
        "print(sent_0)"
      ]
    },
    {
      "cell_type": "code",
      "execution_count": null,
      "metadata": {
        "id": "EGB6X2uxLPn7",
        "outputId": "dbd754e5-eb73-4b3a-f3c3-7b1b40952851"
      },
      "outputs": [
        {
          "name": "stdout",
          "output_type": "stream",
          "text": [
            "I paid over 13 00 for expedited delivery and the product still took FIVE days to arrive Would not buy from them again \n"
          ]
        }
      ],
      "source": [
        "#remove spacial character: https://stackoverflow.com/a/5843547/4084039\n",
        "sent_1500 = re.sub('[^A-Za-z0-9]+', ' ', sent_1500)\n",
        "print(sent_1500)"
      ]
    },
    {
      "cell_type": "code",
      "execution_count": null,
      "metadata": {
        "id": "CCurSJJ2LPn_"
      },
      "outputs": [],
      "source": [
        "# https://gist.github.com/sebleier/554280\n",
        "# we are removing the words from the stop words list: 'no', 'nor', 'not'\n",
        "# <br /><br /> ==> after the above steps, we are getting \"br br\"\n",
        "# we are including them into stop words list\n",
        "# instead of <br /> if we have <br/> these tags would have revmoved in the 1st step\n",
        "\n",
        "stopwords= set(['br', 'the', 'i', 'me', 'my', 'myself', 'we', 'our', 'ours', 'ourselves', 'you', \"you're\", \"you've\",\\\n",
        "            \"you'll\", \"you'd\", 'your', 'yours', 'yourself', 'yourselves', 'he', 'him', 'his', 'himself', \\\n",
        "            'she', \"she's\", 'her', 'hers', 'herself', 'it', \"it's\", 'its', 'itself', 'they', 'them', 'their',\\\n",
        "            'theirs', 'themselves', 'what', 'which', 'who', 'whom', 'this', 'that', \"that'll\", 'these', 'those', \\\n",
        "            'am', 'is', 'are', 'was', 'were', 'be', 'been', 'being', 'have', 'has', 'had', 'having', 'do', 'does', \\\n",
        "            'did', 'doing', 'a', 'an', 'the', 'and', 'but', 'if', 'or', 'because', 'as', 'until', 'while', 'of', \\\n",
        "            'at', 'by', 'for', 'with', 'about', 'against', 'between', 'into', 'through', 'during', 'before', 'after',\\\n",
        "            'above', 'below', 'to', 'from', 'up', 'down', 'in', 'out', 'on', 'off', 'over', 'under', 'again', 'further',\\\n",
        "            'then', 'once', 'here', 'there', 'when', 'where', 'why', 'how', 'all', 'any', 'both', 'each', 'few', 'more',\\\n",
        "            'most', 'other', 'some', 'such', 'only', 'own', 'same', 'so', 'than', 'too', 'very', \\\n",
        "            's', 't', 'can', 'will', 'just', 'don', \"don't\", 'should', \"should've\", 'now', 'd', 'll', 'm', 'o', 're', \\\n",
        "            've', 'y', 'ain', 'aren', \"aren't\", 'couldn', \"couldn't\", 'didn', \"didn't\", 'doesn', \"doesn't\", 'hadn',\\\n",
        "            \"hadn't\", 'hasn', \"hasn't\", 'haven', \"haven't\", 'isn', \"isn't\", 'ma', 'mightn', \"mightn't\", 'mustn',\\\n",
        "            \"mustn't\", 'needn', \"needn't\", 'shan', \"shan't\", 'shouldn', \"shouldn't\", 'wasn', \"wasn't\", 'weren', \"weren't\", \\\n",
        "            'won', \"won't\", 'wouldn', \"wouldn't\"])"
      ]
    },
    {
      "cell_type": "code",
      "execution_count": null,
      "metadata": {
        "id": "mFHQEvfnLPoF",
        "outputId": "5cd6bcc3-54fe-4a8e-a39d-d6dabf3f37f9"
      },
      "outputs": [
        {
          "name": "stderr",
          "output_type": "stream",
          "text": [
            "100%|████████████████████████████████████████████████████████████████████████| 524689/524689 [02:06<00:00, 4155.48it/s]\n"
          ]
        }
      ],
      "source": [
        "# Combining all the above stundents \n",
        "from tqdm import tqdm\n",
        "preprocessed_reviews = []\n",
        "# tqdm is for printing the status bar\n",
        "for sentance in tqdm(final['Text'].values):\n",
        "    sentance = re.sub(r\"http\\S+\", \"\", sentance)\n",
        "    sentance = BeautifulSoup(sentance, \"html.parser\").get_text()\n",
        "    sentance = decontracted(sentance)\n",
        "    sentance = re.sub(\"\\S*\\d\\S*\", \"\", sentance).strip()\n",
        "    sentance = re.sub('[^A-Za-z]+', ' ', sentance)\n",
        "    # https://gist.github.com/sebleier/554280\n",
        "    sentance = ' '.join(e.lower() for e in sentance.split() if e.lower() not in stopwords)\n",
        "    preprocessed_reviews.append(sentance.strip())"
      ]
    },
    {
      "cell_type": "code",
      "execution_count": null,
      "metadata": {
        "id": "Tqx8QUeRLPoH",
        "outputId": "0182081c-6282-4113-b186-5b5bac596388"
      },
      "outputs": [
        {
          "data": {
            "text/plain": [
              "'paid expedited delivery product still took five days arrive would not buy'"
            ]
          },
          "execution_count": 22,
          "metadata": {},
          "output_type": "execute_result"
        }
      ],
      "source": [
        "preprocessed_reviews[1500]"
      ]
    },
    {
      "cell_type": "markdown",
      "metadata": {
        "id": "9IuKp2HULPoL"
      },
      "source": [
        "<h2><font color='red'>[3.2] Preprocessing Review Summary</font></h2>"
      ]
    },
    {
      "cell_type": "code",
      "execution_count": null,
      "metadata": {
        "id": "fjkbHkRxL7P6",
        "outputId": "ba512daa-e753-459b-a823-903e96d17487"
      },
      "outputs": [
        {
          "name": "stdout",
          "output_type": "stream",
          "text": [
            "EVERY book is educational\n",
            "==================================================\n",
            "Red Velvet Cake - Surprisingly Delicious\n",
            "==================================================\n",
            "Don't pay for \"expedited\" delivery\n",
            "==================================================\n",
            "lipton loose tea\n",
            "==================================================\n"
          ]
        }
      ],
      "source": [
        "# printing some random reviews\n",
        "sravs_0 = final['Summary'].values[0]\n",
        "print(sravs_0)\n",
        "print(\"=\"*50)\n",
        "\n",
        "sravs_1000 = final['Summary'].values[1000]\n",
        "print(sravs_1000)\n",
        "print(\"=\"*50)\n",
        "\n",
        "sravs_1500 = final['Summary'].values[1500]\n",
        "print(sravs_1500)\n",
        "print(\"=\"*50)\n",
        "\n",
        "sravs_4900 = final['Summary'].values[4900]\n",
        "print(sravs_4900)\n",
        "print(\"=\"*50)"
      ]
    },
    {
      "cell_type": "code",
      "execution_count": null,
      "metadata": {
        "id": "dR28vL8-L7P6",
        "outputId": "7d45ae6b-5e59-4032-f934-3499b5588b2b"
      },
      "outputs": [
        {
          "name": "stdout",
          "output_type": "stream",
          "text": [
            "EVERY book is educational\n"
          ]
        }
      ],
      "source": [
        "# remove urls from text python: https://stackoverflow.com/a/40823105/4084039\n",
        "sravs_0 = re.sub(r\"http\\S+\", \"\", sravs_0)\n",
        "sravs_1000 = re.sub(r\"http\\S+\", \"\", sravs_1000)\n",
        "sravs_1500 = re.sub(r\"http\\S+\", \"\", sravs_1500)\n",
        "sravs_4900 = re.sub(r\"http\\S+\", \"\", sravs_4900)\n",
        "\n",
        "print(sravs_0)"
      ]
    },
    {
      "cell_type": "code",
      "execution_count": null,
      "metadata": {
        "id": "nzZjrlSCL7P6",
        "outputId": "df8add68-a28c-40c9-8ba4-9eb5e334d708"
      },
      "outputs": [
        {
          "name": "stdout",
          "output_type": "stream",
          "text": [
            "EVERY book is educational\n",
            "==================================================\n",
            "Red Velvet Cake - Surprisingly Delicious\n",
            "==================================================\n",
            "Don't pay for \"expedited\" delivery\n",
            "==================================================\n",
            "lipton loose tea\n"
          ]
        }
      ],
      "source": [
        "# https://stackoverflow.com/questions/16206380/python-beautifulsoup-how-to-remove-all-tags-from-an-element\n",
        "from bs4 import BeautifulSoup\n",
        "\n",
        "soup = BeautifulSoup(sravs_0, \"html.parser\")\n",
        "text = soup.get_text()\n",
        "print(text)\n",
        "print(\"=\"*50)\n",
        "\n",
        "soup = BeautifulSoup(sravs_1000, \"html.parser\")\n",
        "text = soup.get_text()\n",
        "print(text)\n",
        "print(\"=\"*50)\n",
        "\n",
        "soup = BeautifulSoup(sravs_1500, \"html.parser\")\n",
        "text = soup.get_text()\n",
        "print(text)\n",
        "print(\"=\"*50)\n",
        "\n",
        "soup = BeautifulSoup(sravs_4900, \"html.parser\")\n",
        "text = soup.get_text()\n",
        "print(text)"
      ]
    },
    {
      "cell_type": "code",
      "execution_count": null,
      "metadata": {
        "id": "cy8PuhUaL7P7"
      },
      "outputs": [],
      "source": [
        "# https://stackoverflow.com/a/47091490/4084039\n",
        "import re\n",
        "\n",
        "def decontracted(phrase):\n",
        "    # specific\n",
        "    phrase = re.sub(r\"won't\", \"will not\", phrase)\n",
        "    phrase = re.sub(r\"can\\'t\", \"can not\", phrase)\n",
        "\n",
        "    # general\n",
        "    phrase = re.sub(r\"n\\'t\", \" not\", phrase)\n",
        "    phrase = re.sub(r\"\\'re\", \" are\", phrase)\n",
        "    phrase = re.sub(r\"\\'s\", \" is\", phrase)\n",
        "    phrase = re.sub(r\"\\'d\", \" would\", phrase)\n",
        "    phrase = re.sub(r\"\\'ll\", \" will\", phrase)\n",
        "    phrase = re.sub(r\"\\'t\", \" not\", phrase)\n",
        "    phrase = re.sub(r\"\\'ve\", \" have\", phrase)\n",
        "    phrase = re.sub(r\"\\'m\", \" am\", phrase)\n",
        "    return phrase"
      ]
    },
    {
      "cell_type": "code",
      "execution_count": null,
      "metadata": {
        "id": "HU87Iba0L7P7",
        "outputId": "e870fb20-5c54-4bb9-8238-c41fd8f25163"
      },
      "outputs": [
        {
          "name": "stdout",
          "output_type": "stream",
          "text": [
            "Do not pay for \"expedited\" delivery\n",
            "==================================================\n"
          ]
        }
      ],
      "source": [
        "sravs_1500 = decontracted(sravs_1500)\n",
        "print(sravs_1500)\n",
        "print(\"=\"*50)"
      ]
    },
    {
      "cell_type": "code",
      "execution_count": null,
      "metadata": {
        "id": "BGlHCbC2L7P7",
        "outputId": "980a16fc-bd49-4b03-eace-cc63b11e81c9"
      },
      "outputs": [
        {
          "name": "stdout",
          "output_type": "stream",
          "text": [
            "EVERY book is educational\n"
          ]
        }
      ],
      "source": [
        "#remove words with numbers python: https://stackoverflow.com/a/18082370/4084039\n",
        "sravs_0 = re.sub(\"\\S*\\d\\S*\", \"\", sravs_0).strip()\n",
        "print(sravs_0)"
      ]
    },
    {
      "cell_type": "code",
      "execution_count": null,
      "metadata": {
        "id": "EvglcUQnL7P7",
        "outputId": "896e6b1a-d31b-40a0-c92b-74d05881fa90"
      },
      "outputs": [
        {
          "name": "stdout",
          "output_type": "stream",
          "text": [
            "Do not pay for expedited delivery\n"
          ]
        }
      ],
      "source": [
        "#remove spacial character: https://stackoverflow.com/a/5843547/4084039\n",
        "sravs_1500 = re.sub('[^A-Za-z0-9]+', ' ', sravs_1500)\n",
        "print(sravs_1500)"
      ]
    },
    {
      "cell_type": "code",
      "execution_count": null,
      "metadata": {
        "id": "IfYxvm11L7P7"
      },
      "outputs": [],
      "source": [
        "# https://gist.github.com/sebleier/554280\n",
        "# we are removing the words from the stop words list: 'no', 'nor', 'not'\n",
        "# <br /><br /> ==> after the above steps, we are getting \"br br\"\n",
        "# we are including them into stop words list\n",
        "# instead of <br /> if we have <br/> these tags would have revmoved in the 1st step\n",
        "\n",
        "stopwords= set(['br', 'the', 'i', 'me', 'my', 'myself', 'we', 'our', 'ours', 'ourselves', 'you', \"you're\", \"you've\",\\\n",
        "            \"you'll\", \"you'd\", 'your', 'yours', 'yourself', 'yourselves', 'he', 'him', 'his', 'himself', \\\n",
        "            'she', \"she's\", 'her', 'hers', 'herself', 'it', \"it's\", 'its', 'itself', 'they', 'them', 'their',\\\n",
        "            'theirs', 'themselves', 'what', 'which', 'who', 'whom', 'this', 'that', \"that'll\", 'these', 'those', \\\n",
        "            'am', 'is', 'are', 'was', 'were', 'be', 'been', 'being', 'have', 'has', 'had', 'having', 'do', 'does', \\\n",
        "            'did', 'doing', 'a', 'an', 'the', 'and', 'but', 'if', 'or', 'because', 'as', 'until', 'while', 'of', \\\n",
        "            'at', 'by', 'for', 'with', 'about', 'against', 'between', 'into', 'through', 'during', 'before', 'after',\\\n",
        "            'above', 'below', 'to', 'from', 'up', 'down', 'in', 'out', 'on', 'off', 'over', 'under', 'again', 'further',\\\n",
        "            'then', 'once', 'here', 'there', 'when', 'where', 'why', 'how', 'all', 'any', 'both', 'each', 'few', 'more',\\\n",
        "            'most', 'other', 'some', 'such', 'only', 'own', 'same', 'so', 'than', 'too', 'very', \\\n",
        "            's', 't', 'can', 'will', 'just', 'don', \"don't\", 'should', \"should've\", 'now', 'd', 'll', 'm', 'o', 're', \\\n",
        "            've', 'y', 'ain', 'aren', \"aren't\", 'couldn', \"couldn't\", 'didn', \"didn't\", 'doesn', \"doesn't\", 'hadn',\\\n",
        "            \"hadn't\", 'hasn', \"hasn't\", 'haven', \"haven't\", 'isn', \"isn't\", 'ma', 'mightn', \"mightn't\", 'mustn',\\\n",
        "            \"mustn't\", 'needn', \"needn't\", 'shan', \"shan't\", 'shouldn', \"shouldn't\", 'wasn', \"wasn't\", 'weren', \"weren't\", \\\n",
        "            'won', \"won't\", 'wouldn', \"wouldn't\"])"
      ]
    },
    {
      "cell_type": "code",
      "execution_count": null,
      "metadata": {
        "id": "2XziGucyL7P8",
        "outputId": "72ab5330-8efb-4b97-d143-6a9892c1f012"
      },
      "outputs": [
        {
          "name": "stderr",
          "output_type": "stream",
          "text": [
            "100%|████████████████████████████████████████████████████████████████████████| 524689/524689 [00:54<00:00, 9543.90it/s]\n"
          ]
        }
      ],
      "source": [
        "# Combining all the above stundents \n",
        "from tqdm import tqdm\n",
        "preprocessed_summary = []\n",
        "# tqdm is for printing the status bar\n",
        "for sentance in tqdm(final['Summary'].values):\n",
        "    sentance = re.sub(r\"http\\S+\", \"\", sentance)\n",
        "    sentance = BeautifulSoup(sentance, \"html.parser\").get_text()\n",
        "    sentance = decontracted(sentance)\n",
        "    sentance = re.sub(\"\\S*\\d\\S*\", \"\", sentance).strip()\n",
        "    sentance = re.sub('[^A-Za-z]+', ' ', sentance)\n",
        "    # https://gist.github.com/sebleier/554280\n",
        "    sentance = ' '.join(e.lower() for e in sentance.split() if e.lower() not in stopwords)\n",
        "    preprocessed_summary.append(sentance.strip())"
      ]
    },
    {
      "cell_type": "code",
      "execution_count": null,
      "metadata": {
        "id": "sI9CAaD2L7P8",
        "outputId": "559f14fe-154d-4435-c02b-6cb714765f3f"
      },
      "outputs": [
        {
          "data": {
            "text/plain": [
              "'not pay expedited delivery'"
            ]
          },
          "execution_count": 32,
          "metadata": {},
          "output_type": "execute_result"
        }
      ],
      "source": [
        "preprocessed_summary[1500]"
      ]
    },
    {
      "cell_type": "code",
      "execution_count": null,
      "metadata": {
        "id": "8qpnC_R7L7P8",
        "outputId": "aa06cdc9-c8af-46ce-9c46-61c9a5d6f5bb"
      },
      "outputs": [
        {
          "data": {
            "text/html": [
              "<div>\n",
              "<style scoped>\n",
              "    .dataframe tbody tr th:only-of-type {\n",
              "        vertical-align: middle;\n",
              "    }\n",
              "\n",
              "    .dataframe tbody tr th {\n",
              "        vertical-align: top;\n",
              "    }\n",
              "\n",
              "    .dataframe thead th {\n",
              "        text-align: right;\n",
              "    }\n",
              "</style>\n",
              "<table border=\"1\" class=\"dataframe\">\n",
              "  <thead>\n",
              "    <tr style=\"text-align: right;\">\n",
              "      <th></th>\n",
              "      <th>Id</th>\n",
              "      <th>ProductId</th>\n",
              "      <th>UserId</th>\n",
              "      <th>ProfileName</th>\n",
              "      <th>HelpfulnessNumerator</th>\n",
              "      <th>HelpfulnessDenominator</th>\n",
              "      <th>Score</th>\n",
              "      <th>Time</th>\n",
              "      <th>Summary</th>\n",
              "      <th>Text</th>\n",
              "    </tr>\n",
              "  </thead>\n",
              "  <tbody>\n",
              "  </tbody>\n",
              "</table>\n",
              "</div>"
            ],
            "text/plain": [
              "Empty DataFrame\n",
              "Columns: [Id, ProductId, UserId, ProfileName, HelpfulnessNumerator, HelpfulnessDenominator, Score, Time, Summary, Text]\n",
              "Index: []"
            ]
          },
          "execution_count": 33,
          "metadata": {},
          "output_type": "execute_result"
        }
      ],
      "source": [
        "display[display['UserId']=='AZY10LLTJ71NX']"
      ]
    },
    {
      "cell_type": "code",
      "execution_count": null,
      "metadata": {
        "id": "rUphJjabL7P8",
        "outputId": "45dbe1b8-0412-4aab-c712-2f5cbcf9cc02"
      },
      "outputs": [
        {
          "name": "stdout",
          "output_type": "stream",
          "text": [
            "paid expedited delivery product still took five days arrive would not buy not pay expedited delivery\n"
          ]
        }
      ],
      "source": [
        "preprocessed_reviews = [i + ' ' + j for i, j in zip(preprocessed_reviews,preprocessed_summary)] \n",
        "print(preprocessed_reviews[1500])"
      ]
    },
    {
      "cell_type": "code",
      "execution_count": null,
      "metadata": {
        "id": "pWWx7Y0XL7P8"
      },
      "outputs": [],
      "source": [
        "data_pos = final[final[\"Score\"]== 1].sample(n = 80000)\n",
        "data_neg = final[final[\"Score\"]== 0].sample(n = 20000)\n",
        "final_2000 = pd.concat([data_pos,data_neg])"
      ]
    },
    {
      "cell_type": "code",
      "execution_count": null,
      "metadata": {
        "id": "26JumI_0L7P8"
      },
      "outputs": [],
      "source": [
        "final_2000[\"Time\"] = pd.to_datetime(final_2000[\"Time\"], unit = \"s\")\n",
        "final_2000 = final_2000.sort_values(by = \"Time\")"
      ]
    },
    {
      "cell_type": "code",
      "execution_count": null,
      "metadata": {
        "id": "CA0mBKruL7P9",
        "outputId": "3b18d05b-203a-46fb-8ec4-bdb4eee6c0a2"
      },
      "outputs": [
        {
          "data": {
            "text/plain": [
              "(100000, 10)"
            ]
          },
          "execution_count": 37,
          "metadata": {},
          "output_type": "execute_result"
        }
      ],
      "source": [
        "final_2000.shape"
      ]
    },
    {
      "cell_type": "code",
      "execution_count": null,
      "metadata": {
        "id": "gJg6PKFaL7P9"
      },
      "outputs": [],
      "source": [
        "import numpy as np\n",
        "from sklearn.model_selection import train_test_split\n",
        "X = final_2000['Text']\n",
        "X.shape\n",
        "Y = final_2000['Score']\n",
        "Y.shape\n",
        "X_train, X_test, Y_train, Y_test = train_test_split(X, Y, test_size=0.33, random_state=42)\n",
        "X_train, X_cv, Y_train, Y_cv = train_test_split(X_train, Y_train, test_size=0.33) # this is random splitting\n"
      ]
    },
    {
      "cell_type": "code",
      "execution_count": null,
      "metadata": {
        "id": "mJ3QkfxgL7P9",
        "outputId": "69362bf5-17c0-4224-a82e-6cf05601e65b"
      },
      "outputs": [
        {
          "name": "stdout",
          "output_type": "stream",
          "text": [
            "(44890,) (44890,)\n",
            "(22110,) (22110,)\n",
            "(33000,) (33000,)\n"
          ]
        }
      ],
      "source": [
        "print(X_train.shape, Y_train.shape)\n",
        "print(X_cv.shape, Y_cv.shape)\n",
        "print(X_test.shape, Y_test.shape)"
      ]
    },
    {
      "cell_type": "code",
      "execution_count": null,
      "metadata": {
        "id": "dYjjZkuYL7P9",
        "outputId": "8dd4416e-141c-47f8-b8f0-4c4a5a1341d8"
      },
      "outputs": [
        {
          "data": {
            "text/plain": [
              "pandas.core.series.Series"
            ]
          },
          "execution_count": 40,
          "metadata": {},
          "output_type": "execute_result"
        }
      ],
      "source": [
        "type(X_train)"
      ]
    },
    {
      "cell_type": "markdown",
      "metadata": {
        "id": "B93jqKuhLPoQ"
      },
      "source": [
        "# [4] Featurization"
      ]
    },
    {
      "cell_type": "markdown",
      "metadata": {
        "id": "Mr4j2QhgLPoQ"
      },
      "source": [
        "## [4.1] BAG OF WORDS"
      ]
    },
    {
      "cell_type": "code",
      "execution_count": null,
      "metadata": {
        "id": "dZVHt3mtLPoR",
        "outputId": "ea1629cd-7c92-400e-9acd-f7caeef0f389"
      },
      "outputs": [
        {
          "name": "stdout",
          "output_type": "stream",
          "text": [
            "some feature names  ['00', '000', '0000', '00001', '0004', '000kwh', '000mg', '000s', '00127', '00128']\n",
            "the type of count vectorizer <class 'scipy.sparse.csr.csr_matrix'>\n",
            "the shape of out text BOW vectorizer (44890, 39890)\n",
            "the number of unique words 39890\n",
            "==================================================\n"
          ]
        }
      ],
      "source": [
        "count_vect = CountVectorizer() #in scikit-learn\n",
        "count_vect.fit(X_train)\n",
        "X_train_bow = count_vect.transform(X_train)\n",
        "X_cv_bow = count_vect.transform(X_cv)\n",
        "X_test_bow = count_vect.transform(X_test)\n",
        "print(\"some feature names \", count_vect.get_feature_names()[:10])\n",
        "print(\"the type of count vectorizer\", type(X_train_bow))\n",
        "print(\"the shape of out text BOW vectorizer\", X_train_bow.get_shape())\n",
        "print(\"the number of unique words\", X_train_bow.get_shape()[1])\n",
        "print('='*50)"
      ]
    },
    {
      "cell_type": "code",
      "execution_count": null,
      "metadata": {
        "id": "71U1Na4VL7P-",
        "outputId": "5a9e3210-5ae1-43c3-a97b-e28fc80ceeac"
      },
      "outputs": [
        {
          "data": {
            "text/plain": [
              "(44890, 39890)"
            ]
          },
          "execution_count": 42,
          "metadata": {},
          "output_type": "execute_result"
        }
      ],
      "source": [
        "from sklearn.preprocessing import StandardScaler \n",
        "std_data = StandardScaler(with_mean = False).fit(X_train_bow)\n",
        "std_data_train = std_data.transform(X_train_bow)\n",
        "std_data_train.shape"
      ]
    },
    {
      "cell_type": "code",
      "execution_count": null,
      "metadata": {
        "id": "-O0VFwb_L7P-",
        "outputId": "cecbdc38-5c6a-4e0f-a6cf-bdebd9f3bbb9"
      },
      "outputs": [
        {
          "data": {
            "text/plain": [
              "(33000, 39890)"
            ]
          },
          "execution_count": 43,
          "metadata": {},
          "output_type": "execute_result"
        }
      ],
      "source": [
        "from sklearn.preprocessing import StandardScaler \n",
        "std_data_test = std_data.transform(X_test_bow)\n",
        "std_data_test.shape"
      ]
    },
    {
      "cell_type": "code",
      "execution_count": null,
      "metadata": {
        "id": "UdA4xFNWL7P-",
        "outputId": "e60de004-0830-45d5-fa63-78017a4cbd3b"
      },
      "outputs": [
        {
          "data": {
            "text/plain": [
              "(22110, 39890)"
            ]
          },
          "execution_count": 44,
          "metadata": {},
          "output_type": "execute_result"
        }
      ],
      "source": [
        "std_data_cv = std_data.transform(X_cv_bow)\n",
        "std_data_cv.shape"
      ]
    },
    {
      "cell_type": "code",
      "execution_count": null,
      "metadata": {
        "id": "-rmLLzCmL7P-",
        "outputId": "6eae8bd3-81c6-42a6-8fdb-c9f876c42797"
      },
      "outputs": [
        {
          "name": "stdout",
          "output_type": "stream",
          "text": [
            "After bow\n",
            "(44890, 39890) (44890,)\n",
            "(22110, 39890) (22110,)\n",
            "(33000, 39890) (33000,)\n",
            "==================================================\n"
          ]
        }
      ],
      "source": [
        "print(\"After bow\")\n",
        "print(X_train_bow.shape, Y_train.shape)\n",
        "print(X_cv_bow.shape, Y_cv.shape)\n",
        "print(X_test_bow.shape, Y_test.shape)\n",
        "print(\"=\"*50)"
      ]
    },
    {
      "cell_type": "markdown",
      "metadata": {
        "id": "tSf5kRdLLPoV"
      },
      "source": [
        "## [4.2] Bi-Grams and n-Grams."
      ]
    },
    {
      "cell_type": "code",
      "execution_count": null,
      "metadata": {
        "id": "Yfk2d7bLLPoW",
        "outputId": "33472132-5eb3-493f-b08c-081749f99239"
      },
      "outputs": [
        {
          "name": "stdout",
          "output_type": "stream",
          "text": [
            "the type of count vectorizer  <class 'scipy.sparse.csr.csr_matrix'>\n",
            "the shape of out text BOW vectorizer  (44890, 5000)\n",
            "the number of unique words including both unigrams and bigrams  5000\n"
          ]
        }
      ],
      "source": [
        "#bi-gram, tri-gram and n-gram\n",
        "\n",
        "#removing stop words like \"not\" should be avoided before building n-grams\n",
        "# count_vect = CountVectorizer(ngram_range=(1,2))\n",
        "# please do read the CountVectorizer documentation http://scikit-learn.org/stable/modules/generated/sklearn.feature_extraction.text.CountVectorizer.html\n",
        "\n",
        "# you can choose these numebrs min_df=10, max_features=5000, of your choice\n",
        "count_vect = CountVectorizer(ngram_range=(1,2), min_df=10, max_features=5000)\n",
        "final_bigram_counts = count_vect.fit_transform(X_train)\n",
        "print(\"the type of count vectorizer \",type(final_bigram_counts))\n",
        "print(\"the shape of out text BOW vectorizer \",final_bigram_counts.get_shape())\n",
        "print(\"the number of unique words including both unigrams and bigrams \", final_bigram_counts.get_shape()[1])"
      ]
    },
    {
      "cell_type": "code",
      "execution_count": null,
      "metadata": {
        "id": "yDmr1xeGL7P_",
        "outputId": "a672e887-8c6e-4379-911a-a8e823bd3fea"
      },
      "outputs": [
        {
          "data": {
            "text/plain": [
              "(44890, 5000)"
            ]
          },
          "execution_count": 47,
          "metadata": {},
          "output_type": "execute_result"
        }
      ],
      "source": [
        "from sklearn.preprocessing import StandardScaler \n",
        "std_data = StandardScaler(with_mean = False).fit(final_bigram_counts)\n",
        "std_data = std_data.transform(final_bigram_counts)\n",
        "std_data.shape"
      ]
    },
    {
      "cell_type": "code",
      "execution_count": null,
      "metadata": {
        "id": "-oE69FAgL7P_",
        "outputId": "63ff8d77-b09d-458b-f734-c94e6cbc246f"
      },
      "outputs": [
        {
          "data": {
            "text/plain": [
              "scipy.sparse.csr.csr_matrix"
            ]
          },
          "execution_count": 48,
          "metadata": {},
          "output_type": "execute_result"
        }
      ],
      "source": [
        "type(std_data)"
      ]
    },
    {
      "cell_type": "code",
      "execution_count": null,
      "metadata": {
        "id": "OlMFBpoyL7P_",
        "outputId": "fda0a18a-c0f4-4d0e-fce5-5d0d1a49a5bd"
      },
      "outputs": [
        {
          "data": {
            "text/plain": [
              "numpy.matrix"
            ]
          },
          "execution_count": 49,
          "metadata": {},
          "output_type": "execute_result"
        }
      ],
      "source": [
        "std_data = std_data.todense()\n",
        "type(std_data)"
      ]
    },
    {
      "cell_type": "markdown",
      "metadata": {
        "id": "-cEEpDx0LPoZ"
      },
      "source": [
        "## [4.3] TF-IDF"
      ]
    },
    {
      "cell_type": "code",
      "execution_count": null,
      "metadata": {
        "id": "TgP61HqBLPoa",
        "outputId": "15f1c123-d93b-414d-914b-d4e3f32a6ac1"
      },
      "outputs": [
        {
          "name": "stdout",
          "output_type": "stream",
          "text": [
            "some sample features(unique words in the corpus) ['00', '00 and', '00 br', '00 for', '00 more', '00 per', '000', '01', '02', '03']\n",
            "==================================================\n",
            "the type of count vectorizer  <class 'scipy.sparse.csr.csr_matrix'>\n",
            "the shape of out text TFIDF vectorizer  (44890, 49752)\n",
            "the number of unique words including both unigrams and bigrams  49752\n"
          ]
        }
      ],
      "source": [
        "tf_idf_vect = TfidfVectorizer(ngram_range=(1,2), min_df=10)\n",
        "tf_idf_vect.fit(X_train)\n",
        "print(\"some sample features(unique words in the corpus)\",tf_idf_vect.get_feature_names()[0:10])\n",
        "print('='*50)\n",
        "\n",
        "final_tf_idf = tf_idf_vect.transform(X_train)\n",
        "print(\"the type of count vectorizer \",type(final_tf_idf))\n",
        "print(\"the shape of out text TFIDF vectorizer \",final_tf_idf.get_shape())\n",
        "print(\"the number of unique words including both unigrams and bigrams \", final_tf_idf.get_shape()[1])"
      ]
    },
    {
      "cell_type": "code",
      "execution_count": null,
      "metadata": {
        "id": "DXXL3fykL7P_"
      },
      "outputs": [],
      "source": [
        "X_train_tfidf = final_tf_idf"
      ]
    },
    {
      "cell_type": "code",
      "execution_count": null,
      "metadata": {
        "id": "ZfJJHEpRL7P_",
        "outputId": "4aaf9203-85ec-4b36-b0c5-ef31410084ac"
      },
      "outputs": [
        {
          "data": {
            "text/plain": [
              "(44890, 49752)"
            ]
          },
          "execution_count": 52,
          "metadata": {},
          "output_type": "execute_result"
        }
      ],
      "source": [
        "X_train_tfidf.shape"
      ]
    },
    {
      "cell_type": "code",
      "execution_count": null,
      "metadata": {
        "id": "035wuOYJL7QA",
        "outputId": "b2c44ab4-751e-40ee-e9cc-8460bf63445e"
      },
      "outputs": [
        {
          "data": {
            "text/plain": [
              "(33000, 49752)"
            ]
          },
          "execution_count": 53,
          "metadata": {},
          "output_type": "execute_result"
        }
      ],
      "source": [
        "X_test_tfidf = tf_idf_vect.transform(X_test)\n",
        "X_test_tfidf.shape"
      ]
    },
    {
      "cell_type": "code",
      "execution_count": null,
      "metadata": {
        "id": "_9iqnNLiL7QA",
        "outputId": "b0a1e2fe-85f8-497e-919a-8d47ea2c11f0"
      },
      "outputs": [
        {
          "data": {
            "text/plain": [
              "(22110, 49752)"
            ]
          },
          "execution_count": 54,
          "metadata": {},
          "output_type": "execute_result"
        }
      ],
      "source": [
        "X_cv_tfidf = tf_idf_vect.transform(X_cv)\n",
        "X_cv_tfidf.shape"
      ]
    },
    {
      "cell_type": "markdown",
      "metadata": {
        "id": "m3YEHTLPLPod"
      },
      "source": [
        "## [4.4] Word2Vec"
      ]
    },
    {
      "cell_type": "code",
      "execution_count": null,
      "metadata": {
        "id": "zwPZCf8cLPoe"
      },
      "outputs": [],
      "source": [
        "# Train your own Word2Vec model using your own text corpus\n",
        "i=0\n",
        "list_of_sentance_train=[]\n",
        "for sentance in X_train:\n",
        "    list_of_sentance_train.append(sentance.split())"
      ]
    },
    {
      "cell_type": "code",
      "execution_count": null,
      "metadata": {
        "id": "8ddGZNUfLPog",
        "outputId": "390d4ccb-cda2-4391-83e9-0e502b578171",
        "scrolled": true
      },
      "outputs": [
        {
          "name": "stdout",
          "output_type": "stream",
          "text": [
            "[('good', 0.8786425590515137), ('wonderful', 0.8775689005851746), ('fantastic', 0.8578576445579529), ('perfect', 0.8015658855438232), ('delicious', 0.7758249640464783), ('awesome', 0.7495013475418091), ('nice', 0.7480167746543884), ('decent', 0.7465898990631104), ('excellent', 0.7399019598960876), ('fabulous', 0.7395161390304565)]\n",
            "==================================================\n",
            "[('best', 0.8532296419143677), ('tastiest', 0.757768452167511), ('closest', 0.7540486454963684), ('BEST', 0.7525098323822021), ('nastiest', 0.7240918278694153), ('greatest', 0.6964240074157715), ('WORST', 0.6843296885490417), ('ever', 0.663214385509491), ('purchased!', 0.6519150733947754), ('nicest', 0.6193050146102905)]\n"
          ]
        }
      ],
      "source": [
        "# Using Google News Word2Vectors\n",
        "\n",
        "# in this project we are using a pretrained model by google\n",
        "# its 3.3G file, once you load this into your memory \n",
        "# it occupies ~9Gb, so please do this step only if you have >12G of ram\n",
        "# we will provide a pickle file wich contains a dict , \n",
        "# and it contains all our courpus words as keys and  model[word] as values\n",
        "# To use this code-snippet, download \"GoogleNews-vectors-negative300.bin\" \n",
        "# from https://drive.google.com/file/d/0B7XkCwpI5KDYNlNUTTlSS21pQmM/edit\n",
        "# it's 1.9GB in size.\n",
        "\n",
        "\n",
        "# http://kavita-ganesan.com/gensim-word2vec-tutorial-starter-code/#.W17SRFAzZPY\n",
        "# you can comment this whole cell\n",
        "# or change these varible according to your need\n",
        "\n",
        "is_your_ram_gt_16g=False\n",
        "want_to_use_google_w2v = False\n",
        "want_to_train_w2v = True\n",
        "\n",
        "if want_to_train_w2v:\n",
        "    # min_count = 5 considers only words that occured atleast 5 times\n",
        "    w2v_model=Word2Vec(list_of_sentance_train,min_count=5,size=50, workers=4)\n",
        "    print(w2v_model.wv.most_similar('great'))\n",
        "    print('='*50)\n",
        "    print(w2v_model.wv.most_similar('worst'))\n",
        "    \n",
        "elif want_to_use_google_w2v and is_your_ram_gt_16g:\n",
        "    if os.path.isfile('GoogleNews-vectors-negative300.bin'):\n",
        "        w2v_model=KeyedVectors.load_word2vec_format('GoogleNews-vectors-negative300.bin', binary=True)\n",
        "        print(w2v_model.wv.most_similar('great'))\n",
        "        print(w2v_model.wv.most_similar('worst'))\n",
        "    else:\n",
        "        print(\"you don't have gogole's word2vec file, keep want_to_train_w2v = True, to train your own w2v \")"
      ]
    },
    {
      "cell_type": "code",
      "execution_count": null,
      "metadata": {
        "id": "pGhTfJ2LL7QA"
      },
      "outputs": [],
      "source": [
        "w2v_model= Word2Vec(list_of_sentance_train, min_count= 5, size = 50,workers = 4)"
      ]
    },
    {
      "cell_type": "code",
      "execution_count": null,
      "metadata": {
        "id": "Uw8-mnBGL7QB",
        "outputId": "9e2e910c-2ac9-401d-9a5d-d9e1a4cefb13"
      },
      "outputs": [
        {
          "data": {
            "text/plain": [
              "44890"
            ]
          },
          "execution_count": 58,
          "metadata": {},
          "output_type": "execute_result"
        }
      ],
      "source": [
        "len(list_of_sentance_train)"
      ]
    },
    {
      "cell_type": "code",
      "execution_count": null,
      "metadata": {
        "id": "8sIUURGyL7QB",
        "outputId": "2626fdac-59e3-4c41-bb7f-4414ce27f33b"
      },
      "outputs": [
        {
          "name": "stdout",
          "output_type": "stream",
          "text": [
            "this witty little book makes my son laugh at loud. i recite it in the car as we're driving along and he always can sing the refrain. he's learned about whales, India, drooping roses:  i love all the new words this book  introduces and the silliness of it all.  this is a classic book i am  willing to bet my son will STILL be able to recite from memory when he is  in college\n",
            "*********\n",
            "['First', 'had', 'these', 'delicious', 'Vegan', 'treats', 'when', 'I', 'was', 'visiting', 'my', 'sister', 'in', 'CA', 'and', \"couldn't\", 'find', 'them', 'in', 'MA!', 'Now', 'I', 'can', 'always', 'find', 'them', 'on', 'Amazon!', 'They', 'are', 'tasty', 'low', 'fat,', 'hight', 'protein,', 'a', 'bit', 'high', 'in', 'sodium,', 'portable', 'and', 'easy', 'to', 'take', 'with', 'me', 'where', 'ever', 'I', 'go!']\n"
          ]
        }
      ],
      "source": [
        "print(final_2000['Text'].values[0])\n",
        "print('*********')\n",
        "print(list_of_sentance_train[0])"
      ]
    },
    {
      "cell_type": "code",
      "execution_count": null,
      "metadata": {
        "id": "qj0s0UgHL7QB",
        "outputId": "3914b3ae-b56d-46d9-a3cb-5900b18602d6"
      },
      "outputs": [
        {
          "name": "stdout",
          "output_type": "stream",
          "text": [
            "number of words that occured minimum 5 times  25819\n",
            "sample words  ['First', 'had', 'these', 'delicious', 'Vegan', 'treats', 'when', 'I', 'was', 'visiting', 'my', 'sister', 'in', 'CA', 'and', \"couldn't\", 'find', 'them', 'Now', 'can', 'always', 'on', 'Amazon!', 'They', 'are', 'tasty', 'low', 'fat,', 'protein,', 'a', 'bit', 'high', 'sodium,', 'portable', 'easy', 'to', 'take', 'with', 'me', 'where', 'ever', 'go!', 'WOW.', 'so', 'many', 'salt', 'vinegar', 'snacks', \"i've\", 'only']\n"
          ]
        }
      ],
      "source": [
        "w2v_words = list(w2v_model.wv.vocab)\n",
        "print(\"number of words that occured minimum 5 times \",len(w2v_words))\n",
        "print(\"sample words \", w2v_words[0:50])"
      ]
    },
    {
      "cell_type": "code",
      "execution_count": null,
      "metadata": {
        "id": "GjQAr0aRL7QB",
        "outputId": "8e4ba0fe-5a66-4f33-8b09-667e2584be73"
      },
      "outputs": [
        {
          "data": {
            "text/plain": [
              "[('like,', 0.7315455675125122),\n",
              " ('like.', 0.6505230069160461),\n",
              " ('prefer', 0.6346548199653625),\n",
              " ('miss', 0.5769685506820679),\n",
              " ('enjoy', 0.5763070583343506),\n",
              " ('think', 0.5566756725311279),\n",
              " ('love', 0.5408781170845032),\n",
              " ('expect', 0.5243402123451233),\n",
              " ('crave', 0.5239968299865723),\n",
              " ('want', 0.5235675573348999)]"
            ]
          },
          "execution_count": 61,
          "metadata": {},
          "output_type": "execute_result"
        }
      ],
      "source": [
        "w2v_model.wv.most_similar('like')"
      ]
    },
    {
      "cell_type": "code",
      "execution_count": null,
      "metadata": {
        "id": "9fv3rCyTL7QB"
      },
      "outputs": [],
      "source": [
        "i = 0\n",
        "list_of_sent_test = []\n",
        "for sent in X_test:\n",
        "    list_of_sent_test.append(sent.split())"
      ]
    },
    {
      "cell_type": "code",
      "execution_count": null,
      "metadata": {
        "id": "HsiQI0M4L7QB",
        "outputId": "5f4c6b24-7224-42fb-ac88-5adbdad425aa"
      },
      "outputs": [
        {
          "data": {
            "text/plain": [
              "33000"
            ]
          },
          "execution_count": 63,
          "metadata": {},
          "output_type": "execute_result"
        }
      ],
      "source": [
        "len(list_of_sent_test)"
      ]
    },
    {
      "cell_type": "code",
      "execution_count": null,
      "metadata": {
        "id": "HsNHj-K_L7QC"
      },
      "outputs": [],
      "source": [
        "i = 0\n",
        "list_of_sent_cv = []\n",
        "for sent in X_cv:\n",
        "    list_of_sent_cv.append(sent.split())"
      ]
    },
    {
      "cell_type": "code",
      "execution_count": null,
      "metadata": {
        "id": "bRWXmmnWLPoo",
        "outputId": "1cc345e7-d991-49b8-f1b7-a0d81f0b97e6"
      },
      "outputs": [
        {
          "data": {
            "text/plain": [
              "22110"
            ]
          },
          "execution_count": 65,
          "metadata": {},
          "output_type": "execute_result"
        }
      ],
      "source": [
        "len(list_of_sent_cv)"
      ]
    },
    {
      "cell_type": "markdown",
      "metadata": {
        "id": "TtWqibqfLPos"
      },
      "source": [
        "## [4.4.1] Converting text into vectors using Avg W2V, TFIDF-W2V"
      ]
    },
    {
      "cell_type": "markdown",
      "metadata": {
        "id": "JriP5nZCLPot"
      },
      "source": [
        "#### [4.4.1.1] Avg W2v"
      ]
    },
    {
      "cell_type": "code",
      "execution_count": null,
      "metadata": {
        "id": "UnXI9NHTLPot",
        "outputId": "ecbe8256-9718-4bad-de33-e5ce1ee69038"
      },
      "outputs": [
        {
          "name": "stderr",
          "output_type": "stream",
          "text": [
            "100%|████████████████████████████████████████████████████████████████████████████| 44890/44890 [07:29<00:00, 99.76it/s]\n"
          ]
        },
        {
          "name": "stdout",
          "output_type": "stream",
          "text": [
            "44890\n",
            "50\n"
          ]
        }
      ],
      "source": [
        "# average Word2Vec\n",
        "# compute average word2vec for each review.\n",
        "sent_vectors = []; # the avg-w2v for each sentence/review is stored in this list\n",
        "for sent in tqdm(list_of_sentance_train): # for each review/sentence\n",
        "    sent_vec = np.zeros(50) # as word vectors are of zero length 50, you might need to change this to 300 if you use google's w2v\n",
        "    cnt_words =0; # num of words with a valid vector in the sentence/review\n",
        "    for word in sent: # for each word in a review/sentence\n",
        "        if word in w2v_words:\n",
        "            vec = w2v_model.wv[word]\n",
        "            sent_vec += vec\n",
        "            cnt_words += 1\n",
        "    if cnt_words != 0:\n",
        "        sent_vec /= cnt_words\n",
        "    sent_vectors.append(sent_vec)\n",
        "print(len(sent_vectors))\n",
        "print(len(sent_vectors[0]))"
      ]
    },
    {
      "cell_type": "code",
      "execution_count": null,
      "metadata": {
        "id": "t0NkbBMpL7QC"
      },
      "outputs": [],
      "source": [
        "X_train_avgw2v = sent_vectors"
      ]
    },
    {
      "cell_type": "code",
      "execution_count": null,
      "metadata": {
        "id": "8VhXplgNL7QC",
        "outputId": "d577fa02-6ebd-4cab-be6f-992ae6267e2b"
      },
      "outputs": [
        {
          "name": "stderr",
          "output_type": "stream",
          "text": [
            "100%|████████████████████████████████████████████████████████████████████████████| 33000/33000 [05:33<00:00, 98.92it/s]\n"
          ]
        },
        {
          "name": "stdout",
          "output_type": "stream",
          "text": [
            "33000\n",
            "50\n"
          ]
        }
      ],
      "source": [
        "sent_vectors_test = []; # the avg-w2v for each sentence/review is stored in this list\n",
        "for sent in tqdm(list_of_sent_test): # for each review/sentence\n",
        "    sent_vec = np.zeros(50) # as word vectors are of zero length 50, you might need to change this to 300 if you use google's w2v\n",
        "    cnt_words =0; # num of words with a valid vector in the sentence/review\n",
        "    for word in sent: # for each word in a review/sentence\n",
        "        if word in w2v_words:\n",
        "            vec = w2v_model.wv[word]\n",
        "            sent_vec += vec\n",
        "            cnt_words += 1\n",
        "    if cnt_words != 0:\n",
        "        sent_vec /= cnt_words\n",
        "    sent_vectors_test.append(sent_vec)\n",
        "print(len(sent_vectors_test))\n",
        "print(len(sent_vectors_test[0]))"
      ]
    },
    {
      "cell_type": "code",
      "execution_count": null,
      "metadata": {
        "id": "UobFiysQL7QD"
      },
      "outputs": [],
      "source": [
        "X_test_avgw2v = sent_vectors_test"
      ]
    },
    {
      "cell_type": "code",
      "execution_count": null,
      "metadata": {
        "id": "wtVRYL6OL7QD",
        "outputId": "1377b195-df9e-401a-96dc-d155626a0c0a"
      },
      "outputs": [
        {
          "name": "stderr",
          "output_type": "stream",
          "text": [
            "100%|████████████████████████████████████████████████████████████████████████████| 22110/22110 [03:44<00:00, 98.41it/s]\n"
          ]
        },
        {
          "name": "stdout",
          "output_type": "stream",
          "text": [
            "22110\n",
            "50\n"
          ]
        }
      ],
      "source": [
        "sent_vectors_cv = []; # the avg-w2v for each sentence/review is stored in this list\n",
        "for sent in tqdm(list_of_sent_cv): # for each review/sentence\n",
        "    sent_vec = np.zeros(50) # as word vectors are of zero length 50, you might need to change this to 300 if you use google's w2v\n",
        "    cnt_words =0; # num of words with a valid vector in the sentence/review\n",
        "    for word in sent: # for each word in a review/sentence\n",
        "        if word in w2v_words:\n",
        "            vec = w2v_model.wv[word]\n",
        "            sent_vec += vec\n",
        "            cnt_words += 1\n",
        "    if cnt_words != 0:\n",
        "        sent_vec /= cnt_words\n",
        "    sent_vectors_cv.append(sent_vec)\n",
        "print(len(sent_vectors_cv))\n",
        "print(len(sent_vectors_cv[0]))"
      ]
    },
    {
      "cell_type": "code",
      "execution_count": null,
      "metadata": {
        "id": "qtlQ7uLFL7QD"
      },
      "outputs": [],
      "source": [
        "X_cv_avgw2v = sent_vectors_cv"
      ]
    },
    {
      "cell_type": "markdown",
      "metadata": {
        "id": "2sHfb529LPow"
      },
      "source": [
        "#### [4.4.1.2] TFIDF weighted W2v"
      ]
    },
    {
      "cell_type": "code",
      "execution_count": null,
      "metadata": {
        "id": "sb_wDjAqLPow"
      },
      "outputs": [],
      "source": [
        "# S = [\"abc def pqr\", \"def def def abc\", \"pqr pqr def\"]\n",
        "model = TfidfVectorizer()\n",
        "tf_idf_matrix = model.fit_transform(X_train)\n",
        "# we are converting a dictionary with word as a key, and the idf as a value\n",
        "dictionary = dict(zip(model.get_feature_names(), list(model.idf_)))"
      ]
    },
    {
      "cell_type": "code",
      "execution_count": null,
      "metadata": {
        "id": "3VrUzqx7LPoy",
        "outputId": "8480d5da-7b1d-4bbe-a4c9-fe0a5800b5d0",
        "scrolled": true
      },
      "outputs": [
        {
          "name": "stderr",
          "output_type": "stream",
          "text": [
            "100%|████████████████████████████████████████████████████████████████████████████| 44890/44890 [35:52<00:00, 21.08it/s]\n"
          ]
        }
      ],
      "source": [
        "# TF-IDF weighted Word2Vec\n",
        "tfidf_feat = model.get_feature_names() # tfidf words/col-names\n",
        "# final_tf_idf is the sparse matrix with row= sentence, col=word and cell_val = tfidf\n",
        "\n",
        "tfidf_sent_vectors = []; # the tfidf-w2v for each sentence/review is stored in this list\n",
        "row=0;\n",
        "for sent in tqdm(list_of_sentance_train): # for each review/sentence \n",
        "    sent_vec = np.zeros(50) # as word vectors are of zero length\n",
        "    weight_sum =0; # num of words with a valid vector in the sentence/review\n",
        "    for word in sent: # for each word in a review/sentence\n",
        "        if word in w2v_words and word in tfidf_feat:\n",
        "            vec = w2v_model.wv[word]\n",
        "#             tf_idf = tf_idf_matrix[row, tfidf_feat.index(word)]\n",
        "            # to reduce the computation we are \n",
        "            # dictionary[word] = idf value of word in whole courpus\n",
        "            # sent.count(word) = tf valeus of word in this review\n",
        "            tf_idf = dictionary[word]*(sent.count(word)/len(sent))\n",
        "            sent_vec += (vec * tf_idf)\n",
        "            weight_sum += tf_idf\n",
        "    if weight_sum != 0:\n",
        "        sent_vec /= weight_sum\n",
        "    tfidf_sent_vectors.append(sent_vec)\n",
        "    row += 1"
      ]
    },
    {
      "cell_type": "code",
      "execution_count": null,
      "metadata": {
        "id": "XRUuZzAOL7QD"
      },
      "outputs": [],
      "source": [
        "X_train_tfidfw2v = tfidf_sent_vectors"
      ]
    },
    {
      "cell_type": "code",
      "execution_count": null,
      "metadata": {
        "id": "LfML3NFML7QE",
        "outputId": "a3565695-ae21-40a2-ae1a-a360e115d125"
      },
      "outputs": [
        {
          "name": "stderr",
          "output_type": "stream",
          "text": [
            "100%|████████████████████████████████████████████████████████████████████████████| 33000/33000 [25:33<00:00, 21.53it/s]\n"
          ]
        }
      ],
      "source": [
        "tfidf_sent_vectors_test = []; \n",
        "row=0;\n",
        "for sent in tqdm(list_of_sent_test): \n",
        "    sent_vec = np.zeros(50) \n",
        "    weight_sum =0;\n",
        "    for word in sent: \n",
        "        if word in w2v_words and word in tfidf_feat:\n",
        "            vec = w2v_model.wv[word]\n",
        "            tf_idf = dictionary[word]*(sent.count(word)/len(sent))\n",
        "            sent_vec += (vec * tf_idf)\n",
        "            weight_sum += tf_idf\n",
        "    if weight_sum != 0:\n",
        "        sent_vec /= weight_sum\n",
        "    tfidf_sent_vectors_test.append(sent_vec)\n",
        "    row += 1"
      ]
    },
    {
      "cell_type": "code",
      "execution_count": null,
      "metadata": {
        "id": "4Et4xW_2L7QE"
      },
      "outputs": [],
      "source": [
        "X_test_tfidfw2v = tfidf_sent_vectors_test"
      ]
    },
    {
      "cell_type": "code",
      "execution_count": null,
      "metadata": {
        "id": "HYzSB9_aL7QE",
        "outputId": "4f60f102-8556-4cc4-df7d-c74d3eba5ce8"
      },
      "outputs": [
        {
          "name": "stderr",
          "output_type": "stream",
          "text": [
            "100%|████████████████████████████████████████████████████████████████████████████| 22110/22110 [16:47<00:00, 21.96it/s]\n"
          ]
        }
      ],
      "source": [
        "tfidf_sent_vectors_cv = []; \n",
        "row=0;\n",
        "for sent in tqdm(list_of_sent_cv): \n",
        "    sent_vec = np.zeros(50) \n",
        "    weight_sum =0;\n",
        "    for word in sent: \n",
        "        if word in w2v_words and word in tfidf_feat:\n",
        "            vec = w2v_model.wv[word]\n",
        "            tf_idf = dictionary[word]*(sent.count(word)/len(sent))\n",
        "            sent_vec += (vec * tf_idf)\n",
        "            weight_sum += tf_idf\n",
        "    if weight_sum != 0:\n",
        "        sent_vec /= weight_sum\n",
        "    tfidf_sent_vectors_cv.append(sent_vec)\n",
        "    row += 1"
      ]
    },
    {
      "cell_type": "code",
      "execution_count": null,
      "metadata": {
        "id": "GUSKvTqPL7QE"
      },
      "outputs": [],
      "source": [
        "X_cv_tfidfw2v = tfidf_sent_vectors_cv"
      ]
    },
    {
      "cell_type": "markdown",
      "metadata": {
        "id": "Kxx72u1hLPo1"
      },
      "source": [
        "# [5] Assignment 5: Apply Logistic Regression"
      ]
    },
    {
      "cell_type": "markdown",
      "metadata": {
        "id": "KDR9We0oLPo2"
      },
      "source": [
        "<ol>\n",
        "    <li><strong>Apply Logistic Regression on these feature sets</strong>\n",
        "        <ul>\n",
        "            <li><font color='red'>SET 1:</font>Review text, preprocessed one converted into vectors using (BOW)</li>\n",
        "            <li><font color='red'>SET 2:</font>Review text, preprocessed one converted into vectors using (TFIDF)</li>\n",
        "            <li><font color='red'>SET 3:</font>Review text, preprocessed one converted into vectors using (AVG W2v)</li>\n",
        "            <li><font color='red'>SET 4:</font>Review text, preprocessed one converted into vectors using (TFIDF W2v)</li>\n",
        "        </ul>\n",
        "    </li>\n",
        "    <br>\n",
        "    <li><strong>Hyper paramter tuning (find best hyper parameters corresponding the algorithm that you choose)</strong>\n",
        "        <ul>\n",
        "    <li>Find the best hyper parameter which will give the maximum <a href='https://www.appliedaicourse.com/course/applied-ai-course-online/lessons/receiver-operating-characteristic-curve-roc-curve-and-auc-1/'>AUC</a> value</li>\n",
        "    <li>Find the best hyper paramter using k-fold cross validation or simple cross validation data</li>\n",
        "    <li>Use gridsearch cv or randomsearch cv or you can also write your own for loops to do this task of hyperparameter tuning</li>          \n",
        "        </ul>\n",
        "    </li>\n",
        "    <br>\n",
        "    <li><strong>Pertubation Test</strong>\n",
        "        <ul>\n",
        "    <li>Get the weights W after fit your model with the data X i.e Train data.</li>\n",
        "    <li>Add a noise to the X (X' = X + e) and get the new data set X' (if X is a sparse\n",
        "matrix, X.data+=e)</li>\n",
        "    <li>Fit the model again on data X' and get the weights W'</li>\n",
        "    <li>Add a small eps value(to eliminate the divisible by zero error) to W and W’ i.e\n",
        "W=W+10^-6 and W’ = W’+10^-6</li>\n",
        "    <li>Now find the % change between W and W' (| (W-W') / (W) |)*100)</li>\n",
        "    <li>Calculate the 0th, 10th, 20th, 30th, ...100th percentiles, and observe any sudden rise in the values of percentage_change_vector</li>\n",
        "    <li> Ex: consider your 99th percentile is 1.3 and your 100th percentiles are 34.6, there is sudden rise from 1.3 to 34.6, now calculate the 99.1, 99.2, 99.3,..., 100th percentile values and get the proper value after which there is sudden rise the values, assume it is 2.5</li>\n",
        "            <li> Print the feature names whose % change is more than a threshold x(in our example it's 2.5)</li>\n",
        "        </ul>\n",
        "    </li>\n",
        "    <br>\n",
        "    <li><strong>Sparsity</strong>\n",
        "        <ul>\n",
        "    <li>Calculate sparsity on weight vector obtained after using L1 regularization</li>\n",
        "        </ul>\n",
        "    </li>\n",
        "    <br><font color='red'>NOTE: Do sparsity and multicollinearity for any one of the vectorizers. Bow or tf-idf is recommended.</font>\n",
        "    <br>\n",
        "    <br>\n",
        "    <li><strong>Feature importance</strong>\n",
        "        <ul>\n",
        "    <li>Get top 10 important features for both positive and negative classes separately.</li>\n",
        "        </ul>\n",
        "    </li>\n",
        "    <br>\n",
        "    <li><strong>Feature engineering</strong>\n",
        "        <ul>\n",
        "    <li>To increase the performance of your model, you can also experiment with with feature engineering like :</li>\n",
        "            <ul>\n",
        "            <li>Taking length of reviews as another feature.</li>\n",
        "            <li>Considering some features from review summary as well.</li>\n",
        "        </ul>\n",
        "        </ul>\n",
        "    </li>\n",
        "    <br>\n",
        "    <li><strong>Representation of results</strong>\n",
        "        <ul>\n",
        "    <li>You need to plot the performance of model both on train data and cross validation data for each hyper parameter, like shown in the figure.\n",
        "    <img src='train_cv_auc.JPG' width=300px></li>\n",
        "    <li>Once after you found the best hyper parameter, you need to train your model with it, and find the AUC on test data and plot the ROC curve on both train and test.\n",
        "    <img src='train_test_auc.JPG' width=300px></li>\n",
        "    <li>Along with plotting ROC curve, you need to print the <a href='https://www.appliedaicourse.com/course/applied-ai-course-online/lessons/confusion-matrix-tpr-fpr-fnr-tnr-1/'>confusion matrix</a> with predicted and original labels of test data points. Please visualize your confusion matrices using <a href='https://seaborn.pydata.org/generated/seaborn.heatmap.html'>seaborn heatmaps.\n",
        "    <img src='confusion_matrix.png' width=300px></li>\n",
        "        </ul>\n",
        "    </li>\n",
        "    <br>\n",
        "    <li><strong>Conclusion</strong>\n",
        "        <ul>\n",
        "    <li>You need to summarize the results at the end of the notebook, summarize it in the table format. To print out a table please refer to this prettytable library<a href='http://zetcode.com/python/prettytable/'>  link</a> \n",
        "        <img src='summary.JPG' width=400px>\n",
        "    </li>\n",
        "        </ul>\n",
        "</ol>"
      ]
    },
    {
      "cell_type": "markdown",
      "metadata": {
        "id": "gilb-DOVLPo2"
      },
      "source": [
        "<h4><font color='red'>Note: Data Leakage</font></h4>\n",
        "\n",
        "1. There will be an issue of data-leakage if you vectorize the entire data and then split it into train/cv/test.\n",
        "2. To avoid the issue of data-leakag, make sure to split your data first and then vectorize it. \n",
        "3. While vectorizing your data, apply the method fit_transform() on you train data, and apply the method transform() on cv/test data.\n",
        "4. For more details please go through this <a href='https://soundcloud.com/applied-ai-course/leakage-bow-and-tfidf'>link.</a>"
      ]
    },
    {
      "cell_type": "markdown",
      "metadata": {
        "id": "jiYocvSHLPo4"
      },
      "source": [
        "# Applying Logistic Regression"
      ]
    },
    {
      "cell_type": "markdown",
      "metadata": {
        "id": "LE_XPVZJLPo4"
      },
      "source": [
        "## [5.1] Logistic Regression on BOW,<font color='red'> SET 1</font>"
      ]
    },
    {
      "cell_type": "markdown",
      "metadata": {
        "id": "_iciJvj2LPo4"
      },
      "source": [
        "### [5.1.1] Applying Logistic Regression with L1 regularization on BOW,<font color='red'> SET 1</font>"
      ]
    },
    {
      "cell_type": "code",
      "execution_count": null,
      "metadata": {
        "id": "fhjSuvlCL7QF"
      },
      "outputs": [],
      "source": [
        "def optimal_lamda(X_train_bow,Y_train,X_cv_bow,Y_cv):\n",
        "    train_auc_l1 = []\n",
        "    train_auc_l2 = []\n",
        "    cv_auc_l1 = []\n",
        "    cv_auc_l2 = []\n",
        "    penalty = ['l1','l2']\n",
        "    hyper_param = [10**i for i in range(-7,7)]"
      ]
    },
    {
      "cell_type": "code",
      "execution_count": null,
      "metadata": {
        "scrolled": true,
        "id": "yMLTFl_5L7QF",
        "outputId": "ac191b24-99a2-48d3-9718-7f14ac0909d9"
      },
      "outputs": [
        {
          "data": {
            "image/png": "[encoded data removed]",
            "text/plain": [
              "<Figure size 432x288 with 1 Axes>"
            ]
          },
          "metadata": {
            "needs_background": "light"
          },
          "output_type": "display_data"
        }
      ],
      "source": [
        "from sklearn.linear_model import LogisticRegression\n",
        "from sklearn.model_selection import GridSearchCV\n",
        "from sklearn.metrics import roc_auc_score\n",
        "import matplotlib.pyplot as plt\n",
        "penalty = ['l1','l2']\n",
        "hyper_param = [10**i for i in range(-7,7)]\n",
        "train_auc_l1 = []\n",
        "train_auc_l2 = []\n",
        "cv_auc_l1 = []\n",
        "cv_auc_l2 = []\n",
        "\"\"\"\n",
        "y_true : array, shape = [n_samples] or [n_samples, n_classes]\n",
        "True binary labels or binary label indicators.\n",
        "\n",
        "y_score : array, shape = [n_samples] or [n_samples, n_classes]\n",
        "Target scores, can either be probability estimates of the positive class, confidence values, or non-thresholded measure of\n",
        "decisions (as returned by “decision_function” on some classifiers). \n",
        "For binary y_true, y_score is supposed to be the score of the class with greater label.\n",
        "\n",
        "\"\"\"\n",
        "\n",
        "for i in penalty:\n",
        "    for j in hyper_param:\n",
        "        clf = LogisticRegression(C=j, penalty=i)\n",
        "        clf.fit(X_train_bow, Y_train)\n",
        "        Y_train_pred =  clf.predict_proba(X_train_bow)[:,1] \n",
        "        Y_cv_pred =  clf.predict_proba(X_cv_bow)[:,1]\n",
        "        if i == 'l1':\n",
        "            train_auc_l1.append(roc_auc_score(Y_train,Y_train_pred)) \n",
        "            cv_auc_l1.append(roc_auc_score(Y_cv, Y_cv_pred))\n",
        "        else:\n",
        "            train_auc_l2.append(roc_auc_score(Y_train,Y_train_pred))\n",
        "            cv_auc_l2.append(roc_auc_score(Y_cv, Y_cv_pred))\n",
        "plt.plot(np.log(hyper_param), train_auc_l1, label='Train AUC-L1') \n",
        "plt.plot(np.log(hyper_param), cv_auc_l1, label='CV AUC-L1')\n",
        "plt.scatter(np.log(hyper_param), train_auc_l1, label='Train AUC-L1') \n",
        "plt.scatter(np.log10(hyper_param), cv_auc_l1, label='CV AUC-L1')\n",
        "plt.legend()\n",
        "plt.xlabel(\"Lamda: hyperparameter\")\n",
        "plt.ylabel(\"AUC\")\n",
        "plt.title(\"ERROR PLOTS\")\n",
        "plt.show()               \n",
        "\n",
        "    "
      ]
    },
    {
      "cell_type": "code",
      "execution_count": null,
      "metadata": {
        "id": "IxilESfQL7QG"
      },
      "outputs": [],
      "source": [
        "clf = LogisticRegression(C=j, penalty= 'l1')\n",
        "            "
      ]
    },
    {
      "cell_type": "code",
      "execution_count": null,
      "metadata": {
        "id": "v3n94AYXL7QG",
        "outputId": "f04a5a0b-d467-4dde-ff4f-5efbcb9b8654"
      },
      "outputs": [
        {
          "data": {
            "text/plain": [
              "LogisticRegression(C=1000000, class_weight=None, dual=False,\n",
              "          fit_intercept=True, intercept_scaling=1, max_iter=100,\n",
              "          multi_class='warn', n_jobs=None, penalty='l1', random_state=None,\n",
              "          solver='warn', tol=0.0001, verbose=0, warm_start=False)"
            ]
          },
          "execution_count": 89,
          "metadata": {},
          "output_type": "execute_result"
        }
      ],
      "source": [
        "clf.fit(X_train_bow,Y_train)"
      ]
    },
    {
      "cell_type": "code",
      "execution_count": null,
      "metadata": {
        "id": "OqF3mjM3L7QG",
        "outputId": "2ff574a1-2ee1-477d-c519-58c8d32bc8a9"
      },
      "outputs": [
        {
          "name": "stdout",
          "output_type": "stream",
          "text": [
            "[1 1 1 ... 1 1 0]\n"
          ]
        }
      ],
      "source": [
        "pred = clf.predict(X_test_bow)\n",
        "print(pred)"
      ]
    },
    {
      "cell_type": "code",
      "execution_count": null,
      "metadata": {
        "id": "VRfLCWNEL7QG",
        "outputId": "5fb8b9d3-c36f-46e5-a97e-6425bbf3cfbe"
      },
      "outputs": [
        {
          "name": "stdout",
          "output_type": "stream",
          "text": [
            "[1 1 1 ... 0 1 1]\n"
          ]
        }
      ],
      "source": [
        "pred1 = clf.predict(X_train_bow)\n",
        "print(pred1)"
      ]
    },
    {
      "cell_type": "code",
      "execution_count": null,
      "metadata": {
        "id": "Z3pGc9w4L7QG",
        "outputId": "8946af4b-4d15-40b7-8efd-9f01d21b4348"
      },
      "outputs": [
        {
          "data": {
            "text/plain": [
              "array([[ 4551,  2005],\n",
              "       [ 2441, 24003]], dtype=int64)"
            ]
          },
          "execution_count": 92,
          "metadata": {},
          "output_type": "execute_result"
        }
      ],
      "source": [
        "from sklearn.metrics import confusion_matrix\n",
        "cm = confusion_matrix(Y_test, pred)\n",
        "cm"
      ]
    },
    {
      "cell_type": "code",
      "execution_count": null,
      "metadata": {
        "id": "Rg5tjnqAL7QG",
        "outputId": "6910c24e-e26e-41ca-ec16-9d2dc5487b8c"
      },
      "outputs": [
        {
          "data": {
            "text/plain": [
              "array([[ 9026,     0],\n",
              "       [    0, 35864]], dtype=int64)"
            ]
          },
          "execution_count": 93,
          "metadata": {},
          "output_type": "execute_result"
        }
      ],
      "source": [
        "cm1 = confusion_matrix(Y_train, pred1)\n",
        "cm1"
      ]
    },
    {
      "cell_type": "code",
      "execution_count": null,
      "metadata": {
        "id": "eLOQIBBjL7QH",
        "outputId": "10c77879-4035-4b48-d832-085aa58e98d7"
      },
      "outputs": [
        {
          "data": {
            "image/png": "[encoded data removed]",
            "text/plain": [
              "<Figure size 432x288 with 2 Axes>"
            ]
          },
          "metadata": {
            "needs_background": "light"
          },
          "output_type": "display_data"
        },
        {
          "data": {
            "image/png": "[encoded data removed]",
            "text/plain": [
              "<Figure size 432x288 with 2 Axes>"
            ]
          },
          "metadata": {
            "needs_background": "light"
          },
          "output_type": "display_data"
        }
      ],
      "source": [
        "import seaborn as sns\n",
        "class_label = [\"negative\", \"positive\"]\n",
        "df_cm = pd.DataFrame(cm, index = class_label, columns = class_label)\n",
        "sns.heatmap(df_cm, annot = True, fmt = \"d\")\n",
        "plt.title(\"test Confusiion Matrix\")\n",
        "plt.xlabel(\"Predicted Label\")\n",
        "plt.ylabel(\"True Label\")\n",
        "plt.show()\n",
        "class_label = [\"negative\", \"positive\"]\n",
        "df_cm1 = pd.DataFrame(cm1, index = class_label, columns = class_label)\n",
        "sns.heatmap(df_cm1, annot = True, fmt = \"d\")\n",
        "plt.title(\"train Confusiion Matrix\")\n",
        "plt.xlabel(\"Predicted Label\")\n",
        "plt.ylabel(\"True Label\")\n",
        "plt.show()\n"
      ]
    },
    {
      "cell_type": "code",
      "execution_count": null,
      "metadata": {
        "id": "hxYPNrSJL7QH",
        "outputId": "0116d664-80dd-4044-e9f5-1e249ff2a3d1"
      },
      "outputs": [
        {
          "name": "stdout",
          "output_type": "stream",
          "text": [
            "test classification report\n",
            "              precision    recall  f1-score   support\n",
            "\n",
            "           0       0.65      0.69      0.67      6556\n",
            "           1       0.92      0.91      0.92     26444\n",
            "\n",
            "   micro avg       0.87      0.87      0.87     33000\n",
            "   macro avg       0.79      0.80      0.79     33000\n",
            "weighted avg       0.87      0.87      0.87     33000\n",
            "\n",
            "train classification report\n",
            "              precision    recall  f1-score   support\n",
            "\n",
            "           0       1.00      1.00      1.00      9026\n",
            "           1       1.00      1.00      1.00     35864\n",
            "\n",
            "   micro avg       1.00      1.00      1.00     44890\n",
            "   macro avg       1.00      1.00      1.00     44890\n",
            "weighted avg       1.00      1.00      1.00     44890\n",
            "\n"
          ]
        }
      ],
      "source": [
        "from sklearn.metrics import classification_report\n",
        "print(\"test classification report\")\n",
        "print(classification_report(Y_test, pred))\n",
        "print(\"train classification report\")\n",
        "print(classification_report(Y_train, pred1))"
      ]
    },
    {
      "cell_type": "code",
      "execution_count": null,
      "metadata": {
        "id": "AEecxVHDL7QH",
        "outputId": "691bc3f1-6c72-44ed-cea8-70c0d6e7ba66"
      },
      "outputs": [
        {
          "data": {
            "image/png": "[encoded data removed]",
            "text/plain": [
              "<Figure size 432x288 with 1 Axes>"
            ]
          },
          "metadata": {
            "needs_background": "light"
          },
          "output_type": "display_data"
        },
        {
          "name": "stdout",
          "output_type": "stream",
          "text": [
            "====================================================================================================\n"
          ]
        }
      ],
      "source": [
        "from sklearn.metrics import roc_curve, auc\n",
        "\n",
        "\n",
        "clf = LogisticRegression(C=j, penalty= 'l1')\n",
        "clf.fit(X_train_bow, Y_train)\n",
        "# roc_auc_score(y_true, y_score) the 2nd parameter should be probability estimates of the positive class\n",
        "# not the predicted outputs\n",
        "\n",
        "train_fpr, train_tpr, thresholds = roc_curve(Y_train, clf.predict_proba(X_train_bow)[:,1])\n",
        "test_fpr, test_tpr, thresholds = roc_curve(Y_test, clf.predict_proba(X_test_bow)[:,1])\n",
        "\n",
        "plt.plot(train_fpr, train_tpr, label=\"train AUC =\"+str(auc(train_fpr, train_tpr)))\n",
        "plt.plot(test_fpr, test_tpr, label=\"test AUC =\"+str(auc(test_fpr, test_tpr)))\n",
        "plt.legend()\n",
        "plt.xlabel(\"alpha\")\n",
        "plt.ylabel(\"AUC\")\n",
        "plt.title(\"ERROR PLOTS\")\n",
        "plt.show()\n",
        "\n",
        "print(\"=\"*100)"
      ]
    },
    {
      "cell_type": "markdown",
      "metadata": {
        "id": "5h4NhywcLPo7"
      },
      "source": [
        "#### [5.1.1.1] Calculating sparsity on weight vector obtained using L1 regularization on BOW,<font color='red'> SET 1</font>"
      ]
    },
    {
      "cell_type": "code",
      "execution_count": null,
      "metadata": {
        "id": "5kzkcY9RL7QH",
        "outputId": "4db37355-658d-4a01-d994-43b120ec1885"
      },
      "outputs": [
        {
          "name": "stdout",
          "output_type": "stream",
          "text": [
            "[[-0.2092073  -0.80960091  1.27561162 ...  0.00181947  0.79355021\n",
            "   0.17973264]]\n"
          ]
        }
      ],
      "source": [
        "lr = LogisticRegression(C=1e5)\n",
        "lr.fit(X_train_bow, Y_train)\n",
        "\n",
        "print(lr.coef_) # returns a matrix of weights (coefficients)"
      ]
    },
    {
      "cell_type": "code",
      "execution_count": null,
      "metadata": {
        "id": "kzJjmwpsL7QH",
        "outputId": "0be2c04b-810e-4591-d6b4-a925ddfd88cf"
      },
      "outputs": [
        {
          "name": "stdout",
          "output_type": "stream",
          "text": [
            "0.0\n"
          ]
        }
      ],
      "source": [
        "# calculate sparsity\n",
        "from numpy import array\n",
        "from numpy import count_nonzero\n",
        "# calculate sparsity\n",
        "sparsity = 1.0 - count_nonzero(lr.coef_) / lr.coef_.size\n",
        "print(sparsity)"
      ]
    },
    {
      "cell_type": "markdown",
      "metadata": {
        "id": "aRHMa52qLPpA"
      },
      "source": [
        "### [5.1.2] Applying Logistic Regression with L2 regularization on BOW,<font color='red'> SET 1</font>"
      ]
    },
    {
      "cell_type": "code",
      "execution_count": null,
      "metadata": {
        "id": "YtmPVfasL7QI",
        "outputId": "0e59c961-710e-4393-f9de-f6c45b054e9b"
      },
      "outputs": [
        {
          "data": {
            "image/png": "[encoded data removed]",
            "text/plain": [
              "<Figure size 432x288 with 1 Axes>"
            ]
          },
          "metadata": {
            "needs_background": "light"
          },
          "output_type": "display_data"
        }
      ],
      "source": [
        "plt.plot(np.log10(hyper_param), train_auc_l2, label='Train AUC-L2') \n",
        "plt.plot(np.log10(hyper_param), cv_auc_l2, label='CV AUC-L2')\n",
        "plt.scatter(np.log10(hyper_param), train_auc_l2, label='Train AUC-L2') \n",
        "plt.scatter(np.log10(hyper_param), cv_auc_l2, label='CV AUC-L2')\n",
        "plt.legend()\n",
        "plt.xlabel(\"Lamda: hyperparameter\")\n",
        "plt.ylabel(\"AUC\")\n",
        "plt.title(\"ERROR PLOTS\")\n",
        "plt.show()"
      ]
    },
    {
      "cell_type": "code",
      "execution_count": null,
      "metadata": {
        "id": "1cmLAQTDL7QI"
      },
      "outputs": [],
      "source": [
        "clf = LogisticRegression(C=j, penalty= 'l1')"
      ]
    },
    {
      "cell_type": "code",
      "execution_count": null,
      "metadata": {
        "id": "JbOxjuUzL7QI",
        "outputId": "ea95c8e6-e07f-49fb-d442-ff82f1eea185"
      },
      "outputs": [
        {
          "data": {
            "text/plain": [
              "LogisticRegression(C=1000000, class_weight=None, dual=False,\n",
              "          fit_intercept=True, intercept_scaling=1, max_iter=100,\n",
              "          multi_class='warn', n_jobs=None, penalty='l1', random_state=None,\n",
              "          solver='warn', tol=0.0001, verbose=0, warm_start=False)"
            ]
          },
          "execution_count": 101,
          "metadata": {},
          "output_type": "execute_result"
        }
      ],
      "source": [
        "clf.fit(X_train_bow,Y_train)"
      ]
    },
    {
      "cell_type": "code",
      "execution_count": null,
      "metadata": {
        "id": "GJmFoZrRL7QI",
        "outputId": "54987d8a-0c51-4026-ffba-92167cb4b57b"
      },
      "outputs": [
        {
          "name": "stdout",
          "output_type": "stream",
          "text": [
            "[1 1 1 ... 1 1 0]\n"
          ]
        }
      ],
      "source": [
        "pred = clf.predict(X_test_bow)\n",
        "print(pred)"
      ]
    },
    {
      "cell_type": "code",
      "execution_count": null,
      "metadata": {
        "id": "dA3TD3QpL7QI",
        "outputId": "93ecbd6d-08fb-4080-bdd5-1a88b46620a4"
      },
      "outputs": [
        {
          "name": "stdout",
          "output_type": "stream",
          "text": [
            "[1 1 1 ... 0 1 1]\n"
          ]
        }
      ],
      "source": [
        "pred1 = clf.predict(X_train_bow)\n",
        "print(pred1)"
      ]
    },
    {
      "cell_type": "code",
      "execution_count": null,
      "metadata": {
        "id": "SUbiCvSCL7QJ",
        "outputId": "8420ccb1-0e58-4e20-952c-8029b2c8f979"
      },
      "outputs": [
        {
          "data": {
            "text/plain": [
              "array([[ 4564,  1992],\n",
              "       [ 2425, 24019]], dtype=int64)"
            ]
          },
          "execution_count": 104,
          "metadata": {},
          "output_type": "execute_result"
        }
      ],
      "source": [
        "from sklearn.metrics import confusion_matrix\n",
        "cm = confusion_matrix(Y_test, pred)\n",
        "cm"
      ]
    },
    {
      "cell_type": "code",
      "execution_count": null,
      "metadata": {
        "id": "Pjqc9DlEL7QJ",
        "outputId": "f842dd2a-42e1-43aa-ef65-398dfd1aafe5"
      },
      "outputs": [
        {
          "data": {
            "text/plain": [
              "array([[ 9026,     0],\n",
              "       [    0, 35864]], dtype=int64)"
            ]
          },
          "execution_count": 105,
          "metadata": {},
          "output_type": "execute_result"
        }
      ],
      "source": [
        "cm1 = confusion_matrix(Y_train, pred1)\n",
        "cm1"
      ]
    },
    {
      "cell_type": "code",
      "execution_count": null,
      "metadata": {
        "id": "ueXqoAUIL7QJ",
        "outputId": "74ad444f-0f6a-46a8-f0ed-a367c48a604d"
      },
      "outputs": [
        {
          "data": {
            "image/png": "[encoded data removed]",
            "text/plain": [
              "<Figure size 432x288 with 2 Axes>"
            ]
          },
          "metadata": {
            "needs_background": "light"
          },
          "output_type": "display_data"
        },
        {
          "data": {
            "image/png": "[encoded data removed]",
            "text/plain": [
              "<Figure size 432x288 with 2 Axes>"
            ]
          },
          "metadata": {
            "needs_background": "light"
          },
          "output_type": "display_data"
        }
      ],
      "source": [
        "import seaborn as sns\n",
        "class_label = [\"negative\", \"positive\"]\n",
        "df_cm = pd.DataFrame(cm, index = class_label, columns = class_label)\n",
        "sns.heatmap(df_cm, annot = True, fmt = \"d\")\n",
        "plt.title(\"test Confusiion Matrix\")\n",
        "plt.xlabel(\"Predicted Label\")\n",
        "plt.ylabel(\"True Label\")\n",
        "plt.show()\n",
        "class_label = [\"negative\", \"positive\"]\n",
        "df_cm1 = pd.DataFrame(cm1, index = class_label, columns = class_label)\n",
        "sns.heatmap(df_cm1, annot = True, fmt = \"d\")\n",
        "plt.title(\"train Confusiion Matrix\")\n",
        "plt.xlabel(\"Predicted Label\")\n",
        "plt.ylabel(\"True Label\")\n",
        "plt.show()\n"
      ]
    },
    {
      "cell_type": "code",
      "execution_count": null,
      "metadata": {
        "id": "bp5yHopxL7QJ",
        "outputId": "89d3dd14-8dc9-466f-8f28-7dd812c749cc"
      },
      "outputs": [
        {
          "name": "stdout",
          "output_type": "stream",
          "text": [
            "test classification report\n",
            "              precision    recall  f1-score   support\n",
            "\n",
            "           0       0.65      0.70      0.67      6556\n",
            "           1       0.92      0.91      0.92     26444\n",
            "\n",
            "   micro avg       0.87      0.87      0.87     33000\n",
            "   macro avg       0.79      0.80      0.79     33000\n",
            "weighted avg       0.87      0.87      0.87     33000\n",
            "\n",
            "train classification report\n",
            "              precision    recall  f1-score   support\n",
            "\n",
            "           0       1.00      1.00      1.00      9026\n",
            "           1       1.00      1.00      1.00     35864\n",
            "\n",
            "   micro avg       1.00      1.00      1.00     44890\n",
            "   macro avg       1.00      1.00      1.00     44890\n",
            "weighted avg       1.00      1.00      1.00     44890\n",
            "\n"
          ]
        }
      ],
      "source": [
        "from sklearn.metrics import classification_report\n",
        "print(\"test classification report\")\n",
        "print(classification_report(Y_test, pred))\n",
        "print(\"train classification report\")\n",
        "print(classification_report(Y_train, pred1))"
      ]
    },
    {
      "cell_type": "code",
      "execution_count": null,
      "metadata": {
        "id": "t1HOQCOIL7QJ",
        "outputId": "4888cd46-ea43-4724-ff7c-e7111b400866"
      },
      "outputs": [
        {
          "data": {
            "image/png": "[encoded data removed]",
            "text/plain": [
              "<Figure size 432x288 with 1 Axes>"
            ]
          },
          "metadata": {
            "needs_background": "light"
          },
          "output_type": "display_data"
        },
        {
          "name": "stdout",
          "output_type": "stream",
          "text": [
            "====================================================================================================\n"
          ]
        }
      ],
      "source": [
        "# https://scikit-learn.org/stable/modules/generated/sklearn.metrics.roc_curve.html#sklearn.metrics.roc_curve\n",
        "from sklearn.metrics import roc_curve, auc\n",
        "\n",
        "\n",
        "clf = LogisticRegression(C=j, penalty= 'l2')\n",
        "clf.fit(X_train_bow, Y_train)\n",
        "# roc_auc_score(y_true, y_score) the 2nd parameter should be probability estimates of the positive class\n",
        "# not the predicted outputs\n",
        "\n",
        "train_fpr, train_tpr, thresholds = roc_curve(Y_train, clf.predict_proba(X_train_bow)[:,1])\n",
        "test_fpr, test_tpr, thresholds = roc_curve(Y_test, clf.predict_proba(X_test_bow)[:,1])\n",
        "\n",
        "plt.plot(train_fpr, train_tpr, label=\"train AUC =\"+str(auc(train_fpr, train_tpr)))\n",
        "plt.plot(test_fpr, test_tpr, label=\"test AUC =\"+str(auc(test_fpr, test_tpr)))\n",
        "plt.legend()\n",
        "plt.xlabel(\"alpha\")\n",
        "plt.ylabel(\"AUC\")\n",
        "plt.title(\"ERROR PLOTS\")\n",
        "plt.show()\n",
        "\n",
        "print(\"=\"*100)"
      ]
    },
    {
      "cell_type": "markdown",
      "metadata": {
        "id": "UaJkugTKLPpE"
      },
      "source": [
        "#### [5.1.2.1] Performing pertubation test (multicollinearity check) on BOW,<font color='red'> SET 1</font>"
      ]
    },
    {
      "cell_type": "code",
      "execution_count": null,
      "metadata": {
        "id": "rsWDJ7qPL7QK",
        "outputId": "5a48f643-6ce6-46b6-aa61-478748dbbd57"
      },
      "outputs": [
        {
          "name": "stdout",
          "output_type": "stream",
          "text": [
            "(1, 39890)\n"
          ]
        }
      ],
      "source": [
        "weights1=clf.coef_\n",
        "print(weights1.shape)"
      ]
    },
    {
      "cell_type": "code",
      "execution_count": null,
      "metadata": {
        "id": "zpWLFXCRL7QK"
      },
      "outputs": [],
      "source": [
        "from copy import copy\n",
        "from copy import deepcopy"
      ]
    },
    {
      "cell_type": "code",
      "execution_count": null,
      "metadata": {
        "id": "6g7bpTg-L7QK",
        "outputId": "50cc71d4-b30b-4f0c-8129-275c62c3d601"
      },
      "outputs": [
        {
          "name": "stdout",
          "output_type": "stream",
          "text": [
            "-0.0008741000058743627\n",
            "[[0 0 0 ... 0 0 0]\n",
            " [0 0 0 ... 0 0 0]\n",
            " [0 0 0 ... 0 0 0]\n",
            " ...\n",
            " [0 0 0 ... 0 0 0]\n",
            " [0 0 0 ... 0 0 0]\n",
            " [0 0 0 ... 0 0 0]]\n",
            "[[0. 0. 0. ... 0. 0. 0.]\n",
            " [0. 0. 0. ... 0. 0. 0.]\n",
            " [0. 0. 0. ... 0. 0. 0.]\n",
            " ...\n",
            " [0. 0. 0. ... 0. 0. 0.]\n",
            " [0. 0. 0. ... 0. 0. 0.]\n",
            " [0. 0. 0. ... 0. 0. 0.]]\n"
          ]
        }
      ],
      "source": [
        "from copy import copy\n",
        "from copy import deepcopy\n",
        "x_trainp=deepcopy(X_train_bow) # Copying x_train into x_trainp\n",
        "e=np.random.normal(0,0.01)\n",
        "print(e)\n",
        "x_trainp.data = x_trainp.data + e\n",
        "print(X_train_bow.todense())\n",
        "print(x_trainp.todense())"
      ]
    },
    {
      "cell_type": "code",
      "execution_count": null,
      "metadata": {
        "id": "S16pxK48L7QK",
        "outputId": "ac84ae52-b583-44fa-974a-5443e694ab4c"
      },
      "outputs": [
        {
          "name": "stdout",
          "output_type": "stream",
          "text": [
            "(1, 39890)\n"
          ]
        }
      ],
      "source": [
        "#Calculating weights after adding noise\n",
        "model = LogisticRegression(C= 0.01, penalty= 'l1')\n",
        "model.fit(x_trainp,Y_train)\n",
        "weights2=model.coef_\n",
        "print(weights2.shape)"
      ]
    },
    {
      "cell_type": "code",
      "execution_count": null,
      "metadata": {
        "id": "teT7KbglL7QL"
      },
      "outputs": [],
      "source": [
        "#Adding small noise to avoid zero divide error\n",
        "e=np.random.normal(0,0.001)\n",
        "weights1+=e\n",
        "weights2+=e\n"
      ]
    },
    {
      "cell_type": "code",
      "execution_count": null,
      "metadata": {
        "id": "cPxF4GYcL7QL",
        "outputId": "ed260f90-9cbc-4490-e2e8-ab510500d91a"
      },
      "outputs": [
        {
          "name": "stdout",
          "output_type": "stream",
          "text": [
            "1037222.1457840429\n",
            "0.024117912096074466\n",
            "5351.511830786806\n"
          ]
        }
      ],
      "source": [
        "weights_difference = np.abs((weights2-weights1)/weights1)*100\n",
        "#print(weights_difference)\n",
        "print(weights_difference.max())\n",
        "print(weights_difference.min())\n",
        "print(weights_difference.std())"
      ]
    },
    {
      "cell_type": "code",
      "execution_count": null,
      "metadata": {
        "id": "jf2Qq-5PL7QL",
        "outputId": "36c59d26-7392-4f88-a0d7-db03354d7817"
      },
      "outputs": [
        {
          "data": {
            "text/plain": [
              "[<matplotlib.lines.Line2D at 0x15c0822d908>]"
            ]
          },
          "execution_count": 130,
          "metadata": {},
          "output_type": "execute_result"
        },
        {
          "data": {
            "image/png": "[encoded data removed]",
            "text/plain": [
              "<Figure size 432x288 with 1 Axes>"
            ]
          },
          "metadata": {
            "needs_background": "light"
          },
          "output_type": "display_data"
        }
      ],
      "source": [
        "percentage_change=[]\n",
        "collinear_features=[]\n",
        "\n",
        "for i in range(1,101):\n",
        "    f=np.where(weights_difference > i)[1].size\n",
        "    percentage_change.append(i)\n",
        "    collinear_features.append(f)\n",
        "    \n",
        "plt.xlabel('percentage change of weight vectors')\n",
        "plt.ylabel('no. of multicollinear features')\n",
        "plt.plot(percentage_change,collinear_features)"
      ]
    },
    {
      "cell_type": "code",
      "execution_count": null,
      "metadata": {
        "id": "QKL9aSfIL7QL",
        "outputId": "1d67d9e3-b5a4-4130-a3eb-da4a882f1c2b"
      },
      "outputs": [
        {
          "name": "stdout",
          "output_type": "stream",
          "text": [
            "No of features have weight changes greater than 50%:  36844\n",
            "\n",
            "Hence below features are collinear:\n",
            "[23953, 23953, 23953, 23953, 23953, 23953, 23953, 23953, 23953, 23953]\n"
          ]
        }
      ],
      "source": [
        "print(\"No of features have weight changes greater than 50%: \", weights_difference[np.where(weights_difference > 50)].size)\n",
        "fe=[]\n",
        "print(\"\\nHence below features are collinear:\")\n",
        "for i in np.where(weights_difference > 50)[1]:\n",
        "    fe.append(f)\n",
        "print(fe[:10])"
      ]
    },
    {
      "cell_type": "code",
      "execution_count": null,
      "metadata": {
        "id": "yAe4x9wCL7QL",
        "outputId": "6e82a1a6-26c1-4701-efff-3109e16a59ed"
      },
      "outputs": [
        {
          "data": {
            "image/png": "[encoded data removed]",
            "text/plain": [
              "<Figure size 432x288 with 1 Axes>"
            ]
          },
          "metadata": {
            "needs_background": "light"
          },
          "output_type": "display_data"
        }
      ],
      "source": [
        "from matplotlib import mlab\n",
        "d = np.sort(weights_difference).cumsum()\n",
        "p = np.array(range(0,101,10))\n",
        "perc = mlab.prctile(d, p=p)\n",
        "plt.plot(d)\n",
        "\n",
        "# Place red dots on the percentiles\n",
        "plt.plot((len(d)-1) * p/100., perc, 'ro')\n",
        "\n",
        "# Set tick locations and labels\n",
        "plt.xticks((len(d)-1) * p/100., map(str, p))\n",
        "\n",
        "plt.show()"
      ]
    },
    {
      "cell_type": "code",
      "execution_count": null,
      "metadata": {
        "id": "M6cIzsqrL7QL",
        "outputId": "2c5beb3d-c952-4d79-e951-ab88591691b9"
      },
      "outputs": [
        {
          "name": "stdout",
          "output_type": "stream",
          "text": [
            "938.4908116792731\n",
            "1056.2374312629504\n",
            "1223.8169863989478\n",
            "1468.105756582012\n",
            "1711.3030485752315\n",
            "2324.574266921627\n",
            "2806.6143183214117\n",
            "4595.167465476958\n",
            "8364.591203311906\n",
            "1037222.1457840429\n"
          ]
        }
      ],
      "source": [
        "print(np.percentile(weights_difference, 99.1))\n",
        "print(np.percentile(weights_difference, 99.2))\n",
        "print(np.percentile(weights_difference, 99.3))\n",
        "print(np.percentile(weights_difference, 99.4))\n",
        "print(np.percentile(weights_difference, 99.5))\n",
        "print(np.percentile(weights_difference, 99.6))\n",
        "print(np.percentile(weights_difference, 99.7))\n",
        "print(np.percentile(weights_difference, 99.8))\n",
        "print(np.percentile(weights_difference, 99.9))\n",
        "print(np.percentile(weights_difference, 100))"
      ]
    },
    {
      "cell_type": "code",
      "execution_count": null,
      "metadata": {
        "id": "HoNM6O0ML7QM",
        "outputId": "9d9ac1bc-392f-4c53-cb34-247d87736629"
      },
      "outputs": [
        {
          "name": "stdout",
          "output_type": "stream",
          "text": [
            "[23953, 23953, 23953, 23953, 23953, 23953, 23953, 23953, 23953, 23953]\n",
            "No of features:  239\n"
          ]
        }
      ],
      "source": [
        "# As per above analysis we can set 99.4 as threshold above which the weights are increased abruptly.\n",
        "# Printed some the features from them\n",
        "\n",
        "weights_difference[weights_difference > np.percentile(weights_difference,95)]\n",
        "fe=[]\n",
        "for i in np.where(weights_difference > np.percentile(weights_difference,99.4))[1]:\n",
        "    fe.append(f)\n",
        "print(fe[:10])\n",
        "print(\"No of features: \",len(fe))"
      ]
    },
    {
      "cell_type": "code",
      "execution_count": null,
      "metadata": {
        "id": "8KVgqVX5L7QM"
      },
      "outputs": [],
      "source": [
        "from sklearn.model_selection import cross_val_score, ShuffleSplit"
      ]
    },
    {
      "cell_type": "code",
      "execution_count": null,
      "metadata": {
        "id": "w7qydCCBL7QM",
        "outputId": "249d82fa-59a0-4399-996a-1137ce00ecfb"
      },
      "outputs": [
        {
          "name": "stdout",
          "output_type": "stream",
          "text": [
            "For C = 0.001\n",
            "Accuracy on test set: 86.615%\n",
            "F1-Score on test set: 0.916\n",
            "Non Zero weights: 11\n",
            "---------------\n",
            "For C = 0.1\n",
            "Accuracy on test set: 86.615%\n",
            "F1-Score on test set: 0.916\n",
            "Non Zero weights: 863\n",
            "---------------\n",
            "For C = 1\n",
            "Accuracy on test set: 86.615%\n",
            "F1-Score on test set: 0.916\n",
            "Non Zero weights: 4089\n",
            "---------------\n",
            "For C = 10\n",
            "Accuracy on test set: 86.615%\n",
            "F1-Score on test set: 0.916\n",
            "Non Zero weights: 7174\n",
            "---------------\n",
            "For C = 100\n",
            "Accuracy on test set: 86.615%\n",
            "F1-Score on test set: 0.916\n",
            "Non Zero weights: 8204\n",
            "---------------\n",
            "For C = 1000\n",
            "Accuracy on test set: 86.615%\n",
            "F1-Score on test set: 0.916\n",
            "Non Zero weights: 10697\n",
            "---------------\n"
          ]
        }
      ],
      "source": [
        "# Showing how sparsity increases as we increase lambda or decrease C when L1 Regularizer is used\n",
        "from sklearn.metrics import accuracy_score\n",
        "from sklearn.metrics import f1_score\n",
        "for i in [0.001,0.1,1,10,100,1000]:\n",
        "    clf_l1 = LogisticRegression(C= i, penalty= 'l1')\n",
        "    clf_l1.fit(X_train_bow,Y_train)\n",
        "    y_pred = clf_l1.predict(X_test_bow)\n",
        "    print(\"For C =\",i)\n",
        "    acc_bow = accuracy_score(Y_test, pred) * 100\n",
        "    print(\"Accuracy on test set: %0.3f%%\"%(acc_bow))\n",
        "    print(\"F1-Score on test set: %0.3f\"%(f1_score(Y_test, pred)))\n",
        "    print(\"Non Zero weights:\",np.count_nonzero(clf_l1.coef_))\n",
        "    print(\"---------------\")"
      ]
    },
    {
      "cell_type": "markdown",
      "metadata": {
        "id": "eB1rF0BQLPpG"
      },
      "source": [
        "### [5.1.3] Feature Importance on BOW,<font color='red'> SET 1</font>"
      ]
    },
    {
      "cell_type": "code",
      "execution_count": null,
      "metadata": {
        "id": "a5ZYaj9WL7QM"
      },
      "outputs": [],
      "source": [
        "def top_features(count_vect, clf, n):\n",
        "    feature_names = count_vect.get_feature_names()\n",
        "    coefs_with_fns = sorted(zip(clf.coef_[0], feature_names))\n",
        "    top = zip(coefs_with_fns[:n], coefs_with_fns[:-(n + 1):-1])\n",
        "    print(\"\\t\\t\\tNegative\\t\\t\\t\\t\\t\\tPositive\")\n",
        "    print(\"________________________________________________________________________________________________\")\n",
        "    for (coef_1, fn_1), (coef_2, fn_2) in top:\n",
        "        print(\"\\t%.4f\\t%-15s\\t\\t\\t\\t%.4f\\t%-15s\" % (coef_1, fn_1, coef_2, fn_2))"
      ]
    },
    {
      "cell_type": "markdown",
      "metadata": {
        "id": "JZTP19dqLPpI"
      },
      "source": [
        "#### [5.1.3.1] Top 10 important features of positive class and negative class from<font color='red'> SET 1</font>"
      ]
    },
    {
      "cell_type": "code",
      "execution_count": null,
      "metadata": {
        "scrolled": true,
        "id": "-SoU7DvhL7QM",
        "outputId": "1f7457e7-fe9c-40fc-b89f-49b96d791548"
      },
      "outputs": [
        {
          "name": "stdout",
          "output_type": "stream",
          "text": [
            "\t\t\tNegative\t\t\t\t\t\tPositive\n",
            "________________________________________________________________________________________________\n",
            "\t-5.1518\tregret         \t\t\t\t4.3013\tgrade          \n",
            "\t-4.5961\tpounds         \t\t\t\t3.7952\tcocoa          \n",
            "\t-3.8179\tship           \t\t\t\t3.7822\tyou won        \n",
            "\t-3.7513\thave them      \t\t\t\t3.4827\tloaded         \n",
            "\t-3.6759\twe love        \t\t\t\t3.3773\tlabeled        \n",
            "\t-3.6694\tplants         \t\t\t\t3.2081\tmyself         \n",
            "\t-3.6013\tcan use        \t\t\t\t3.2063\tshe is         \n",
            "\t-3.5487\tadding         \t\t\t\t3.1001\tprefers        \n",
            "\t-3.4451\tis right       \t\t\t\t2.9743\tand don        \n",
            "\t-3.3540\tyou might      \t\t\t\t2.9416\tnot even       \n"
          ]
        }
      ],
      "source": [
        "top_features(count_vect, clf,10)"
      ]
    },
    {
      "cell_type": "markdown",
      "metadata": {
        "id": "nKn3VXcZLPpN"
      },
      "source": [
        "## [5.2] Logistic Regression on TFIDF,<font color='red'> SET 2</font>"
      ]
    },
    {
      "cell_type": "markdown",
      "metadata": {
        "id": "naTBSzm6LPpN"
      },
      "source": [
        "### [5.2.1] Applying Logistic Regression with L1 regularization on TFIDF,<font color='red'> SET 2</font>"
      ]
    },
    {
      "cell_type": "code",
      "execution_count": null,
      "metadata": {
        "id": "LxU4wtaUL7QN",
        "outputId": "feab41e8-1256-48d1-a5f0-bc169005c7e1"
      },
      "outputs": [
        {
          "data": {
            "image/png": "[encoded data removed]",
            "text/plain": [
              "<Figure size 432x288 with 1 Axes>"
            ]
          },
          "metadata": {
            "needs_background": "light"
          },
          "output_type": "display_data"
        }
      ],
      "source": [
        "from sklearn.linear_model import LogisticRegression\n",
        "from sklearn.model_selection import GridSearchCV\n",
        "from sklearn.metrics import roc_auc_score\n",
        "import matplotlib.pyplot as plt\n",
        "\"\"\"\n",
        "y_true : array, shape = [n_samples] or [n_samples, n_classes]\n",
        "True binary labels or binary label indicators.\n",
        "\n",
        "y_score : array, shape = [n_samples] or [n_samples, n_classes]\n",
        "Target scores, can either be probability estimates of the positive class, confidence values, or non-thresholded measure of\n",
        "decisions (as returned by “decision_function” on some classifiers). \n",
        "For binary y_true, y_score is supposed to be the score of the class with greater label.\n",
        "\n",
        "\"\"\"\n",
        "def optimal_lamda(X_train_tfidf,Y_train,X_cv_tfidf,Y_cv):\n",
        "    train_auc_l1 = []\n",
        "    train_auc_l2 = []\n",
        "    cv_auc_l1 = []\n",
        "    cv_auc_l2 = []\n",
        "    penalty=['l1','l2']\n",
        "    hyper_param=[10**i for i in range(-7,7)]\n",
        "    for i in penalty:\n",
        "        for j in  hyper_param:\n",
        "            clf = LogisticRegression(C=j, penalty= i)\n",
        "            clf.fit(X_train_tfidf, Y_train)\n",
        "            Y_train_pred =  clf.predict_proba(X_train_tfidf)[:,1] \n",
        "            Y_cv_pred =  clf.predict_proba(X_cv_tfidf)[:,1]\n",
        "            if i == 'l1':\n",
        "                train_auc_l1.append(roc_auc_score(Y_train,Y_train_pred)) \n",
        "                cv_auc_l1.append(roc_auc_score(Y_cv, Y_cv_pred))\n",
        "            else:\n",
        "                train_auc_l2.append(roc_auc_score(Y_train,Y_train_pred))\n",
        "                cv_auc_l2.append(roc_auc_score(Y_cv, Y_cv_pred))\n",
        "                \n",
        "plt.plot(np.log10(hyper_param), train_auc_l1, label='Train AUC-L1') \n",
        "plt.plot(np.log10(hyper_param), cv_auc_l1, label='CV AUC-L1')\n",
        "plt.scatter(np.log10(hyper_param), train_auc_l1, label='Train AUC-L1') \n",
        "plt.scatter(np.log10(hyper_param), cv_auc_l1, label='CV AUC-L1')\n",
        "plt.legend()\n",
        "plt.xlabel(\"Lamda: hyperparameter\")\n",
        "plt.ylabel(\"AUC\")\n",
        "plt.title(\"ERROR PLOTS\")\n",
        "plt.show()\n",
        "    "
      ]
    },
    {
      "cell_type": "code",
      "execution_count": null,
      "metadata": {
        "id": "P8wxqxqAL7QN"
      },
      "outputs": [],
      "source": [
        "clf = LogisticRegression(C=j, penalty= 'l1')"
      ]
    },
    {
      "cell_type": "code",
      "execution_count": null,
      "metadata": {
        "id": "ANZKLm34L7QN",
        "outputId": "95a88948-eb3f-4481-e622-20a69c57d5cc"
      },
      "outputs": [
        {
          "data": {
            "text/plain": [
              "LogisticRegression(C=1000000, class_weight=None, dual=False,\n",
              "          fit_intercept=True, intercept_scaling=1, max_iter=100,\n",
              "          multi_class='warn', n_jobs=None, penalty='l1', random_state=None,\n",
              "          solver='warn', tol=0.0001, verbose=0, warm_start=False)"
            ]
          },
          "execution_count": 141,
          "metadata": {},
          "output_type": "execute_result"
        }
      ],
      "source": [
        "clf.fit(X_train_tfidf,Y_train)"
      ]
    },
    {
      "cell_type": "code",
      "execution_count": null,
      "metadata": {
        "id": "IPVIm7FUL7QN",
        "outputId": "3b1e6297-9bb2-4002-a96e-e2bea851e292"
      },
      "outputs": [
        {
          "name": "stdout",
          "output_type": "stream",
          "text": [
            "[1 1 1 ... 1 1 0]\n"
          ]
        }
      ],
      "source": [
        "pred = clf.predict(X_test_tfidf)\n",
        "print(pred)"
      ]
    },
    {
      "cell_type": "code",
      "execution_count": null,
      "metadata": {
        "id": "tQuTxF4QL7QO",
        "outputId": "db0a1b77-bfc5-468c-c171-d1c5d4890358"
      },
      "outputs": [
        {
          "name": "stdout",
          "output_type": "stream",
          "text": [
            "[1 1 1 ... 0 1 1]\n"
          ]
        }
      ],
      "source": [
        "pred1 = clf.predict(X_train_tfidf)\n",
        "print(pred1)"
      ]
    },
    {
      "cell_type": "code",
      "execution_count": null,
      "metadata": {
        "id": "W47-MoJWL7QO",
        "outputId": "3029d255-12c7-481c-c31f-ea6000c9e2bd"
      },
      "outputs": [
        {
          "data": {
            "text/plain": [
              "array([[ 5130,  1426],\n",
              "       [ 1429, 25015]], dtype=int64)"
            ]
          },
          "execution_count": 144,
          "metadata": {},
          "output_type": "execute_result"
        }
      ],
      "source": [
        "from sklearn.metrics import confusion_matrix\n",
        "cm = confusion_matrix(Y_test, pred)\n",
        "cm"
      ]
    },
    {
      "cell_type": "code",
      "execution_count": null,
      "metadata": {
        "id": "sMyAKfchL7QO",
        "outputId": "d1a6b8df-3a4a-42ef-e3c5-feb2601851f6"
      },
      "outputs": [
        {
          "data": {
            "text/plain": [
              "array([[ 9026,     0],\n",
              "       [    0, 35864]], dtype=int64)"
            ]
          },
          "execution_count": 145,
          "metadata": {},
          "output_type": "execute_result"
        }
      ],
      "source": [
        "cm1 = confusion_matrix(Y_train, pred1)\n",
        "cm1"
      ]
    },
    {
      "cell_type": "code",
      "execution_count": null,
      "metadata": {
        "id": "_KN7bm6zL7QO",
        "outputId": "dd02246a-f3a7-458a-8a89-4f75b4d669ee"
      },
      "outputs": [
        {
          "data": {
            "image/png": "[encoded data removed]",
            "text/plain": [
              "<Figure size 432x288 with 2 Axes>"
            ]
          },
          "metadata": {
            "needs_background": "light"
          },
          "output_type": "display_data"
        },
        {
          "data": {
            "image/png": "[encoded data removed]",
            "text/plain": [
              "<Figure size 432x288 with 2 Axes>"
            ]
          },
          "metadata": {
            "needs_background": "light"
          },
          "output_type": "display_data"
        }
      ],
      "source": [
        "import seaborn as sns\n",
        "class_label = [\"negative\", \"positive\"]\n",
        "df_cm = pd.DataFrame(cm, index = class_label, columns = class_label)\n",
        "sns.heatmap(df_cm, annot = True, fmt = \"d\")\n",
        "plt.title(\"test Confusiion Matrix\")\n",
        "plt.xlabel(\"Predicted Label\")\n",
        "plt.ylabel(\"True Label\")\n",
        "plt.show()\n",
        "class_label = [\"negative\", \"positive\"]\n",
        "df_cm1 = pd.DataFrame(cm1, index = class_label, columns = class_label)\n",
        "sns.heatmap(df_cm1, annot = True, fmt = \"d\")\n",
        "plt.title(\"train Confusiion Matrix\")\n",
        "plt.xlabel(\"Predicted Label\")\n",
        "plt.ylabel(\"True Label\")\n",
        "plt.show()\n"
      ]
    },
    {
      "cell_type": "code",
      "execution_count": null,
      "metadata": {
        "id": "TNJoAim6L7QO",
        "outputId": "92bcfab7-ce15-41d7-d56e-113057014492"
      },
      "outputs": [
        {
          "name": "stdout",
          "output_type": "stream",
          "text": [
            "test classification report\n",
            "              precision    recall  f1-score   support\n",
            "\n",
            "           0       0.78      0.78      0.78      6556\n",
            "           1       0.95      0.95      0.95     26444\n",
            "\n",
            "   micro avg       0.91      0.91      0.91     33000\n",
            "   macro avg       0.86      0.86      0.86     33000\n",
            "weighted avg       0.91      0.91      0.91     33000\n",
            "\n",
            "train classification report\n",
            "              precision    recall  f1-score   support\n",
            "\n",
            "           0       1.00      1.00      1.00      9026\n",
            "           1       1.00      1.00      1.00     35864\n",
            "\n",
            "   micro avg       1.00      1.00      1.00     44890\n",
            "   macro avg       1.00      1.00      1.00     44890\n",
            "weighted avg       1.00      1.00      1.00     44890\n",
            "\n"
          ]
        }
      ],
      "source": [
        "from sklearn.metrics import classification_report\n",
        "print(\"test classification report\")\n",
        "print(classification_report(Y_test, pred))\n",
        "print(\"train classification report\")\n",
        "print(classification_report(Y_train, pred1))"
      ]
    },
    {
      "cell_type": "code",
      "execution_count": null,
      "metadata": {
        "id": "8t5K8Qn2L7QO",
        "outputId": "be75125d-4bf6-421a-cde0-cb1ce17dfd4e"
      },
      "outputs": [
        {
          "data": {
            "image/png": "[encoded data removed]",
            "text/plain": [
              "<Figure size 432x288 with 1 Axes>"
            ]
          },
          "metadata": {
            "needs_background": "light"
          },
          "output_type": "display_data"
        },
        {
          "name": "stdout",
          "output_type": "stream",
          "text": [
            "====================================================================================================\n"
          ]
        }
      ],
      "source": [
        "from sklearn.metrics import roc_curve, auc\n",
        "\n",
        "\n",
        "clf = LogisticRegression(C=j, penalty= 'l1')\n",
        "clf.fit(X_train_tfidf, Y_train)\n",
        "# roc_auc_score(y_true, y_score) the 2nd parameter should be probability estimates of the positive class\n",
        "# not the predicted outputs\n",
        "\n",
        "train_fpr, train_tpr, thresholds = roc_curve(Y_train, clf.predict_proba(X_train_tfidf)[:,1])\n",
        "test_fpr, test_tpr, thresholds = roc_curve(Y_test, clf.predict_proba(X_test_tfidf)[:,1])\n",
        "\n",
        "plt.plot(train_fpr, train_tpr, label=\"train AUC =\"+str(auc(train_fpr, train_tpr)))\n",
        "plt.plot(test_fpr, test_tpr, label=\"test AUC =\"+str(auc(test_fpr, test_tpr)))\n",
        "plt.legend()\n",
        "plt.xlabel(\"alpha\")\n",
        "plt.ylabel(\"AUC\")\n",
        "plt.title(\"ERROR PLOTS\")\n",
        "plt.show()\n",
        "\n",
        "print(\"=\"*100)"
      ]
    },
    {
      "cell_type": "markdown",
      "metadata": {
        "id": "NdFShHQJLPpV"
      },
      "source": [
        "### [5.2.2] Applying Logistic Regression with L2 regularization on TFIDF,<font color='red'> SET 2</font>"
      ]
    },
    {
      "cell_type": "code",
      "execution_count": null,
      "metadata": {
        "id": "7kfFx2z4L7QP",
        "outputId": "6be6fdba-fe19-4b08-fa1a-2d1ed9c27eb1"
      },
      "outputs": [
        {
          "data": {
            "image/png": "[encoded data removed]",
            "text/plain": [
              "<Figure size 432x288 with 1 Axes>"
            ]
          },
          "metadata": {
            "needs_background": "light"
          },
          "output_type": "display_data"
        }
      ],
      "source": [
        "plt.plot(np.log10(hyper_param), train_auc_l2, label='Train AUC-L2') \n",
        "plt.plot(np.log10(hyper_param), cv_auc_l2, label='CV AUC-L2')\n",
        "plt.scatter(np.log10(hyper_param), train_auc_l2, label='Train AUC-L2') \n",
        "plt.scatter(np.log10(hyper_param), cv_auc_l2, label='CV AUC-L2')\n",
        "plt.legend()\n",
        "plt.xlabel(\"Lamda: hyperparameter\")\n",
        "plt.ylabel(\"AUC\")\n",
        "plt.title(\"ERROR PLOTS\")\n",
        "plt.show()"
      ]
    },
    {
      "cell_type": "code",
      "execution_count": null,
      "metadata": {
        "id": "eELZMp2sL7QP"
      },
      "outputs": [],
      "source": [
        "clf = LogisticRegression(C=j, penalty= 'l2')"
      ]
    },
    {
      "cell_type": "code",
      "execution_count": null,
      "metadata": {
        "id": "ILUzNBpaL7QP",
        "outputId": "f2e73eee-410f-4d59-e01d-b00492c19462"
      },
      "outputs": [
        {
          "data": {
            "text/plain": [
              "LogisticRegression(C=1000000, class_weight=None, dual=False,\n",
              "          fit_intercept=True, intercept_scaling=1, max_iter=100,\n",
              "          multi_class='warn', n_jobs=None, penalty='l2', random_state=None,\n",
              "          solver='warn', tol=0.0001, verbose=0, warm_start=False)"
            ]
          },
          "execution_count": 151,
          "metadata": {},
          "output_type": "execute_result"
        }
      ],
      "source": [
        "clf.fit(X_train_tfidf,Y_train)"
      ]
    },
    {
      "cell_type": "code",
      "execution_count": null,
      "metadata": {
        "id": "hQS5MANiL7QP",
        "outputId": "a7ba20c0-0dc0-434b-f8bf-301b940c412c"
      },
      "outputs": [
        {
          "name": "stdout",
          "output_type": "stream",
          "text": [
            "[1 1 1 ... 1 1 0]\n"
          ]
        }
      ],
      "source": [
        "pred = clf.predict(X_test_tfidf)\n",
        "print(pred)"
      ]
    },
    {
      "cell_type": "code",
      "execution_count": null,
      "metadata": {
        "id": "AUHkArhLL7QP",
        "outputId": "4a9147b4-16ba-4fb9-e82b-09efa37d73e8"
      },
      "outputs": [
        {
          "name": "stdout",
          "output_type": "stream",
          "text": [
            "[1 1 1 ... 0 1 1]\n"
          ]
        }
      ],
      "source": [
        "pred1 = clf.predict(X_train_tfidf)\n",
        "print(pred1)"
      ]
    },
    {
      "cell_type": "code",
      "execution_count": null,
      "metadata": {
        "id": "91FX0eK-L7QP",
        "outputId": "ac0161dd-2363-4d14-d116-7fcfe4de929b"
      },
      "outputs": [
        {
          "data": {
            "text/plain": [
              "array([[ 5345,  1211],\n",
              "       [  873, 25571]], dtype=int64)"
            ]
          },
          "execution_count": 154,
          "metadata": {},
          "output_type": "execute_result"
        }
      ],
      "source": [
        "from sklearn.metrics import confusion_matrix\n",
        "cm = confusion_matrix(Y_test, pred)\n",
        "cm"
      ]
    },
    {
      "cell_type": "code",
      "execution_count": null,
      "metadata": {
        "id": "IsbIWZSaL7QQ",
        "outputId": "c8400a58-237b-4101-9990-4c7e70830328"
      },
      "outputs": [
        {
          "data": {
            "text/plain": [
              "array([[ 9026,     0],\n",
              "       [    0, 35864]], dtype=int64)"
            ]
          },
          "execution_count": 155,
          "metadata": {},
          "output_type": "execute_result"
        }
      ],
      "source": [
        "cm1 = confusion_matrix(Y_train, pred1)\n",
        "cm1"
      ]
    },
    {
      "cell_type": "code",
      "execution_count": null,
      "metadata": {
        "id": "RKriWYArL7QQ",
        "outputId": "e1f97056-2013-40fc-ca03-a50ddf0c7257"
      },
      "outputs": [
        {
          "data": {
            "image/png": "[encoded data removed]",
            "text/plain": [
              "<Figure size 432x288 with 2 Axes>"
            ]
          },
          "metadata": {
            "needs_background": "light"
          },
          "output_type": "display_data"
        },
        {
          "data": {
            "image/png": "[encoded data removed]",
            "text/plain": [
              "<Figure size 432x288 with 2 Axes>"
            ]
          },
          "metadata": {
            "needs_background": "light"
          },
          "output_type": "display_data"
        }
      ],
      "source": [
        "import seaborn as sns\n",
        "class_label = [\"negative\", \"positive\"]\n",
        "df_cm = pd.DataFrame(cm, index = class_label, columns = class_label)\n",
        "sns.heatmap(df_cm, annot = True, fmt = \"d\")\n",
        "plt.title(\"test Confusiion Matrix\")\n",
        "plt.xlabel(\"Predicted Label\")\n",
        "plt.ylabel(\"True Label\")\n",
        "plt.show()\n",
        "class_label = [\"negative\", \"positive\"]\n",
        "df_cm1 = pd.DataFrame(cm1, index = class_label, columns = class_label)\n",
        "sns.heatmap(df_cm1, annot = True, fmt = \"d\")\n",
        "plt.title(\"train Confusiion Matrix\")\n",
        "plt.xlabel(\"Predicted Label\")\n",
        "plt.ylabel(\"True Label\")\n",
        "plt.show()\n"
      ]
    },
    {
      "cell_type": "code",
      "execution_count": null,
      "metadata": {
        "id": "Lpona5BHL7QQ",
        "outputId": "ba888cca-038d-494b-a5df-70fa82412645"
      },
      "outputs": [
        {
          "name": "stdout",
          "output_type": "stream",
          "text": [
            "test classification report\n",
            "              precision    recall  f1-score   support\n",
            "\n",
            "           0       0.86      0.82      0.84      6556\n",
            "           1       0.95      0.97      0.96     26444\n",
            "\n",
            "   micro avg       0.94      0.94      0.94     33000\n",
            "   macro avg       0.91      0.89      0.90     33000\n",
            "weighted avg       0.94      0.94      0.94     33000\n",
            "\n",
            "train classification report\n",
            "              precision    recall  f1-score   support\n",
            "\n",
            "           0       1.00      1.00      1.00      9026\n",
            "           1       1.00      1.00      1.00     35864\n",
            "\n",
            "   micro avg       1.00      1.00      1.00     44890\n",
            "   macro avg       1.00      1.00      1.00     44890\n",
            "weighted avg       1.00      1.00      1.00     44890\n",
            "\n"
          ]
        }
      ],
      "source": [
        "from sklearn.metrics import classification_report\n",
        "print(\"test classification report\")\n",
        "print(classification_report(Y_test, pred))\n",
        "print(\"train classification report\")\n",
        "print(classification_report(Y_train, pred1))"
      ]
    },
    {
      "cell_type": "code",
      "execution_count": null,
      "metadata": {
        "id": "hV9XosVDL7QQ",
        "outputId": "5cbf52c3-2019-4738-ecfa-e1ce6f887453"
      },
      "outputs": [
        {
          "data": {
            "image/png": "[encoded data removed]",
            "text/plain": [
              "<Figure size 432x288 with 1 Axes>"
            ]
          },
          "metadata": {
            "needs_background": "light"
          },
          "output_type": "display_data"
        },
        {
          "name": "stdout",
          "output_type": "stream",
          "text": [
            "====================================================================================================\n"
          ]
        }
      ],
      "source": [
        "from sklearn.metrics import roc_curve, auc\n",
        "\n",
        "\n",
        "clf = LogisticRegression(C=j, penalty= 'l2')\n",
        "clf.fit(X_train_tfidf, Y_train)\n",
        "# roc_auc_score(y_true, y_score) the 2nd parameter should be probability estimates of the positive class\n",
        "# not the predicted outputs\n",
        "\n",
        "train_fpr, train_tpr, thresholds = roc_curve(Y_train, clf.predict_proba(X_train_tfidf)[:,1])\n",
        "test_fpr, test_tpr, thresholds = roc_curve(Y_test, clf.predict_proba(X_test_tfidf)[:,1])\n",
        "\n",
        "plt.plot(train_fpr, train_tpr, label=\"train AUC =\"+str(auc(train_fpr, train_tpr)))\n",
        "plt.plot(test_fpr, test_tpr, label=\"test AUC =\"+str(auc(test_fpr, test_tpr)))\n",
        "plt.legend()\n",
        "plt.xlabel(\"alpha\")\n",
        "plt.ylabel(\"AUC\")\n",
        "plt.title(\"ERROR PLOTS\")\n",
        "plt.show()\n",
        "\n",
        "print(\"=\"*100)"
      ]
    },
    {
      "cell_type": "markdown",
      "metadata": {
        "id": "xeeJ8eVvLPpX"
      },
      "source": [
        "### [5.2.3] Feature Importance on TFIDF,<font color='red'> SET 2</font>"
      ]
    },
    {
      "cell_type": "code",
      "execution_count": null,
      "metadata": {
        "id": "bwa2bb6pL7QQ"
      },
      "outputs": [],
      "source": [
        "def top_features(count_vect, clf, n):\n",
        "    feature_names = count_vect.get_feature_names()\n",
        "    coefs_with_fns = sorted(zip(clf.coef_[0], feature_names))\n",
        "    top = zip(coefs_with_fns[:n], coefs_with_fns[:-(n + 1):-1])\n",
        "    print(\"\\t\\t\\tNegative\\t\\t\\t\\t\\t\\tPositive\")\n",
        "    print(\"________________________________________________________________________________________________\")\n",
        "    for (coef_1, fn_1), (coef_2, fn_2) in top:\n",
        "        print(\"\\t%.4f\\t%-15s\\t\\t\\t\\t%.4f\\t%-15s\" % (coef_1, fn_1, coef_2, fn_2))"
      ]
    },
    {
      "cell_type": "markdown",
      "metadata": {
        "id": "Cj9XEmqQLPpY"
      },
      "source": [
        "#### [5.2.3.1] Top 10 important features of positive class and negative class from<font color='red'> SET 2</font>"
      ]
    },
    {
      "cell_type": "code",
      "execution_count": null,
      "metadata": {
        "scrolled": true,
        "id": "M_ENzFnXL7QR",
        "outputId": "9d323753-b032-44df-87ba-55c9233dedcd"
      },
      "outputs": [
        {
          "name": "stdout",
          "output_type": "stream",
          "text": [
            "\t\t\tNegative\t\t\t\t\t\tPositive\n",
            "________________________________________________________________________________________________\n",
            "\t-35.7615\twanted to      \t\t\t\t33.1517\thaven tried    \n",
            "\t-35.1217\tto pick        \t\t\t\t32.8081\twaffles        \n",
            "\t-27.6311\tto make        \t\t\t\t23.3651\tcarb           \n",
            "\t-19.8599\thelps          \t\t\t\t22.1269\tweeks          \n",
            "\t-19.2049\tve tried       \t\t\t\t20.1437\ttoo and        \n",
            "\t-19.0677\tproduct at     \t\t\t\t17.3500\tme of          \n",
            "\t-18.6039\tand vinegar    \t\t\t\t17.3040\tthis coffee    \n",
            "\t-18.4660\teven the       \t\t\t\t17.2679\tpill pockets   \n",
            "\t-18.4312\tdoes it        \t\t\t\t17.0326\tthe directions \n",
            "\t-18.0075\tbox was        \t\t\t\t16.5659\tearth best     \n"
          ]
        }
      ],
      "source": [
        "top_features(count_vect, clf,10)"
      ]
    },
    {
      "cell_type": "markdown",
      "metadata": {
        "id": "kByBCEA1LPpj"
      },
      "source": [
        "### [5.3.1] Applying Logistic Regression with L1 regularization on AVG W2V<font color='red'> SET 3</font>"
      ]
    },
    {
      "cell_type": "code",
      "execution_count": null,
      "metadata": {
        "id": "ZhTu2eOYL7QR",
        "outputId": "4e52bab9-f758-43bf-c7de-07bb56a3cd23"
      },
      "outputs": [
        {
          "data": {
            "image/png": "[encoded data removed]",
            "text/plain": [
              "<Figure size 432x288 with 1 Axes>"
            ]
          },
          "metadata": {
            "needs_background": "light"
          },
          "output_type": "display_data"
        }
      ],
      "source": [
        "from sklearn.linear_model import LogisticRegression\n",
        "from sklearn.model_selection import GridSearchCV\n",
        "from sklearn.metrics import roc_auc_score\n",
        "import matplotlib.pyplot as plt\n",
        "\"\"\"\n",
        "y_true : array, shape = [n_samples] or [n_samples, n_classes]\n",
        "True binary labels or binary label indicators.\n",
        "\n",
        "y_score : array, shape = [n_samples] or [n_samples, n_classes]\n",
        "Target scores, can either be probability estimates of the positive class, confidence values, or non-thresholded measure of\n",
        "decisions (as returned by “decision_function” on some classifiers). \n",
        "For binary y_true, y_score is supposed to be the score of the class with greater label.\n",
        "\n",
        "\"\"\"\n",
        "def optimal_lamda(X_train_avgw2v,Y_train,X_cv_avgw2v,Y_cv):\n",
        "    train_auc_l1 = []\n",
        "    train_auc_l2 = []\n",
        "    cv_auc_l1 = []\n",
        "    cv_auc_l2 = []\n",
        "    penalty=['l1','l2']\n",
        "    hyper_param=[10**i for i in range(-7,7)]\n",
        "    for i in penalty:\n",
        "        for j in  hyper_param:\n",
        "            clf = LogisticRegression(C=j, penalty= i)\n",
        "            clf.fit(X_train_avgw2v, Y_train)\n",
        "            Y_train_pred =  clf.predict_proba(X_train_avgw2v)[:,1] \n",
        "            Y_cv_pred =  clf.predict_proba(X_cv_avgw2v)[:,1]\n",
        "            if i == 'l1':\n",
        "                train_auc_l1.append(roc_auc_score(Y_train,Y_train_pred)) \n",
        "                cv_auc_l1.append(roc_auc_score(Y_cv, Y_cv_pred))\n",
        "            else:\n",
        "                train_auc_l2.append(roc_auc_score(Y_train,Y_train_pred))\n",
        "                cv_auc_l2.append(roc_auc_score(Y_cv, Y_cv_pred))\n",
        "                \n",
        "plt.plot(np.log10(hyper_param), train_auc_l1, label='Train AUC-L1') \n",
        "plt.plot(np.log10(hyper_param), cv_auc_l1, label='CV AUC-L1')\n",
        "plt.scatter(np.log10(hyper_param), train_auc_l1, label='Train AUC-L1') \n",
        "plt.scatter(np.log10(hyper_param), cv_auc_l1, label='CV AUC-L1')\n",
        "plt.legend()\n",
        "plt.xlabel(\"Lamda: hyperparameter\")\n",
        "plt.ylabel(\"AUC\")\n",
        "plt.title(\"ERROR PLOTS\")\n",
        "plt.show()\n",
        "    "
      ]
    },
    {
      "cell_type": "code",
      "execution_count": null,
      "metadata": {
        "id": "fXQWUs8CL7QR"
      },
      "outputs": [],
      "source": [
        "clf = LogisticRegression(C=j, penalty= 'l1')"
      ]
    },
    {
      "cell_type": "code",
      "execution_count": null,
      "metadata": {
        "id": "Nr9aFGYHL7QR",
        "outputId": "be182f69-7243-461f-fec5-6cfeae7424be"
      },
      "outputs": [
        {
          "data": {
            "text/plain": [
              "LogisticRegression(C=1000000, class_weight=None, dual=False,\n",
              "          fit_intercept=True, intercept_scaling=1, max_iter=100,\n",
              "          multi_class='warn', n_jobs=None, penalty='l1', random_state=None,\n",
              "          solver='warn', tol=0.0001, verbose=0, warm_start=False)"
            ]
          },
          "execution_count": 163,
          "metadata": {},
          "output_type": "execute_result"
        }
      ],
      "source": [
        "clf.fit(X_train_avgw2v,Y_train)"
      ]
    },
    {
      "cell_type": "code",
      "execution_count": null,
      "metadata": {
        "id": "JXwBFQrzL7QR",
        "outputId": "0fdef9f7-6d18-4cba-ac25-3964e765590e"
      },
      "outputs": [
        {
          "name": "stdout",
          "output_type": "stream",
          "text": [
            "[1 1 1 ... 1 0 1]\n"
          ]
        }
      ],
      "source": [
        "pred = clf.predict(X_test_avgw2v)\n",
        "print(pred)"
      ]
    },
    {
      "cell_type": "code",
      "execution_count": null,
      "metadata": {
        "id": "5tImUtqNL7QS",
        "outputId": "243fddff-8537-43e7-d795-4ab2565246ac"
      },
      "outputs": [
        {
          "name": "stdout",
          "output_type": "stream",
          "text": [
            "[1 1 1 ... 0 1 1]\n"
          ]
        }
      ],
      "source": [
        "pred1 = clf.predict(X_train_avgw2v)\n",
        "print(pred1)"
      ]
    },
    {
      "cell_type": "code",
      "execution_count": null,
      "metadata": {
        "id": "TCVa_ylrL7QS",
        "outputId": "5349928b-c807-4e1e-8fbf-f713ee2cae3f"
      },
      "outputs": [
        {
          "data": {
            "text/plain": [
              "array([[ 2839,  3717],\n",
              "       [ 1280, 25164]], dtype=int64)"
            ]
          },
          "execution_count": 166,
          "metadata": {},
          "output_type": "execute_result"
        }
      ],
      "source": [
        "from sklearn.metrics import confusion_matrix\n",
        "cm = confusion_matrix(Y_test, pred)\n",
        "cm"
      ]
    },
    {
      "cell_type": "code",
      "execution_count": null,
      "metadata": {
        "id": "kw47bIqxL7QS",
        "outputId": "65032daf-36e1-45b6-b902-6bac6b18662b"
      },
      "outputs": [
        {
          "data": {
            "text/plain": [
              "array([[ 4018,  5008],\n",
              "       [ 1732, 34132]], dtype=int64)"
            ]
          },
          "execution_count": 167,
          "metadata": {},
          "output_type": "execute_result"
        }
      ],
      "source": [
        "cm1 = confusion_matrix(Y_train, pred1)\n",
        "cm1"
      ]
    },
    {
      "cell_type": "code",
      "execution_count": null,
      "metadata": {
        "id": "ZZuHgnxXL7QS",
        "outputId": "58772798-b707-4ceb-81b9-7f5ed59c1278"
      },
      "outputs": [
        {
          "data": {
            "image/png": "[encoded data removed]",
            "text/plain": [
              "<Figure size 432x288 with 2 Axes>"
            ]
          },
          "metadata": {
            "needs_background": "light"
          },
          "output_type": "display_data"
        },
        {
          "data": {
            "image/png": "[encoded data removed]",
            "text/plain": [
              "<Figure size 432x288 with 2 Axes>"
            ]
          },
          "metadata": {
            "needs_background": "light"
          },
          "output_type": "display_data"
        }
      ],
      "source": [
        "import seaborn as sns\n",
        "class_label = [\"negative\", \"positive\"]\n",
        "df_cm = pd.DataFrame(cm, index = class_label, columns = class_label)\n",
        "sns.heatmap(df_cm, annot = True, fmt = \"d\")\n",
        "plt.title(\"test Confusiion Matrix\")\n",
        "plt.xlabel(\"Predicted Label\")\n",
        "plt.ylabel(\"True Label\")\n",
        "plt.show()\n",
        "class_label = [\"negative\", \"positive\"]\n",
        "df_cm1 = pd.DataFrame(cm1, index = class_label, columns = class_label)\n",
        "sns.heatmap(df_cm1, annot = True, fmt = \"d\")\n",
        "plt.title(\"train Confusiion Matrix\")\n",
        "plt.xlabel(\"Predicted Label\")\n",
        "plt.ylabel(\"True Label\")\n",
        "plt.show()\n"
      ]
    },
    {
      "cell_type": "code",
      "execution_count": null,
      "metadata": {
        "id": "9Qd5SslLL7QS",
        "outputId": "17fe1045-d4e8-4ec6-fd5d-697907f71c3f"
      },
      "outputs": [
        {
          "name": "stdout",
          "output_type": "stream",
          "text": [
            "test classification report\n",
            "              precision    recall  f1-score   support\n",
            "\n",
            "           0       0.69      0.43      0.53      6556\n",
            "           1       0.87      0.95      0.91     26444\n",
            "\n",
            "   micro avg       0.85      0.85      0.85     33000\n",
            "   macro avg       0.78      0.69      0.72     33000\n",
            "weighted avg       0.84      0.85      0.83     33000\n",
            "\n",
            "train classification report\n",
            "              precision    recall  f1-score   support\n",
            "\n",
            "           0       0.70      0.45      0.54      9026\n",
            "           1       0.87      0.95      0.91     35864\n",
            "\n",
            "   micro avg       0.85      0.85      0.85     44890\n",
            "   macro avg       0.79      0.70      0.73     44890\n",
            "weighted avg       0.84      0.85      0.84     44890\n",
            "\n"
          ]
        }
      ],
      "source": [
        "from sklearn.metrics import classification_report\n",
        "print(\"test classification report\")\n",
        "print(classification_report(Y_test, pred))\n",
        "print(\"train classification report\")\n",
        "print(classification_report(Y_train, pred1))"
      ]
    },
    {
      "cell_type": "code",
      "execution_count": null,
      "metadata": {
        "id": "_NsBmu2PL7QS",
        "outputId": "b5ba9b26-c92b-4ecb-9e14-3b6f4ac60c9c"
      },
      "outputs": [
        {
          "data": {
            "image/png": "[encoded data removed]",
            "text/plain": [
              "<Figure size 432x288 with 1 Axes>"
            ]
          },
          "metadata": {
            "needs_background": "light"
          },
          "output_type": "display_data"
        },
        {
          "name": "stdout",
          "output_type": "stream",
          "text": [
            "====================================================================================================\n"
          ]
        }
      ],
      "source": [
        "from sklearn.metrics import roc_curve, auc\n",
        "\n",
        "\n",
        "clf = LogisticRegression(C=j, penalty= 'l1')\n",
        "clf.fit(X_train_avgw2v, Y_train)\n",
        "# roc_auc_score(y_true, y_score) the 2nd parameter should be probability estimates of the positive class\n",
        "# not the predicted outputs\n",
        "\n",
        "train_fpr, train_tpr, thresholds = roc_curve(Y_train, clf.predict_proba(X_train_avgw2v)[:,1])\n",
        "test_fpr, test_tpr, thresholds = roc_curve(Y_test, clf.predict_proba(X_test_avgw2v)[:,1])\n",
        "\n",
        "plt.plot(train_fpr, train_tpr, label=\"train AUC =\"+str(auc(train_fpr, train_tpr)))\n",
        "plt.plot(test_fpr, test_tpr, label=\"test AUC =\"+str(auc(test_fpr, test_tpr)))\n",
        "plt.legend()\n",
        "plt.xlabel(\"alpha\")\n",
        "plt.ylabel(\"AUC\")\n",
        "plt.title(\"ERROR PLOTS\")\n",
        "plt.show()\n",
        "\n",
        "print(\"=\"*100)"
      ]
    },
    {
      "cell_type": "markdown",
      "metadata": {
        "id": "O_8Gu2SfLPpn"
      },
      "source": [
        "### [5.3.2] Applying Logistic Regression with L2 regularization on AVG W2V,<font color='red'> SET 3</font>"
      ]
    },
    {
      "cell_type": "code",
      "execution_count": null,
      "metadata": {
        "id": "O0VIuI_vL7QT",
        "outputId": "a192d56a-eb4d-4dbe-9e55-f8d2aefb6434"
      },
      "outputs": [
        {
          "data": {
            "image/png": "[encoded data removed]",
            "text/plain": [
              "<Figure size 432x288 with 1 Axes>"
            ]
          },
          "metadata": {
            "needs_background": "light"
          },
          "output_type": "display_data"
        }
      ],
      "source": [
        "plt.plot(np.log10(hyper_param), train_auc_l2, label='Train AUC-L2') \n",
        "plt.plot(np.log10(hyper_param), cv_auc_l2, label='CV AUC-L2')\n",
        "plt.scatter(np.log10(hyper_param), train_auc_l2, label='Train AUC-L2') \n",
        "plt.scatter(np.log10(hyper_param), cv_auc_l2, label='CV AUC-L2')\n",
        "plt.legend()\n",
        "plt.xlabel(\"Lamda: hyperparameter\")\n",
        "plt.ylabel(\"AUC\")\n",
        "plt.title(\"ERROR PLOTS\")\n",
        "plt.show()"
      ]
    },
    {
      "cell_type": "code",
      "execution_count": null,
      "metadata": {
        "id": "g60j-ALmL7QT"
      },
      "outputs": [],
      "source": [
        "clf = LogisticRegression(C=j, penalty= 'l2')"
      ]
    },
    {
      "cell_type": "code",
      "execution_count": null,
      "metadata": {
        "id": "N3DwY84PL7QT",
        "outputId": "473fdd2f-1326-4407-bcfe-237afce45d32"
      },
      "outputs": [
        {
          "data": {
            "text/plain": [
              "LogisticRegression(C=1000000, class_weight=None, dual=False,\n",
              "          fit_intercept=True, intercept_scaling=1, max_iter=100,\n",
              "          multi_class='warn', n_jobs=None, penalty='l2', random_state=None,\n",
              "          solver='warn', tol=0.0001, verbose=0, warm_start=False)"
            ]
          },
          "execution_count": 173,
          "metadata": {},
          "output_type": "execute_result"
        }
      ],
      "source": [
        "clf.fit(X_train_avgw2v,Y_train)"
      ]
    },
    {
      "cell_type": "code",
      "execution_count": null,
      "metadata": {
        "id": "IJeEL1rSL7QT",
        "outputId": "cb45d7ba-dc9e-4564-edac-f1912c1164f8"
      },
      "outputs": [
        {
          "name": "stdout",
          "output_type": "stream",
          "text": [
            "[1 1 1 ... 1 0 1]\n"
          ]
        }
      ],
      "source": [
        "pred = clf.predict(X_test_avgw2v)\n",
        "print(pred)"
      ]
    },
    {
      "cell_type": "code",
      "execution_count": null,
      "metadata": {
        "id": "VBDDd3fhL7QT",
        "outputId": "4f495d4b-74cd-4ee1-a2e0-05cc5eed8b2b"
      },
      "outputs": [
        {
          "name": "stdout",
          "output_type": "stream",
          "text": [
            "[1 1 1 ... 0 1 1]\n"
          ]
        }
      ],
      "source": [
        "pred1 = clf.predict(X_train_avgw2v)\n",
        "print(pred1)"
      ]
    },
    {
      "cell_type": "code",
      "execution_count": null,
      "metadata": {
        "id": "qFBnIgeaL7QT",
        "outputId": "dab8e421-639d-491e-fb1f-3f6b7c4dfc88"
      },
      "outputs": [
        {
          "data": {
            "text/plain": [
              "array([[ 2837,  3719],\n",
              "       [ 1280, 25164]], dtype=int64)"
            ]
          },
          "execution_count": 176,
          "metadata": {},
          "output_type": "execute_result"
        }
      ],
      "source": [
        "from sklearn.metrics import confusion_matrix\n",
        "cm = confusion_matrix(Y_test, pred)\n",
        "cm"
      ]
    },
    {
      "cell_type": "code",
      "execution_count": null,
      "metadata": {
        "id": "hWvCWFXHL7QU",
        "outputId": "45973763-b272-4af6-a8f6-52ca62caecb4"
      },
      "outputs": [
        {
          "data": {
            "text/plain": [
              "array([[ 4021,  5005],\n",
              "       [ 1734, 34130]], dtype=int64)"
            ]
          },
          "execution_count": 177,
          "metadata": {},
          "output_type": "execute_result"
        }
      ],
      "source": [
        "cm1 = confusion_matrix(Y_train, pred1)\n",
        "cm1"
      ]
    },
    {
      "cell_type": "code",
      "execution_count": null,
      "metadata": {
        "id": "TH2o2boJL7QU",
        "outputId": "1c4584be-eb5f-41da-f604-f28de8cd13ec"
      },
      "outputs": [
        {
          "data": {
            "image/png": "[encoded data removed]",
            "text/plain": [
              "<Figure size 432x288 with 2 Axes>"
            ]
          },
          "metadata": {
            "needs_background": "light"
          },
          "output_type": "display_data"
        },
        {
          "data": {
            "image/png": "[encoded data removed]",
            "text/plain": [
              "<Figure size 432x288 with 2 Axes>"
            ]
          },
          "metadata": {
            "needs_background": "light"
          },
          "output_type": "display_data"
        }
      ],
      "source": [
        "import seaborn as sns\n",
        "class_label = [\"negative\", \"positive\"]\n",
        "df_cm = pd.DataFrame(cm, index = class_label, columns = class_label)\n",
        "sns.heatmap(df_cm, annot = True, fmt = \"d\")\n",
        "plt.title(\"test Confusiion Matrix\")\n",
        "plt.xlabel(\"Predicted Label\")\n",
        "plt.ylabel(\"True Label\")\n",
        "plt.show()\n",
        "class_label = [\"negative\", \"positive\"]\n",
        "df_cm1 = pd.DataFrame(cm1, index = class_label, columns = class_label)\n",
        "sns.heatmap(df_cm1, annot = True, fmt = \"d\")\n",
        "plt.title(\"train Confusiion Matrix\")\n",
        "plt.xlabel(\"Predicted Label\")\n",
        "plt.ylabel(\"True Label\")\n",
        "plt.show()\n"
      ]
    },
    {
      "cell_type": "code",
      "execution_count": null,
      "metadata": {
        "id": "uQX6iM50L7QU",
        "outputId": "6ee75615-1f49-47d9-e528-808c8b3de855"
      },
      "outputs": [
        {
          "name": "stdout",
          "output_type": "stream",
          "text": [
            "test classification report\n",
            "              precision    recall  f1-score   support\n",
            "\n",
            "           0       0.69      0.43      0.53      6556\n",
            "           1       0.87      0.95      0.91     26444\n",
            "\n",
            "   micro avg       0.85      0.85      0.85     33000\n",
            "   macro avg       0.78      0.69      0.72     33000\n",
            "weighted avg       0.84      0.85      0.83     33000\n",
            "\n",
            "train classification report\n",
            "              precision    recall  f1-score   support\n",
            "\n",
            "           0       0.70      0.45      0.54      9026\n",
            "           1       0.87      0.95      0.91     35864\n",
            "\n",
            "   micro avg       0.85      0.85      0.85     44890\n",
            "   macro avg       0.79      0.70      0.73     44890\n",
            "weighted avg       0.84      0.85      0.84     44890\n",
            "\n"
          ]
        }
      ],
      "source": [
        "from sklearn.metrics import classification_report\n",
        "print(\"test classification report\")\n",
        "print(classification_report(Y_test, pred))\n",
        "print(\"train classification report\")\n",
        "print(classification_report(Y_train, pred1))"
      ]
    },
    {
      "cell_type": "code",
      "execution_count": null,
      "metadata": {
        "id": "vLYBdveiL7QU",
        "outputId": "943563f1-a07e-4845-80c2-b767f30f8d94"
      },
      "outputs": [
        {
          "data": {
            "image/png": "[encoded data removed]",
            "text/plain": [
              "<Figure size 432x288 with 1 Axes>"
            ]
          },
          "metadata": {
            "needs_background": "light"
          },
          "output_type": "display_data"
        },
        {
          "name": "stdout",
          "output_type": "stream",
          "text": [
            "====================================================================================================\n"
          ]
        }
      ],
      "source": [
        "from sklearn.metrics import roc_curve, auc\n",
        "\n",
        "\n",
        "clf = LogisticRegression(C=j, penalty= 'l2')\n",
        "clf.fit(X_train_avgw2v, Y_train)\n",
        "# roc_auc_score(y_true, y_score) the 2nd parameter should be probability estimates of the positive class\n",
        "# not the predicted outputs\n",
        "\n",
        "train_fpr, train_tpr, thresholds = roc_curve(Y_train, clf.predict_proba(X_train_avgw2v)[:,1])\n",
        "test_fpr, test_tpr, thresholds = roc_curve(Y_test, clf.predict_proba(X_test_avgw2v)[:,1])\n",
        "\n",
        "plt.plot(train_fpr, train_tpr, label=\"train AUC =\"+str(auc(train_fpr, train_tpr)))\n",
        "plt.plot(test_fpr, test_tpr, label=\"test AUC =\"+str(auc(test_fpr, test_tpr)))\n",
        "plt.legend()\n",
        "plt.xlabel(\"alpha\")\n",
        "plt.ylabel(\"AUC\")\n",
        "plt.title(\"ERROR PLOTS\")\n",
        "plt.show()\n",
        "\n",
        "print(\"=\"*100)"
      ]
    },
    {
      "cell_type": "markdown",
      "metadata": {
        "id": "pdXTwVIPLPpp"
      },
      "source": [
        "## [5.4] Logistic Regression on TFIDF W2V,<font color='red'> SET 4</font>"
      ]
    },
    {
      "cell_type": "markdown",
      "metadata": {
        "id": "WP9NjwNSLPpp"
      },
      "source": [
        "### [5.4.1] Applying Logistic Regression with L1 regularization on TFIDF W2V,<font color='red'> SET 4</font>"
      ]
    },
    {
      "cell_type": "code",
      "execution_count": null,
      "metadata": {
        "id": "Srb17nt3L7QV",
        "outputId": "dfdad3d2-bd54-4051-9e42-623915b9d769"
      },
      "outputs": [
        {
          "data": {
            "image/png": "[encoded data removed]",
            "text/plain": [
              "<Figure size 432x288 with 1 Axes>"
            ]
          },
          "metadata": {
            "needs_background": "light"
          },
          "output_type": "display_data"
        }
      ],
      "source": [
        "from sklearn.linear_model import LogisticRegression\n",
        "from sklearn.model_selection import GridSearchCV\n",
        "from sklearn.metrics import roc_auc_score\n",
        "import matplotlib.pyplot as plt\n",
        "\"\"\"\n",
        "y_true : array, shape = [n_samples] or [n_samples, n_classes]\n",
        "True binary labels or binary label indicators.\n",
        "\n",
        "y_score : array, shape = [n_samples] or [n_samples, n_classes]\n",
        "Target scores, can either be probability estimates of the positive class, confidence values, or non-thresholded measure of\n",
        "decisions (as returned by “decision_function” on some classifiers). \n",
        "For binary y_true, y_score is supposed to be the score of the class with greater label.\n",
        "\n",
        "\"\"\"\n",
        "def optimal_lamda(X_train_tfidfw2v,Y_train,X_cv_tfidfw2v,Y_cv):\n",
        "    train_auc_l1 = []\n",
        "    train_auc_l2 = []\n",
        "    cv_auc_l1 = []\n",
        "    cv_auc_l2 = []\n",
        "    penalty=['l1','l2']\n",
        "    hyper_param=[10**i for i in range(-7,7)]\n",
        "    for i in penalty:\n",
        "        for j in  hyper_param:\n",
        "            clf = LogisticRegression(C=j, penalty= i)\n",
        "            clf.fit(X_train_tfidfw2v, Y_train)\n",
        "            Y_train_pred =  clf.predict_proba(X_train_tfidfw2v)[:,1] \n",
        "            Y_cv_pred =  clf.predict_proba(X_cv_tfidfw2v)[:,1]\n",
        "            if i == 'l1':\n",
        "                train_auc_l1.append(roc_auc_score(Y_train,Y_train_pred)) \n",
        "                cv_auc_l1.append(roc_auc_score(Y_cv, Y_cv_pred))\n",
        "            else:\n",
        "                train_auc_l2.append(roc_auc_score(Y_train,Y_train_pred))\n",
        "                cv_auc_l2.append(roc_auc_score(Y_cv, Y_cv_pred))\n",
        "                \n",
        "plt.plot(np.log10(hyper_param), train_auc_l1, label='Train AUC-L1') \n",
        "plt.plot(np.log10(hyper_param), cv_auc_l1, label='CV AUC-L1')\n",
        "plt.scatter(np.log10(hyper_param), train_auc_l1, label='Train AUC-L1') \n",
        "plt.scatter(np.log10(hyper_param), cv_auc_l1, label='CV AUC-L1')\n",
        "plt.legend()\n",
        "plt.xlabel(\"Lamda: hyperparameter\")\n",
        "plt.ylabel(\"AUC\")\n",
        "plt.title(\"ERROR PLOTS\")\n",
        "plt.show()\n",
        "    "
      ]
    },
    {
      "cell_type": "code",
      "execution_count": null,
      "metadata": {
        "id": "gMqjkSxBL7QV"
      },
      "outputs": [],
      "source": [
        "clf = LogisticRegression(C=j, penalty= 'l1')"
      ]
    },
    {
      "cell_type": "code",
      "execution_count": null,
      "metadata": {
        "id": "30CFAAJUL7QV",
        "outputId": "7c907757-ec82-44d2-f21f-2daacba3bab6"
      },
      "outputs": [
        {
          "data": {
            "text/plain": [
              "LogisticRegression(C=1000000, class_weight=None, dual=False,\n",
              "          fit_intercept=True, intercept_scaling=1, max_iter=100,\n",
              "          multi_class='warn', n_jobs=None, penalty='l1', random_state=None,\n",
              "          solver='warn', tol=0.0001, verbose=0, warm_start=False)"
            ]
          },
          "execution_count": 183,
          "metadata": {},
          "output_type": "execute_result"
        }
      ],
      "source": [
        "clf.fit(X_train_tfidfw2v,Y_train)"
      ]
    },
    {
      "cell_type": "code",
      "execution_count": null,
      "metadata": {
        "id": "UQp5lpXJL7QV",
        "outputId": "5f36d112-0a99-4360-c323-37dd7ddc23b7"
      },
      "outputs": [
        {
          "name": "stdout",
          "output_type": "stream",
          "text": [
            "[1 1 1 ... 1 0 1]\n"
          ]
        }
      ],
      "source": [
        "pred = clf.predict(X_test_tfidfw2v)\n",
        "print(pred)"
      ]
    },
    {
      "cell_type": "code",
      "execution_count": null,
      "metadata": {
        "id": "FB53t1PLL7QW",
        "outputId": "ef817e76-05f0-459c-db18-540eb58817f1"
      },
      "outputs": [
        {
          "name": "stdout",
          "output_type": "stream",
          "text": [
            "[1 1 1 ... 0 1 1]\n"
          ]
        }
      ],
      "source": [
        "pred1 = clf.predict(X_train_tfidfw2v)\n",
        "print(pred1)"
      ]
    },
    {
      "cell_type": "code",
      "execution_count": null,
      "metadata": {
        "id": "EiDe8rA3L7QW",
        "outputId": "2e728558-0ba3-4faa-ca23-99cd3aa5d070"
      },
      "outputs": [
        {
          "data": {
            "text/plain": [
              "array([[ 2258,  4298],\n",
              "       [ 1168, 25276]], dtype=int64)"
            ]
          },
          "execution_count": 186,
          "metadata": {},
          "output_type": "execute_result"
        }
      ],
      "source": [
        "from sklearn.metrics import confusion_matrix\n",
        "cm = confusion_matrix(Y_test, pred)\n",
        "cm"
      ]
    },
    {
      "cell_type": "code",
      "execution_count": null,
      "metadata": {
        "id": "LplmogKVL7QW",
        "outputId": "0b842255-a226-495e-ec0c-c7552fec1887"
      },
      "outputs": [
        {
          "data": {
            "text/plain": [
              "array([[ 3178,  5848],\n",
              "       [ 1619, 34245]], dtype=int64)"
            ]
          },
          "execution_count": 187,
          "metadata": {},
          "output_type": "execute_result"
        }
      ],
      "source": [
        "cm1 = confusion_matrix(Y_train, pred1)\n",
        "cm1"
      ]
    },
    {
      "cell_type": "code",
      "execution_count": null,
      "metadata": {
        "id": "gQHVfxphL7QW",
        "outputId": "ea967ca9-7698-480a-a465-e2f0b30666a5"
      },
      "outputs": [
        {
          "data": {
            "image/png": "[encoded data removed]",
            "text/plain": [
              "<Figure size 432x288 with 2 Axes>"
            ]
          },
          "metadata": {
            "needs_background": "light"
          },
          "output_type": "display_data"
        },
        {
          "data": {
            "image/png": "[encoded data removed]",
            "text/plain": [
              "<Figure size 432x288 with 2 Axes>"
            ]
          },
          "metadata": {
            "needs_background": "light"
          },
          "output_type": "display_data"
        }
      ],
      "source": [
        "import seaborn as sns\n",
        "class_label = [\"negative\", \"positive\"]\n",
        "df_cm = pd.DataFrame(cm, index = class_label, columns = class_label)\n",
        "sns.heatmap(df_cm, annot = True, fmt = \"d\")\n",
        "plt.title(\"test Confusiion Matrix\")\n",
        "plt.xlabel(\"Predicted Label\")\n",
        "plt.ylabel(\"True Label\")\n",
        "plt.show()\n",
        "class_label = [\"negative\", \"positive\"]\n",
        "df_cm1 = pd.DataFrame(cm1, index = class_label, columns = class_label)\n",
        "sns.heatmap(df_cm1, annot = True, fmt = \"d\")\n",
        "plt.title(\"train Confusiion Matrix\")\n",
        "plt.xlabel(\"Predicted Label\")\n",
        "plt.ylabel(\"True Label\")\n",
        "plt.show()\n"
      ]
    },
    {
      "cell_type": "code",
      "execution_count": null,
      "metadata": {
        "id": "AGWzgMyEL7QW",
        "outputId": "683207c1-8c31-4510-a183-60d2dbb2bc46"
      },
      "outputs": [
        {
          "name": "stdout",
          "output_type": "stream",
          "text": [
            "test classification report\n",
            "              precision    recall  f1-score   support\n",
            "\n",
            "           0       0.66      0.34      0.45      6556\n",
            "           1       0.85      0.96      0.90     26444\n",
            "\n",
            "   micro avg       0.83      0.83      0.83     33000\n",
            "   macro avg       0.76      0.65      0.68     33000\n",
            "weighted avg       0.82      0.83      0.81     33000\n",
            "\n",
            "train classification report\n",
            "              precision    recall  f1-score   support\n",
            "\n",
            "           0       0.66      0.35      0.46      9026\n",
            "           1       0.85      0.95      0.90     35864\n",
            "\n",
            "   micro avg       0.83      0.83      0.83     44890\n",
            "   macro avg       0.76      0.65      0.68     44890\n",
            "weighted avg       0.82      0.83      0.81     44890\n",
            "\n"
          ]
        }
      ],
      "source": [
        "from sklearn.metrics import classification_report\n",
        "print(\"test classification report\")\n",
        "print(classification_report(Y_test, pred))\n",
        "print(\"train classification report\")\n",
        "print(classification_report(Y_train, pred1))"
      ]
    },
    {
      "cell_type": "code",
      "execution_count": null,
      "metadata": {
        "id": "jkBhQ-0kL7QW",
        "outputId": "82895ca6-c171-40f2-ddd7-68e389b63a72"
      },
      "outputs": [
        {
          "data": {
            "image/png": "[encoded data removed]",
            "text/plain": [
              "<Figure size 432x288 with 1 Axes>"
            ]
          },
          "metadata": {
            "needs_background": "light"
          },
          "output_type": "display_data"
        },
        {
          "name": "stdout",
          "output_type": "stream",
          "text": [
            "====================================================================================================\n"
          ]
        }
      ],
      "source": [
        "from sklearn.metrics import roc_curve, auc\n",
        "\n",
        "\n",
        "clf = LogisticRegression(C=j, penalty= 'l1')\n",
        "clf.fit(X_train_tfidfw2v, Y_train)\n",
        "# roc_auc_score(y_true, y_score) the 2nd parameter should be probability estimates of the positive class\n",
        "# not the predicted outputs\n",
        "\n",
        "train_fpr, train_tpr, thresholds = roc_curve(Y_train, clf.predict_proba(X_train_tfidfw2v)[:,1])\n",
        "test_fpr, test_tpr, thresholds = roc_curve(Y_test, clf.predict_proba(X_test_tfidfw2v)[:,1])\n",
        "\n",
        "plt.plot(train_fpr, train_tpr, label=\"train AUC =\"+str(auc(train_fpr, train_tpr)))\n",
        "plt.plot(test_fpr, test_tpr, label=\"test AUC =\"+str(auc(test_fpr, test_tpr)))\n",
        "plt.legend()\n",
        "plt.xlabel(\"alpha\")\n",
        "plt.ylabel(\"AUC\")\n",
        "plt.title(\"ERROR PLOTS\")\n",
        "plt.show()\n",
        "\n",
        "print(\"=\"*100)"
      ]
    },
    {
      "cell_type": "markdown",
      "metadata": {
        "id": "ynUK2tYDLPps"
      },
      "source": [
        "### [5.4.2] Applying Logistic Regression with L2 regularization on TFIDF W2V,<font color='red'> SET 4</font>"
      ]
    },
    {
      "cell_type": "code",
      "execution_count": null,
      "metadata": {
        "id": "uT5wYfBeL7QX",
        "outputId": "ee890440-129a-4a04-fd7c-ef1d2fcb9045"
      },
      "outputs": [
        {
          "data": {
            "image/png": "[encoded data removed]",
            "text/plain": [
              "<Figure size 432x288 with 1 Axes>"
            ]
          },
          "metadata": {
            "needs_background": "light"
          },
          "output_type": "display_data"
        }
      ],
      "source": [
        "plt.plot(np.log10(hyper_param), train_auc_l2, label='Train AUC-L2') \n",
        "plt.plot(np.log10(hyper_param), cv_auc_l2, label='CV AUC-L2')\n",
        "plt.scatter(np.log10(hyper_param), train_auc_l2, label='Train AUC-L2') \n",
        "plt.scatter(np.log10(hyper_param), cv_auc_l2, label='CV AUC-L2')\n",
        "plt.legend()\n",
        "plt.xlabel(\"Lamda: hyperparameter\")\n",
        "plt.ylabel(\"AUC\")\n",
        "plt.title(\"ERROR PLOTS\")\n",
        "plt.show()"
      ]
    },
    {
      "cell_type": "code",
      "execution_count": null,
      "metadata": {
        "id": "WZNU1rGmL7QX"
      },
      "outputs": [],
      "source": [
        "clf = LogisticRegression(C=j, penalty= 'l2')"
      ]
    },
    {
      "cell_type": "code",
      "execution_count": null,
      "metadata": {
        "id": "VVzoJ3PtL7QX",
        "outputId": "70ac7533-77df-43c9-ccd2-5f43ddb14953"
      },
      "outputs": [
        {
          "data": {
            "text/plain": [
              "LogisticRegression(C=1000000, class_weight=None, dual=False,\n",
              "          fit_intercept=True, intercept_scaling=1, max_iter=100,\n",
              "          multi_class='warn', n_jobs=None, penalty='l2', random_state=None,\n",
              "          solver='warn', tol=0.0001, verbose=0, warm_start=False)"
            ]
          },
          "execution_count": 193,
          "metadata": {},
          "output_type": "execute_result"
        }
      ],
      "source": [
        "clf.fit(X_train_tfidfw2v,Y_train)"
      ]
    },
    {
      "cell_type": "code",
      "execution_count": null,
      "metadata": {
        "id": "jucweHtrL7QX",
        "outputId": "e1d8c4c4-550c-4e2b-ffa6-224a6e58fac0"
      },
      "outputs": [
        {
          "name": "stdout",
          "output_type": "stream",
          "text": [
            "[1 1 1 ... 1 0 1]\n"
          ]
        }
      ],
      "source": [
        "pred = clf.predict(X_test_tfidfw2v)\n",
        "print(pred)"
      ]
    },
    {
      "cell_type": "code",
      "execution_count": null,
      "metadata": {
        "id": "98Zdjrw2L7QX",
        "outputId": "4a367a23-631d-4e41-de96-e05e0e12077f"
      },
      "outputs": [
        {
          "name": "stdout",
          "output_type": "stream",
          "text": [
            "[1 1 1 ... 0 1 1]\n"
          ]
        }
      ],
      "source": [
        "pred1 = clf.predict(X_train_tfidfw2v)\n",
        "print(pred1)"
      ]
    },
    {
      "cell_type": "code",
      "execution_count": null,
      "metadata": {
        "id": "EheycGLoL7QX",
        "outputId": "e3de393f-65b2-477f-8ed6-ce4a9317506a"
      },
      "outputs": [
        {
          "data": {
            "text/plain": [
              "array([[ 2259,  4297],\n",
              "       [ 1167, 25277]], dtype=int64)"
            ]
          },
          "execution_count": 196,
          "metadata": {},
          "output_type": "execute_result"
        }
      ],
      "source": [
        "from sklearn.metrics import confusion_matrix\n",
        "cm = confusion_matrix(Y_test, pred)\n",
        "cm"
      ]
    },
    {
      "cell_type": "code",
      "execution_count": null,
      "metadata": {
        "id": "IRNGT_TRL7QX",
        "outputId": "70533444-cf8b-4685-ead2-0186b0f501de"
      },
      "outputs": [
        {
          "data": {
            "text/plain": [
              "array([[ 3177,  5849],\n",
              "       [ 1618, 34246]], dtype=int64)"
            ]
          },
          "execution_count": 197,
          "metadata": {},
          "output_type": "execute_result"
        }
      ],
      "source": [
        "cm1 = confusion_matrix(Y_train, pred1)\n",
        "cm1"
      ]
    },
    {
      "cell_type": "code",
      "execution_count": null,
      "metadata": {
        "id": "H7biL1YOL7QY",
        "outputId": "e46a6278-3142-4862-9fd8-641ce2e63076"
      },
      "outputs": [
        {
          "data": {
            "image/png": "[encoded data removed]",
            "text/plain": [
              "<Figure size 432x288 with 2 Axes>"
            ]
          },
          "metadata": {
            "needs_background": "light"
          },
          "output_type": "display_data"
        },
        {
          "data": {
            "image/png": "[encoded data removed]",
            "text/plain": [
              "<Figure size 432x288 with 2 Axes>"
            ]
          },
          "metadata": {
            "needs_background": "light"
          },
          "output_type": "display_data"
        }
      ],
      "source": [
        "import seaborn as sns\n",
        "class_label = [\"negative\", \"positive\"]\n",
        "df_cm = pd.DataFrame(cm, index = class_label, columns = class_label)\n",
        "sns.heatmap(df_cm, annot = True, fmt = \"d\")\n",
        "plt.title(\"test Confusiion Matrix\")\n",
        "plt.xlabel(\"Predicted Label\")\n",
        "plt.ylabel(\"True Label\")\n",
        "plt.show()\n",
        "class_label = [\"negative\", \"positive\"]\n",
        "df_cm1 = pd.DataFrame(cm1, index = class_label, columns = class_label)\n",
        "sns.heatmap(df_cm1, annot = True, fmt = \"d\")\n",
        "plt.title(\"train Confusiion Matrix\")\n",
        "plt.xlabel(\"Predicted Label\")\n",
        "plt.ylabel(\"True Label\")\n",
        "plt.show()\n"
      ]
    },
    {
      "cell_type": "code",
      "execution_count": null,
      "metadata": {
        "id": "jC1DLci6L7QY",
        "outputId": "6c4063b3-f64c-48a0-d3b8-9c2a46d975a3"
      },
      "outputs": [
        {
          "name": "stdout",
          "output_type": "stream",
          "text": [
            "test classification report\n",
            "              precision    recall  f1-score   support\n",
            "\n",
            "           0       0.66      0.34      0.45      6556\n",
            "           1       0.85      0.96      0.90     26444\n",
            "\n",
            "   micro avg       0.83      0.83      0.83     33000\n",
            "   macro avg       0.76      0.65      0.68     33000\n",
            "weighted avg       0.82      0.83      0.81     33000\n",
            "\n",
            "train classification report\n",
            "              precision    recall  f1-score   support\n",
            "\n",
            "           0       0.66      0.35      0.46      9026\n",
            "           1       0.85      0.95      0.90     35864\n",
            "\n",
            "   micro avg       0.83      0.83      0.83     44890\n",
            "   macro avg       0.76      0.65      0.68     44890\n",
            "weighted avg       0.82      0.83      0.81     44890\n",
            "\n"
          ]
        }
      ],
      "source": [
        "from sklearn.metrics import classification_report\n",
        "print(\"test classification report\")\n",
        "print(classification_report(Y_test, pred))\n",
        "print(\"train classification report\")\n",
        "print(classification_report(Y_train, pred1))"
      ]
    },
    {
      "cell_type": "code",
      "execution_count": null,
      "metadata": {
        "id": "G28zgL2YL7QY",
        "outputId": "5e789c5c-1820-4f92-f18e-8d9b696e6c64"
      },
      "outputs": [
        {
          "data": {
            "image/png": "[encoded data removed]",
            "text/plain": [
              "<Figure size 432x288 with 1 Axes>"
            ]
          },
          "metadata": {
            "needs_background": "light"
          },
          "output_type": "display_data"
        },
        {
          "name": "stdout",
          "output_type": "stream",
          "text": [
            "====================================================================================================\n"
          ]
        }
      ],
      "source": [
        "from sklearn.metrics import roc_curve, auc\n",
        "\n",
        "\n",
        "clf = LogisticRegression(C=j, penalty= 'l2')\n",
        "clf.fit(X_train_tfidfw2v, Y_train)\n",
        "# roc_auc_score(y_true, y_score) the 2nd parameter should be probability estimates of the positive class\n",
        "# not the predicted outputs\n",
        "\n",
        "train_fpr, train_tpr, thresholds = roc_curve(Y_train, clf.predict_proba(X_train_tfidfw2v)[:,1])\n",
        "test_fpr, test_tpr, thresholds = roc_curve(Y_test, clf.predict_proba(X_test_tfidfw2v)[:,1])\n",
        "\n",
        "plt.plot(train_fpr, train_tpr, label=\"train AUC =\"+str(auc(train_fpr, train_tpr)))\n",
        "plt.plot(test_fpr, test_tpr, label=\"test AUC =\"+str(auc(test_fpr, test_tpr)))\n",
        "plt.legend()\n",
        "plt.xlabel(\"alpha\")\n",
        "plt.ylabel(\"AUC\")\n",
        "plt.title(\"ERROR PLOTS\")\n",
        "plt.show()\n",
        "\n",
        "print(\"=\"*100)"
      ]
    },
    {
      "cell_type": "markdown",
      "metadata": {
        "id": "nOvsBNf2LPpv"
      },
      "source": [
        "# [6] Conclusions"
      ]
    },
    {
      "cell_type": "code",
      "execution_count": null,
      "metadata": {
        "id": "T7VxD0q2LPpw",
        "outputId": "9f48a992-df72-434b-e7c4-6440e604387c"
      },
      "outputs": [
        {
          "name": "stdout",
          "output_type": "stream",
          "text": [
            "comparision of all the models\n",
            "+--------------+---------------+-------------+--------------+-------------+\n",
            "|    model     |  l1 train auc | l1 test auc | l2 train auc | l2 test auc |\n",
            "+--------------+---------------+-------------+--------------+-------------+\n",
            "| bag of words |      1.0      |     0.84    |     0.99     |     0.93    |\n",
            "|    tfidf     |      1.0      |     0.94    |     1.0      |     0.97    |\n",
            "|    avgw2v    |     0.876     |    0.871    |    0.876     |    0.871    |\n",
            "|   tfidfw2v   |     0.846     |    0.844    |    0.846     |    0.844    |\n",
            "+--------------+---------------+-------------+--------------+-------------+\n"
          ]
        }
      ],
      "source": [
        "from prettytable import PrettyTable\n",
        "x = PrettyTable()\n",
        "x.field_names = [\"model \",\" l1 train auc\", \"l1 test auc\",\"l2 train auc\",'l2 test auc']\n",
        "x.add_row([ \"bag of words\", 1.0 , 0.84, 0.99 ,0.93])\n",
        "x.add_row( [\"tfidf\" ,1.0 , 0.94, 1.0 ,0.97])\n",
        "x.add_row( [\"avgw2v\" ,0.876, 0.871,0.876,0.871])\n",
        "x.add_row( [\"tfidfw2v\" ,0.846 , 0.844 , 0.846, 0.844])\n",
        "print(\"comparision of all the models\")\n",
        "print(x.get_string(title=\"comparision of all the models\"))"
      ]
    }
  ],
  "metadata": {
    "colab": {
      "name": "05 Amazon Fine Food Reviews Analysis_Logistic Regression.ipynb",
      "provenance": [],
      "include_colab_link": true
    },
    "kernelspec": {
      "display_name": "Python 3",
      "language": "python",
      "name": "python3"
    },
    "language_info": {
      "codemirror_mode": {
        "name": "ipython",
        "version": 3
      },
      "file_extension": ".py",
      "mimetype": "text/x-python",
      "name": "python",
      "nbconvert_exporter": "python",
      "pygments_lexer": "ipython3",
      "version": "3.6.8"
    }
  },
  "nbformat": 4,
  "nbformat_minor": 0
}