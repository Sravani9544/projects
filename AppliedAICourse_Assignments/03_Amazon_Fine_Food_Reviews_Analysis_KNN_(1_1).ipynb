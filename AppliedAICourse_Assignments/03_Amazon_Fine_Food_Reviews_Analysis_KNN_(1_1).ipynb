{
  "cells": [
    {
      "cell_type": "markdown",
      "metadata": {
        "id": "view-in-github",
        "colab_type": "text"
      },
      "source": [
        "<a href=\"https://colab.research.google.com/github/Sravani9544/projects/blob/main/AppliedAICourse_Assignments/03_Amazon_Fine_Food_Reviews_Analysis_KNN_(1_1).ipynb\" target=\"_parent\"><img src=\"https://colab.research.google.com/assets/colab-badge.svg\" alt=\"Open In Colab\"/></a>"
      ]
    },
    {
      "cell_type": "markdown",
      "metadata": {
        "id": "bU2ZA-SJMfcD"
      },
      "source": [
        "# Amazon Fine Food Reviews Analysis\n",
        "\n",
        "\n",
        "Data Source: https://www.kaggle.com/snap/amazon-fine-food-reviews <br>\n",
        "\n",
        "EDA: https://nycdatascience.com/blog/student-works/amazon-fine-foods-visualization/\n",
        "\n",
        "\n",
        "The Amazon Fine Food Reviews dataset consists of reviews of fine foods from Amazon.<br>\n",
        "\n",
        "Number of reviews: 568,454<br>\n",
        "Number of users: 256,059<br>\n",
        "Number of products: 74,258<br>\n",
        "Timespan: Oct 1999 - Oct 2012<br>\n",
        "Number of Attributes/Columns in data: 10 \n",
        "\n",
        "Attribute Information:\n",
        "\n",
        "1. Id\n",
        "2. ProductId - unique identifier for the product\n",
        "3. UserId - unqiue identifier for the user\n",
        "4. ProfileName\n",
        "5. HelpfulnessNumerator - number of users who found the review helpful\n",
        "6. HelpfulnessDenominator - number of users who indicated whether they found the review helpful or not\n",
        "7. Score - rating between 1 and 5\n",
        "8. Time - timestamp for the review\n",
        "9. Summary - brief summary of the review\n",
        "10. Text - text of the review\n",
        "\n",
        "\n",
        "#### Objective:\n",
        "Given a review, determine whether the review is positive (rating of 4 or 5) or negative (rating of 1 or 2).\n",
        "\n",
        "<br>\n",
        "[Q] How to determine if a review is positive or negative?<br>\n",
        "<br> \n",
        "[Ans] We could use Score/Rating. A rating of 4 or 5 can be cosnidered as a positive review. A rating of 1 or 2 can be considered as negative one. A review of rating 3 is considered nuetral and such reviews are ignored from our analysis. This is an approximate and proxy way of determining the polarity (positivity/negativity) of a review.\n",
        "\n",
        "\n"
      ]
    },
    {
      "cell_type": "markdown",
      "metadata": {
        "id": "bIl7EGoHMfcI"
      },
      "source": [
        "# [1]. Reading Data"
      ]
    },
    {
      "cell_type": "markdown",
      "metadata": {
        "id": "wI6Tg2RNMfcI"
      },
      "source": [
        "## [1.1] Loading the data\n",
        "\n",
        "The dataset is available in two forms\n",
        "1. .csv file\n",
        "2. SQLite Database\n",
        "\n",
        "In order to load the data, We have used the SQLITE dataset as it is easier to query the data and visualise the data efficiently.\n",
        "<br> \n",
        "\n",
        "Here as we only want to get the global sentiment of the recommendations (positive or negative), we will purposefully ignore all Scores equal to 3. If the score is above 3, then the recommendation wil be set to \"positive\". Otherwise, it will be set to \"negative\"."
      ]
    },
    {
      "cell_type": "code",
      "execution_count": null,
      "metadata": {
        "id": "kG_iaLlNMfcJ"
      },
      "outputs": [],
      "source": [
        "%matplotlib inline\n",
        "import warnings\n",
        "warnings.filterwarnings(\"ignore\")\n",
        "\n",
        "\n",
        "import sqlite3\n",
        "import pandas as pd\n",
        "import numpy as np\n",
        "import nltk\n",
        "import string\n",
        "import matplotlib.pyplot as plt\n",
        "import seaborn as sns\n",
        "from sklearn.feature_extraction.text import TfidfTransformer\n",
        "from sklearn.feature_extraction.text import TfidfVectorizer\n",
        "\n",
        "from sklearn.feature_extraction.text import CountVectorizer\n",
        "from sklearn.metrics import confusion_matrix\n",
        "from sklearn import metrics\n",
        "from sklearn.metrics import roc_curve, auc\n",
        "from nltk.stem.porter import PorterStemmer\n",
        "\n",
        "import re\n",
        "# Tutorial about Python regular expressions: https://pymotw.com/2/re/\n",
        "import string\n",
        "from nltk.corpus import stopwords\n",
        "from nltk.stem import PorterStemmer\n",
        "from nltk.stem.wordnet import WordNetLemmatizer\n",
        "\n",
        "from gensim.models import Word2Vec\n",
        "from gensim.models import KeyedVectors\n",
        "import pickle\n",
        "\n",
        "from tqdm import tqdm\n",
        "import os"
      ]
    },
    {
      "cell_type": "code",
      "execution_count": null,
      "metadata": {
        "id": "wpOQ97OKMfcK",
        "outputId": "c109d4b3-57be-47a0-a896-5be172d1491e"
      },
      "outputs": [
        {
          "name": "stdout",
          "output_type": "stream",
          "text": [
            "Number of data points in our data (525814, 10)\n"
          ]
        },
        {
          "data": {
            "text/html": [
              "<div>\n",
              "<style scoped>\n",
              "    .dataframe tbody tr th:only-of-type {\n",
              "        vertical-align: middle;\n",
              "    }\n",
              "\n",
              "    .dataframe tbody tr th {\n",
              "        vertical-align: top;\n",
              "    }\n",
              "\n",
              "    .dataframe thead th {\n",
              "        text-align: right;\n",
              "    }\n",
              "</style>\n",
              "<table border=\"1\" class=\"dataframe\">\n",
              "  <thead>\n",
              "    <tr style=\"text-align: right;\">\n",
              "      <th></th>\n",
              "      <th>Id</th>\n",
              "      <th>ProductId</th>\n",
              "      <th>UserId</th>\n",
              "      <th>ProfileName</th>\n",
              "      <th>HelpfulnessNumerator</th>\n",
              "      <th>HelpfulnessDenominator</th>\n",
              "      <th>Score</th>\n",
              "      <th>Time</th>\n",
              "      <th>Summary</th>\n",
              "      <th>Text</th>\n",
              "    </tr>\n",
              "  </thead>\n",
              "  <tbody>\n",
              "    <tr>\n",
              "      <th>0</th>\n",
              "      <td>1</td>\n",
              "      <td>B001E4KFG0</td>\n",
              "      <td>A3SGXH7AUHU8GW</td>\n",
              "      <td>delmartian</td>\n",
              "      <td>1</td>\n",
              "      <td>1</td>\n",
              "      <td>1</td>\n",
              "      <td>1303862400</td>\n",
              "      <td>Good Quality Dog Food</td>\n",
              "      <td>I have bought several of the Vitality canned d...</td>\n",
              "    </tr>\n",
              "    <tr>\n",
              "      <th>1</th>\n",
              "      <td>2</td>\n",
              "      <td>B00813GRG4</td>\n",
              "      <td>A1D87F6ZCVE5NK</td>\n",
              "      <td>dll pa</td>\n",
              "      <td>0</td>\n",
              "      <td>0</td>\n",
              "      <td>0</td>\n",
              "      <td>1346976000</td>\n",
              "      <td>Not as Advertised</td>\n",
              "      <td>Product arrived labeled as Jumbo Salted Peanut...</td>\n",
              "    </tr>\n",
              "    <tr>\n",
              "      <th>2</th>\n",
              "      <td>3</td>\n",
              "      <td>B000LQOCH0</td>\n",
              "      <td>ABXLMWJIXXAIN</td>\n",
              "      <td>Natalia Corres \"Natalia Corres\"</td>\n",
              "      <td>1</td>\n",
              "      <td>1</td>\n",
              "      <td>1</td>\n",
              "      <td>1219017600</td>\n",
              "      <td>\"Delight\" says it all</td>\n",
              "      <td>This is a confection that has been around a fe...</td>\n",
              "    </tr>\n",
              "  </tbody>\n",
              "</table>\n",
              "</div>"
            ],
            "text/plain": [
              "   Id   ProductId          UserId                      ProfileName  \\\n",
              "0   1  B001E4KFG0  A3SGXH7AUHU8GW                       delmartian   \n",
              "1   2  B00813GRG4  A1D87F6ZCVE5NK                           dll pa   \n",
              "2   3  B000LQOCH0   ABXLMWJIXXAIN  Natalia Corres \"Natalia Corres\"   \n",
              "\n",
              "   HelpfulnessNumerator  HelpfulnessDenominator  Score        Time  \\\n",
              "0                     1                       1      1  1303862400   \n",
              "1                     0                       0      0  1346976000   \n",
              "2                     1                       1      1  1219017600   \n",
              "\n",
              "                 Summary                                               Text  \n",
              "0  Good Quality Dog Food  I have bought several of the Vitality canned d...  \n",
              "1      Not as Advertised  Product arrived labeled as Jumbo Salted Peanut...  \n",
              "2  \"Delight\" says it all  This is a confection that has been around a fe...  "
            ]
          },
          "execution_count": 2,
          "metadata": {},
          "output_type": "execute_result"
        }
      ],
      "source": [
        "# using SQLite Table to read data.\n",
        "con = sqlite3.connect (r'D:\\python\\database.sqlite') \n",
        "\n",
        "\n",
        "# filtering only positive and negative reviews i.e. \n",
        "# not taking into consideration those reviews with Score=3\n",
        "# SELECT * FROM Reviews WHERE Score != 3 LIMIT 500000, will give top 500000 data points\n",
        "# you can change the number to any other number based on your computing power\n",
        "\n",
        "# filtered_data = pd.read_sql_query(\"\"\" SELECT * FROM Reviews WHERE Score != 3 LIMIT 500000\"\"\", con) \n",
        "# for tsne assignment you can take 5k data points\n",
        "\n",
        "filtered_data = pd.read_sql_query(\"\"\" SELECT * FROM Reviews WHERE Score != 3 \"\"\", con) \n",
        "\n",
        "# Give reviews with Score>3 a positive rating(1), and reviews with a score<3 a negative rating(0).\n",
        "def partition(x):\n",
        "    if x < 3:\n",
        "        return 0\n",
        "    return 1\n",
        "\n",
        "#changing reviews with score less than 3 to be positive and vice-versa\n",
        "actualScore = filtered_data['Score']\n",
        "positiveNegative = actualScore.map(partition) \n",
        "filtered_data['Score'] = positiveNegative\n",
        "print(\"Number of data points in our data\", filtered_data.shape)\n",
        "filtered_data.head(3)"
      ]
    },
    {
      "cell_type": "code",
      "execution_count": null,
      "metadata": {
        "id": "MBGQd4DyMfcM"
      },
      "outputs": [],
      "source": [
        "display = pd.read_sql_query(\"\"\"\n",
        "SELECT UserId, ProductId, ProfileName, Time, Score, Text\n",
        "FROM Reviews\n",
        "GROUP BY UserId\n",
        "\"\"\", con)"
      ]
    },
    {
      "cell_type": "code",
      "execution_count": null,
      "metadata": {
        "scrolled": true,
        "id": "-02WTP76MfcM",
        "outputId": "23b13a10-4ccb-4257-d7bb-969aeaf2b6ca"
      },
      "outputs": [
        {
          "name": "stdout",
          "output_type": "stream",
          "text": [
            "(256059, 6)\n"
          ]
        },
        {
          "data": {
            "text/html": [
              "<div>\n",
              "<style scoped>\n",
              "    .dataframe tbody tr th:only-of-type {\n",
              "        vertical-align: middle;\n",
              "    }\n",
              "\n",
              "    .dataframe tbody tr th {\n",
              "        vertical-align: top;\n",
              "    }\n",
              "\n",
              "    .dataframe thead th {\n",
              "        text-align: right;\n",
              "    }\n",
              "</style>\n",
              "<table border=\"1\" class=\"dataframe\">\n",
              "  <thead>\n",
              "    <tr style=\"text-align: right;\">\n",
              "      <th></th>\n",
              "      <th>UserId</th>\n",
              "      <th>ProductId</th>\n",
              "      <th>ProfileName</th>\n",
              "      <th>Time</th>\n",
              "      <th>Score</th>\n",
              "      <th>Text</th>\n",
              "    </tr>\n",
              "  </thead>\n",
              "  <tbody>\n",
              "    <tr>\n",
              "      <th>0</th>\n",
              "      <td>#oc-R103C0QSV1DF5E</td>\n",
              "      <td>B006Q820X0</td>\n",
              "      <td>C</td>\n",
              "      <td>1343088000</td>\n",
              "      <td>5</td>\n",
              "      <td>I have to say I was a little apprehensive to b...</td>\n",
              "    </tr>\n",
              "    <tr>\n",
              "      <th>1</th>\n",
              "      <td>#oc-R109MU5OBBZ59U</td>\n",
              "      <td>B008I1XPKA</td>\n",
              "      <td>AayGee</td>\n",
              "      <td>1350086400</td>\n",
              "      <td>5</td>\n",
              "      <td>Received my free K cups as a sample promotion ...</td>\n",
              "    </tr>\n",
              "    <tr>\n",
              "      <th>2</th>\n",
              "      <td>#oc-R10LFEMQEW6QGZ</td>\n",
              "      <td>B008I1XPKA</td>\n",
              "      <td>Julie</td>\n",
              "      <td>1345939200</td>\n",
              "      <td>5</td>\n",
              "      <td>Brooklyn Bean Roastery Blend K-Cups are great ...</td>\n",
              "    </tr>\n",
              "    <tr>\n",
              "      <th>3</th>\n",
              "      <td>#oc-R10LT57ZGIB140</td>\n",
              "      <td>B0026LJ3EA</td>\n",
              "      <td>dipr</td>\n",
              "      <td>1310601600</td>\n",
              "      <td>3</td>\n",
              "      <td>The shipment of the dog food was quick.  Howev...</td>\n",
              "    </tr>\n",
              "    <tr>\n",
              "      <th>4</th>\n",
              "      <td>#oc-R10UA029WVWIUI</td>\n",
              "      <td>B006Q820X0</td>\n",
              "      <td>Kim D</td>\n",
              "      <td>1342483200</td>\n",
              "      <td>1</td>\n",
              "      <td>Brooklyn \"French Roast\" K-Cup Coffee is not on...</td>\n",
              "    </tr>\n",
              "  </tbody>\n",
              "</table>\n",
              "</div>"
            ],
            "text/plain": [
              "               UserId   ProductId ProfileName        Time  Score  \\\n",
              "0  #oc-R103C0QSV1DF5E  B006Q820X0           C  1343088000      5   \n",
              "1  #oc-R109MU5OBBZ59U  B008I1XPKA      AayGee  1350086400      5   \n",
              "2  #oc-R10LFEMQEW6QGZ  B008I1XPKA       Julie  1345939200      5   \n",
              "3  #oc-R10LT57ZGIB140  B0026LJ3EA        dipr  1310601600      3   \n",
              "4  #oc-R10UA029WVWIUI  B006Q820X0       Kim D  1342483200      1   \n",
              "\n",
              "                                                Text  \n",
              "0  I have to say I was a little apprehensive to b...  \n",
              "1  Received my free K cups as a sample promotion ...  \n",
              "2  Brooklyn Bean Roastery Blend K-Cups are great ...  \n",
              "3  The shipment of the dog food was quick.  Howev...  \n",
              "4  Brooklyn \"French Roast\" K-Cup Coffee is not on...  "
            ]
          },
          "execution_count": 4,
          "metadata": {},
          "output_type": "execute_result"
        }
      ],
      "source": [
        "print(display.shape)\n",
        "display.head()"
      ]
    },
    {
      "cell_type": "code",
      "execution_count": null,
      "metadata": {
        "id": "45YNvetdMfcN",
        "outputId": "49e0b4f9-369a-488e-ee58-20ec7c282c61"
      },
      "outputs": [
        {
          "data": {
            "text/html": [
              "<div>\n",
              "<style scoped>\n",
              "    .dataframe tbody tr th:only-of-type {\n",
              "        vertical-align: middle;\n",
              "    }\n",
              "\n",
              "    .dataframe tbody tr th {\n",
              "        vertical-align: top;\n",
              "    }\n",
              "\n",
              "    .dataframe thead th {\n",
              "        text-align: right;\n",
              "    }\n",
              "</style>\n",
              "<table border=\"1\" class=\"dataframe\">\n",
              "  <thead>\n",
              "    <tr style=\"text-align: right;\">\n",
              "      <th></th>\n",
              "      <th>UserId</th>\n",
              "      <th>ProductId</th>\n",
              "      <th>ProfileName</th>\n",
              "      <th>Time</th>\n",
              "      <th>Score</th>\n",
              "      <th>Text</th>\n",
              "    </tr>\n",
              "  </thead>\n",
              "  <tbody>\n",
              "    <tr>\n",
              "      <th>255953</th>\n",
              "      <td>AZY10LLTJ71NX</td>\n",
              "      <td>B001ATMQK2</td>\n",
              "      <td>undertheshrine \"undertheshrine\"</td>\n",
              "      <td>1296691200</td>\n",
              "      <td>5</td>\n",
              "      <td>I bought this 6 pack because for the price tha...</td>\n",
              "    </tr>\n",
              "  </tbody>\n",
              "</table>\n",
              "</div>"
            ],
            "text/plain": [
              "               UserId   ProductId                      ProfileName  \\\n",
              "255953  AZY10LLTJ71NX  B001ATMQK2  undertheshrine \"undertheshrine\"   \n",
              "\n",
              "              Time  Score                                               Text  \n",
              "255953  1296691200      5  I bought this 6 pack because for the price tha...  "
            ]
          },
          "execution_count": 5,
          "metadata": {},
          "output_type": "execute_result"
        }
      ],
      "source": [
        "display[display['UserId']=='AZY10LLTJ71NX']"
      ]
    },
    {
      "cell_type": "markdown",
      "metadata": {
        "id": "C9mIL8F4MfcN"
      },
      "source": [
        "#  [2] Exploratory Data Analysis"
      ]
    },
    {
      "cell_type": "markdown",
      "metadata": {
        "id": "OfNL_oL7MfcO"
      },
      "source": [
        "## [2.1] Data Cleaning: Deduplication\n",
        "\n",
        "It is observed (as shown in the table below) that the reviews data had many duplicate entries. Hence it was necessary to remove duplicates in order to get unbiased results for the analysis of the data.  Following is an example:"
      ]
    },
    {
      "cell_type": "code",
      "execution_count": null,
      "metadata": {
        "scrolled": false,
        "id": "sVCZCXf5MfcO",
        "outputId": "551af824-896e-426d-c3cf-68ce347a12c2"
      },
      "outputs": [
        {
          "data": {
            "text/html": [
              "<div>\n",
              "<style scoped>\n",
              "    .dataframe tbody tr th:only-of-type {\n",
              "        vertical-align: middle;\n",
              "    }\n",
              "\n",
              "    .dataframe tbody tr th {\n",
              "        vertical-align: top;\n",
              "    }\n",
              "\n",
              "    .dataframe thead th {\n",
              "        text-align: right;\n",
              "    }\n",
              "</style>\n",
              "<table border=\"1\" class=\"dataframe\">\n",
              "  <thead>\n",
              "    <tr style=\"text-align: right;\">\n",
              "      <th></th>\n",
              "      <th>Id</th>\n",
              "      <th>ProductId</th>\n",
              "      <th>UserId</th>\n",
              "      <th>ProfileName</th>\n",
              "      <th>HelpfulnessNumerator</th>\n",
              "      <th>HelpfulnessDenominator</th>\n",
              "      <th>Score</th>\n",
              "      <th>Time</th>\n",
              "      <th>Summary</th>\n",
              "      <th>Text</th>\n",
              "    </tr>\n",
              "  </thead>\n",
              "  <tbody>\n",
              "    <tr>\n",
              "      <th>0</th>\n",
              "      <td>78445</td>\n",
              "      <td>B000HDL1RQ</td>\n",
              "      <td>AR5J8UI46CURR</td>\n",
              "      <td>Geetha Krishnan</td>\n",
              "      <td>2</td>\n",
              "      <td>2</td>\n",
              "      <td>5</td>\n",
              "      <td>1199577600</td>\n",
              "      <td>LOACKER QUADRATINI VANILLA WAFERS</td>\n",
              "      <td>DELICIOUS WAFERS. I FIND THAT EUROPEAN WAFERS ...</td>\n",
              "    </tr>\n",
              "    <tr>\n",
              "      <th>1</th>\n",
              "      <td>138317</td>\n",
              "      <td>B000HDOPYC</td>\n",
              "      <td>AR5J8UI46CURR</td>\n",
              "      <td>Geetha Krishnan</td>\n",
              "      <td>2</td>\n",
              "      <td>2</td>\n",
              "      <td>5</td>\n",
              "      <td>1199577600</td>\n",
              "      <td>LOACKER QUADRATINI VANILLA WAFERS</td>\n",
              "      <td>DELICIOUS WAFERS. I FIND THAT EUROPEAN WAFERS ...</td>\n",
              "    </tr>\n",
              "    <tr>\n",
              "      <th>2</th>\n",
              "      <td>138277</td>\n",
              "      <td>B000HDOPYM</td>\n",
              "      <td>AR5J8UI46CURR</td>\n",
              "      <td>Geetha Krishnan</td>\n",
              "      <td>2</td>\n",
              "      <td>2</td>\n",
              "      <td>5</td>\n",
              "      <td>1199577600</td>\n",
              "      <td>LOACKER QUADRATINI VANILLA WAFERS</td>\n",
              "      <td>DELICIOUS WAFERS. I FIND THAT EUROPEAN WAFERS ...</td>\n",
              "    </tr>\n",
              "    <tr>\n",
              "      <th>3</th>\n",
              "      <td>73791</td>\n",
              "      <td>B000HDOPZG</td>\n",
              "      <td>AR5J8UI46CURR</td>\n",
              "      <td>Geetha Krishnan</td>\n",
              "      <td>2</td>\n",
              "      <td>2</td>\n",
              "      <td>5</td>\n",
              "      <td>1199577600</td>\n",
              "      <td>LOACKER QUADRATINI VANILLA WAFERS</td>\n",
              "      <td>DELICIOUS WAFERS. I FIND THAT EUROPEAN WAFERS ...</td>\n",
              "    </tr>\n",
              "    <tr>\n",
              "      <th>4</th>\n",
              "      <td>155049</td>\n",
              "      <td>B000PAQ75C</td>\n",
              "      <td>AR5J8UI46CURR</td>\n",
              "      <td>Geetha Krishnan</td>\n",
              "      <td>2</td>\n",
              "      <td>2</td>\n",
              "      <td>5</td>\n",
              "      <td>1199577600</td>\n",
              "      <td>LOACKER QUADRATINI VANILLA WAFERS</td>\n",
              "      <td>DELICIOUS WAFERS. I FIND THAT EUROPEAN WAFERS ...</td>\n",
              "    </tr>\n",
              "  </tbody>\n",
              "</table>\n",
              "</div>"
            ],
            "text/plain": [
              "       Id   ProductId         UserId      ProfileName  HelpfulnessNumerator  \\\n",
              "0   78445  B000HDL1RQ  AR5J8UI46CURR  Geetha Krishnan                     2   \n",
              "1  138317  B000HDOPYC  AR5J8UI46CURR  Geetha Krishnan                     2   \n",
              "2  138277  B000HDOPYM  AR5J8UI46CURR  Geetha Krishnan                     2   \n",
              "3   73791  B000HDOPZG  AR5J8UI46CURR  Geetha Krishnan                     2   \n",
              "4  155049  B000PAQ75C  AR5J8UI46CURR  Geetha Krishnan                     2   \n",
              "\n",
              "   HelpfulnessDenominator  Score        Time  \\\n",
              "0                       2      5  1199577600   \n",
              "1                       2      5  1199577600   \n",
              "2                       2      5  1199577600   \n",
              "3                       2      5  1199577600   \n",
              "4                       2      5  1199577600   \n",
              "\n",
              "                             Summary  \\\n",
              "0  LOACKER QUADRATINI VANILLA WAFERS   \n",
              "1  LOACKER QUADRATINI VANILLA WAFERS   \n",
              "2  LOACKER QUADRATINI VANILLA WAFERS   \n",
              "3  LOACKER QUADRATINI VANILLA WAFERS   \n",
              "4  LOACKER QUADRATINI VANILLA WAFERS   \n",
              "\n",
              "                                                Text  \n",
              "0  DELICIOUS WAFERS. I FIND THAT EUROPEAN WAFERS ...  \n",
              "1  DELICIOUS WAFERS. I FIND THAT EUROPEAN WAFERS ...  \n",
              "2  DELICIOUS WAFERS. I FIND THAT EUROPEAN WAFERS ...  \n",
              "3  DELICIOUS WAFERS. I FIND THAT EUROPEAN WAFERS ...  \n",
              "4  DELICIOUS WAFERS. I FIND THAT EUROPEAN WAFERS ...  "
            ]
          },
          "execution_count": 6,
          "metadata": {},
          "output_type": "execute_result"
        }
      ],
      "source": [
        "display= pd.read_sql_query(\"\"\"\n",
        "SELECT *\n",
        "FROM Reviews\n",
        "WHERE Score != 3 AND UserId=\"AR5J8UI46CURR\"\n",
        "ORDER BY ProductID\n",
        "\"\"\", con)\n",
        "display.head()"
      ]
    },
    {
      "cell_type": "markdown",
      "metadata": {
        "id": "2jz5q3bDMfcP"
      },
      "source": [
        "As it can be seen above that same user has multiple reviews with same values for HelpfulnessNumerator, HelpfulnessDenominator, Score, Time, Summary and Text and on doing analysis it was found that <br>\n",
        "<br> \n",
        "ProductId=B000HDOPZG was Loacker Quadratini Vanilla Wafer Cookies, 8.82-Ounce Packages (Pack of 8)<br>\n",
        "<br> \n",
        "ProductId=B000HDL1RQ was Loacker Quadratini Lemon Wafer Cookies, 8.82-Ounce Packages (Pack of 8) and so on<br>\n",
        "\n",
        "It was inferred after analysis that reviews with same parameters other than ProductId belonged to the same product just having different flavour or quantity. Hence in order to reduce redundancy it was decided to eliminate the rows having same parameters.<br>\n",
        "\n",
        "The method used for the same was that we first sort the data according to ProductId and then just keep the first similar product review and delelte the others. for eg. in the above just the review for ProductId=B000HDL1RQ remains. This method ensures that there is only one representative for each product and deduplication without sorting would lead to possibility of different representatives still existing for the same product."
      ]
    },
    {
      "cell_type": "code",
      "execution_count": null,
      "metadata": {
        "id": "I1RjEE6kMfcP"
      },
      "outputs": [],
      "source": [
        "#Sorting data according to ProductId in ascending order\n",
        "sorted_data=filtered_data.sort_values('ProductId', axis=0, ascending=True, inplace=False, kind='quicksort', na_position='last')"
      ]
    },
    {
      "cell_type": "code",
      "execution_count": null,
      "metadata": {
        "id": "Hpx8b7acMfcP",
        "outputId": "de8a722a-6794-4640-ab81-928f4401876f"
      },
      "outputs": [
        {
          "data": {
            "text/plain": [
              "(364173, 10)"
            ]
          },
          "execution_count": 8,
          "metadata": {},
          "output_type": "execute_result"
        }
      ],
      "source": [
        "#Deduplication of entries\n",
        "final=sorted_data.drop_duplicates(subset={\"UserId\",\"ProfileName\",\"Time\",\"Text\"}, keep='first', inplace=False)\n",
        "final.shape"
      ]
    },
    {
      "cell_type": "code",
      "execution_count": null,
      "metadata": {
        "id": "CHZsYblLMfcQ",
        "outputId": "fc58c0c0-5aa5-4702-95c8-2142807d1bd9"
      },
      "outputs": [
        {
          "data": {
            "text/plain": [
              "69.25890143662969"
            ]
          },
          "execution_count": 9,
          "metadata": {},
          "output_type": "execute_result"
        }
      ],
      "source": [
        "#Checking to see how much % of data still remains\n",
        "(final['Id'].size*1.0)/(filtered_data['Id'].size*1.0)*100"
      ]
    },
    {
      "cell_type": "markdown",
      "metadata": {
        "id": "yKP3b5KJMfcQ"
      },
      "source": [
        "<b>Observation:-</b> It was also seen that in two rows given below the value of HelpfulnessNumerator is greater than HelpfulnessDenominator which is not practically possible hence these two rows too are removed from calcualtions"
      ]
    },
    {
      "cell_type": "code",
      "execution_count": null,
      "metadata": {
        "id": "Xqew7qTbMfcQ",
        "outputId": "4fcdfa18-7301-415e-c5fb-99d4185a7ef4"
      },
      "outputs": [
        {
          "data": {
            "text/html": [
              "<div>\n",
              "<style scoped>\n",
              "    .dataframe tbody tr th:only-of-type {\n",
              "        vertical-align: middle;\n",
              "    }\n",
              "\n",
              "    .dataframe tbody tr th {\n",
              "        vertical-align: top;\n",
              "    }\n",
              "\n",
              "    .dataframe thead th {\n",
              "        text-align: right;\n",
              "    }\n",
              "</style>\n",
              "<table border=\"1\" class=\"dataframe\">\n",
              "  <thead>\n",
              "    <tr style=\"text-align: right;\">\n",
              "      <th></th>\n",
              "      <th>Id</th>\n",
              "      <th>ProductId</th>\n",
              "      <th>UserId</th>\n",
              "      <th>ProfileName</th>\n",
              "      <th>HelpfulnessNumerator</th>\n",
              "      <th>HelpfulnessDenominator</th>\n",
              "      <th>Score</th>\n",
              "      <th>Time</th>\n",
              "      <th>Summary</th>\n",
              "      <th>Text</th>\n",
              "    </tr>\n",
              "  </thead>\n",
              "  <tbody>\n",
              "    <tr>\n",
              "      <th>0</th>\n",
              "      <td>64422</td>\n",
              "      <td>B000MIDROQ</td>\n",
              "      <td>A161DK06JJMCYF</td>\n",
              "      <td>J. E. Stephens \"Jeanne\"</td>\n",
              "      <td>3</td>\n",
              "      <td>1</td>\n",
              "      <td>5</td>\n",
              "      <td>1224892800</td>\n",
              "      <td>Bought This for My Son at College</td>\n",
              "      <td>My son loves spaghetti so I didn't hesitate or...</td>\n",
              "    </tr>\n",
              "    <tr>\n",
              "      <th>1</th>\n",
              "      <td>44737</td>\n",
              "      <td>B001EQ55RW</td>\n",
              "      <td>A2V0I904FH7ABY</td>\n",
              "      <td>Ram</td>\n",
              "      <td>3</td>\n",
              "      <td>2</td>\n",
              "      <td>4</td>\n",
              "      <td>1212883200</td>\n",
              "      <td>Pure cocoa taste with crunchy almonds inside</td>\n",
              "      <td>It was almost a 'love at first bite' - the per...</td>\n",
              "    </tr>\n",
              "  </tbody>\n",
              "</table>\n",
              "</div>"
            ],
            "text/plain": [
              "      Id   ProductId          UserId              ProfileName  \\\n",
              "0  64422  B000MIDROQ  A161DK06JJMCYF  J. E. Stephens \"Jeanne\"   \n",
              "1  44737  B001EQ55RW  A2V0I904FH7ABY                      Ram   \n",
              "\n",
              "   HelpfulnessNumerator  HelpfulnessDenominator  Score        Time  \\\n",
              "0                     3                       1      5  1224892800   \n",
              "1                     3                       2      4  1212883200   \n",
              "\n",
              "                                        Summary  \\\n",
              "0             Bought This for My Son at College   \n",
              "1  Pure cocoa taste with crunchy almonds inside   \n",
              "\n",
              "                                                Text  \n",
              "0  My son loves spaghetti so I didn't hesitate or...  \n",
              "1  It was almost a 'love at first bite' - the per...  "
            ]
          },
          "execution_count": 10,
          "metadata": {},
          "output_type": "execute_result"
        }
      ],
      "source": [
        "display= pd.read_sql_query(\"\"\"\n",
        "SELECT *\n",
        "FROM Reviews\n",
        "WHERE Score != 3 AND Id=44737 OR Id=64422\n",
        "ORDER BY ProductID\n",
        "\"\"\", con)\n",
        "\n",
        "display.head()"
      ]
    },
    {
      "cell_type": "code",
      "execution_count": null,
      "metadata": {
        "id": "2bM8QcNPMfcR"
      },
      "outputs": [],
      "source": [
        "final=final[final.HelpfulnessNumerator<=final.HelpfulnessDenominator]"
      ]
    },
    {
      "cell_type": "code",
      "execution_count": null,
      "metadata": {
        "id": "3XZPmvklMfcR",
        "outputId": "b9c25e6b-4970-4254-b4e6-bf201f706942"
      },
      "outputs": [
        {
          "name": "stdout",
          "output_type": "stream",
          "text": [
            "(364171, 10)\n"
          ]
        },
        {
          "data": {
            "text/plain": [
              "1    307061\n",
              "0     57110\n",
              "Name: Score, dtype: int64"
            ]
          },
          "execution_count": 12,
          "metadata": {},
          "output_type": "execute_result"
        }
      ],
      "source": [
        "#Before starting the next phase of preprocessing lets see the number of entries left\n",
        "print(final.shape)\n",
        "\n",
        "#How many positive and negative reviews are present in our dataset?\n",
        "final['Score'].value_counts()"
      ]
    },
    {
      "cell_type": "markdown",
      "metadata": {
        "id": "vgLyATMhMfcR"
      },
      "source": [
        "#  [3] Preprocessing"
      ]
    },
    {
      "cell_type": "markdown",
      "metadata": {
        "id": "iaPDeYtEMfcR"
      },
      "source": [
        "## [3.1].  Preprocessing Review Text\n",
        "\n",
        "Now that we have finished deduplication our data requires some preprocessing before we go on further with analysis and making the prediction model.\n",
        "\n",
        "Hence in the Preprocessing phase we do the following in the order below:-\n",
        "\n",
        "1. Begin by removing the html tags\n",
        "2. Remove any punctuations or limited set of special characters like , or . or # etc.\n",
        "3. Check if the word is made up of english letters and is not alpha-numeric\n",
        "4. Check to see if the length of the word is greater than 2 (as it was researched that there is no adjective in 2-letters)\n",
        "5. Convert the word to lowercase\n",
        "6. Remove Stopwords\n",
        "7. Finally Snowball Stemming the word (it was obsereved to be better than Porter Stemming)<br>\n",
        "\n",
        "After which we collect the words used to describe positive and negative reviews"
      ]
    },
    {
      "cell_type": "code",
      "execution_count": null,
      "metadata": {
        "id": "sDqX9jpmMfcS",
        "outputId": "a45cc47d-618f-4d4d-a58a-07af351af14d"
      },
      "outputs": [
        {
          "name": "stdout",
          "output_type": "stream",
          "text": [
            "this witty little book makes my son laugh at loud. i recite it in the car as we're driving along and he always can sing the refrain. he's learned about whales, India, drooping roses:  i love all the new words this book  introduces and the silliness of it all.  this is a classic book i am  willing to bet my son will STILL be able to recite from memory when he is  in college\n",
            "==================================================\n",
            "I was really looking forward to these pods based on the reviews.  Starbucks is good, but I prefer bolder taste.... imagine my surprise when I ordered 2 boxes - both were expired! One expired back in 2005 for gosh sakes.  I admit that Amazon agreed to credit me for cost plus part of shipping, but geez, 2 years expired!!!  I'm hoping to find local San Diego area shoppe that carries pods so that I can try something different than starbucks.\n",
            "==================================================\n",
            "Great ingredients although, chicken should have been 1st rather than chicken broth, the only thing I do not think belongs in it is Canola oil. Canola or rapeseed is not someting a dog would ever find in nature and if it did find rapeseed in nature and eat it, it would poison them. Today's Food industries have convinced the masses that Canola oil is a safe and even better oil than olive or virgin coconut, facts though say otherwise. Until the late 70's it was poisonous until they figured out a way to fix that. I still like it but it could be better.\n",
            "==================================================\n",
            "Can't do sugar.  Have tried scores of SF Syrups.  NONE of them can touch the excellence of this product.<br /><br />Thick, delicious.  Perfect.  3 ingredients: Water, Maltitol, Natural Maple Flavor.  PERIOD.  No chemicals.  No garbage.<br /><br />Have numerous friends & family members hooked on this stuff.  My husband & son, who do NOT like \"sugar free\" prefer this over major label regular syrup.<br /><br />I use this as my SWEETENER in baking: cheesecakes, white brownies, muffins, pumpkin pies, etc... Unbelievably delicious...<br /><br />Can you tell I like it? :)\n",
            "==================================================\n"
          ]
        }
      ],
      "source": [
        "# printing some random reviews\n",
        "sent_0 = final['Text'].values[0]\n",
        "print(sent_0)\n",
        "print(\"=\"*50)\n",
        "\n",
        "sent_1000 = final['Text'].values[1000]\n",
        "print(sent_1000)\n",
        "print(\"=\"*50)\n",
        "\n",
        "sent_1500 = final['Text'].values[1500]\n",
        "print(sent_1500)\n",
        "print(\"=\"*50)\n",
        "\n",
        "sent_4900 = final['Text'].values[4900]\n",
        "print(sent_4900)\n",
        "print(\"=\"*50)"
      ]
    },
    {
      "cell_type": "code",
      "execution_count": null,
      "metadata": {
        "id": "eEDI2XEeMfcS",
        "outputId": "64083747-b349-40d2-e458-7d620256a94a"
      },
      "outputs": [
        {
          "name": "stdout",
          "output_type": "stream",
          "text": [
            "this witty little book makes my son laugh at loud. i recite it in the car as we're driving along and he always can sing the refrain. he's learned about whales, India, drooping roses:  i love all the new words this book  introduces and the silliness of it all.  this is a classic book i am  willing to bet my son will STILL be able to recite from memory when he is  in college\n"
          ]
        }
      ],
      "source": [
        "# remove urls from text python: https://stackoverflow.com/a/40823105/4084039\n",
        "sent_0 = re.sub(r\"http\\S+\", \"\", sent_0)\n",
        "sent_1000 = re.sub(r\"http\\S+\", \"\", sent_1000)\n",
        "sent_150 = re.sub(r\"http\\S+\", \"\", sent_1500)\n",
        "sent_4900 = re.sub(r\"http\\S+\", \"\", sent_4900)\n",
        "\n",
        "print(sent_0)"
      ]
    },
    {
      "cell_type": "code",
      "execution_count": null,
      "metadata": {
        "id": "ee8N6HnEMfcS",
        "outputId": "3f8c8656-9d92-4681-9ded-b3f8f2a2b5ec"
      },
      "outputs": [
        {
          "name": "stdout",
          "output_type": "stream",
          "text": [
            "this witty little book makes my son laugh at loud. i recite it in the car as we're driving along and he always can sing the refrain. he's learned about whales, India, drooping roses:  i love all the new words this book  introduces and the silliness of it all.  this is a classic book i am  willing to bet my son will STILL be able to recite from memory when he is  in college\n",
            "==================================================\n",
            "I was really looking forward to these pods based on the reviews.  Starbucks is good, but I prefer bolder taste.... imagine my surprise when I ordered 2 boxes - both were expired! One expired back in 2005 for gosh sakes.  I admit that Amazon agreed to credit me for cost plus part of shipping, but geez, 2 years expired!!!  I'm hoping to find local San Diego area shoppe that carries pods so that I can try something different than starbucks.\n",
            "==================================================\n",
            "Great ingredients although, chicken should have been 1st rather than chicken broth, the only thing I do not think belongs in it is Canola oil. Canola or rapeseed is not someting a dog would ever find in nature and if it did find rapeseed in nature and eat it, it would poison them. Today's Food industries have convinced the masses that Canola oil is a safe and even better oil than olive or virgin coconut, facts though say otherwise. Until the late 70's it was poisonous until they figured out a way to fix that. I still like it but it could be better.\n",
            "==================================================\n",
            "Can't do sugar.  Have tried scores of SF Syrups.  NONE of them can touch the excellence of this product.Thick, delicious.  Perfect.  3 ingredients: Water, Maltitol, Natural Maple Flavor.  PERIOD.  No chemicals.  No garbage.Have numerous friends & family members hooked on this stuff.  My husband & son, who do NOT like \"sugar free\" prefer this over major label regular syrup.I use this as my SWEETENER in baking: cheesecakes, white brownies, muffins, pumpkin pies, etc... Unbelievably delicious...Can you tell I like it? :)\n"
          ]
        }
      ],
      "source": [
        "# https://stackoverflow.com/questions/16206380/python-beautifulsoup-how-to-remove-all-tags-from-an-element\n",
        "from bs4 import BeautifulSoup\n",
        "\n",
        "soup = BeautifulSoup(sent_0, 'lxml')\n",
        "text = soup.get_text()\n",
        "print(text)\n",
        "print(\"=\"*50)\n",
        "\n",
        "soup = BeautifulSoup(sent_1000, 'lxml')\n",
        "text = soup.get_text()\n",
        "print(text)\n",
        "print(\"=\"*50)\n",
        "\n",
        "soup = BeautifulSoup(sent_1500, 'lxml')\n",
        "text = soup.get_text()\n",
        "print(text)\n",
        "print(\"=\"*50)\n",
        "\n",
        "soup = BeautifulSoup(sent_4900, 'lxml')\n",
        "text = soup.get_text()\n",
        "print(text)"
      ]
    },
    {
      "cell_type": "code",
      "execution_count": null,
      "metadata": {
        "id": "AwnwfRZEMfcT"
      },
      "outputs": [],
      "source": [
        "# https://stackoverflow.com/a/47091490/4084039\n",
        "import re\n",
        "\n",
        "def decontracted(phrase):\n",
        "    # specific\n",
        "    phrase = re.sub(r\"won't\", \"will not\", phrase)\n",
        "    phrase = re.sub(r\"can\\'t\", \"can not\", phrase)\n",
        "\n",
        "    # general\n",
        "    phrase = re.sub(r\"n\\'t\", \" not\", phrase)\n",
        "    phrase = re.sub(r\"\\'re\", \" are\", phrase)\n",
        "    phrase = re.sub(r\"\\'s\", \" is\", phrase)\n",
        "    phrase = re.sub(r\"\\'d\", \" would\", phrase)\n",
        "    phrase = re.sub(r\"\\'ll\", \" will\", phrase)\n",
        "    phrase = re.sub(r\"\\'t\", \" not\", phrase)\n",
        "    phrase = re.sub(r\"\\'ve\", \" have\", phrase)\n",
        "    phrase = re.sub(r\"\\'m\", \" am\", phrase)\n",
        "    return phrase"
      ]
    },
    {
      "cell_type": "code",
      "execution_count": null,
      "metadata": {
        "id": "OB3-RhsCMfcT",
        "outputId": "5ede0394-689d-4cce-f1b6-9b50e11d5811"
      },
      "outputs": [
        {
          "name": "stdout",
          "output_type": "stream",
          "text": [
            "Great ingredients although, chicken should have been 1st rather than chicken broth, the only thing I do not think belongs in it is Canola oil. Canola or rapeseed is not someting a dog would ever find in nature and if it did find rapeseed in nature and eat it, it would poison them. Today is Food industries have convinced the masses that Canola oil is a safe and even better oil than olive or virgin coconut, facts though say otherwise. Until the late 70 is it was poisonous until they figured out a way to fix that. I still like it but it could be better.\n",
            "==================================================\n"
          ]
        }
      ],
      "source": [
        "sent_1500 = decontracted(sent_1500)\n",
        "print(sent_1500)\n",
        "print(\"=\"*50)"
      ]
    },
    {
      "cell_type": "code",
      "execution_count": null,
      "metadata": {
        "id": "akSaeKTpMfcT",
        "outputId": "f0206b2e-d180-421a-c2f7-cbd6a1cbe58b"
      },
      "outputs": [
        {
          "name": "stdout",
          "output_type": "stream",
          "text": [
            "this witty little book makes my son laugh at loud. i recite it in the car as we're driving along and he always can sing the refrain. he's learned about whales, India, drooping roses:  i love all the new words this book  introduces and the silliness of it all.  this is a classic book i am  willing to bet my son will STILL be able to recite from memory when he is  in college\n"
          ]
        }
      ],
      "source": [
        "#remove words with numbers python: https://stackoverflow.com/a/18082370/4084039\n",
        "sent_0 = re.sub(\"\\S*\\d\\S*\", \"\", sent_0).strip()\n",
        "print(sent_0)"
      ]
    },
    {
      "cell_type": "code",
      "execution_count": null,
      "metadata": {
        "id": "M89NdKj5MfcT",
        "outputId": "a9581287-c3c4-485c-9177-5f3095a04ce7"
      },
      "outputs": [
        {
          "name": "stdout",
          "output_type": "stream",
          "text": [
            "Great ingredients although chicken should have been 1st rather than chicken broth the only thing I do not think belongs in it is Canola oil Canola or rapeseed is not someting a dog would ever find in nature and if it did find rapeseed in nature and eat it it would poison them Today is Food industries have convinced the masses that Canola oil is a safe and even better oil than olive or virgin coconut facts though say otherwise Until the late 70 is it was poisonous until they figured out a way to fix that I still like it but it could be better \n"
          ]
        }
      ],
      "source": [
        "#remove spacial character: https://stackoverflow.com/a/5843547/4084039\n",
        "sent_1500 = re.sub('[^A-Za-z0-9]+', ' ', sent_1500)\n",
        "print(sent_1500)"
      ]
    },
    {
      "cell_type": "code",
      "execution_count": null,
      "metadata": {
        "id": "SJ9YvOGEMfcT"
      },
      "outputs": [],
      "source": [
        "# https://gist.github.com/sebleier/554280\n",
        "# we are removing the words from the stop words list: 'no', 'nor', 'not'\n",
        "# <br /><br /> ==> after the above steps, we are getting \"br br\"\n",
        "# we are including them into stop words list\n",
        "# instead of <br /> if we have <br/> these tags would have revmoved in the 1st step\n",
        "\n",
        "stopwords= set(['br', 'the', 'i', 'me', 'my', 'myself', 'we', 'our', 'ours', 'ourselves', 'you', \"you're\", \"you've\",\\\n",
        "            \"you'll\", \"you'd\", 'your', 'yours', 'yourself', 'yourselves', 'he', 'him', 'his', 'himself', \\\n",
        "            'she', \"she's\", 'her', 'hers', 'herself', 'it', \"it's\", 'its', 'itself', 'they', 'them', 'their',\\\n",
        "            'theirs', 'themselves', 'what', 'which', 'who', 'whom', 'this', 'that', \"that'll\", 'these', 'those', \\\n",
        "            'am', 'is', 'are', 'was', 'were', 'be', 'been', 'being', 'have', 'has', 'had', 'having', 'do', 'does', \\\n",
        "            'did', 'doing', 'a', 'an', 'the', 'and', 'but', 'if', 'or', 'because', 'as', 'until', 'while', 'of', \\\n",
        "            'at', 'by', 'for', 'with', 'about', 'against', 'between', 'into', 'through', 'during', 'before', 'after',\\\n",
        "            'above', 'below', 'to', 'from', 'up', 'down', 'in', 'out', 'on', 'off', 'over', 'under', 'again', 'further',\\\n",
        "            'then', 'once', 'here', 'there', 'when', 'where', 'why', 'how', 'all', 'any', 'both', 'each', 'few', 'more',\\\n",
        "            'most', 'other', 'some', 'such', 'only', 'own', 'same', 'so', 'than', 'too', 'very', \\\n",
        "            's', 't', 'can', 'will', 'just', 'don', \"don't\", 'should', \"should've\", 'now', 'd', 'll', 'm', 'o', 're', \\\n",
        "            've', 'y', 'ain', 'aren', \"aren't\", 'couldn', \"couldn't\", 'didn', \"didn't\", 'doesn', \"doesn't\", 'hadn',\\\n",
        "            \"hadn't\", 'hasn', \"hasn't\", 'haven', \"haven't\", 'isn', \"isn't\", 'ma', 'mightn', \"mightn't\", 'mustn',\\\n",
        "            \"mustn't\", 'needn', \"needn't\", 'shan', \"shan't\", 'shouldn', \"shouldn't\", 'wasn', \"wasn't\", 'weren', \"weren't\", \\\n",
        "            'won', \"won't\", 'wouldn', \"wouldn't\"])"
      ]
    },
    {
      "cell_type": "code",
      "execution_count": null,
      "metadata": {
        "id": "0qw8kaXfMfcU",
        "outputId": "c6276384-de7f-4c48-ed7f-7dbaa86ae438"
      },
      "outputs": [
        {
          "name": "stderr",
          "output_type": "stream",
          "text": [
            "100%|████████████████████████████████████████████████████████████████████████| 364171/364171 [02:27<00:00, 2474.98it/s]\n"
          ]
        }
      ],
      "source": [
        "# Combining all the above stundents \n",
        "from tqdm import tqdm\n",
        "preprocessed_reviews = []\n",
        "# tqdm is for printing the status bar\n",
        "for sentance in tqdm(final['Text'].values):\n",
        "    sentance = re.sub(r\"http\\S+\", \"\", sentance)\n",
        "    sentance = BeautifulSoup(sentance, 'lxml').get_text()\n",
        "    sentance = decontracted(sentance)\n",
        "    sentance = re.sub(\"\\S*\\d\\S*\", \"\", sentance).strip()\n",
        "    sentance = re.sub('[^A-Za-z]+', ' ', sentance)\n",
        "    # https://gist.github.com/sebleier/554280\n",
        "    sentance = ' '.join(e.lower() for e in sentance.split() if e.lower() not in stopwords)\n",
        "    preprocessed_reviews.append(sentance.strip())"
      ]
    },
    {
      "cell_type": "code",
      "execution_count": null,
      "metadata": {
        "id": "-9jD8QO1MfcU",
        "outputId": "9fe0fafc-325f-4b7a-95b8-d70a3b0f8f0b"
      },
      "outputs": [
        {
          "data": {
            "text/plain": [
              "'great ingredients although chicken rather chicken broth thing not think belongs canola oil canola rapeseed not someting dog would ever find nature find rapeseed nature eat would poison today food industries convinced masses canola oil safe even better oil olive virgin coconut facts though say otherwise late poisonous figured way fix still like could better'"
            ]
          },
          "execution_count": 22,
          "metadata": {},
          "output_type": "execute_result"
        }
      ],
      "source": [
        "preprocessed_reviews[1500]"
      ]
    },
    {
      "cell_type": "code",
      "execution_count": null,
      "metadata": {
        "id": "38ihz_2BMfcU"
      },
      "outputs": [],
      "source": [
        "data_pos = final[final[\"Score\"]== 1].sample(n=50000)\n",
        "data_neg = final[final[\"Score\"]== 0].sample(n=50000)\n",
        "final_2000 = pd.concat([data_pos,data_neg])"
      ]
    },
    {
      "cell_type": "code",
      "execution_count": null,
      "metadata": {
        "id": "_t69LHVGMfcU",
        "outputId": "ef6c45bd-ca0a-40e9-adf6-fcb99629e14a"
      },
      "outputs": [
        {
          "data": {
            "text/plain": [
              "(100000, 10)"
            ]
          },
          "execution_count": 24,
          "metadata": {},
          "output_type": "execute_result"
        }
      ],
      "source": [
        "final_2000.shape"
      ]
    },
    {
      "cell_type": "code",
      "execution_count": null,
      "metadata": {
        "id": "DWT0oT-UMfcU"
      },
      "outputs": [],
      "source": [
        "final_2000[\"Time\"] = pd.to_datetime(final_2000[\"Time\"], unit = \"s\")\n",
        "final_2000 = final_2000.sort_values(by = \"Time\")"
      ]
    },
    {
      "cell_type": "markdown",
      "metadata": {
        "id": "L7CAwtkhMfcV"
      },
      "source": [
        "<h2><font color='black'>[3.2] splitting of data </font></h2>"
      ]
    },
    {
      "cell_type": "code",
      "execution_count": null,
      "metadata": {
        "id": "P8HNwUi2MfcV"
      },
      "outputs": [],
      "source": [
        "import numpy as np\n",
        "from sklearn.model_selection import train_test_split\n",
        "X = final_2000['Text']\n",
        "X.shape\n",
        "Y = final_2000['Score']\n",
        "Y.shape\n",
        "X_train, X_test, Y_train, Y_test = train_test_split(X, Y, test_size=0.33, random_state=42)\n",
        "X_train, X_cv, Y_train, Y_cv = train_test_split(X_train, Y_train, test_size=0.33) # this is random splitting"
      ]
    },
    {
      "cell_type": "code",
      "execution_count": null,
      "metadata": {
        "id": "QLmQZRkzMfcV",
        "outputId": "23755886-95f1-42ca-b2d4-f8d79986fe00"
      },
      "outputs": [
        {
          "name": "stdout",
          "output_type": "stream",
          "text": [
            "(44890,) (44890,)\n",
            "(22110,) (22110,)\n",
            "(33000,) (33000,)\n"
          ]
        }
      ],
      "source": [
        "print(X_train.shape, Y_train.shape)\n",
        "print(X_cv.shape, Y_cv.shape)\n",
        "print(X_test.shape, Y_test.shape)"
      ]
    },
    {
      "cell_type": "markdown",
      "metadata": {
        "id": "Udi-SQFxMfcV"
      },
      "source": [
        "# [4] Featurization"
      ]
    },
    {
      "cell_type": "markdown",
      "metadata": {
        "id": "jeH-MbNyMfcV"
      },
      "source": [
        "## [4.1] BAG OF WORDS"
      ]
    },
    {
      "cell_type": "code",
      "execution_count": null,
      "metadata": {
        "id": "d38dMpRhMfcW",
        "outputId": "6002061d-97f1-41ab-a2c3-ecb165d5c888"
      },
      "outputs": [
        {
          "name": "stdout",
          "output_type": "stream",
          "text": [
            "some feature names  ['00', '000', '000001', '000mg', '001', '001bru', '00202', '005', '0060928115', '0069615']\n",
            "the type of count vectorizer <class 'scipy.sparse.csr.csr_matrix'>\n",
            "the shape of out text BOW vectorizer (44890, 42844)\n",
            "the number of unique words 42844\n",
            "==================================================\n"
          ]
        }
      ],
      "source": [
        "#BoW\n",
        "count_vect = CountVectorizer() #in scikit-learn\n",
        "count_vect.fit(X_train)\n",
        "X_train_bow = count_vect.transform(X_train)\n",
        "X_cv_bow = count_vect.transform(X_cv)\n",
        "X_test_bow = count_vect.transform(X_test)\n",
        "print(\"some feature names \", count_vect.get_feature_names()[:10])\n",
        "print(\"the type of count vectorizer\", type(X_train_bow))\n",
        "print(\"the shape of out text BOW vectorizer\", X_train_bow.get_shape())\n",
        "print(\"the number of unique words\", X_train_bow.get_shape()[1])\n",
        "print('='*50)"
      ]
    },
    {
      "cell_type": "code",
      "execution_count": null,
      "metadata": {
        "id": "Q7x_aOXcMfcW",
        "outputId": "056b9809-7c8d-4e70-f306-da69e5f9eeac"
      },
      "outputs": [
        {
          "name": "stderr",
          "output_type": "stream",
          "text": [
            "C:\\Users\\srava\\Anaconda3\\lib\\site-packages\\sklearn\\utils\\validation.py:595: DataConversionWarning: Data with input dtype int64 was converted to float64 by StandardScaler.\n",
            "  warnings.warn(msg, DataConversionWarning)\n",
            "C:\\Users\\srava\\Anaconda3\\lib\\site-packages\\sklearn\\utils\\validation.py:595: DataConversionWarning: Data with input dtype int64 was converted to float64 by StandardScaler.\n",
            "  warnings.warn(msg, DataConversionWarning)\n"
          ]
        },
        {
          "data": {
            "text/plain": [
              "(44890, 42844)"
            ]
          },
          "execution_count": 30,
          "metadata": {},
          "output_type": "execute_result"
        }
      ],
      "source": [
        "from sklearn.preprocessing import StandardScaler \n",
        "std_data = StandardScaler(with_mean = False).fit_transform(X_train_bow)\n",
        "std_data.shape"
      ]
    },
    {
      "cell_type": "code",
      "execution_count": null,
      "metadata": {
        "id": "gkHsX2BYMfcW",
        "outputId": "527484d0-a409-42a1-f648-8d16c387e784"
      },
      "outputs": [
        {
          "name": "stderr",
          "output_type": "stream",
          "text": [
            "C:\\Users\\srava\\Anaconda3\\lib\\site-packages\\sklearn\\utils\\validation.py:595: DataConversionWarning: Data with input dtype int64 was converted to float64 by StandardScaler.\n",
            "  warnings.warn(msg, DataConversionWarning)\n",
            "C:\\Users\\srava\\Anaconda3\\lib\\site-packages\\sklearn\\utils\\validation.py:595: DataConversionWarning: Data with input dtype int64 was converted to float64 by StandardScaler.\n",
            "  warnings.warn(msg, DataConversionWarning)\n"
          ]
        },
        {
          "data": {
            "text/plain": [
              "(33000, 42844)"
            ]
          },
          "execution_count": 31,
          "metadata": {},
          "output_type": "execute_result"
        }
      ],
      "source": [
        "from sklearn.preprocessing import StandardScaler \n",
        "std_data_test = StandardScaler(with_mean = False).fit_transform(X_test_bow)\n",
        "std_data_test.shape"
      ]
    },
    {
      "cell_type": "code",
      "execution_count": null,
      "metadata": {
        "id": "ApKowPvHMfcW",
        "outputId": "cd283c63-51c8-48f5-a7c1-f67d1cb5be5f"
      },
      "outputs": [
        {
          "name": "stderr",
          "output_type": "stream",
          "text": [
            "C:\\Users\\srava\\Anaconda3\\lib\\site-packages\\sklearn\\utils\\validation.py:595: DataConversionWarning: Data with input dtype int64 was converted to float64 by StandardScaler.\n",
            "  warnings.warn(msg, DataConversionWarning)\n",
            "C:\\Users\\srava\\Anaconda3\\lib\\site-packages\\sklearn\\utils\\validation.py:595: DataConversionWarning: Data with input dtype int64 was converted to float64 by StandardScaler.\n",
            "  warnings.warn(msg, DataConversionWarning)\n"
          ]
        },
        {
          "data": {
            "text/plain": [
              "(22110, 42844)"
            ]
          },
          "execution_count": 32,
          "metadata": {},
          "output_type": "execute_result"
        }
      ],
      "source": [
        "std_data_cv = StandardScaler(with_mean = False).fit_transform(X_cv_bow)\n",
        "std_data_cv.shape"
      ]
    },
    {
      "cell_type": "code",
      "execution_count": null,
      "metadata": {
        "id": "c0i8P4GPMfcW"
      },
      "outputs": [],
      "source": [
        "std_data = std_data.todense()\n",
        "type(std_data)"
      ]
    },
    {
      "cell_type": "code",
      "execution_count": null,
      "metadata": {
        "id": "HWKnjymNMfcW",
        "outputId": "ee1fff70-6435-4a98-e054-bac3c8ed4c00"
      },
      "outputs": [
        {
          "name": "stdout",
          "output_type": "stream",
          "text": [
            "After bow\n",
            "(44890, 42844) (44890,)\n",
            "(22110, 42844) (22110,)\n",
            "(33000, 42844) (33000,)\n",
            "==================================================\n"
          ]
        }
      ],
      "source": [
        "print(\"After bow\")\n",
        "print(X_train_bow.shape, Y_train.shape)\n",
        "print(X_cv_bow.shape, Y_cv.shape)\n",
        "print(X_test_bow.shape, Y_test.shape)\n",
        "print(\"=\"*50)"
      ]
    },
    {
      "cell_type": "markdown",
      "metadata": {
        "id": "l09egy2bMfcW"
      },
      "source": [
        "## [4.2] Bi-Grams and n-Grams."
      ]
    },
    {
      "cell_type": "code",
      "execution_count": null,
      "metadata": {
        "id": "EX5XwFg_MfcX",
        "outputId": "a8ad8316-c800-4583-9f2b-30282b8a8824"
      },
      "outputs": [
        {
          "name": "stdout",
          "output_type": "stream",
          "text": [
            "the type of count vectorizer  <class 'scipy.sparse.csr.csr_matrix'>\n",
            "the shape of out text BOW vectorizer  (44890, 5000)\n",
            "the number of unique words including both unigrams and bigrams  5000\n"
          ]
        }
      ],
      "source": [
        "#bi-gram, tri-gram and n-gram\n",
        "\n",
        "#removing stop words like \"not\" should be avoided before building n-grams\n",
        "# count_vect = CountVectorizer(ngram_range=(1,2))\n",
        "# please do read the CountVectorizer documentation http://scikit-learn.org/stable/modules/generated/sklearn.feature_extraction.text.CountVectorizer.html\n",
        "\n",
        "# you can choose these numebrs min_df=10, max_features=5000, of your choice\n",
        "count_vect = CountVectorizer(ngram_range=(1,2), min_df=10, max_features=5000)\n",
        "final_bigram_counts = count_vect.fit_transform(X_train)\n",
        "print(\"the type of count vectorizer \",type(final_bigram_counts))\n",
        "print(\"the shape of out text BOW vectorizer \",final_bigram_counts.get_shape())\n",
        "print(\"the number of unique words including both unigrams and bigrams \", final_bigram_counts.get_shape()[1])"
      ]
    },
    {
      "cell_type": "code",
      "execution_count": null,
      "metadata": {
        "id": "muqwFL62MfcX",
        "outputId": "826c9d27-bff6-4f04-9968-bf5d013f4b5d"
      },
      "outputs": [
        {
          "name": "stderr",
          "output_type": "stream",
          "text": [
            "C:\\Users\\srava\\Anaconda3\\lib\\site-packages\\sklearn\\utils\\validation.py:595: DataConversionWarning: Data with input dtype int64 was converted to float64 by StandardScaler.\n",
            "  warnings.warn(msg, DataConversionWarning)\n",
            "C:\\Users\\srava\\Anaconda3\\lib\\site-packages\\sklearn\\utils\\validation.py:595: DataConversionWarning: Data with input dtype int64 was converted to float64 by StandardScaler.\n",
            "  warnings.warn(msg, DataConversionWarning)\n"
          ]
        },
        {
          "data": {
            "text/plain": [
              "(44890, 5000)"
            ]
          },
          "execution_count": 37,
          "metadata": {},
          "output_type": "execute_result"
        }
      ],
      "source": [
        "from sklearn.preprocessing import StandardScaler \n",
        "std_data = StandardScaler(with_mean = False).fit_transform(final_bigram_counts)\n",
        "std_data.shape"
      ]
    },
    {
      "cell_type": "code",
      "execution_count": null,
      "metadata": {
        "id": "kEUdG1FSMfcX",
        "outputId": "dbcc55e1-e349-4922-a02a-ddd595f8c957"
      },
      "outputs": [
        {
          "data": {
            "text/plain": [
              "scipy.sparse.csr.csr_matrix"
            ]
          },
          "execution_count": 38,
          "metadata": {},
          "output_type": "execute_result"
        }
      ],
      "source": [
        "type(std_data)"
      ]
    },
    {
      "cell_type": "code",
      "execution_count": null,
      "metadata": {
        "id": "Gjl2AGHWMfcX",
        "outputId": "1a9e9d97-53b0-4d17-c522-489292497b53"
      },
      "outputs": [
        {
          "data": {
            "text/plain": [
              "numpy.matrix"
            ]
          },
          "execution_count": 39,
          "metadata": {},
          "output_type": "execute_result"
        }
      ],
      "source": [
        "std_data = std_data.todense()\n",
        "type(std_data)"
      ]
    },
    {
      "cell_type": "markdown",
      "metadata": {
        "id": "5LKpbA7IMfcX"
      },
      "source": [
        "## [4.3] TF-IDF"
      ]
    },
    {
      "cell_type": "code",
      "execution_count": null,
      "metadata": {
        "id": "j_1PHe2yMfcY",
        "outputId": "0ed996e4-26a8-4efe-8a17-5e549e1ca1e2"
      },
      "outputs": [
        {
          "name": "stdout",
          "output_type": "stream",
          "text": [
            "some sample features(unique words in the corpus) ['00', '00 and', '00 at', '00 box', '00 br', '00 can', '00 for', '00 in', '00 per', '000']\n",
            "==================================================\n",
            "the type of count vectorizer  <class 'scipy.sparse.csr.csr_matrix'>\n",
            "the shape of out text TFIDF vectorizer  (44890, 50105)\n",
            "the number of unique words including both unigrams and bigrams  50105\n"
          ]
        }
      ],
      "source": [
        "tf_idf_vect = TfidfVectorizer(ngram_range=(1,2), min_df=10)\n",
        "tf_idf_vect.fit(X_train)\n",
        "print(\"some sample features(unique words in the corpus)\",tf_idf_vect.get_feature_names()[0:10])\n",
        "print('='*50)\n",
        "\n",
        "final_tf_idf = tf_idf_vect.transform(X_train)\n",
        "print(\"the type of count vectorizer \",type(final_tf_idf))\n",
        "print(\"the shape of out text TFIDF vectorizer \",final_tf_idf.get_shape())\n",
        "print(\"the number of unique words including both unigrams and bigrams \", final_tf_idf.get_shape()[1])"
      ]
    },
    {
      "cell_type": "code",
      "execution_count": null,
      "metadata": {
        "id": "ZUfMQKRgMfcY"
      },
      "outputs": [],
      "source": [
        "X_train_tfidf = final_tf_idf"
      ]
    },
    {
      "cell_type": "code",
      "execution_count": null,
      "metadata": {
        "id": "yXn4wln7MfcY",
        "outputId": "44c45db6-77c9-47a1-b681-4f6527263831"
      },
      "outputs": [
        {
          "data": {
            "text/plain": [
              "(44890, 50105)"
            ]
          },
          "execution_count": 42,
          "metadata": {},
          "output_type": "execute_result"
        }
      ],
      "source": [
        "X_train_tfidf.shape"
      ]
    },
    {
      "cell_type": "code",
      "execution_count": null,
      "metadata": {
        "id": "LIG7piRRMfcY",
        "outputId": "abb69666-e6cc-4a59-d6a1-a001f339ab28"
      },
      "outputs": [
        {
          "data": {
            "text/plain": [
              "(33000, 50105)"
            ]
          },
          "execution_count": 43,
          "metadata": {},
          "output_type": "execute_result"
        }
      ],
      "source": [
        "X_test_tfidf = tf_idf_vect.transform(X_test)\n",
        "X_test_tfidf.shape"
      ]
    },
    {
      "cell_type": "code",
      "execution_count": null,
      "metadata": {
        "id": "rJRHq4c4MfcY",
        "outputId": "ecfc9a31-85ce-497c-e101-eaab2b50e476"
      },
      "outputs": [
        {
          "data": {
            "text/plain": [
              "(22110, 50105)"
            ]
          },
          "execution_count": 44,
          "metadata": {},
          "output_type": "execute_result"
        }
      ],
      "source": [
        "X_cv_tfidf = tf_idf_vect.transform(X_cv)\n",
        "X_cv_tfidf.shape"
      ]
    },
    {
      "cell_type": "markdown",
      "metadata": {
        "id": "FIUBaPwKMfcY"
      },
      "source": [
        "## [4.4] Word2Vec"
      ]
    },
    {
      "cell_type": "code",
      "execution_count": null,
      "metadata": {
        "id": "mWMNtx0CMfcZ"
      },
      "outputs": [],
      "source": [
        "# Train your own Word2Vec model using your own text corpus\n",
        "i=0\n",
        "list_of_sentance_train=[]\n",
        "for sentance in X_train:\n",
        "    list_of_sentance_train.append(sentance.split())"
      ]
    },
    {
      "cell_type": "code",
      "execution_count": null,
      "metadata": {
        "scrolled": true,
        "id": "hQilZ5s8MfcZ",
        "outputId": "89e6b7a4-c574-42a8-a6c0-9b87fc385752"
      },
      "outputs": [
        {
          "name": "stdout",
          "output_type": "stream",
          "text": [
            "[('wonderful', 0.8987786769866943), ('good', 0.8620812892913818), ('fantastic', 0.8470150828361511), ('perfect', 0.8161282539367676), ('special', 0.7535710334777832), ('delicious', 0.7444693446159363), ('decent', 0.7348847985267639), ('nice', 0.7342046499252319), ('excellent', 0.7040228247642517), ('awesome', 0.6961106657981873)]\n",
            "==================================================\n",
            "[('best', 0.8548955917358398), ('saltiest', 0.7628551721572876), ('nastiest', 0.7364858388900757), ('WORST', 0.7031397819519043), ('hottest', 0.6817453503608704), ('worst-tasting', 0.6805601119995117), ('ever', 0.670866072177887), ('strangest', 0.6608849167823792), ('closest', 0.6577369570732117), ('BEST', 0.6524950265884399)]\n"
          ]
        }
      ],
      "source": [
        "# Using Google News Word2Vectors\n",
        "\n",
        "# in this project we are using a pretrained model by google\n",
        "# its 3.3G file, once you load this into your memory \n",
        "# it occupies ~9Gb, so please do this step only if you have >12G of ram\n",
        "# we will provide a pickle file wich contains a dict , \n",
        "# and it contains all our courpus words as keys and  model[word] as values\n",
        "# To use this code-snippet, download \"GoogleNews-vectors-negative300.bin\" \n",
        "# from https://drive.google.com/file/d/0B7XkCwpI5KDYNlNUTTlSS21pQmM/edit\n",
        "# it's 1.9GB in size.\n",
        "\n",
        "\n",
        "# http://kavita-ganesan.com/gensim-word2vec-tutorial-starter-code/#.W17SRFAzZPY\n",
        "# you can comment this whole cell\n",
        "# or change these varible according to your need\n",
        "\n",
        "is_your_ram_gt_16g=False\n",
        "want_to_use_google_w2v = False\n",
        "want_to_train_w2v = True\n",
        "\n",
        "if want_to_train_w2v:\n",
        "    # min_count = 5 considers only words that occured atleast 5 times\n",
        "    w2v_model=Word2Vec(list_of_sentance_train,min_count=5,size=50, workers=4)\n",
        "    print(w2v_model.wv.most_similar('great'))\n",
        "    print('='*50)\n",
        "    print(w2v_model.wv.most_similar('worst'))\n",
        "    \n",
        "elif want_to_use_google_w2v and is_your_ram_gt_16g:\n",
        "    if os.path.isfile('GoogleNews-vectors-negative300.bin'):\n",
        "        w2v_model=KeyedVectors.load_word2vec_format('GoogleNews-vectors-negative300.bin', binary=True)\n",
        "        print(w2v_model.wv.most_similar('great'))\n",
        "        print(w2v_model.wv.most_similar('worst'))\n",
        "    else:\n",
        "        print(\"you don't have gogole's word2vec file, keep want_to_train_w2v = True, to train your own w2v \")"
      ]
    },
    {
      "cell_type": "code",
      "execution_count": null,
      "metadata": {
        "id": "Ag7wyQy4MfcZ"
      },
      "outputs": [],
      "source": [
        "# X_test = vectorizer.transform(test['Contents'])"
      ]
    },
    {
      "cell_type": "code",
      "execution_count": null,
      "metadata": {
        "scrolled": true,
        "id": "_Xosnrt9MfcZ"
      },
      "outputs": [],
      "source": [
        "w2v_model= Word2Vec(list_of_sentance_train, min_count= 5, size = 50,workers = 4)"
      ]
    },
    {
      "cell_type": "code",
      "execution_count": null,
      "metadata": {
        "id": "QmTBR4GrMfcZ",
        "outputId": "9bf7bfd8-b24e-4c86-f96e-667a13e51136"
      },
      "outputs": [
        {
          "data": {
            "text/plain": [
              "44890"
            ]
          },
          "execution_count": 49,
          "metadata": {},
          "output_type": "execute_result"
        }
      ],
      "source": [
        "len(list_of_sentance_train)"
      ]
    },
    {
      "cell_type": "code",
      "execution_count": null,
      "metadata": {
        "id": "KXINP2TrMfcZ",
        "outputId": "0ce84ca2-1c0e-4547-d742-b94b84ab2d88"
      },
      "outputs": [
        {
          "name": "stdout",
          "output_type": "stream",
          "text": [
            "I can remember seeing the show when it aired on television years ago, when I was a child.  My sister later bought me the LP (which I have to this day,  I'm thirty something).I used this series of books &amp; songs when I did my  student teaching for preschoolers &amp; turned the whole school on to it.  I am now purchasing it on CD, along with the books for my children 5 &amp;  2.  The tradition lives on!\n",
            "*********\n",
            "['Shipper', 'was', 'fantastic', 'and', 'I', 'got', 'item', 'almost', 'next', 'day.', 'The', 'curry', 'paste', 'is', 'delicious!!']\n"
          ]
        }
      ],
      "source": [
        "print(final_2000['Text'].values[0])\n",
        "print('*********')\n",
        "print(list_of_sentance_train[0])"
      ]
    },
    {
      "cell_type": "code",
      "execution_count": null,
      "metadata": {
        "id": "Kly5wGyxMfcZ",
        "outputId": "57e6662d-e138-45d2-a04a-591c8886d629"
      },
      "outputs": [
        {
          "name": "stdout",
          "output_type": "stream",
          "text": [
            "number of words that occured minimum 5 times  26436\n",
            "sample words  ['was', 'fantastic', 'and', 'I', 'got', 'item', 'almost', 'next', 'day.', 'The', 'curry', 'paste', 'is', 'delicious!!', \"I've\", 'always', 'enjoyed', 'the', 'decaf', 'at', 'a', 'little', 'Italian', 'restaurant', 'in', 'our', 'area.', 'noticed', 'that', 'their', 'affiliated', 'deli', 'sold', 'asked', 'if', 'what', 'they', 'brewed', 'for', 'told', 'yes.', 'immediately', 'went', 'to', 'Amazon', 'ordered', 'am', 'not', 'sorry.', 'What']\n"
          ]
        }
      ],
      "source": [
        "w2v_words = list(w2v_model.wv.vocab)\n",
        "print(\"number of words that occured minimum 5 times \",len(w2v_words))\n",
        "print(\"sample words \", w2v_words[0:50])"
      ]
    },
    {
      "cell_type": "code",
      "execution_count": null,
      "metadata": {
        "id": "iYzs_96gMfca",
        "outputId": "ac394496-3a6a-41f9-ffd0-e3381db085f6"
      },
      "outputs": [
        {
          "data": {
            "text/plain": [
              "[('like,', 0.6825273036956787),\n",
              " ('like.', 0.653648853302002),\n",
              " ('okay', 0.5548310279846191),\n",
              " ('prefer', 0.5434665083885193),\n",
              " ('mean', 0.538202166557312),\n",
              " ('think', 0.5379892587661743),\n",
              " ('enjoy', 0.5210680961608887),\n",
              " ('good,', 0.5173327922821045),\n",
              " ('plain', 0.5157830715179443),\n",
              " ('expect', 0.5063368678092957)]"
            ]
          },
          "execution_count": 52,
          "metadata": {},
          "output_type": "execute_result"
        }
      ],
      "source": [
        "w2v_model.wv.most_similar('like')"
      ]
    },
    {
      "cell_type": "code",
      "execution_count": null,
      "metadata": {
        "id": "RveoKTyvMfca"
      },
      "outputs": [],
      "source": [
        "i = 0\n",
        "list_of_sent_test = []\n",
        "for sent in X_test:\n",
        "    list_of_sent_test.append(sent.split())"
      ]
    },
    {
      "cell_type": "code",
      "execution_count": null,
      "metadata": {
        "id": "TSKpvEZtMfca",
        "outputId": "33631b08-ffc5-4ffc-f2ae-05c0003ba522"
      },
      "outputs": [
        {
          "data": {
            "text/plain": [
              "33000"
            ]
          },
          "execution_count": 54,
          "metadata": {},
          "output_type": "execute_result"
        }
      ],
      "source": [
        "len(list_of_sent_test)"
      ]
    },
    {
      "cell_type": "code",
      "execution_count": null,
      "metadata": {
        "id": "KkwP-PBYMfca"
      },
      "outputs": [],
      "source": [
        "i = 0\n",
        "list_of_sent_cv = []\n",
        "for sent in X_cv:\n",
        "    list_of_sent_cv.append(sent.split())"
      ]
    },
    {
      "cell_type": "code",
      "execution_count": null,
      "metadata": {
        "id": "7ayUPcLKMfca",
        "outputId": "d8457eda-73f6-40bf-8b3c-4e2e9d91b0b0"
      },
      "outputs": [
        {
          "data": {
            "text/plain": [
              "22110"
            ]
          },
          "execution_count": 56,
          "metadata": {},
          "output_type": "execute_result"
        }
      ],
      "source": [
        "len(list_of_sent_cv)"
      ]
    },
    {
      "cell_type": "markdown",
      "metadata": {
        "id": "7D5Wder6Mfca"
      },
      "source": [
        "## [4.4.1] Converting text into vectors using Avg W2V, TFIDF-W2V"
      ]
    },
    {
      "cell_type": "markdown",
      "metadata": {
        "id": "bnW9Xur5Mfca"
      },
      "source": [
        "#### [4.4.1.1] Avg W2v"
      ]
    },
    {
      "cell_type": "code",
      "execution_count": null,
      "metadata": {
        "id": "vZpOrWCGMfcb",
        "outputId": "ff7d27b3-5950-47e1-b7d3-5d2e0d898dcf"
      },
      "outputs": [
        {
          "name": "stderr",
          "output_type": "stream",
          "text": [
            "100%|████████████████████████████████████████████████████████████████████████████| 44890/44890 [08:19<00:00, 89.86it/s]\n"
          ]
        },
        {
          "name": "stdout",
          "output_type": "stream",
          "text": [
            "44890\n",
            "50\n"
          ]
        }
      ],
      "source": [
        "# average Word2Vec\n",
        "# compute average word2vec for each review.\n",
        "sent_vectors = []; # the avg-w2v for each sentence/review is stored in this list\n",
        "for sent in tqdm(list_of_sentance_train): # for each review/sentence\n",
        "    sent_vec = np.zeros(50) # as word vectors are of zero length 50, you might need to change this to 300 if you use google's w2v\n",
        "    cnt_words =0; # num of words with a valid vector in the sentence/review\n",
        "    for word in sent: # for each word in a review/sentence\n",
        "        if word in w2v_words:\n",
        "            vec = w2v_model.wv[word]\n",
        "            sent_vec += vec\n",
        "            cnt_words += 1\n",
        "    if cnt_words != 0:\n",
        "        sent_vec /= cnt_words\n",
        "    sent_vectors.append(sent_vec)\n",
        "print(len(sent_vectors))\n",
        "print(len(sent_vectors[0]))"
      ]
    },
    {
      "cell_type": "code",
      "execution_count": null,
      "metadata": {
        "id": "U3rnidpeMfcb"
      },
      "outputs": [],
      "source": [
        "X_train_avgw2v = sent_vectors"
      ]
    },
    {
      "cell_type": "code",
      "execution_count": null,
      "metadata": {
        "id": "yRyTVKlZMfcb",
        "outputId": "5909d896-a181-4507-f371-4d2ef5498d28"
      },
      "outputs": [
        {
          "name": "stderr",
          "output_type": "stream",
          "text": [
            "100%|████████████████████████████████████████████████████████████████████████████| 33000/33000 [06:12<00:00, 88.63it/s]\n"
          ]
        },
        {
          "name": "stdout",
          "output_type": "stream",
          "text": [
            "33000\n",
            "50\n"
          ]
        }
      ],
      "source": [
        "sent_vectors_test = []; # the avg-w2v for each sentence/review is stored in this list\n",
        "for sent in tqdm(list_of_sent_test): # for each review/sentence\n",
        "    sent_vec = np.zeros(50) # as word vectors are of zero length 50, you might need to change this to 300 if you use google's w2v\n",
        "    cnt_words =0; # num of words with a valid vector in the sentence/review\n",
        "    for word in sent: # for each word in a review/sentence\n",
        "        if word in w2v_words:\n",
        "            vec = w2v_model.wv[word]\n",
        "            sent_vec += vec\n",
        "            cnt_words += 1\n",
        "    if cnt_words != 0:\n",
        "        sent_vec /= cnt_words\n",
        "    sent_vectors_test.append(sent_vec)\n",
        "print(len(sent_vectors_test))\n",
        "print(len(sent_vectors_test[0]))"
      ]
    },
    {
      "cell_type": "code",
      "execution_count": null,
      "metadata": {
        "id": "QiDgSt0MMfcb"
      },
      "outputs": [],
      "source": [
        "X_test_avgw2v = sent_vectors_test"
      ]
    },
    {
      "cell_type": "code",
      "execution_count": null,
      "metadata": {
        "id": "Lzk07GdYMfcb",
        "outputId": "f8f4810c-27b1-4341-b7a7-b87af7b03350"
      },
      "outputs": [
        {
          "name": "stderr",
          "output_type": "stream",
          "text": [
            "100%|████████████████████████████████████████████████████████████████████████████| 22110/22110 [04:26<00:00, 83.00it/s]\n"
          ]
        },
        {
          "name": "stdout",
          "output_type": "stream",
          "text": [
            "22110\n",
            "50\n"
          ]
        }
      ],
      "source": [
        "sent_vectors_cv = []; # the avg-w2v for each sentence/review is stored in this list\n",
        "for sent in tqdm(list_of_sent_cv): # for each review/sentence\n",
        "    sent_vec = np.zeros(50) # as word vectors are of zero length 50, you might need to change this to 300 if you use google's w2v\n",
        "    cnt_words =0; # num of words with a valid vector in the sentence/review\n",
        "    for word in sent: # for each word in a review/sentence\n",
        "        if word in w2v_words:\n",
        "            vec = w2v_model.wv[word]\n",
        "            sent_vec += vec\n",
        "            cnt_words += 1\n",
        "    if cnt_words != 0:\n",
        "        sent_vec /= cnt_words\n",
        "    sent_vectors_cv.append(sent_vec)\n",
        "print(len(sent_vectors_cv))\n",
        "print(len(sent_vectors_cv[0]))"
      ]
    },
    {
      "cell_type": "code",
      "execution_count": null,
      "metadata": {
        "id": "3hEdX93yMfcb"
      },
      "outputs": [],
      "source": [
        "X_cv_avgw2v = sent_vectors_cv"
      ]
    },
    {
      "cell_type": "markdown",
      "metadata": {
        "id": "EyAJFj6SMfcb"
      },
      "source": [
        "#### [4.4.1.2] TFIDF weighted W2v"
      ]
    },
    {
      "cell_type": "code",
      "execution_count": null,
      "metadata": {
        "id": "syOhacT0Mfcb"
      },
      "outputs": [],
      "source": [
        "# S = [\"abc def pqr\", \"def def def abc\", \"pqr pqr def\"]\n",
        "model = TfidfVectorizer()\n",
        "tf_idf_matrix = model.fit_transform(X_train)\n",
        "# we are converting a dictionary with word as a key, and the idf as a value\n",
        "dictionary = dict(zip(model.get_feature_names(), list(model.idf_)))"
      ]
    },
    {
      "cell_type": "code",
      "execution_count": null,
      "metadata": {
        "id": "LeRt8gU5Mfcc",
        "outputId": "0e063b23-2213-4053-dfce-77f34c8dc7df"
      },
      "outputs": [
        {
          "name": "stderr",
          "output_type": "stream",
          "text": [
            "100%|████████████████████████████████████████████████████████████████████████████| 44890/44890 [42:43<00:00, 20.21it/s]\n"
          ]
        }
      ],
      "source": [
        "tfidf_feat = model.get_feature_names() \n",
        "tfidf_sent_vectors = []; \n",
        "row=0;\n",
        "for sent in tqdm(list_of_sentance_train): \n",
        "    sent_vec = np.zeros(50) \n",
        "    weight_sum =0;\n",
        "    for word in sent: \n",
        "        if word in w2v_words and word in tfidf_feat:\n",
        "            vec = w2v_model.wv[word]\n",
        "            tf_idf = dictionary[word]*(sent.count(word)/len(sent))\n",
        "            sent_vec += (vec * tf_idf)\n",
        "            weight_sum += tf_idf\n",
        "    if weight_sum != 0:\n",
        "        sent_vec /= weight_sum\n",
        "    tfidf_sent_vectors.append(sent_vec)\n",
        "    row += 1"
      ]
    },
    {
      "cell_type": "code",
      "execution_count": null,
      "metadata": {
        "id": "Q3O2MssUMfcc"
      },
      "outputs": [],
      "source": [
        "X_train_tfidfw2v = tfidf_sent_vectors"
      ]
    },
    {
      "cell_type": "code",
      "execution_count": null,
      "metadata": {
        "id": "1zOcO25RMfcc",
        "outputId": "a3423e69-7c4e-4542-f372-18bc2f821045"
      },
      "outputs": [
        {
          "name": "stderr",
          "output_type": "stream",
          "text": [
            "100%|██████████████████████████████████████████████████████████████████████████| 33000/33000 [5:38:48<00:00,  1.62it/s]\n"
          ]
        }
      ],
      "source": [
        "tfidf_sent_vectors_test = []; \n",
        "row=0;\n",
        "for sent in tqdm(list_of_sent_test): \n",
        "    sent_vec = np.zeros(50) \n",
        "    weight_sum =0;\n",
        "    for word in sent: \n",
        "        if word in w2v_words and word in tfidf_feat:\n",
        "            vec = w2v_model.wv[word]\n",
        "            tf_idf = dictionary[word]*(sent.count(word)/len(sent))\n",
        "            sent_vec += (vec * tf_idf)\n",
        "            weight_sum += tf_idf\n",
        "    if weight_sum != 0:\n",
        "        sent_vec /= weight_sum\n",
        "    tfidf_sent_vectors_test.append(sent_vec)\n",
        "    row += 1"
      ]
    },
    {
      "cell_type": "code",
      "execution_count": null,
      "metadata": {
        "id": "o0RrJEtZMfcc"
      },
      "outputs": [],
      "source": [
        "X_test_tfidfw2v = tfidf_sent_vectors_test"
      ]
    },
    {
      "cell_type": "code",
      "execution_count": null,
      "metadata": {
        "id": "TaPbqhgLMfcc",
        "outputId": "de2e40c6-2b16-4e3c-f908-a9a016afd4f0"
      },
      "outputs": [
        {
          "name": "stderr",
          "output_type": "stream",
          "text": [
            "100%|████████████████████████████████████████████████████████████████████████████| 22110/22110 [38:45<00:00, 21.21it/s]\n"
          ]
        }
      ],
      "source": [
        "tfidf_sent_vectors_cv = []; \n",
        "row=0;\n",
        "for sent in tqdm(list_of_sent_cv): \n",
        "    sent_vec = np.zeros(50) \n",
        "    weight_sum =0;\n",
        "    for word in sent: \n",
        "        if word in w2v_words and word in tfidf_feat:\n",
        "            vec = w2v_model.wv[word]\n",
        "            tf_idf = dictionary[word]*(sent.count(word)/len(sent))\n",
        "            sent_vec += (vec * tf_idf)\n",
        "            weight_sum += tf_idf\n",
        "    if weight_sum != 0:\n",
        "        sent_vec /= weight_sum\n",
        "    tfidf_sent_vectors_cv.append(sent_vec)\n",
        "    row += 1"
      ]
    },
    {
      "cell_type": "code",
      "execution_count": null,
      "metadata": {
        "id": "-4W6Wk5tMfcc"
      },
      "outputs": [],
      "source": [
        "X_cv_tfidfw2v = tfidf_sent_vectors_cv"
      ]
    },
    {
      "cell_type": "markdown",
      "metadata": {
        "id": "OP-hvaSaMfcd"
      },
      "source": [
        "## hyperparameter tuning with random search or grid search"
      ]
    },
    {
      "cell_type": "code",
      "execution_count": null,
      "metadata": {
        "id": "ydifDlKrMfcd",
        "outputId": "2c34a84b-ef5e-4e13-b8b8-c31ec1152413"
      },
      "outputs": [
        {
          "data": {
            "image/png": "[encoded data removed]",
            "text/plain": [
              "<Figure size 432x288 with 1 Axes>"
            ]
          },
          "metadata": {
            "needs_background": "light"
          },
          "output_type": "display_data"
        }
      ],
      "source": [
        "from sklearn.model_selection import GridSearchCV\n",
        "\n",
        "neigh = KNeighborsClassifier()\n",
        "parameters = {'n_neighbors':[1, 3 , 5 , 7 , 9 , 11 , 13 , 15]}\n",
        "clf = GridSearchCV(neigh, parameters, cv=3, scoring='roc_auc')\n",
        "clf.fit(X_train_bow, Y_train)\n",
        "\n",
        "train_auc= clf.cv_results_['mean_train_score']\n",
        "train_auc_std= clf.cv_results_['std_train_score']\n",
        "cv_auc = clf.cv_results_['mean_test_score'] \n",
        "cv_auc_std= clf.cv_results_['std_test_score']\n",
        "\n",
        "plt.plot(K, train_auc, label='Train AUC')\n",
        "# this code is copied from here: https://stackoverflow.com/a/48803361/4084039\n",
        "plt.gca().fill_between(K,train_auc - train_auc_std,train_auc + train_auc_std,alpha=0.2,color='darkblue')\n",
        "\n",
        "plt.plot(K, cv_auc, label='CV AUC')\n",
        "# this code is copied from here: https://stackoverflow.com/a/48803361/4084039\n",
        "plt.gca().fill_between(K,cv_auc - cv_auc_std,cv_auc + cv_auc_std,alpha=0.2,color='darkorange')\n",
        "plt.legend()\n",
        "plt.xlabel(\"K: hyperparameter\")\n",
        "plt.ylabel(\"AUC\")\n",
        "plt.title(\"ERROR PLOTS\")\n",
        "plt.show()"
      ]
    },
    {
      "cell_type": "markdown",
      "metadata": {
        "id": "PinlTR3dMfcd"
      },
      "source": [
        "# [5] Assignment 3: KNN"
      ]
    },
    {
      "cell_type": "markdown",
      "metadata": {
        "id": "gKpHFAeAMfcd"
      },
      "source": [
        "<ol>\n",
        "    <li><strong>Apply Knn(brute force version) on these feature sets</strong>\n",
        "        <ul>\n",
        "            <li><font color='red'>SET 1:</font>Review text, preprocessed one converted into vectors using (BOW)</li>\n",
        "            <li><font color='red'>SET 2:</font>Review text, preprocessed one converted into vectors using (TFIDF)</li>\n",
        "            <li><font color='red'>SET 3:</font>Review text, preprocessed one converted into vectors using (AVG W2v)</li>\n",
        "            <li><font color='red'>SET 4:</font>Review text, preprocessed one converted into vectors using (TFIDF W2v)</li>\n",
        "        </ul>\n",
        "    </li>\n",
        "    <br>\n",
        "    <li><strong>Apply Knn(kd tree version) on these feature sets</strong>\n",
        "        <br><font color='red'>NOTE: </font>sklearn implementation of kd-tree accepts only dense matrices, you need to convert the sparse matrices of CountVectorizer/TfidfVectorizer into dense matices. You can convert sparse matrices to dense using .toarray() attribute. For more information please visit this <a href='https://docs.scipy.org/doc/scipy-0.18.1/reference/generated/scipy.sparse.csr_matrix.toarray.html'>link</a>\n",
        "        <ul>\n",
        "            <li><font color='red'>SET 5:</font>Review text, preprocessed one converted into vectors using (BOW) but with restriction on maximum features generated.\n",
        "            <pre>\n",
        "            count_vect = CountVectorizer(min_df=10, max_features=500) \n",
        "            count_vect.fit(preprocessed_reviews)\n",
        "            </pre>\n",
        "            </li>\n",
        "            <li><font color='red'>SET 6:</font>Review text, preprocessed one converted into vectors using (TFIDF) but with restriction on maximum features generated.\n",
        "            <pre>\n",
        "                tf_idf_vect = TfidfVectorizer(min_df=10, max_features=500)\n",
        "                tf_idf_vect.fit(preprocessed_reviews)\n",
        "            </pre>\n",
        "            </li>\n",
        "            <li><font color='red'>SET 3:</font>Review text, preprocessed one converted into vectors using (AVG W2v)</li>\n",
        "            <li><font color='red'>SET 4:</font>Review text, preprocessed one converted into vectors using (TFIDF W2v)</li>\n",
        "        </ul>\n",
        "    </li>\n",
        "    <br>\n",
        "    <li><strong>The hyper paramter tuning(find best K)</strong>\n",
        "        <ul>\n",
        "    <li>Find the best hyper parameter which will give the maximum <a href='https://www.appliedaicourse.com/course/applied-ai-course-online/lessons/receiver-operating-characteristic-curve-roc-curve-and-auc-1/'>AUC</a> value</li>\n",
        "    <li>Find the best hyper paramter using k-fold cross validation or simple cross validation data</li>\n",
        "    <li>Use gridsearch cv or randomsearch cv or you can also write your own for loops to do this task of hyperparameter tuning</li>\n",
        "        </ul>\n",
        "    </li>\n",
        "    <br>\n",
        "    <li>\n",
        "    <strong>Representation of results</strong>\n",
        "        <ul>\n",
        "    <li>You need to plot the performance of model both on train data and cross validation data for each hyper parameter, like shown in the figure\n",
        "    <img src='train_cv_auc.JPG' width=300px></li>\n",
        "    <li>Once after you found the best hyper parameter, you need to train your model with it, and find the AUC on test data and plot the ROC curve on both train and test.\n",
        "    <img src='train_test_auc.JPG' width=300px></li>\n",
        "    <li>Along with plotting ROC curve, you need to print the <a href='https://www.appliedaicourse.com/course/applied-ai-course-online/lessons/confusion-matrix-tpr-fpr-fnr-tnr-1/'>confusion matrix</a> with predicted and original labels of test data points\n",
        "    <img src='confusion_matrix.png' width=300px></li>\n",
        "        </ul>\n",
        "    </li>\n",
        "    <br>\n",
        "    <li><strong>Conclusion</strong>\n",
        "        <ul>\n",
        "    <li>You need to summarize the results at the end of the notebook, summarize it in the table format. To print out a table please refer to this prettytable library<a href='http://zetcode.com/python/prettytable/'> link</a> \n",
        "        <img src='summary.JPG' width=400px>\n",
        "    </li>\n",
        "        </ul>\n",
        "</ol>"
      ]
    },
    {
      "cell_type": "markdown",
      "metadata": {
        "id": "RHRvW2_tMfcd"
      },
      "source": [
        "<h4><font color='red'>Note: Data Leakage</font></h4>\n",
        "\n",
        "1. There will be an issue of data-leakage if you vectorize the entire data and then split it into train/cv/test.\n",
        "2. To avoid the issue of data-leakag, make sure to split your data first and then vectorize it. \n",
        "3. While vectorizing your data, apply the method fit_transform() on you train data, and apply the method transform() on cv/test data.\n",
        "4. For more details please go through this <a href='https://soundcloud.com/applied-ai-course/leakage-bow-and-tfidf'>link.</a>"
      ]
    },
    {
      "cell_type": "markdown",
      "metadata": {
        "id": "eK3DCVIYMfcd"
      },
      "source": [
        "## [5.1] Applying KNN brute force"
      ]
    },
    {
      "cell_type": "markdown",
      "metadata": {
        "id": "m_qClMX3Mfcd"
      },
      "source": [
        "### [5.1.1] Applying KNN brute force on BOW,<font color='red'> SET 1</font>"
      ]
    },
    {
      "cell_type": "code",
      "execution_count": null,
      "metadata": {
        "id": "JN4cb293Mfce",
        "outputId": "c92029b4-128f-468c-c577-e7add8ecbe6c"
      },
      "outputs": [
        {
          "data": {
            "image/png": "[encoded data removed]",
            "text/plain": [
              "<Figure size 432x288 with 1 Axes>"
            ]
          },
          "metadata": {
            "needs_background": "light"
          },
          "output_type": "display_data"
        }
      ],
      "source": [
        "from sklearn.neighbors import KNeighborsClassifier\n",
        "from sklearn.metrics import roc_auc_score\n",
        "import matplotlib.pyplot as plt\n",
        "\"\"\"\n",
        "y_true : array, shape = [n_samples] or [n_samples, n_classes]\n",
        "True binary labels or binary label indicators.\n",
        "\n",
        "y_score : array, shape = [n_samples] or [n_samples, n_classes]\n",
        "Target scores, can either be probability estimates of the positive class, confidence values, or non-thresholded measure of\n",
        "decisions (as returned by “decision_function” on some classifiers). \n",
        "For binary y_true, y_score is supposed to be the score of the class with greater label.\n",
        "\n",
        "\"\"\"\n",
        "\n",
        "train_auc = []\n",
        "cv_auc = []\n",
        "K = [1, 3, 5, 7, 9, 11, 13, 15]\n",
        "for i in K:\n",
        "    neigh = KNeighborsClassifier(n_neighbors=i , algorithm = 'brute')\n",
        "    neigh.fit(X_train_bow, Y_train)\n",
        "    # roc_auc_score(y_true, y_score) the 2nd parameter should be probability estimates of the positive class\n",
        "    # not the predicted outputs\n",
        "    Y_train_pred =  neigh.predict_proba(X_train_bow)[:,1]\n",
        "    Y_cv_pred =  neigh.predict_proba(X_cv_bow)[:,1]\n",
        "    \n",
        "    train_auc.append(roc_auc_score(Y_train,Y_train_pred))\n",
        "    cv_auc.append(roc_auc_score(Y_cv, Y_cv_pred))\n",
        "        \n",
        "plt.plot(K, train_auc, label='Train AUC')\n",
        "plt.plot(K, cv_auc, label='CV AUC')\n",
        "plt.scatter(K, train_auc, label='Train AUC')\n",
        "plt.scatter(K, cv_auc, label='CV AUC')\n",
        "plt.legend()\n",
        "plt.xlabel(\"K: hyperparameter\")\n",
        "plt.ylabel(\"AUC\")\n",
        "plt.title(\"ERROR PLOTS\")\n",
        "plt.show()\n",
        "    "
      ]
    },
    {
      "cell_type": "markdown",
      "metadata": {
        "id": "cBimrUUlMfce"
      },
      "source": [
        "### k = 3 "
      ]
    },
    {
      "cell_type": "code",
      "execution_count": null,
      "metadata": {
        "id": "6YC64zN4Mfce"
      },
      "outputs": [],
      "source": [
        "knn = KNeighborsClassifier(n_neighbors=3,algorithm = 'brute')"
      ]
    },
    {
      "cell_type": "code",
      "execution_count": null,
      "metadata": {
        "scrolled": true,
        "id": "k-tegpI2Mfce",
        "outputId": "8764d748-8aff-4c0a-e7df-bbfaa932131d"
      },
      "outputs": [
        {
          "data": {
            "text/plain": [
              "KNeighborsClassifier(algorithm='brute', leaf_size=30, metric='minkowski',\n",
              "           metric_params=None, n_jobs=None, n_neighbors=3, p=2,\n",
              "           weights='uniform')"
            ]
          },
          "execution_count": 134,
          "metadata": {},
          "output_type": "execute_result"
        }
      ],
      "source": [
        "knn.fit(X_train_bow,Y_train)"
      ]
    },
    {
      "cell_type": "code",
      "execution_count": null,
      "metadata": {
        "id": "rN-81DpEMfcf",
        "outputId": "4adb051b-adfb-4830-c836-36f4b21eff45"
      },
      "outputs": [
        {
          "name": "stdout",
          "output_type": "stream",
          "text": [
            "[0 1 0 ... 1 1 1]\n"
          ]
        }
      ],
      "source": [
        "pred = knn.predict(X_test_bow)\n",
        "print(pred)"
      ]
    },
    {
      "cell_type": "code",
      "execution_count": null,
      "metadata": {
        "id": "zKSJ06GiMfcf",
        "outputId": "d5a1a3e7-dd80-47b8-a373-8f6b1ab6716e"
      },
      "outputs": [
        {
          "name": "stdout",
          "output_type": "stream",
          "text": [
            "[1 1 1 ... 1 1 0]\n"
          ]
        }
      ],
      "source": [
        "pred1 = neigh.predict(X_train_bow)\n",
        "print(pred1)"
      ]
    },
    {
      "cell_type": "code",
      "execution_count": null,
      "metadata": {
        "id": "ok-vxqXgMfcf",
        "outputId": "8d446cd5-9c92-4283-da96-e3535aa38010"
      },
      "outputs": [
        {
          "data": {
            "text/plain": [
              "array([[ 8718,  7628],\n",
              "       [ 3414, 13240]], dtype=int64)"
            ]
          },
          "execution_count": 137,
          "metadata": {},
          "output_type": "execute_result"
        }
      ],
      "source": [
        "from sklearn.metrics import confusion_matrix\n",
        "cm = confusion_matrix(Y_test, pred)\n",
        "cm"
      ]
    },
    {
      "cell_type": "code",
      "execution_count": null,
      "metadata": {
        "scrolled": true,
        "id": "0TowT2DsMfcf"
      },
      "outputs": [],
      "source": [
        "cm1 = confusion_matrix(Y_train, pred1)"
      ]
    },
    {
      "cell_type": "code",
      "execution_count": null,
      "metadata": {
        "id": "GLgRzD44Mfcf",
        "outputId": "f2bbcaef-4f53-402f-8d15-599c5803cd08"
      },
      "outputs": [
        {
          "data": {
            "text/plain": [
              "array([[12869,  9691],\n",
              "       [ 2419, 19911]], dtype=int64)"
            ]
          },
          "execution_count": 139,
          "metadata": {},
          "output_type": "execute_result"
        }
      ],
      "source": [
        "cm1"
      ]
    },
    {
      "cell_type": "code",
      "execution_count": null,
      "metadata": {
        "id": "MbhBnyBcMfcf",
        "outputId": "c3f53f02-9ce8-4a00-d747-0b29f87b957e"
      },
      "outputs": [
        {
          "data": {
            "image/png": "[encoded data removed]",
            "text/plain": [
              "<Figure size 432x288 with 2 Axes>"
            ]
          },
          "metadata": {
            "needs_background": "light"
          },
          "output_type": "display_data"
        },
        {
          "data": {
            "image/png": "[encoded data removed]",
            "text/plain": [
              "<Figure size 432x288 with 2 Axes>"
            ]
          },
          "metadata": {
            "needs_background": "light"
          },
          "output_type": "display_data"
        }
      ],
      "source": [
        "import seaborn as sns\n",
        "class_label = [\"negative\", \"positive\"]\n",
        "df_cm = pd.DataFrame(cm, index = class_label, columns = class_label)\n",
        "sns.heatmap(df_cm, annot = True, fmt = \"d\")\n",
        "plt.title(\"test Confusiion Matrix\")\n",
        "plt.xlabel(\"Predicted Label\")\n",
        "plt.ylabel(\"True Label\")\n",
        "plt.show()\n",
        "class_label = [\"negative\", \"positive\"]\n",
        "df_cm1 = pd.DataFrame(cm1, index = class_label, columns = class_label)\n",
        "sns.heatmap(df_cm1, annot = True, fmt = \"d\")\n",
        "plt.title(\"train Confusiion Matrix\")\n",
        "plt.xlabel(\"Predicted Label\")\n",
        "plt.ylabel(\"True Label\")\n",
        "plt.show()\n"
      ]
    },
    {
      "cell_type": "markdown",
      "metadata": {
        "id": "GelsxiFkMfcg"
      },
      "source": [
        "#### typo error = the second table is of train classificatiion report "
      ]
    },
    {
      "cell_type": "code",
      "execution_count": null,
      "metadata": {
        "id": "L9r-RWJ3Mfcg",
        "outputId": "06bbe132-b16c-4ef0-fe52-98f5eaf0a7b9"
      },
      "outputs": [
        {
          "name": "stdout",
          "output_type": "stream",
          "text": [
            "test classification report\n",
            "              precision    recall  f1-score   support\n",
            "\n",
            "           0       0.72      0.53      0.61     16346\n",
            "           1       0.63      0.80      0.71     16654\n",
            "\n",
            "   micro avg       0.67      0.67      0.67     33000\n",
            "   macro avg       0.68      0.66      0.66     33000\n",
            "weighted avg       0.68      0.67      0.66     33000\n",
            "\n",
            "test classification report\n",
            "              precision    recall  f1-score   support\n",
            "\n",
            "           0       0.84      0.57      0.68     22560\n",
            "           1       0.67      0.89      0.77     22330\n",
            "\n",
            "   micro avg       0.73      0.73      0.73     44890\n",
            "   macro avg       0.76      0.73      0.72     44890\n",
            "weighted avg       0.76      0.73      0.72     44890\n",
            "\n"
          ]
        }
      ],
      "source": [
        "from sklearn.metrics import classification_report\n",
        "print(\"test classification report\")\n",
        "print(classification_report(Y_test, pred))\n",
        "print(\"train classification report\")\n",
        "print(classification_report(Y_train, pred1))"
      ]
    },
    {
      "cell_type": "markdown",
      "metadata": {
        "id": "pd7iqREwMfcg"
      },
      "source": [
        "#### since f1 - score of both positive and negative points of train data is grater than that of test data , \n",
        "#### so precision and recall of train data are better  "
      ]
    },
    {
      "cell_type": "code",
      "execution_count": null,
      "metadata": {
        "id": "FeAqE4NmMfcg"
      },
      "outputs": [],
      "source": [
        "from sklearn.metrics import roc_curve"
      ]
    },
    {
      "cell_type": "code",
      "execution_count": null,
      "metadata": {
        "scrolled": false,
        "id": "Dj0pbhOiMfcg",
        "outputId": "db89563a-0292-4abf-cc63-575c44b4de78"
      },
      "outputs": [
        {
          "data": {
            "image/png": "[encoded data removed]",
            "text/plain": [
              "<Figure size 432x288 with 1 Axes>"
            ]
          },
          "metadata": {
            "needs_background": "light"
          },
          "output_type": "display_data"
        }
      ],
      "source": [
        "fpr, tpr, thresholds = roc_curve(Y_test, pred)\n",
        "plt.plot([0,1],[0,1],'k--')\n",
        "plt.plot(fpr,tpr, label='Knn test')\n",
        "fpr, tpr, thresholds = roc_curve(Y_train, pred1)\n",
        "plt.plot([0,1],[0,1],'k--')\n",
        "plt.plot(fpr,tpr, label='Knn train')\n",
        "plt.legend()\n",
        "plt.xlabel('fpr')\n",
        "plt.ylabel('tpr')\n",
        "plt.title('Knn(n_neighbors=3)  ROC curve')\n",
        "plt.show()"
      ]
    },
    {
      "cell_type": "markdown",
      "metadata": {
        "id": "rZX_SjYmMfcg"
      },
      "source": [
        "#### by looking at the roc curve we can say that both the test and train the model is better for both of them \n",
        "#### it is slightly better for train data"
      ]
    },
    {
      "cell_type": "markdown",
      "metadata": {
        "id": "tCypnh8FMfcg"
      },
      "source": [
        "#### auc of test data = 0.8\n",
        "#### auc of train data ~ 0.89"
      ]
    },
    {
      "cell_type": "markdown",
      "metadata": {
        "id": "gHhD-M2RMfcg"
      },
      "source": [
        "### [5.1.2] Applying KNN brute force on TFIDF,<font color='red'> SET 2</font>"
      ]
    },
    {
      "cell_type": "code",
      "execution_count": null,
      "metadata": {
        "scrolled": true,
        "id": "aTQx6WfiMfch",
        "outputId": "7a33b70e-f8be-403c-952d-537f1cf19a54"
      },
      "outputs": [
        {
          "data": {
            "image/png": "[encoded data removed]",
            "text/plain": [
              "<Figure size 432x288 with 1 Axes>"
            ]
          },
          "metadata": {
            "needs_background": "light"
          },
          "output_type": "display_data"
        }
      ],
      "source": [
        "from sklearn.neighbors import KNeighborsClassifier\n",
        "from sklearn.metrics import roc_auc_score\n",
        "import matplotlib.pyplot as plt\n",
        "\"\"\"\n",
        "y_true : array, shape = [n_samples] or [n_samples, n_classes]\n",
        "True binary labels or binary label indicators.\n",
        "\n",
        "y_score : array, shape = [n_samples] or [n_samples, n_classes]\n",
        "Target scores, can either be probability estimates of the positive class, confidence values, or non-thresholded measure of\n",
        "decisions (as returned by “decision_function” on some classifiers). \n",
        "For binary y_true, y_score is supposed to be the score of the class with greater label.\n",
        "\n",
        "\"\"\"\n",
        "\n",
        "train_auc = []\n",
        "cv_auc = []\n",
        "K = [1, 3, 5, 7, 9, 11, 13, 15]\n",
        "for i in K:\n",
        "    neigh = KNeighborsClassifier(n_neighbors=i , algorithm = 'brute')\n",
        "    neigh.fit(X_train_tfidf, Y_train)\n",
        "    # roc_auc_score(y_true, y_score) the 2nd parameter should be probability estimates of the positive class\n",
        "    # not the predicted outputs\n",
        "    Y_train_pred =  neigh.predict_proba(X_train_tfidf)[:,1]\n",
        "    Y_cv_pred =  neigh.predict_proba(X_cv_tfidf)[:,1]\n",
        "    \n",
        "    train_auc.append(roc_auc_score(Y_train,Y_train_pred))\n",
        "    cv_auc.append(roc_auc_score(Y_cv, Y_cv_pred))\n",
        "        \n",
        "plt.plot(K, train_auc, label='Train AUC')\n",
        "plt.plot(K, cv_auc, label='CV AUC')\n",
        "plt.scatter(K, train_auc, label='Train AUC')\n",
        "plt.scatter(K, cv_auc, label='CV AUC')\n",
        "plt.legend()\n",
        "plt.xlabel(\"K: hyperparameter\")\n",
        "plt.ylabel(\"AUC\")\n",
        "plt.title(\"ERROR PLOTS\")\n",
        "plt.show()\n",
        "    "
      ]
    },
    {
      "cell_type": "markdown",
      "metadata": {
        "id": "lg62gP7YMfch"
      },
      "source": [
        "### k = 3"
      ]
    },
    {
      "cell_type": "code",
      "execution_count": null,
      "metadata": {
        "id": "7dH3VaoIMfch"
      },
      "outputs": [],
      "source": [
        "knn = KNeighborsClassifier(n_neighbors=3, algorithm ='brute')"
      ]
    },
    {
      "cell_type": "code",
      "execution_count": null,
      "metadata": {
        "id": "lHysHfQnMfch",
        "outputId": "de08e3ba-0d48-4ead-f2b9-b8b627866a57"
      },
      "outputs": [
        {
          "data": {
            "text/plain": [
              "KNeighborsClassifier(algorithm='brute', leaf_size=30, metric='minkowski',\n",
              "           metric_params=None, n_jobs=None, n_neighbors=3, p=2,\n",
              "           weights='uniform')"
            ]
          },
          "execution_count": 152,
          "metadata": {},
          "output_type": "execute_result"
        }
      ],
      "source": [
        "knn.fit(X_train_tfidf,Y_train)"
      ]
    },
    {
      "cell_type": "code",
      "execution_count": null,
      "metadata": {
        "id": "OQuRhSMlMfch",
        "outputId": "1c15d712-b327-4b78-f0b8-dc205b90b497"
      },
      "outputs": [
        {
          "name": "stdout",
          "output_type": "stream",
          "text": [
            "[0 0 1 ... 1 1 0]\n"
          ]
        }
      ],
      "source": [
        "pred = knn.predict(X_test_tfidf)\n",
        "print(pred)"
      ]
    },
    {
      "cell_type": "code",
      "execution_count": null,
      "metadata": {
        "id": "Iw-pdf8pMfch",
        "outputId": "3596dbb6-bf7b-46e8-89ad-d3e515589100"
      },
      "outputs": [
        {
          "name": "stdout",
          "output_type": "stream",
          "text": [
            "[0 1 0 ... 0 1 0]\n"
          ]
        }
      ],
      "source": [
        "pred1 = neigh.predict(X_train_tfidf)\n",
        "print(pred1)"
      ]
    },
    {
      "cell_type": "code",
      "execution_count": null,
      "metadata": {
        "id": "7XpHidwjMfci",
        "outputId": "5e00d4ca-fdef-47e1-c95a-16b7c8645eb1"
      },
      "outputs": [
        {
          "data": {
            "text/plain": [
              "array([[12216,  4130],\n",
              "       [ 5021, 11633]], dtype=int64)"
            ]
          },
          "execution_count": 155,
          "metadata": {},
          "output_type": "execute_result"
        }
      ],
      "source": [
        "from sklearn.metrics import confusion_matrix\n",
        "cm = confusion_matrix(Y_test, pred)\n",
        "cm"
      ]
    },
    {
      "cell_type": "code",
      "execution_count": null,
      "metadata": {
        "scrolled": true,
        "id": "EueulwB0Mfci",
        "outputId": "acc278b8-f8af-4273-b5ce-cdf88072a65e"
      },
      "outputs": [
        {
          "data": {
            "text/plain": [
              "array([[18907,  3653],\n",
              "       [ 4263, 18067]], dtype=int64)"
            ]
          },
          "execution_count": 156,
          "metadata": {},
          "output_type": "execute_result"
        }
      ],
      "source": [
        "cm1 = confusion_matrix(Y_train, pred1)\n",
        "cm1"
      ]
    },
    {
      "cell_type": "code",
      "execution_count": null,
      "metadata": {
        "id": "QcZQK426Mfck",
        "outputId": "d22a1c85-d734-4a0a-af97-a328bb7af2c5"
      },
      "outputs": [
        {
          "data": {
            "image/png": "[encoded data removed]",
            "text/plain": [
              "<Figure size 432x288 with 2 Axes>"
            ]
          },
          "metadata": {
            "needs_background": "light"
          },
          "output_type": "display_data"
        },
        {
          "data": {
            "image/png": "[encoded data removed]",
            "text/plain": [
              "<Figure size 432x288 with 2 Axes>"
            ]
          },
          "metadata": {
            "needs_background": "light"
          },
          "output_type": "display_data"
        }
      ],
      "source": [
        "import seaborn as sns\n",
        "class_label = [\"negative\", \"positive\"]\n",
        "df_cm = pd.DataFrame(cm, index = class_label, columns = class_label)\n",
        "sns.heatmap(df_cm, annot = True, fmt = \"d\")\n",
        "plt.title(\"test Confusiion Matrix\")\n",
        "plt.xlabel(\"Predicted Label\")\n",
        "plt.ylabel(\"True Label\")\n",
        "plt.show()\n",
        "class_label = [\"negative\", \"positive\"]\n",
        "df_cm1 = pd.DataFrame(cm1, index = class_label, columns = class_label)\n",
        "sns.heatmap(df_cm1, annot = True, fmt = \"d\")\n",
        "plt.title(\"train Confusiion Matrix\")\n",
        "plt.xlabel(\"Predicted Label\")\n",
        "plt.ylabel(\"True Label\")\n",
        "plt.show()\n"
      ]
    },
    {
      "cell_type": "markdown",
      "metadata": {
        "id": "seQaFNFWMfck"
      },
      "source": [
        "#### typo error = the second table is of train classificatiion report "
      ]
    },
    {
      "cell_type": "code",
      "execution_count": null,
      "metadata": {
        "id": "kSVEWX18Mfcl",
        "outputId": "0f3b31d5-552c-4f45-ba8e-94c4f732a2fe"
      },
      "outputs": [
        {
          "name": "stdout",
          "output_type": "stream",
          "text": [
            "test classification report\n",
            "              precision    recall  f1-score   support\n",
            "\n",
            "           0       0.71      0.75      0.73     16346\n",
            "           1       0.74      0.70      0.72     16654\n",
            "\n",
            "   micro avg       0.72      0.72      0.72     33000\n",
            "   macro avg       0.72      0.72      0.72     33000\n",
            "weighted avg       0.72      0.72      0.72     33000\n",
            "\n",
            "test classification report\n",
            "              precision    recall  f1-score   support\n",
            "\n",
            "           0       0.82      0.84      0.83     22560\n",
            "           1       0.83      0.81      0.82     22330\n",
            "\n",
            "   micro avg       0.82      0.82      0.82     44890\n",
            "   macro avg       0.82      0.82      0.82     44890\n",
            "weighted avg       0.82      0.82      0.82     44890\n",
            "\n"
          ]
        }
      ],
      "source": [
        "from sklearn.metrics import classification_report\n",
        "print(\"test classification report\")\n",
        "print(classification_report(Y_test, pred))\n",
        "print(\"test classification report\")\n",
        "print(classification_report(Y_train, pred1))"
      ]
    },
    {
      "cell_type": "markdown",
      "metadata": {
        "id": "HyStxIvlMfcl"
      },
      "source": [
        "#### since f1 - score of both positive and negative points of train data is grater than that of test data ,\n",
        "#### so precision and recall of train data are better"
      ]
    },
    {
      "cell_type": "code",
      "execution_count": null,
      "metadata": {
        "id": "PXvRFdb9Mfcl"
      },
      "outputs": [],
      "source": [
        "from sklearn.metrics import roc_curve"
      ]
    },
    {
      "cell_type": "code",
      "execution_count": null,
      "metadata": {
        "id": "nvJvEJCBMfcl",
        "outputId": "441b177e-7024-4c5b-e166-e5d4fd6db488"
      },
      "outputs": [
        {
          "data": {
            "image/png": "[encoded data removed]",
            "text/plain": [
              "<Figure size 432x288 with 1 Axes>"
            ]
          },
          "metadata": {
            "needs_background": "light"
          },
          "output_type": "display_data"
        }
      ],
      "source": [
        "fpr, tpr, thresholds = roc_curve(Y_test, pred)\n",
        "plt.plot([0,1],[0,1],'k--')\n",
        "plt.plot(fpr,tpr, label='Knn test')\n",
        "fpr, tpr, thresholds = roc_curve(Y_train, pred1)\n",
        "plt.plot([0,1],[0,1],'k--')\n",
        "plt.plot(fpr,tpr, label='Knn train')\n",
        "plt.legend()\n",
        "plt.xlabel('fpr')\n",
        "plt.ylabel('tpr')\n",
        "plt.title('Knn(n_neighbors=3)  ROC curve')\n",
        "plt.show()"
      ]
    },
    {
      "cell_type": "markdown",
      "metadata": {
        "id": "FR8Fzna8Mfcl"
      },
      "source": [
        "#### as roc curves of train and test are above the diagonal ,\n",
        "#### we can say that both the test and train the model is better for both of them\n",
        "#### it is slightly better for train data"
      ]
    },
    {
      "cell_type": "markdown",
      "metadata": {
        "id": "vLdZYQ3mMfcl"
      },
      "source": [
        "#### auc of test data ~ 0.7\n",
        "#### auc of train data ~ 0.82"
      ]
    },
    {
      "cell_type": "markdown",
      "metadata": {
        "id": "xYyW98POMfcm"
      },
      "source": [
        "### [5.1.3] Applying KNN brute force on AVG W2V,<font color='red'> SET 3</font>"
      ]
    },
    {
      "cell_type": "code",
      "execution_count": null,
      "metadata": {
        "id": "fXbtExKpMfcm",
        "outputId": "f0fa9dc5-539b-4d36-8aee-37df18917104"
      },
      "outputs": [
        {
          "data": {
            "image/png": "[encoded data removed]",
            "text/plain": [
              "<Figure size 432x288 with 1 Axes>"
            ]
          },
          "metadata": {
            "needs_background": "light"
          },
          "output_type": "display_data"
        }
      ],
      "source": [
        "from sklearn.neighbors import KNeighborsClassifier\n",
        "from sklearn.metrics import roc_auc_score\n",
        "import matplotlib.pyplot as plt\n",
        "\"\"\"\n",
        "y_true : array, shape = [n_samples] or [n_samples, n_classes]\n",
        "True binary labels or binary label indicators.\n",
        "\n",
        "y_score : array, shape = [n_samples] or [n_samples, n_classes]\n",
        "Target scores, can either be probability estimates of the positive class, confidence values, or non-thresholded measure of\n",
        "decisions (as returned by “decision_function” on some classifiers). \n",
        "For binary y_true, y_score is supposed to be the score of the class with greater label.\n",
        "\n",
        "\"\"\"\n",
        "\n",
        "train_auc = []\n",
        "cv_auc = []\n",
        "K = [1, 3, 5, 7, 9, 11, 13, 15]\n",
        "for i in K:\n",
        "    neigh = KNeighborsClassifier(n_neighbors=i , algorithm = 'brute')\n",
        "    neigh.fit(X_train_avgw2v, Y_train)\n",
        "    # roc_auc_score(y_true, y_score) the 2nd parameter should be probability estimates of the positive class\n",
        "    # not the predicted outputs\n",
        "    Y_train_pred =  neigh.predict_proba(X_train_avgw2v)[:,1]\n",
        "    Y_cv_pred =  neigh.predict_proba(X_cv_avgw2v)[:,1]\n",
        "    \n",
        "    train_auc.append(roc_auc_score(Y_train,Y_train_pred))\n",
        "    cv_auc.append(roc_auc_score(Y_cv, Y_cv_pred))\n",
        "        \n",
        "plt.plot(K, train_auc, label='Train AUC')\n",
        "plt.plot(K, cv_auc, label='CV AUC')\n",
        "plt.scatter(K, train_auc, label='Train AUC')\n",
        "plt.scatter(K, cv_auc, label='CV AUC')\n",
        "plt.legend()\n",
        "plt.xlabel(\"K: hyperparameter\")\n",
        "plt.ylabel(\"AUC\")\n",
        "plt.title(\"ERROR PLOTS\")\n",
        "plt.show()\n",
        "    "
      ]
    },
    {
      "cell_type": "markdown",
      "metadata": {
        "id": "52Yh4fdJMfcm"
      },
      "source": [
        "### k = 3"
      ]
    },
    {
      "cell_type": "code",
      "execution_count": null,
      "metadata": {
        "id": "HT8v40vuMfcm"
      },
      "outputs": [],
      "source": [
        "knn = KNeighborsClassifier(n_neighbors=3, algorithm ='brute')"
      ]
    },
    {
      "cell_type": "code",
      "execution_count": null,
      "metadata": {
        "id": "seQEafrFMfcm",
        "outputId": "ebf16019-4979-4556-d1e7-725e36594cb4"
      },
      "outputs": [
        {
          "data": {
            "text/plain": [
              "KNeighborsClassifier(algorithm='brute', leaf_size=30, metric='minkowski',\n",
              "           metric_params=None, n_jobs=None, n_neighbors=3, p=2,\n",
              "           weights='uniform')"
            ]
          },
          "execution_count": 163,
          "metadata": {},
          "output_type": "execute_result"
        }
      ],
      "source": [
        "knn.fit(X_train_avgw2v,Y_train)"
      ]
    },
    {
      "cell_type": "code",
      "execution_count": null,
      "metadata": {
        "scrolled": true,
        "id": "JGWk_7icMfcm",
        "outputId": "0617183a-38f0-4672-fd70-f9f8d5a5cd18"
      },
      "outputs": [
        {
          "name": "stdout",
          "output_type": "stream",
          "text": [
            "[1 0 1 ... 1 1 0]\n"
          ]
        }
      ],
      "source": [
        "pred = knn.predict(X_test_avgw2v)\n",
        "print(pred)"
      ]
    },
    {
      "cell_type": "code",
      "execution_count": null,
      "metadata": {
        "id": "sewBNsXPMfcn",
        "outputId": "c9f9dd3c-a3a7-4276-b022-0c3701d3e07f"
      },
      "outputs": [
        {
          "name": "stdout",
          "output_type": "stream",
          "text": [
            "[1 0 1 ... 0 1 0]\n"
          ]
        }
      ],
      "source": [
        "pred1 = neigh.predict(X_train_avgw2v)\n",
        "print(pred1)"
      ]
    },
    {
      "cell_type": "code",
      "execution_count": null,
      "metadata": {
        "id": "3StTQREVMfcn",
        "outputId": "d4ddafe7-4982-494a-bea8-946ee7f9fd98"
      },
      "outputs": [
        {
          "data": {
            "text/plain": [
              "array([[12088,  4258],\n",
              "       [ 4944, 11710]], dtype=int64)"
            ]
          },
          "execution_count": 166,
          "metadata": {},
          "output_type": "execute_result"
        }
      ],
      "source": [
        "from sklearn.metrics import confusion_matrix\n",
        "cm = confusion_matrix(Y_test, pred)\n",
        "cm"
      ]
    },
    {
      "cell_type": "code",
      "execution_count": null,
      "metadata": {
        "id": "1zLQ5YGwMfcn",
        "outputId": "9c66e8ae-2738-4cdf-ff57-d146c191280d"
      },
      "outputs": [
        {
          "data": {
            "text/plain": [
              "array([[18489,  4071],\n",
              "       [ 5088, 17242]], dtype=int64)"
            ]
          },
          "execution_count": 167,
          "metadata": {},
          "output_type": "execute_result"
        }
      ],
      "source": [
        "cm1 = confusion_matrix(Y_train, pred1)\n",
        "cm1"
      ]
    },
    {
      "cell_type": "code",
      "execution_count": null,
      "metadata": {
        "id": "3JHE8aKuMfcn",
        "outputId": "7deeaa90-7392-407f-cac0-38fde4b630ee"
      },
      "outputs": [
        {
          "data": {
            "image/png": "[encoded data removed]",
            "text/plain": [
              "<Figure size 432x288 with 2 Axes>"
            ]
          },
          "metadata": {
            "needs_background": "light"
          },
          "output_type": "display_data"
        },
        {
          "data": {
            "image/png": "[encoded data removed]",
            "text/plain": [
              "<Figure size 432x288 with 2 Axes>"
            ]
          },
          "metadata": {
            "needs_background": "light"
          },
          "output_type": "display_data"
        }
      ],
      "source": [
        "import seaborn as sns\n",
        "class_label = [\"negative\", \"positive\"]\n",
        "df_cm = pd.DataFrame(cm, index = class_label, columns = class_label)\n",
        "sns.heatmap(df_cm, annot = True, fmt = \"d\")\n",
        "plt.title(\"test Confusiion Matrix\")\n",
        "plt.xlabel(\"Predicted Label\")\n",
        "plt.ylabel(\"True Label\")\n",
        "plt.show()\n",
        "class_label = [\"negative\", \"positive\"]\n",
        "df_cm1 = pd.DataFrame(cm1, index = class_label, columns = class_label)\n",
        "sns.heatmap(df_cm1, annot = True, fmt = \"d\")\n",
        "plt.title(\"train Confusiion Matrix\")\n",
        "plt.xlabel(\"Predicted Label\")\n",
        "plt.ylabel(\"True Label\")\n",
        "plt.show()\n"
      ]
    },
    {
      "cell_type": "markdown",
      "metadata": {
        "id": "jSSKNSodMfcn"
      },
      "source": [
        "#### typo error = the second table is of train classificatiion report "
      ]
    },
    {
      "cell_type": "code",
      "execution_count": null,
      "metadata": {
        "id": "QA-FbzcQMfco",
        "outputId": "7aa0c210-944b-45bc-be83-3d833a327148"
      },
      "outputs": [
        {
          "name": "stdout",
          "output_type": "stream",
          "text": [
            "test classification report\n",
            "              precision    recall  f1-score   support\n",
            "\n",
            "           0       0.71      0.74      0.72     16346\n",
            "           1       0.73      0.70      0.72     16654\n",
            "\n",
            "   micro avg       0.72      0.72      0.72     33000\n",
            "   macro avg       0.72      0.72      0.72     33000\n",
            "weighted avg       0.72      0.72      0.72     33000\n",
            "\n",
            "test classification report\n",
            "              precision    recall  f1-score   support\n",
            "\n",
            "           0       0.78      0.82      0.80     22560\n",
            "           1       0.81      0.77      0.79     22330\n",
            "\n",
            "   micro avg       0.80      0.80      0.80     44890\n",
            "   macro avg       0.80      0.80      0.80     44890\n",
            "weighted avg       0.80      0.80      0.80     44890\n",
            "\n"
          ]
        }
      ],
      "source": [
        "from sklearn.metrics import classification_report\n",
        "print(\"test classification report\")\n",
        "print(classification_report(Y_test, pred))\n",
        "print(\"test classification report\")\n",
        "print(classification_report(Y_train, pred1))"
      ]
    },
    {
      "cell_type": "markdown",
      "metadata": {
        "id": "Snq_yKs6Mfco"
      },
      "source": [
        "#### form precision we can know that the model predicts positive and negative points nearly equal of both train and test data\n",
        "#### f1 - scores of of both positive and negative points are equal in test data and nearly equal in train data"
      ]
    },
    {
      "cell_type": "code",
      "execution_count": null,
      "metadata": {
        "id": "Y7PBiWh2Mfco"
      },
      "outputs": [],
      "source": [
        "from sklearn.metrics import roc_curve"
      ]
    },
    {
      "cell_type": "code",
      "execution_count": null,
      "metadata": {
        "id": "F6bdTLglMfco",
        "outputId": "d35d511a-3835-40a0-e62a-c99578b5bbcc"
      },
      "outputs": [
        {
          "data": {
            "image/png": "[encoded data removed]",
            "text/plain": [
              "<Figure size 432x288 with 1 Axes>"
            ]
          },
          "metadata": {
            "needs_background": "light"
          },
          "output_type": "display_data"
        }
      ],
      "source": [
        "fpr, tpr, thresholds = roc_curve(Y_test, pred)\n",
        "plt.plot([0,1],[0,1],'k--')\n",
        "plt.plot(fpr,tpr, label='Knn test')\n",
        "fpr, tpr, thresholds = roc_curve(Y_train, pred1)\n",
        "plt.plot([0,1],[0,1],'k--')\n",
        "plt.plot(fpr,tpr, label='Knn train')\n",
        "plt.legend()\n",
        "plt.xlabel('fpr')\n",
        "plt.ylabel('tpr')\n",
        "plt.title('Knn(n_neighbors=3)  ROC curve')\n",
        "plt.show()"
      ]
    },
    {
      "cell_type": "markdown",
      "metadata": {
        "id": "3lME3FUkMfco"
      },
      "source": [
        "#### as roc curves of train and test are above the diagonal ,\n",
        "#### we can say that both the test and train the model is better for both of them¶\n",
        "#### it is slightly better for train data"
      ]
    },
    {
      "cell_type": "markdown",
      "metadata": {
        "id": "z13vOD9RMfco"
      },
      "source": [
        "#### auc of test data ~ 0.72\n",
        "#### auc of train data ~ 0.79"
      ]
    },
    {
      "cell_type": "markdown",
      "metadata": {
        "id": "IWdrvqGZMfcp"
      },
      "source": [
        "### [5.1.4] Applying KNN brute force on TFIDF W2V,<font color='red'> SET 4</font>"
      ]
    },
    {
      "cell_type": "code",
      "execution_count": null,
      "metadata": {
        "id": "hz7lv19SMfcp",
        "outputId": "c63668fe-483c-4c79-8dac-b55944a5cede"
      },
      "outputs": [
        {
          "data": {
            "image/png": "[encoded data removed]",
            "text/plain": [
              "<Figure size 432x288 with 1 Axes>"
            ]
          },
          "metadata": {
            "needs_background": "light"
          },
          "output_type": "display_data"
        }
      ],
      "source": [
        "from sklearn.neighbors import KNeighborsClassifier\n",
        "from sklearn.metrics import roc_auc_score\n",
        "import matplotlib.pyplot as plt\n",
        "\"\"\"\n",
        "y_true : array, shape = [n_samples] or [n_samples, n_classes]\n",
        "True binary labels or binary label indicators.\n",
        "\n",
        "y_score : array, shape = [n_samples] or [n_samples, n_classes]\n",
        "Target scores, can either be probability estimates of the positive class, confidence values, or non-thresholded measure of\n",
        "decisions (as returned by “decision_function” on some classifiers). \n",
        "For binary y_true, y_score is supposed to be the score of the class with greater label.\n",
        "\n",
        "\"\"\"\n",
        "\n",
        "train_auc = []\n",
        "cv_auc = []\n",
        "K = [1, 3, 5, 7, 9, 11, 13, 15]\n",
        "for i in K:\n",
        "    neigh = KNeighborsClassifier(n_neighbors=i , algorithm = 'brute')\n",
        "    neigh.fit(X_train_tfidfw2v, Y_train)\n",
        "    # roc_auc_score(y_true, y_score) the 2nd parameter should be probability estimates of the positive class\n",
        "    # not the predicted outputs\n",
        "    Y_train_pred =  neigh.predict_proba(X_train_tfidfw2v)[:,1]\n",
        "    Y_cv_pred =  neigh.predict_proba(X_cv_tfidfw2v)[:,1]\n",
        "    \n",
        "    train_auc.append(roc_auc_score(Y_train,Y_train_pred))\n",
        "    cv_auc.append(roc_auc_score(Y_cv, Y_cv_pred))\n",
        "        \n",
        "plt.plot(K, train_auc, label='Train AUC')\n",
        "plt.plot(K, cv_auc, label='CV AUC')\n",
        "plt.scatter(K, train_auc, label='Train AUC')\n",
        "plt.scatter(K, cv_auc, label='CV AUC')\n",
        "plt.legend()\n",
        "plt.xlabel(\"K: hyperparameter\")\n",
        "plt.ylabel(\"AUC\")\n",
        "plt.title(\"ERROR PLOTS\")\n",
        "plt.show()\n",
        "    "
      ]
    },
    {
      "cell_type": "markdown",
      "metadata": {
        "id": "phkX8bL0Mfcp"
      },
      "source": [
        "### k = 3"
      ]
    },
    {
      "cell_type": "code",
      "execution_count": null,
      "metadata": {
        "id": "DA5JDgy1Mfcp"
      },
      "outputs": [],
      "source": [
        "knn = KNeighborsClassifier(n_neighbors=3, algorithm ='brute')"
      ]
    },
    {
      "cell_type": "code",
      "execution_count": null,
      "metadata": {
        "id": "7fHvtChaMfcp",
        "outputId": "dd3a765a-65f4-4e5a-ba12-28fb470a7508"
      },
      "outputs": [
        {
          "data": {
            "text/plain": [
              "KNeighborsClassifier(algorithm='brute', leaf_size=30, metric='minkowski',\n",
              "           metric_params=None, n_jobs=None, n_neighbors=3, p=2,\n",
              "           weights='uniform')"
            ]
          },
          "execution_count": 174,
          "metadata": {},
          "output_type": "execute_result"
        }
      ],
      "source": [
        "knn.fit(X_train_tfidfw2v,Y_train)"
      ]
    },
    {
      "cell_type": "code",
      "execution_count": null,
      "metadata": {
        "scrolled": true,
        "id": "naTJQpLJMfcp",
        "outputId": "9f22454f-2cfa-4525-8a06-fd80e9578424"
      },
      "outputs": [
        {
          "name": "stdout",
          "output_type": "stream",
          "text": [
            "[0 0 0 ... 0 1 0]\n"
          ]
        }
      ],
      "source": [
        "pred = knn.predict(X_test_tfidfw2v)\n",
        "print(pred)"
      ]
    },
    {
      "cell_type": "code",
      "execution_count": null,
      "metadata": {
        "id": "j4zkzUtnMfcp",
        "outputId": "aaa7e307-2f57-4de8-f481-5725c5553023"
      },
      "outputs": [
        {
          "name": "stdout",
          "output_type": "stream",
          "text": [
            "[1 1 1 ... 0 1 0]\n"
          ]
        }
      ],
      "source": [
        "pred1 = neigh.predict(X_train_tfidfw2v)\n",
        "print(pred1)"
      ]
    },
    {
      "cell_type": "code",
      "execution_count": null,
      "metadata": {
        "id": "rC4kPaPMMfcq",
        "outputId": "49db1b1d-c33f-4879-b78c-f9e2ca8b8e6a"
      },
      "outputs": [
        {
          "data": {
            "text/plain": [
              "array([[11381,  4965],\n",
              "       [ 5327, 11327]], dtype=int64)"
            ]
          },
          "execution_count": 177,
          "metadata": {},
          "output_type": "execute_result"
        }
      ],
      "source": [
        "from sklearn.metrics import confusion_matrix\n",
        "cm = confusion_matrix(Y_test, pred)\n",
        "cm"
      ]
    },
    {
      "cell_type": "code",
      "execution_count": null,
      "metadata": {
        "id": "E18oBBSGMfcq",
        "outputId": "8a6e19aa-c415-4596-e61e-424f56b2f682"
      },
      "outputs": [
        {
          "data": {
            "text/plain": [
              "array([[17995,  4565],\n",
              "       [ 5588, 16742]], dtype=int64)"
            ]
          },
          "execution_count": 178,
          "metadata": {},
          "output_type": "execute_result"
        }
      ],
      "source": [
        "cm1 = confusion_matrix(Y_train, pred1)\n",
        "cm1"
      ]
    },
    {
      "cell_type": "code",
      "execution_count": null,
      "metadata": {
        "id": "JGVurcoZMfcq",
        "outputId": "5faac5eb-9b01-4537-e5ca-ebcb04d36237"
      },
      "outputs": [
        {
          "data": {
            "image/png": "[encoded data removed]",
            "text/plain": [
              "<Figure size 432x288 with 2 Axes>"
            ]
          },
          "metadata": {
            "needs_background": "light"
          },
          "output_type": "display_data"
        },
        {
          "data": {
            "image/png": "[encoded data removed]",
            "text/plain": [
              "<Figure size 432x288 with 2 Axes>"
            ]
          },
          "metadata": {
            "needs_background": "light"
          },
          "output_type": "display_data"
        }
      ],
      "source": [
        "import seaborn as sns\n",
        "class_label = [\"negative\", \"positive\"]\n",
        "df_cm = pd.DataFrame(cm, index = class_label, columns = class_label)\n",
        "sns.heatmap(df_cm, annot = True, fmt = \"d\")\n",
        "plt.title(\"test Confusiion Matrix\")\n",
        "plt.xlabel(\"Predicted Label\")\n",
        "plt.ylabel(\"True Label\")\n",
        "plt.show()\n",
        "class_label = [\"negative\", \"positive\"]\n",
        "df_cm1 = pd.DataFrame(cm1, index = class_label, columns = class_label)\n",
        "sns.heatmap(df_cm1, annot = True, fmt = \"d\")\n",
        "plt.title(\"train Confusiion Matrix\")\n",
        "plt.xlabel(\"Predicted Label\")\n",
        "plt.ylabel(\"True Label\")\n",
        "plt.show()\n"
      ]
    },
    {
      "cell_type": "markdown",
      "metadata": {
        "id": "mzvS7c8vMfcq"
      },
      "source": [
        "#### typo error = the second table is of train classificatiion report "
      ]
    },
    {
      "cell_type": "code",
      "execution_count": null,
      "metadata": {
        "id": "rxvH_w76Mfcr",
        "outputId": "13cc6056-8e8f-4810-8a77-34f06f85d64a"
      },
      "outputs": [
        {
          "name": "stdout",
          "output_type": "stream",
          "text": [
            "test classification report\n",
            "              precision    recall  f1-score   support\n",
            "\n",
            "           0       0.68      0.70      0.69     16346\n",
            "           1       0.70      0.68      0.69     16654\n",
            "\n",
            "   micro avg       0.69      0.69      0.69     33000\n",
            "   macro avg       0.69      0.69      0.69     33000\n",
            "weighted avg       0.69      0.69      0.69     33000\n",
            "\n",
            "test classification report\n",
            "              precision    recall  f1-score   support\n",
            "\n",
            "           0       0.76      0.80      0.78     22560\n",
            "           1       0.79      0.75      0.77     22330\n",
            "\n",
            "   micro avg       0.77      0.77      0.77     44890\n",
            "   macro avg       0.77      0.77      0.77     44890\n",
            "weighted avg       0.77      0.77      0.77     44890\n",
            "\n"
          ]
        }
      ],
      "source": [
        "from sklearn.metrics import classification_report\n",
        "print(\"test classification report\")\n",
        "print(classification_report(Y_test, pred))\n",
        "print(\"test classification report\")\n",
        "print(classification_report(Y_train, pred1))"
      ]
    },
    {
      "cell_type": "markdown",
      "metadata": {
        "id": "S03xkypaMfcr"
      },
      "source": [
        "#### form precision we can know that the model predicts positive and negative points nearly equal of both train and test data\n",
        "#### f1 - scores of of both positive and negative points are equal in test data and nearly equal in train data"
      ]
    },
    {
      "cell_type": "code",
      "execution_count": null,
      "metadata": {
        "id": "Xkts-E9qMfcr"
      },
      "outputs": [],
      "source": [
        "from sklearn.metrics import roc_curve"
      ]
    },
    {
      "cell_type": "code",
      "execution_count": null,
      "metadata": {
        "id": "b-XPnYyzMfcr",
        "outputId": "43b7aa5f-3c40-4ca3-e77a-4ef88c36599a"
      },
      "outputs": [
        {
          "data": {
            "image/png": "[encoded data removed]",
            "text/plain": [
              "<Figure size 432x288 with 1 Axes>"
            ]
          },
          "metadata": {
            "needs_background": "light"
          },
          "output_type": "display_data"
        }
      ],
      "source": [
        "fpr, tpr, thresholds = roc_curve(Y_test, pred)\n",
        "plt.plot([0,1],[0,1],'k--')\n",
        "plt.plot(fpr,tpr, label='Knn test')\n",
        "fpr, tpr, thresholds = roc_curve(Y_train, pred1)\n",
        "plt.plot([0,1],[0,1],'k--')\n",
        "plt.plot(fpr,tpr, label='Knn train')\n",
        "plt.legend()\n",
        "plt.xlabel('fpr')\n",
        "plt.ylabel('tpr')\n",
        "plt.title('Knn(n_neighbors=3)  ROC curve')\n",
        "plt.show()"
      ]
    },
    {
      "cell_type": "markdown",
      "metadata": {
        "id": "dRxq3JaIMfcr"
      },
      "source": [
        "#### as roc curves of train and test are above the diagonal ,\n",
        "#### we can say that both the test and train the model is better for both of them¶¶\n",
        "#### it is slightly better for train data"
      ]
    },
    {
      "cell_type": "markdown",
      "metadata": {
        "id": "vfvrdDNLMfcr"
      },
      "source": [
        "#### auc of test data ~ 0.69\n",
        "#### auc of train data ~ 0.78"
      ]
    },
    {
      "cell_type": "markdown",
      "metadata": {
        "id": "miwbU__LMfcr"
      },
      "source": [
        "## [5.2] Applying KNN kd-tree"
      ]
    },
    {
      "cell_type": "markdown",
      "metadata": {
        "id": "9h3OgFFQMfcr"
      },
      "source": [
        "### [5.2.1] Applying KNN kd-tree on BOW,<font color='red'> SET 5</font>"
      ]
    },
    {
      "cell_type": "code",
      "execution_count": null,
      "metadata": {
        "id": "BEW-rwVwMfcs"
      },
      "outputs": [],
      "source": [
        "from sklearn.decomposition import TruncatedSVD\n",
        "from sklearn.random_projection import sparse_random_matrix\n",
        "svd = TruncatedSVD(n_components=5, n_iter=7, random_state=42)\n",
        "X_train1 = svd.fit_transform(X_train_bow) \n",
        "X_cv1 = svd.transform(X_cv_bow)\n",
        "X_test1 = svd.transform(X_test_bow) "
      ]
    },
    {
      "cell_type": "code",
      "execution_count": null,
      "metadata": {
        "id": "zsS5KGk9Mfcs",
        "outputId": "d653687e-d11c-4f10-de1b-f2dcd83b4c68"
      },
      "outputs": [
        {
          "data": {
            "text/plain": [
              "((44890, 5), (22110, 5), (33000, 5))"
            ]
          },
          "execution_count": 184,
          "metadata": {},
          "output_type": "execute_result"
        }
      ],
      "source": [
        "X_train1.shape, X_cv1.shape, X_test1.shape"
      ]
    },
    {
      "cell_type": "code",
      "execution_count": null,
      "metadata": {
        "id": "SEb_qUrRMfcs",
        "outputId": "a795022f-b3c2-4554-e5b6-ca444bfd6105"
      },
      "outputs": [
        {
          "data": {
            "image/png": "[encoded data removed]",
            "text/plain": [
              "<Figure size 432x288 with 1 Axes>"
            ]
          },
          "metadata": {
            "needs_background": "light"
          },
          "output_type": "display_data"
        }
      ],
      "source": [
        "from sklearn.neighbors import KNeighborsClassifier\n",
        "from sklearn.metrics import roc_auc_score\n",
        "import matplotlib.pyplot as plt\n",
        "\"\"\"\n",
        "y_true : array, shape = [n_samples] or [n_samples, n_classes]\n",
        "True binary labels or binary label indicators.\n",
        "\n",
        "y_score : array, shape = [n_samples] or [n_samples, n_classes]\n",
        "Target scores, can either be probability estimates of the positive class, confidence values, or non-thresholded measure of\n",
        "decisions (as returned by “decision_function” on some classifiers). \n",
        "For binary y_true, y_score is supposed to be the score of the class with greater label.\n",
        "\n",
        "\"\"\"\n",
        "\n",
        "train_auc = []\n",
        "cv_auc = []\n",
        "K = [1, 3, 5, 7, 9, 11, 13, 15]\n",
        "for i in K:\n",
        "    neigh = KNeighborsClassifier(n_neighbors=i , algorithm = 'kd_tree')\n",
        "    neigh.fit(X_train1, Y_train)\n",
        "    # roc_auc_score(y_true, y_score) the 2nd parameter should be probability estimates of the positive class\n",
        "    # not the predicted outputs\n",
        "    Y_train_pred =  neigh.predict_proba(X_train1)[:,1]\n",
        "    Y_cv_pred =  neigh.predict_proba(X_cv1)[:,1]\n",
        "    \n",
        "    train_auc.append(roc_auc_score(Y_train,Y_train_pred))\n",
        "    cv_auc.append(roc_auc_score(Y_cv, Y_cv_pred))\n",
        "        \n",
        "plt.plot(K, train_auc, label='Train AUC')\n",
        "plt.plot(K, cv_auc, label='CV AUC')\n",
        "plt.scatter(K, train_auc, label='Train AUC')\n",
        "plt.scatter(K, cv_auc, label='CV AUC')\n",
        "plt.legend()\n",
        "plt.xlabel(\"K: hyperparameter\")\n",
        "plt.ylabel(\"AUC\")\n",
        "plt.title(\"ERROR PLOTS\")\n",
        "plt.show()\n",
        "    "
      ]
    },
    {
      "cell_type": "markdown",
      "metadata": {
        "id": "zXYFPztWMfcs"
      },
      "source": [
        "### k = 3"
      ]
    },
    {
      "cell_type": "code",
      "execution_count": null,
      "metadata": {
        "id": "xni9EvcqMfcs"
      },
      "outputs": [],
      "source": [
        "knn = KNeighborsClassifier(n_neighbors=3, algorithm ='kd_tree')"
      ]
    },
    {
      "cell_type": "code",
      "execution_count": null,
      "metadata": {
        "id": "b-xwwxelMfcs",
        "outputId": "3139ee3d-644c-4b30-a735-ae8f94f48b06"
      },
      "outputs": [
        {
          "data": {
            "text/plain": [
              "KNeighborsClassifier(algorithm='kd_tree', leaf_size=30, metric='minkowski',\n",
              "           metric_params=None, n_jobs=None, n_neighbors=3, p=2,\n",
              "           weights='uniform')"
            ]
          },
          "execution_count": 187,
          "metadata": {},
          "output_type": "execute_result"
        }
      ],
      "source": [
        "knn.fit(X_train1,Y_train)"
      ]
    },
    {
      "cell_type": "code",
      "execution_count": null,
      "metadata": {
        "scrolled": true,
        "id": "KJVWxGNNMfcs",
        "outputId": "d66bb65a-8fff-45e9-f464-dbc47efe567a"
      },
      "outputs": [
        {
          "name": "stdout",
          "output_type": "stream",
          "text": [
            "[0 1 0 ... 0 0 1]\n"
          ]
        }
      ],
      "source": [
        "pred = knn.predict(X_test1)\n",
        "print(pred)"
      ]
    },
    {
      "cell_type": "code",
      "execution_count": null,
      "metadata": {
        "id": "ki8nqy4NMfct",
        "outputId": "59c0f1c4-e7cc-45ce-cb0a-0d3b7075dda1"
      },
      "outputs": [
        {
          "name": "stdout",
          "output_type": "stream",
          "text": [
            "[1 1 1 ... 0 0 0]\n"
          ]
        }
      ],
      "source": [
        "pred1 = neigh.predict(X_train1)\n",
        "print(pred1)"
      ]
    },
    {
      "cell_type": "code",
      "execution_count": null,
      "metadata": {
        "id": "ikJSpkl4Mfct",
        "outputId": "40241b87-8ecf-45d4-a3b5-3431ab643329"
      },
      "outputs": [
        {
          "data": {
            "text/plain": [
              "array([[8864, 7482],\n",
              "       [7535, 9119]], dtype=int64)"
            ]
          },
          "execution_count": 190,
          "metadata": {},
          "output_type": "execute_result"
        }
      ],
      "source": [
        "from sklearn.metrics import confusion_matrix\n",
        "cm = confusion_matrix(Y_test, pred)\n",
        "cm"
      ]
    },
    {
      "cell_type": "code",
      "execution_count": null,
      "metadata": {
        "id": "BWmUddtRMfct",
        "outputId": "317573f3-a34c-47c2-830c-ff446affa471"
      },
      "outputs": [
        {
          "data": {
            "text/plain": [
              "array([[14376,  8184],\n",
              "       [ 7869, 14461]], dtype=int64)"
            ]
          },
          "execution_count": 191,
          "metadata": {},
          "output_type": "execute_result"
        }
      ],
      "source": [
        "cm1 = confusion_matrix(Y_train, pred1)\n",
        "cm1"
      ]
    },
    {
      "cell_type": "code",
      "execution_count": null,
      "metadata": {
        "id": "cdt6s-PSMfct",
        "outputId": "05a2c6c2-6abd-42fd-bb06-025fc5607e71"
      },
      "outputs": [
        {
          "data": {
            "image/png": "[encoded data removed]",
            "text/plain": [
              "<Figure size 432x288 with 2 Axes>"
            ]
          },
          "metadata": {
            "needs_background": "light"
          },
          "output_type": "display_data"
        },
        {
          "data": {
            "image/png": "[encoded data removed]",
            "text/plain": [
              "<Figure size 432x288 with 2 Axes>"
            ]
          },
          "metadata": {
            "needs_background": "light"
          },
          "output_type": "display_data"
        }
      ],
      "source": [
        "import seaborn as sns\n",
        "class_label = [\"negative\", \"positive\"]\n",
        "df_cm = pd.DataFrame(cm, index = class_label, columns = class_label)\n",
        "sns.heatmap(df_cm, annot = True, fmt = \"d\")\n",
        "plt.title(\"test Confusiion Matrix\")\n",
        "plt.xlabel(\"Predicted Label\")\n",
        "plt.ylabel(\"True Label\")\n",
        "plt.show()\n",
        "class_label = [\"negative\", \"positive\"]\n",
        "df_cm1 = pd.DataFrame(cm1, index = class_label, columns = class_label)\n",
        "sns.heatmap(df_cm1, annot = True, fmt = \"d\")\n",
        "plt.title(\"train Confusiion Matrix\")\n",
        "plt.xlabel(\"Predicted Label\")\n",
        "plt.ylabel(\"True Label\")\n",
        "plt.show()\n"
      ]
    },
    {
      "cell_type": "markdown",
      "metadata": {
        "id": "WLMUkNzmMfct"
      },
      "source": [
        "#### typo error = the second table is of train classificatiion report "
      ]
    },
    {
      "cell_type": "code",
      "execution_count": null,
      "metadata": {
        "id": "drRZdE6ZMfcu",
        "outputId": "78bd0bef-43ee-4c8e-ffc6-622bc69434d6"
      },
      "outputs": [
        {
          "name": "stdout",
          "output_type": "stream",
          "text": [
            "test classification report\n",
            "              precision    recall  f1-score   support\n",
            "\n",
            "           0       0.54      0.54      0.54     16346\n",
            "           1       0.55      0.55      0.55     16654\n",
            "\n",
            "   micro avg       0.54      0.54      0.54     33000\n",
            "   macro avg       0.54      0.54      0.54     33000\n",
            "weighted avg       0.54      0.54      0.54     33000\n",
            "\n",
            "test classification report\n",
            "              precision    recall  f1-score   support\n",
            "\n",
            "           0       0.65      0.64      0.64     22560\n",
            "           1       0.64      0.65      0.64     22330\n",
            "\n",
            "   micro avg       0.64      0.64      0.64     44890\n",
            "   macro avg       0.64      0.64      0.64     44890\n",
            "weighted avg       0.64      0.64      0.64     44890\n",
            "\n"
          ]
        }
      ],
      "source": [
        "from sklearn.metrics import classification_report\n",
        "print(\"test classification report\")\n",
        "print(classification_report(Y_test, pred))\n",
        "print(\"test classification report\")\n",
        "print(classification_report(Y_train, pred1))"
      ]
    },
    {
      "cell_type": "markdown",
      "metadata": {
        "id": "C9-D2FN-Mfcu"
      },
      "source": [
        "#### form precision we can know that the model predicts positive and negative points nearly equal of both train and test data\n",
        "#### f1 - scores of of both positive and negative points are equal in train data and nearly equal in test data"
      ]
    },
    {
      "cell_type": "code",
      "execution_count": null,
      "metadata": {
        "id": "49PpYQu2Mfcu"
      },
      "outputs": [],
      "source": [
        "from sklearn.metrics import roc_curve"
      ]
    },
    {
      "cell_type": "code",
      "execution_count": null,
      "metadata": {
        "id": "SDEtax9gMfcu",
        "outputId": "8f866dd3-3a41-4188-a4c2-7d9f65d6d317"
      },
      "outputs": [
        {
          "data": {
            "image/png": "[encoded data removed]",
            "text/plain": [
              "<Figure size 432x288 with 1 Axes>"
            ]
          },
          "metadata": {
            "needs_background": "light"
          },
          "output_type": "display_data"
        }
      ],
      "source": [
        "fpr, tpr, thresholds = roc_curve(Y_test, pred)\n",
        "plt.plot([0,1],[0,1],'k--')\n",
        "plt.plot(fpr,tpr, label='Knn test')\n",
        "fpr, tpr, thresholds = roc_curve(Y_train, pred1)\n",
        "plt.plot([0,1],[0,1],'k--')\n",
        "plt.plot(fpr,tpr, label='Knn train')\n",
        "plt.legend()\n",
        "plt.xlabel('fpr')\n",
        "plt.ylabel('tpr')\n",
        "plt.title('Knn(n_neighbors=3)  ROC curve')\n",
        "plt.show()"
      ]
    },
    {
      "cell_type": "markdown",
      "metadata": {
        "id": "Tji7_UjUMfcu"
      },
      "source": [
        "#### as roc curves of train and test are above the diagonal ,\n",
        "#### we can say that both the test and train the model is better for both of them\n",
        "#### test data is worse than train data"
      ]
    },
    {
      "cell_type": "markdown",
      "metadata": {
        "id": "nNHqyeneMfcu"
      },
      "source": [
        "#### auc of test data ~ 0.55\n",
        "#### auc of train data ~ 0.69"
      ]
    },
    {
      "cell_type": "markdown",
      "metadata": {
        "id": "TKyVQbscMfcu"
      },
      "source": [
        "### [5.2.2] Applying KNN kd-tree on TFIDF,<font color='red'> SET 6</font>"
      ]
    },
    {
      "cell_type": "code",
      "execution_count": null,
      "metadata": {
        "id": "StzIEJmCMfcu"
      },
      "outputs": [],
      "source": [
        "from sklearn.decomposition import TruncatedSVD\n",
        "from sklearn.random_projection import sparse_random_matrix\n",
        "svd = TruncatedSVD(n_components=5, n_iter=7, random_state=42)\n",
        "X_train2 = svd.fit_transform(X_train_tfidf) \n",
        "X_cv2 = svd.fit_transform(X_cv_tfidf)\n",
        "X_test2 = svd.transform(X_test_tfidf) "
      ]
    },
    {
      "cell_type": "code",
      "execution_count": null,
      "metadata": {
        "id": "d-UN8pcDMfcv",
        "outputId": "2b228b7a-fbb9-437d-fc92-b3e16a4e6e2d"
      },
      "outputs": [
        {
          "data": {
            "text/plain": [
              "((44890, 5), (22110, 5), (33000, 5))"
            ]
          },
          "execution_count": 197,
          "metadata": {},
          "output_type": "execute_result"
        }
      ],
      "source": [
        "X_train2.shape , X_cv2.shape ,X_test2.shape"
      ]
    },
    {
      "cell_type": "code",
      "execution_count": null,
      "metadata": {
        "scrolled": true,
        "id": "9HMZHcWqMfcv",
        "outputId": "33cc256a-d77d-41f2-c86d-e4ee812c2093"
      },
      "outputs": [
        {
          "data": {
            "image/png": "[encoded data removed]",
            "text/plain": [
              "<Figure size 432x288 with 1 Axes>"
            ]
          },
          "metadata": {
            "needs_background": "light"
          },
          "output_type": "display_data"
        }
      ],
      "source": [
        "from sklearn.neighbors import KNeighborsClassifier\n",
        "from sklearn.metrics import roc_auc_score\n",
        "import matplotlib.pyplot as plt\n",
        "\"\"\"\n",
        "y_true : array, shape = [n_samples] or [n_samples, n_classes]\n",
        "True binary labels or binary label indicators.\n",
        "\n",
        "y_score : array, shape = [n_samples] or [n_samples, n_classes]\n",
        "Target scores, can either be probability estimates of the positive class, confidence values, or non-thresholded measure of\n",
        "decisions (as returned by “decision_function” on some classifiers). \n",
        "For binary y_true, y_score is supposed to be the score of the class with greater label.\n",
        "\n",
        "\"\"\"\n",
        "\n",
        "train_auc = []\n",
        "cv_auc = []\n",
        "K = [1, 3, 5, 7, 9, 11, 13, 15]\n",
        "for i in K:\n",
        "    neigh = KNeighborsClassifier(n_neighbors=i , algorithm = 'kd_tree')\n",
        "    neigh.fit(X_train2, Y_train)\n",
        "    # roc_auc_score(y_true, y_score) the 2nd parameter should be probability estimates of the positive class\n",
        "    # not the predicted outputs\n",
        "    Y_train_pred =  neigh.predict_proba(X_train2)[:,1]\n",
        "    Y_cv_pred =  neigh.predict_proba(X_cv2)[:,1]\n",
        "    \n",
        "    train_auc.append(roc_auc_score(Y_train,Y_train_pred))\n",
        "    cv_auc.append(roc_auc_score(Y_cv, Y_cv_pred))\n",
        "        \n",
        "plt.plot(K, train_auc, label='Train AUC')\n",
        "plt.plot(K, cv_auc, label='CV AUC')\n",
        "plt.scatter(K, train_auc, label='Train AUC')\n",
        "plt.scatter(K, cv_auc, label='CV AUC')\n",
        "plt.legend()\n",
        "plt.xlabel(\"K: hyperparameter\")\n",
        "plt.ylabel(\"AUC\")\n",
        "plt.title(\"ERROR PLOTS\")\n",
        "plt.show()\n",
        "    "
      ]
    },
    {
      "cell_type": "markdown",
      "metadata": {
        "id": "S4l8TyVGMfcv"
      },
      "source": [
        "### k = 3"
      ]
    },
    {
      "cell_type": "code",
      "execution_count": null,
      "metadata": {
        "id": "C7T5Ok9DMfcv"
      },
      "outputs": [],
      "source": [
        "knn = KNeighborsClassifier(n_neighbors=3, algorithm ='kd_tree')"
      ]
    },
    {
      "cell_type": "code",
      "execution_count": null,
      "metadata": {
        "id": "7icm9zPuMfcv",
        "outputId": "84fd953b-7f52-429c-f882-9bc4d9b4ceb8"
      },
      "outputs": [
        {
          "data": {
            "text/plain": [
              "KNeighborsClassifier(algorithm='kd_tree', leaf_size=30, metric='minkowski',\n",
              "           metric_params=None, n_jobs=None, n_neighbors=3, p=2,\n",
              "           weights='uniform')"
            ]
          },
          "execution_count": 200,
          "metadata": {},
          "output_type": "execute_result"
        }
      ],
      "source": [
        "knn.fit(X_train2,Y_train)"
      ]
    },
    {
      "cell_type": "code",
      "execution_count": null,
      "metadata": {
        "id": "XRWyvgVHMfcv",
        "outputId": "11dcc292-a257-4615-8182-1bc7398cad93"
      },
      "outputs": [
        {
          "name": "stdout",
          "output_type": "stream",
          "text": [
            "[0 0 0 ... 1 1 0]\n"
          ]
        }
      ],
      "source": [
        "pred = knn.predict(X_test2)\n",
        "print(pred)"
      ]
    },
    {
      "cell_type": "code",
      "execution_count": null,
      "metadata": {
        "id": "T9LbnBaNMfcv",
        "outputId": "dfdfae3e-36b6-47e8-d16a-330e6167a223"
      },
      "outputs": [
        {
          "name": "stdout",
          "output_type": "stream",
          "text": [
            "[0 0 1 ... 1 0 0]\n"
          ]
        }
      ],
      "source": [
        "pred1 = neigh.predict(X_train2)\n",
        "print(pred1)"
      ]
    },
    {
      "cell_type": "code",
      "execution_count": null,
      "metadata": {
        "id": "seaz8mgNMfcv",
        "outputId": "c267e0c0-56c7-4ac8-9b2a-23b73bc2a45b"
      },
      "outputs": [
        {
          "data": {
            "text/plain": [
              "array([[ 9385,  6961],\n",
              "       [ 6308, 10346]], dtype=int64)"
            ]
          },
          "execution_count": 203,
          "metadata": {},
          "output_type": "execute_result"
        }
      ],
      "source": [
        "from sklearn.metrics import confusion_matrix\n",
        "cm = confusion_matrix(Y_test, pred)\n",
        "cm"
      ]
    },
    {
      "cell_type": "code",
      "execution_count": null,
      "metadata": {
        "id": "OGYbgA6mMfcw",
        "outputId": "0f223fd2-df5e-444c-eec0-b4a46c355218"
      },
      "outputs": [
        {
          "data": {
            "text/plain": [
              "array([[15512,  7048],\n",
              "       [ 6670, 15660]], dtype=int64)"
            ]
          },
          "execution_count": 204,
          "metadata": {},
          "output_type": "execute_result"
        }
      ],
      "source": [
        "cm1 = confusion_matrix(Y_train, pred1)\n",
        "cm1"
      ]
    },
    {
      "cell_type": "code",
      "execution_count": null,
      "metadata": {
        "id": "5vVXhtnWMfcw",
        "outputId": "a7a00138-25f2-47da-9270-f8326b1bc592"
      },
      "outputs": [
        {
          "data": {
            "image/png": "[encoded data removed]",
            "text/plain": [
              "<Figure size 432x288 with 2 Axes>"
            ]
          },
          "metadata": {
            "needs_background": "light"
          },
          "output_type": "display_data"
        },
        {
          "data": {
            "image/png": "[encoded data removed]",
            "text/plain": [
              "<Figure size 432x288 with 2 Axes>"
            ]
          },
          "metadata": {
            "needs_background": "light"
          },
          "output_type": "display_data"
        }
      ],
      "source": [
        "import seaborn as sns\n",
        "class_label = [\"negative\", \"positive\"]\n",
        "df_cm = pd.DataFrame(cm, index = class_label, columns = class_label)\n",
        "sns.heatmap(df_cm, annot = True, fmt = \"d\")\n",
        "plt.title(\"test Confusiion Matrix\")\n",
        "plt.xlabel(\"Predicted Label\")\n",
        "plt.ylabel(\"True Label\")\n",
        "plt.show()\n",
        "class_label = [\"negative\", \"positive\"]\n",
        "df_cm1 = pd.DataFrame(cm1, index = class_label, columns = class_label)\n",
        "sns.heatmap(df_cm1, annot = True, fmt = \"d\")\n",
        "plt.title(\"train Confusiion Matrix\")\n",
        "plt.xlabel(\"Predicted Label\")\n",
        "plt.ylabel(\"True Label\")\n",
        "plt.show()"
      ]
    },
    {
      "cell_type": "markdown",
      "metadata": {
        "id": "Fhws1QToMfcw"
      },
      "source": [
        "#### typo error = the second table is of train classificatiion report "
      ]
    },
    {
      "cell_type": "code",
      "execution_count": null,
      "metadata": {
        "id": "5qfomPAYMfcw",
        "outputId": "d5e9e281-02aa-425f-9270-1aae798a7176"
      },
      "outputs": [
        {
          "name": "stdout",
          "output_type": "stream",
          "text": [
            "test classification report\n",
            "              precision    recall  f1-score   support\n",
            "\n",
            "           0       0.60      0.57      0.59     16346\n",
            "           1       0.60      0.62      0.61     16654\n",
            "\n",
            "   micro avg       0.60      0.60      0.60     33000\n",
            "   macro avg       0.60      0.60      0.60     33000\n",
            "weighted avg       0.60      0.60      0.60     33000\n",
            "\n",
            "test classification report\n",
            "              precision    recall  f1-score   support\n",
            "\n",
            "           0       0.70      0.69      0.69     22560\n",
            "           1       0.69      0.70      0.70     22330\n",
            "\n",
            "   micro avg       0.69      0.69      0.69     44890\n",
            "   macro avg       0.69      0.69      0.69     44890\n",
            "weighted avg       0.69      0.69      0.69     44890\n",
            "\n"
          ]
        }
      ],
      "source": [
        "from sklearn.metrics import classification_report\n",
        "print(\"test classification report\")\n",
        "print(classification_report(Y_test, pred))\n",
        "print(\"test classification report\")\n",
        "print(classification_report(Y_train, pred1))"
      ]
    },
    {
      "cell_type": "markdown",
      "metadata": {
        "id": "zdUwYVQlMfcw"
      },
      "source": [
        "#### form precision we can know that the model predicts positive and negative points equal of both train and test data\n",
        "#### f1 - scores of of both positive and negative points are nearly equal in test data and nearly equal in train data"
      ]
    },
    {
      "cell_type": "code",
      "execution_count": null,
      "metadata": {
        "id": "9ER3nvm0Mfcw"
      },
      "outputs": [],
      "source": [
        "from sklearn.metrics import roc_curve"
      ]
    },
    {
      "cell_type": "code",
      "execution_count": null,
      "metadata": {
        "id": "H-2BCWhFMfcx",
        "outputId": "91256fbe-0583-4699-9046-09fbd99a34bc"
      },
      "outputs": [
        {
          "data": {
            "image/png": "[encoded data removed]",
            "text/plain": [
              "<Figure size 432x288 with 1 Axes>"
            ]
          },
          "metadata": {
            "needs_background": "light"
          },
          "output_type": "display_data"
        }
      ],
      "source": [
        "fpr, tpr, thresholds = roc_curve(Y_test, pred)\n",
        "plt.plot([0,1],[0,1],'k--')\n",
        "plt.plot(fpr,tpr, label='Knn test')\n",
        "fpr, tpr, thresholds = roc_curve(Y_train, pred1)\n",
        "plt.plot([0,1],[0,1],'k--')\n",
        "plt.plot(fpr,tpr, label='Knn train')\n",
        "plt.legend()\n",
        "plt.xlabel('fpr')\n",
        "plt.ylabel('tpr')\n",
        "plt.title('Knn(n_neighbors=3)  ROC curve')\n",
        "plt.show()"
      ]
    },
    {
      "cell_type": "markdown",
      "metadata": {
        "id": "lmg5BGSFMfcx"
      },
      "source": [
        "#### as roc curves of train and test are above the diagonal ,\n",
        "#### we can say that both the test and train the model is better for both of them¶\n",
        "#### train data is better than test data"
      ]
    },
    {
      "cell_type": "markdown",
      "metadata": {
        "id": "m_QwZpQDMfcx"
      },
      "source": [
        "#### auc of test data ~ 0.62\n",
        "#### auc of train data ~ 0.75"
      ]
    },
    {
      "cell_type": "markdown",
      "metadata": {
        "id": "qazewToLMfcx"
      },
      "source": [
        "### [5.2.3] Applying KNN kd-tree on AVG W2V,<font color='red'> SET 3</font>"
      ]
    },
    {
      "cell_type": "code",
      "execution_count": null,
      "metadata": {
        "id": "os7Lf8BWMfcx"
      },
      "outputs": [],
      "source": [
        "from sklearn.decomposition import TruncatedSVD\n",
        "from sklearn.random_projection import sparse_random_matrix\n",
        "svd = TruncatedSVD(n_components=5, n_iter=7, random_state=42)\n",
        "X_train3 = svd.fit_transform(X_train_avgw2v) \n",
        "X_cv3 = svd.fit_transform(X_cv_avgw2v)\n",
        "X_test3 = svd.transform(X_test_avgw2v)"
      ]
    },
    {
      "cell_type": "code",
      "execution_count": null,
      "metadata": {
        "id": "sHjg6tlKMfcx",
        "outputId": "0f3ca689-a111-48b0-c461-d1b8ed34ec25"
      },
      "outputs": [
        {
          "data": {
            "text/plain": [
              "((44890, 5), (22110, 5), (33000, 5))"
            ]
          },
          "execution_count": 210,
          "metadata": {},
          "output_type": "execute_result"
        }
      ],
      "source": [
        "X_train3.shape , X_cv3.shape ,X_test3.shape"
      ]
    },
    {
      "cell_type": "code",
      "execution_count": null,
      "metadata": {
        "scrolled": true,
        "id": "kq-us5uOMfcx",
        "outputId": "9fabcbe7-1cf5-4d85-8216-73cd727eceb5"
      },
      "outputs": [
        {
          "data": {
            "image/png": "[encoded data removed]",
            "text/plain": [
              "<Figure size 432x288 with 1 Axes>"
            ]
          },
          "metadata": {
            "needs_background": "light"
          },
          "output_type": "display_data"
        }
      ],
      "source": [
        "from sklearn.neighbors import KNeighborsClassifier\n",
        "from sklearn.metrics import roc_auc_score\n",
        "import matplotlib.pyplot as plt\n",
        "\"\"\"\n",
        "y_true : array, shape = [n_samples] or [n_samples, n_classes]\n",
        "True binary labels or binary label indicators.\n",
        "\n",
        "y_score : array, shape = [n_samples] or [n_samples, n_classes]\n",
        "Target scores, can either be probability estimates of the positive class, confidence values, or non-thresholded measure of\n",
        "decisions (as returned by “decision_function” on some classifiers). \n",
        "For binary y_true, y_score is supposed to be the score of the class with greater label.\n",
        "\n",
        "\"\"\"\n",
        "\n",
        "train_auc = []\n",
        "cv_auc = []\n",
        "K = [1, 3, 5, 7, 9, 11, 13, 15]\n",
        "for i in K:\n",
        "    neigh = KNeighborsClassifier(n_neighbors=i , algorithm = 'kd_tree')\n",
        "    neigh.fit(X_train2, Y_train)\n",
        "    # roc_auc_score(y_true, y_score) the 2nd parameter should be probability estimates of the positive class\n",
        "    # not the predicted outputs\n",
        "    Y_train_pred =  neigh.predict_proba(X_train3)[:,1]\n",
        "    Y_cv_pred =  neigh.predict_proba(X_cv3)[:,1]\n",
        "    \n",
        "    train_auc.append(roc_auc_score(Y_train,Y_train_pred))\n",
        "    cv_auc.append(roc_auc_score(Y_cv, Y_cv_pred))\n",
        "        \n",
        "plt.plot(K, train_auc, label='Train AUC')\n",
        "plt.plot(K, cv_auc, label='CV AUC')\n",
        "plt.scatter(K, train_auc, label='Train AUC')\n",
        "plt.scatter(K, cv_auc, label='CV AUC')\n",
        "plt.legend()\n",
        "plt.xlabel(\"K: hyperparameter\")\n",
        "plt.ylabel(\"AUC\")\n",
        "plt.title(\"ERROR PLOTS\")\n",
        "plt.show()\n",
        "    "
      ]
    },
    {
      "cell_type": "markdown",
      "metadata": {
        "id": "wXbYhL8MMfcy"
      },
      "source": [
        "### k = 3"
      ]
    },
    {
      "cell_type": "code",
      "execution_count": null,
      "metadata": {
        "id": "6dZ0r0LkMfcy"
      },
      "outputs": [],
      "source": [
        "knn = KNeighborsClassifier(n_neighbors=3, algorithm ='kd_tree')"
      ]
    },
    {
      "cell_type": "code",
      "execution_count": null,
      "metadata": {
        "id": "4tkSG-6yMfcy",
        "outputId": "fc0328e5-3d26-4f83-9419-6899e5ddbf56"
      },
      "outputs": [
        {
          "data": {
            "text/plain": [
              "KNeighborsClassifier(algorithm='kd_tree', leaf_size=30, metric='minkowski',\n",
              "           metric_params=None, n_jobs=None, n_neighbors=3, p=2,\n",
              "           weights='uniform')"
            ]
          },
          "execution_count": 213,
          "metadata": {},
          "output_type": "execute_result"
        }
      ],
      "source": [
        "knn.fit(X_train3,Y_train)"
      ]
    },
    {
      "cell_type": "code",
      "execution_count": null,
      "metadata": {
        "id": "YmCvnj5QMfcy",
        "outputId": "101acfed-1cd1-4ef6-f7f5-f3a29202c2e9"
      },
      "outputs": [
        {
          "name": "stdout",
          "output_type": "stream",
          "text": [
            "[1 0 0 ... 0 0 1]\n"
          ]
        }
      ],
      "source": [
        "pred = knn.predict(X_test3)\n",
        "print(pred)"
      ]
    },
    {
      "cell_type": "code",
      "execution_count": null,
      "metadata": {
        "id": "JH73losKMfcy",
        "outputId": "cab11d3a-723b-4c77-fb89-6bebf2e10724"
      },
      "outputs": [
        {
          "name": "stdout",
          "output_type": "stream",
          "text": [
            "[1 1 0 ... 0 1 0]\n"
          ]
        }
      ],
      "source": [
        "pred1 = neigh.predict(X_train3)\n",
        "print(pred1)"
      ]
    },
    {
      "cell_type": "code",
      "execution_count": null,
      "metadata": {
        "id": "Etn_ZGCVMfcy",
        "outputId": "cf6cc46c-a46c-4fe0-c99d-286af08f4ea0"
      },
      "outputs": [
        {
          "data": {
            "text/plain": [
              "array([[8628, 7718],\n",
              "       [9076, 7578]], dtype=int64)"
            ]
          },
          "execution_count": 216,
          "metadata": {},
          "output_type": "execute_result"
        }
      ],
      "source": [
        "from sklearn.metrics import confusion_matrix\n",
        "cm = confusion_matrix(Y_test, pred)\n",
        "cm"
      ]
    },
    {
      "cell_type": "code",
      "execution_count": null,
      "metadata": {
        "id": "47F4xtcBMfcz",
        "outputId": "d49757b1-39e8-42b8-ec7c-8a2662e184fc"
      },
      "outputs": [
        {
          "data": {
            "text/plain": [
              "array([[ 9999, 12561],\n",
              "       [ 8339, 13991]], dtype=int64)"
            ]
          },
          "execution_count": 217,
          "metadata": {},
          "output_type": "execute_result"
        }
      ],
      "source": [
        "cm1 = confusion_matrix(Y_train, pred1)\n",
        "cm1"
      ]
    },
    {
      "cell_type": "code",
      "execution_count": null,
      "metadata": {
        "id": "VRlewdBBMfcz",
        "outputId": "0dfee2ca-eab1-43b5-d6d5-42ef58fd0e21"
      },
      "outputs": [
        {
          "data": {
            "image/png": "[encoded data removed]",
            "text/plain": [
              "<Figure size 432x288 with 2 Axes>"
            ]
          },
          "metadata": {
            "needs_background": "light"
          },
          "output_type": "display_data"
        },
        {
          "data": {
            "image/png": "[encoded data removed]",
            "text/plain": [
              "<Figure size 432x288 with 2 Axes>"
            ]
          },
          "metadata": {
            "needs_background": "light"
          },
          "output_type": "display_data"
        }
      ],
      "source": [
        "import seaborn as sns\n",
        "class_label = [\"negative\", \"positive\"]\n",
        "df_cm = pd.DataFrame(cm, index = class_label, columns = class_label)\n",
        "sns.heatmap(df_cm, annot = True, fmt = \"d\")\n",
        "plt.title(\"test Confusiion Matrix\")\n",
        "plt.xlabel(\"Predicted Label\")\n",
        "plt.ylabel(\"True Label\")\n",
        "plt.show()\n",
        "class_label = [\"negative\", \"positive\"]\n",
        "df_cm1 = pd.DataFrame(cm1, index = class_label, columns = class_label)\n",
        "sns.heatmap(df_cm1, annot = True, fmt = \"d\")\n",
        "plt.title(\"train Confusiion Matrix\")\n",
        "plt.xlabel(\"Predicted Label\")\n",
        "plt.ylabel(\"True Label\")\n",
        "plt.show()"
      ]
    },
    {
      "cell_type": "markdown",
      "metadata": {
        "id": "M-CMHMXhMfcz"
      },
      "source": [
        "#### typo error = the second table is of train classificatiion report "
      ]
    },
    {
      "cell_type": "code",
      "execution_count": null,
      "metadata": {
        "id": "rm5dH6Q0Mfcz",
        "outputId": "2854f98e-825c-460a-9c64-88c7139cf5b6"
      },
      "outputs": [
        {
          "name": "stdout",
          "output_type": "stream",
          "text": [
            "test classification report\n",
            "              precision    recall  f1-score   support\n",
            "\n",
            "           0       0.49      0.53      0.51     16346\n",
            "           1       0.50      0.46      0.47     16654\n",
            "\n",
            "   micro avg       0.49      0.49      0.49     33000\n",
            "   macro avg       0.49      0.49      0.49     33000\n",
            "weighted avg       0.49      0.49      0.49     33000\n",
            "\n",
            "test classification report\n",
            "              precision    recall  f1-score   support\n",
            "\n",
            "           0       0.55      0.44      0.49     22560\n",
            "           1       0.53      0.63      0.57     22330\n",
            "\n",
            "   micro avg       0.53      0.53      0.53     44890\n",
            "   macro avg       0.54      0.53      0.53     44890\n",
            "weighted avg       0.54      0.53      0.53     44890\n",
            "\n"
          ]
        }
      ],
      "source": [
        "from sklearn.metrics import classification_report\n",
        "print(\"test classification report\")\n",
        "print(classification_report(Y_test, pred))\n",
        "print(\"test classification report\")\n",
        "print(classification_report(Y_train, pred1))"
      ]
    },
    {
      "cell_type": "markdown",
      "metadata": {
        "id": "dR6wewZpMfcz"
      },
      "source": [
        "#### on looking at the recall , we can know that \n",
        "#### on train data 63% of the total positive points are plotted positive\n",
        "#### on test data only 46% of the total positive points are plotted positive"
      ]
    },
    {
      "cell_type": "code",
      "execution_count": null,
      "metadata": {
        "id": "ZzcuoKrzMfcz"
      },
      "outputs": [],
      "source": [
        "from sklearn.metrics import roc_curve"
      ]
    },
    {
      "cell_type": "code",
      "execution_count": null,
      "metadata": {
        "id": "z65_levcMfcz",
        "outputId": "39474a95-e339-4b22-82c4-4b78b2f9ff8f"
      },
      "outputs": [
        {
          "data": {
            "image/png": "[encoded data removed]",
            "text/plain": [
              "<Figure size 432x288 with 1 Axes>"
            ]
          },
          "metadata": {
            "needs_background": "light"
          },
          "output_type": "display_data"
        }
      ],
      "source": [
        "fpr, tpr, thresholds = roc_curve(Y_test, pred)\n",
        "plt.plot([0,1],[0,1],'k--')\n",
        "plt.plot(fpr,tpr, label='Knn test')\n",
        "fpr, tpr, thresholds = roc_curve(Y_train, pred1)\n",
        "plt.plot([0,1],[0,1],'k--')\n",
        "plt.plot(fpr,tpr, label='Knn train')\n",
        "plt.legend()\n",
        "plt.xlabel('fpr')\n",
        "plt.ylabel('tpr')\n",
        "plt.title('Knn(n_neighbors=3)  ROC curve')\n",
        "plt.show()"
      ]
    },
    {
      "cell_type": "markdown",
      "metadata": {
        "id": "VxFwFy-jMfcz"
      },
      "source": [
        "#### since the roc curve of test is below the diagonal , the model works worse on test data\n",
        "#### since the roc curve of train is above the diagonal , the model works better on train data than on test data"
      ]
    },
    {
      "cell_type": "markdown",
      "metadata": {
        "id": "jByNJbbFMfcz"
      },
      "source": [
        "#### auc of test data < 0.5\n",
        "#### auc of train data ~ 0.62"
      ]
    },
    {
      "cell_type": "markdown",
      "metadata": {
        "id": "lcd7cExsMfc0"
      },
      "source": [
        "### [5.2.4] Applying KNN kd-tree on TFIDF W2V,<font color='red'> SET 4</font>"
      ]
    },
    {
      "cell_type": "code",
      "execution_count": null,
      "metadata": {
        "id": "zUXMEE2CMfc0"
      },
      "outputs": [],
      "source": [
        "from sklearn.decomposition import TruncatedSVD\n",
        "from sklearn.random_projection import sparse_random_matrix\n",
        "svd = TruncatedSVD(n_components=5, n_iter=7, random_state=42)\n",
        "X_train4 = svd.fit_transform(X_train_tfidfw2v) \n",
        "X_cv4 = svd.fit_transform(X_cv_tfidfw2v)\n",
        "X_test4 = svd.transform(X_test_tfidfw2v)"
      ]
    },
    {
      "cell_type": "code",
      "execution_count": null,
      "metadata": {
        "id": "o_vHnB9zMfc0",
        "outputId": "05b29092-3240-4cad-ca7a-5318dec359f6"
      },
      "outputs": [
        {
          "data": {
            "text/plain": [
              "((44890, 5), (22110, 5), (33000, 5))"
            ]
          },
          "execution_count": 223,
          "metadata": {},
          "output_type": "execute_result"
        }
      ],
      "source": [
        "X_train4.shape , X_cv4.shape ,X_test4.shape"
      ]
    },
    {
      "cell_type": "code",
      "execution_count": null,
      "metadata": {
        "id": "bfSKV7fjMfc0",
        "outputId": "48803490-dc74-4737-9655-79a7c154bdb2"
      },
      "outputs": [
        {
          "data": {
            "image/png": "[encoded data removed]",
            "text/plain": [
              "<Figure size 432x288 with 1 Axes>"
            ]
          },
          "metadata": {
            "needs_background": "light"
          },
          "output_type": "display_data"
        }
      ],
      "source": [
        "from sklearn.neighbors import KNeighborsClassifier\n",
        "from sklearn.metrics import roc_auc_score\n",
        "import matplotlib.pyplot as plt\n",
        "\"\"\"\n",
        "y_true : array, shape = [n_samples] or [n_samples, n_classes]\n",
        "True binary labels or binary label indicators.\n",
        "\n",
        "y_score : array, shape = [n_samples] or [n_samples, n_classes]\n",
        "Target scores, can either be probability estimates of the positive class, confidence values, or non-thresholded measure of\n",
        "decisions (as returned by “decision_function” on some classifiers). \n",
        "For binary y_true, y_score is supposed to be the score of the class with greater label.\n",
        "\n",
        "\"\"\"\n",
        "\n",
        "train_auc = []\n",
        "cv_auc = []\n",
        "K = [1, 3, 5, 7, 9, 11, 13, 15]\n",
        "for i in K:\n",
        "    neigh = KNeighborsClassifier(n_neighbors=i , algorithm = 'kd_tree')\n",
        "    neigh.fit(X_train2, Y_train)\n",
        "    # roc_auc_score(y_true, y_score) the 2nd parameter should be probability estimates of the positive class\n",
        "    # not the predicted outputs\n",
        "    Y_train_pred =  neigh.predict_proba(X_train4)[:,1]\n",
        "    Y_cv_pred =  neigh.predict_proba(X_cv4)[:,1]\n",
        "    \n",
        "    train_auc.append(roc_auc_score(Y_train,Y_train_pred))\n",
        "    cv_auc.append(roc_auc_score(Y_cv, Y_cv_pred))\n",
        "        \n",
        "plt.plot(K, train_auc, label='Train AUC')\n",
        "plt.plot(K, cv_auc, label='CV AUC')\n",
        "plt.scatter(K, train_auc, label='Train AUC')\n",
        "plt.scatter(K, cv_auc, label='CV AUC')\n",
        "plt.legend()\n",
        "plt.xlabel(\"K: hyperparameter\")\n",
        "plt.ylabel(\"AUC\")\n",
        "plt.title(\"ERROR PLOTS\")\n",
        "plt.show()\n",
        "    "
      ]
    },
    {
      "cell_type": "markdown",
      "metadata": {
        "id": "pzD3aQOPMfc0"
      },
      "source": [
        "### k = 3"
      ]
    },
    {
      "cell_type": "code",
      "execution_count": null,
      "metadata": {
        "id": "6S3hIw_iMfc0"
      },
      "outputs": [],
      "source": [
        "knn = KNeighborsClassifier(n_neighbors=3, algorithm ='kd_tree')"
      ]
    },
    {
      "cell_type": "code",
      "execution_count": null,
      "metadata": {
        "id": "0bsSoBjCMfc0",
        "outputId": "aef703ba-8ca0-47aa-bedb-4d2dad760862"
      },
      "outputs": [
        {
          "data": {
            "text/plain": [
              "KNeighborsClassifier(algorithm='kd_tree', leaf_size=30, metric='minkowski',\n",
              "           metric_params=None, n_jobs=None, n_neighbors=3, p=2,\n",
              "           weights='uniform')"
            ]
          },
          "execution_count": 226,
          "metadata": {},
          "output_type": "execute_result"
        }
      ],
      "source": [
        "knn.fit(X_train4,Y_train)"
      ]
    },
    {
      "cell_type": "code",
      "execution_count": null,
      "metadata": {
        "id": "CYa0RomTMfc1",
        "outputId": "01c032a0-168d-46b1-91b8-23851a0b5a81"
      },
      "outputs": [
        {
          "name": "stdout",
          "output_type": "stream",
          "text": [
            "[0 0 1 ... 0 1 0]\n"
          ]
        }
      ],
      "source": [
        "pred = knn.predict(X_test4)\n",
        "print(pred)"
      ]
    },
    {
      "cell_type": "code",
      "execution_count": null,
      "metadata": {
        "id": "BLry-K0cMfc1",
        "outputId": "ee4e2be5-e16c-4415-9e62-d8bda57cba13"
      },
      "outputs": [
        {
          "name": "stdout",
          "output_type": "stream",
          "text": [
            "[0 1 0 ... 1 0 1]\n"
          ]
        }
      ],
      "source": [
        "pred1 = neigh.predict(X_train4)\n",
        "print(pred1)"
      ]
    },
    {
      "cell_type": "code",
      "execution_count": null,
      "metadata": {
        "id": "RaKGLrJ7Mfc1",
        "outputId": "dd9b6524-a928-4cdb-ee10-37f6c9401e7e"
      },
      "outputs": [
        {
          "data": {
            "text/plain": [
              "array([[8894, 7452],\n",
              "       [7514, 9140]], dtype=int64)"
            ]
          },
          "execution_count": 229,
          "metadata": {},
          "output_type": "execute_result"
        }
      ],
      "source": [
        "from sklearn.metrics import confusion_matrix\n",
        "cm = confusion_matrix(Y_test, pred)\n",
        "cm"
      ]
    },
    {
      "cell_type": "code",
      "execution_count": null,
      "metadata": {
        "id": "eQyuHYWUMfc1",
        "outputId": "4c11f998-dc0c-4852-e2f3-44addb949039"
      },
      "outputs": [
        {
          "data": {
            "text/plain": [
              "array([[10665, 11895],\n",
              "       [ 9217, 13113]], dtype=int64)"
            ]
          },
          "execution_count": 230,
          "metadata": {},
          "output_type": "execute_result"
        }
      ],
      "source": [
        "cm1 = confusion_matrix(Y_train,pred1)\n",
        "cm1"
      ]
    },
    {
      "cell_type": "code",
      "execution_count": null,
      "metadata": {
        "id": "j-J4IjAKMfc1",
        "outputId": "55e6c814-1c33-48cb-dc09-47d5d522debf"
      },
      "outputs": [
        {
          "data": {
            "image/png": "[encoded data removed]",
            "text/plain": [
              "<Figure size 432x288 with 2 Axes>"
            ]
          },
          "metadata": {
            "needs_background": "light"
          },
          "output_type": "display_data"
        },
        {
          "data": {
            "image/png": "[encoded data removed]",
            "text/plain": [
              "<Figure size 432x288 with 2 Axes>"
            ]
          },
          "metadata": {
            "needs_background": "light"
          },
          "output_type": "display_data"
        }
      ],
      "source": [
        "import seaborn as sns\n",
        "class_label = [\"negative\", \"positive\"]\n",
        "df_cm = pd.DataFrame(cm, index = class_label, columns = class_label)\n",
        "sns.heatmap(df_cm, annot = True, fmt = \"d\")\n",
        "plt.title(\"test Confusiion Matrix\")\n",
        "plt.xlabel(\"Predicted Label\")\n",
        "plt.ylabel(\"True Label\")\n",
        "plt.show()\n",
        "class_label = [\"negative\", \"positive\"]\n",
        "df_cm1 = pd.DataFrame(cm1, index = class_label, columns = class_label)\n",
        "sns.heatmap(df_cm1, annot = True, fmt = \"d\")\n",
        "plt.title(\"train Confusiion Matrix\")\n",
        "plt.xlabel(\"Predicted Label\")\n",
        "plt.ylabel(\"True Label\")\n",
        "plt.show()"
      ]
    },
    {
      "cell_type": "markdown",
      "metadata": {
        "id": "mKZR3EBqMfc1"
      },
      "source": [
        "#### typo error = the second table is of train classificatiion report "
      ]
    },
    {
      "cell_type": "code",
      "execution_count": null,
      "metadata": {
        "id": "V8e4hkW9Mfc1",
        "outputId": "0aef8f83-657f-4693-82b9-b9aa790b8616"
      },
      "outputs": [
        {
          "name": "stdout",
          "output_type": "stream",
          "text": [
            "test classification report\n",
            "              precision    recall  f1-score   support\n",
            "\n",
            "           0       0.54      0.54      0.54     16346\n",
            "           1       0.55      0.55      0.55     16654\n",
            "\n",
            "   micro avg       0.55      0.55      0.55     33000\n",
            "   macro avg       0.55      0.55      0.55     33000\n",
            "weighted avg       0.55      0.55      0.55     33000\n",
            "\n",
            "test classification report\n",
            "              precision    recall  f1-score   support\n",
            "\n",
            "           0       0.54      0.47      0.50     22560\n",
            "           1       0.52      0.59      0.55     22330\n",
            "\n",
            "   micro avg       0.53      0.53      0.53     44890\n",
            "   macro avg       0.53      0.53      0.53     44890\n",
            "weighted avg       0.53      0.53      0.53     44890\n",
            "\n"
          ]
        }
      ],
      "source": [
        "from sklearn.metrics import classification_report\n",
        "print(\"test classification report\")\n",
        "print(classification_report(Y_test, pred))\n",
        "print(\"test classification report\")\n",
        "print(classification_report(Y_train, pred1))"
      ]
    },
    {
      "cell_type": "markdown",
      "metadata": {
        "id": "-JwvriViMfc2"
      },
      "source": [
        "#### both the test and train data works in similar manner and provides similar results"
      ]
    },
    {
      "cell_type": "code",
      "execution_count": null,
      "metadata": {
        "id": "F9oRCnJtMfc2"
      },
      "outputs": [],
      "source": [
        "from sklearn.metrics import roc_curve"
      ]
    },
    {
      "cell_type": "code",
      "execution_count": null,
      "metadata": {
        "id": "LoEWblDZMfc2",
        "outputId": "42c0718a-56bc-4d56-fc7b-a11376cb257b"
      },
      "outputs": [
        {
          "data": {
            "image/png": "[encoded data removed]",
            "text/plain": [
              "<Figure size 432x288 with 1 Axes>"
            ]
          },
          "metadata": {
            "needs_background": "light"
          },
          "output_type": "display_data"
        }
      ],
      "source": [
        "fpr, tpr, thresholds = roc_curve(Y_test, pred)\n",
        "plt.plot([0,1],[0,1],'k--')\n",
        "plt.plot(fpr,tpr, label='Knn test')\n",
        "fpr, tpr, thresholds = roc_curve(Y_train, pred1)\n",
        "plt.plot([0,1],[0,1],'k--')\n",
        "plt.plot(fpr,tpr, label='Knn train')\n",
        "plt.legend()\n",
        "plt.xlabel('fpr')\n",
        "plt.ylabel('tpr')\n",
        "plt.title('Knn(n_neighbors=3)  ROC curve')\n",
        "plt.show()"
      ]
    },
    {
      "cell_type": "markdown",
      "metadata": {
        "id": "lZ0Zq3dTMfc2"
      },
      "source": [
        "#### since thegap between roc curves of both test and train data are nearer to the diagonal,\n",
        "#### this model does not provide good results"
      ]
    },
    {
      "cell_type": "markdown",
      "metadata": {
        "id": "EkxB0T_HMfc2"
      },
      "source": [
        "#### auc of test data ~ 0.55\n",
        "#### auc of train data ~ 0.54"
      ]
    },
    {
      "cell_type": "markdown",
      "metadata": {
        "id": "VkfHghERMfc2"
      },
      "source": [
        "# [6] Conclusions"
      ]
    },
    {
      "cell_type": "code",
      "execution_count": null,
      "metadata": {
        "scrolled": true,
        "id": "QaKaNbxIMfc2",
        "outputId": "ea2a78dd-4a0d-46f3-d030-c756b6f4b630"
      },
      "outputs": [
        {
          "name": "stdout",
          "output_type": "stream",
          "text": [
            "comparision of brute force models and kd_tree models\n",
            "+--------------+-----------------+----------------+-------------------+------------------+\n",
            "|    model     | brute train auc | brute test auc | kd_tree train auc | kd_tree test auc |\n",
            "+--------------+-----------------+----------------+-------------------+------------------+\n",
            "| bag of words |       0.8       |      0.89      |        0.55       |       0.69       |\n",
            "|    tfidf     |       0.7       |      0.82      |        0.62       |       0.75       |\n",
            "|   avg w2v    |       0.72      |      0.79      |   less than 0.5   |       0.62       |\n",
            "|   tidfw2v    |       0.69      |      0.78      |        0.55       |       0.54       |\n",
            "+--------------+-----------------+----------------+-------------------+------------------+\n"
          ]
        }
      ],
      "source": [
        "from prettytable import PrettyTable\n",
        "x = PrettyTable()\n",
        "x.field_names = [\"model \",\"brute train auc\", \"brute test auc\",\"kd_tree train auc\", \"kd_tree test auc\"]\n",
        "x.add_row([ \"bag of words\", 0.8, 0.89 ,0.55,0.69 ])\n",
        "x.add_row( [\"tfidf\" ,0.7, 0.82 , 0.62, 0.75 ])\n",
        "x.add_row([ \"avg w2v\", 0.72, 0.79 , \"less than 0.5\", 0.62 ])\n",
        "x.add_row([ \"tidfw2v\", 0.69, 0.78 , 0.55, 0.54 ])\n",
        "print(\"comparision of brute force models and kd_tree models\")\n",
        "print(x.get_string(title=\"comparision of brute force models and kd_tree models\"))"
      ]
    },
    {
      "cell_type": "markdown",
      "metadata": {
        "id": "HqLcnBelMfc2"
      },
      "source": [
        "##### references\n",
        "##### kaggle , stack overflow , sklearn , github"
      ]
    }
  ],
  "metadata": {
    "kernelspec": {
      "display_name": "Python 3",
      "language": "python",
      "name": "python3"
    },
    "language_info": {
      "codemirror_mode": {
        "name": "ipython",
        "version": 3
      },
      "file_extension": ".py",
      "mimetype": "text/x-python",
      "name": "python",
      "nbconvert_exporter": "python",
      "pygments_lexer": "ipython3",
      "version": "3.6.8"
    },
    "colab": {
      "name": "03 Amazon Fine Food Reviews Analysis_KNN (1.1).ipynb",
      "provenance": [],
      "include_colab_link": true
    }
  },
  "nbformat": 4,
  "nbformat_minor": 0
}